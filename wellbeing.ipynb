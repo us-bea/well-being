{
 "cells": [
  {
   "attachments": {},
   "cell_type": "markdown",
   "metadata": {},
   "source": [
    "This Jupyter notebook allows running configurable versions of the charts and tables in the BEA's [Prototype Measures of Economic Well-Being and Growth](https://apps.bea.gov/well-being/). After having completed the setup in [README.md](README.md) you can edit the parameters in the charats below to highligh specific features of the US economy. When new data becomes available you can edit `default_end_year`/`default_end_quarter` below to see how things have changed. Feel free to use code as templates for making your own graphs.\n",
    "\n",
    "Note, we provide for caching locally data pulled from online APIs so that they can be used later without re-pulling the data. This is important for several reasons. First, statistical agencies revise statistical series so repulling data may result in different numbers. Store data from a single pull will allow you to modify other aspects of the display without changing the numbers. Indeed, we ship this notebook with the cache pre-populated with the data from the most recent release of the BEA well-being page. Second, some APIs (e.g., BLS used for `economic_growth_tables()`) have a low max query rate, and rerunning the notebook several times could go over this limit and incure a temporary block. so don't want to get put in a penalty. `wellbeing.get_data.cache_dir` can be set the cache folder and then all the functions below accept `from_cache` and `save_to_cache`. If `from_cache==False`, then pulled data will be saved to the cache if `save_to_cache==True` (which is the default)."
   ]
  },
  {
   "cell_type": "code",
   "execution_count": 1,
   "metadata": {},
   "outputs": [
    {
     "data": {
      "application/javascript": "(function(root) {\n  function now() {\n    return new Date();\n  }\n\n  const force = true;\n\n  if (typeof root._bokeh_onload_callbacks === \"undefined\" || force === true) {\n    root._bokeh_onload_callbacks = [];\n    root._bokeh_is_loading = undefined;\n  }\n\nconst JS_MIME_TYPE = 'application/javascript';\n  const HTML_MIME_TYPE = 'text/html';\n  const EXEC_MIME_TYPE = 'application/vnd.bokehjs_exec.v0+json';\n  const CLASS_NAME = 'output_bokeh rendered_html';\n\n  /**\n   * Render data to the DOM node\n   */\n  function render(props, node) {\n    const script = document.createElement(\"script\");\n    node.appendChild(script);\n  }\n\n  /**\n   * Handle when an output is cleared or removed\n   */\n  function handleClearOutput(event, handle) {\n    const cell = handle.cell;\n\n    const id = cell.output_area._bokeh_element_id;\n    const server_id = cell.output_area._bokeh_server_id;\n    // Clean up Bokeh references\n    if (id != null && id in Bokeh.index) {\n      Bokeh.index[id].model.document.clear();\n      delete Bokeh.index[id];\n    }\n\n    if (server_id !== undefined) {\n      // Clean up Bokeh references\n      const cmd_clean = \"from bokeh.io.state import curstate; print(curstate().uuid_to_server['\" + server_id + \"'].get_sessions()[0].document.roots[0]._id)\";\n      cell.notebook.kernel.execute(cmd_clean, {\n        iopub: {\n          output: function(msg) {\n            const id = msg.content.text.trim();\n            if (id in Bokeh.index) {\n              Bokeh.index[id].model.document.clear();\n              delete Bokeh.index[id];\n            }\n          }\n        }\n      });\n      // Destroy server and session\n      const cmd_destroy = \"import bokeh.io.notebook as ion; ion.destroy_server('\" + server_id + \"')\";\n      cell.notebook.kernel.execute(cmd_destroy);\n    }\n  }\n\n  /**\n   * Handle when a new output is added\n   */\n  function handleAddOutput(event, handle) {\n    const output_area = handle.output_area;\n    const output = handle.output;\n\n    // limit handleAddOutput to display_data with EXEC_MIME_TYPE content only\n    if ((output.output_type != \"display_data\") || (!Object.prototype.hasOwnProperty.call(output.data, EXEC_MIME_TYPE))) {\n      return\n    }\n\n    const toinsert = output_area.element.find(\".\" + CLASS_NAME.split(' ')[0]);\n\n    if (output.metadata[EXEC_MIME_TYPE][\"id\"] !== undefined) {\n      toinsert[toinsert.length - 1].firstChild.textContent = output.data[JS_MIME_TYPE];\n      // store reference to embed id on output_area\n      output_area._bokeh_element_id = output.metadata[EXEC_MIME_TYPE][\"id\"];\n    }\n    if (output.metadata[EXEC_MIME_TYPE][\"server_id\"] !== undefined) {\n      const bk_div = document.createElement(\"div\");\n      bk_div.innerHTML = output.data[HTML_MIME_TYPE];\n      const script_attrs = bk_div.children[0].attributes;\n      for (let i = 0; i < script_attrs.length; i++) {\n        toinsert[toinsert.length - 1].firstChild.setAttribute(script_attrs[i].name, script_attrs[i].value);\n        toinsert[toinsert.length - 1].firstChild.textContent = bk_div.children[0].textContent\n      }\n      // store reference to server id on output_area\n      output_area._bokeh_server_id = output.metadata[EXEC_MIME_TYPE][\"server_id\"];\n    }\n  }\n\n  function register_renderer(events, OutputArea) {\n\n    function append_mime(data, metadata, element) {\n      // create a DOM node to render to\n      const toinsert = this.create_output_subarea(\n        metadata,\n        CLASS_NAME,\n        EXEC_MIME_TYPE\n      );\n      this.keyboard_manager.register_events(toinsert);\n      // Render to node\n      const props = {data: data, metadata: metadata[EXEC_MIME_TYPE]};\n      render(props, toinsert[toinsert.length - 1]);\n      element.append(toinsert);\n      return toinsert\n    }\n\n    /* Handle when an output is cleared or removed */\n    events.on('clear_output.CodeCell', handleClearOutput);\n    events.on('delete.Cell', handleClearOutput);\n\n    /* Handle when a new output is added */\n    events.on('output_added.OutputArea', handleAddOutput);\n\n    /**\n     * Register the mime type and append_mime function with output_area\n     */\n    OutputArea.prototype.register_mime_type(EXEC_MIME_TYPE, append_mime, {\n      /* Is output safe? */\n      safe: true,\n      /* Index of renderer in `output_area.display_order` */\n      index: 0\n    });\n  }\n\n  // register the mime type if in Jupyter Notebook environment and previously unregistered\n  if (root.Jupyter !== undefined) {\n    const events = require('base/js/events');\n    const OutputArea = require('notebook/js/outputarea').OutputArea;\n\n    if (OutputArea.prototype.mime_types().indexOf(EXEC_MIME_TYPE) == -1) {\n      register_renderer(events, OutputArea);\n    }\n  }\n  if (typeof (root._bokeh_timeout) === \"undefined\" || force === true) {\n    root._bokeh_timeout = Date.now() + 5000;\n    root._bokeh_failed_load = false;\n  }\n\n  const NB_LOAD_WARNING = {'data': {'text/html':\n     \"<div style='background-color: #fdd'>\\n\"+\n     \"<p>\\n\"+\n     \"BokehJS does not appear to have successfully loaded. If loading BokehJS from CDN, this \\n\"+\n     \"may be due to a slow or bad network connection. Possible fixes:\\n\"+\n     \"</p>\\n\"+\n     \"<ul>\\n\"+\n     \"<li>re-rerun `output_notebook()` to attempt to load from CDN again, or</li>\\n\"+\n     \"<li>use INLINE resources instead, as so:</li>\\n\"+\n     \"</ul>\\n\"+\n     \"<code>\\n\"+\n     \"from bokeh.resources import INLINE\\n\"+\n     \"output_notebook(resources=INLINE)\\n\"+\n     \"</code>\\n\"+\n     \"</div>\"}};\n\n  function display_loaded() {\n    const el = document.getElementById(null);\n    if (el != null) {\n      el.textContent = \"BokehJS is loading...\";\n    }\n    if (root.Bokeh !== undefined) {\n      if (el != null) {\n        el.textContent = \"BokehJS \" + root.Bokeh.version + \" successfully loaded.\";\n      }\n    } else if (Date.now() < root._bokeh_timeout) {\n      setTimeout(display_loaded, 100)\n    }\n  }\n\n  function run_callbacks() {\n    try {\n      root._bokeh_onload_callbacks.forEach(function(callback) {\n        if (callback != null)\n          callback();\n      });\n    } finally {\n      delete root._bokeh_onload_callbacks\n    }\n    console.debug(\"Bokeh: all callbacks have finished\");\n  }\n\n  function load_libs(css_urls, js_urls, callback) {\n    if (css_urls == null) css_urls = [];\n    if (js_urls == null) js_urls = [];\n\n    root._bokeh_onload_callbacks.push(callback);\n    if (root._bokeh_is_loading > 0) {\n      console.debug(\"Bokeh: BokehJS is being loaded, scheduling callback at\", now());\n      return null;\n    }\n    if (js_urls == null || js_urls.length === 0) {\n      run_callbacks();\n      return null;\n    }\n    console.debug(\"Bokeh: BokehJS not loaded, scheduling load and callback at\", now());\n    root._bokeh_is_loading = css_urls.length + js_urls.length;\n\n    function on_load() {\n      root._bokeh_is_loading--;\n      if (root._bokeh_is_loading === 0) {\n        console.debug(\"Bokeh: all BokehJS libraries/stylesheets loaded\");\n        run_callbacks()\n      }\n    }\n\n    function on_error(url) {\n      console.error(\"failed to load \" + url);\n    }\n\n    for (let i = 0; i < css_urls.length; i++) {\n      const url = css_urls[i];\n      const element = document.createElement(\"link\");\n      element.onload = on_load;\n      element.onerror = on_error.bind(null, url);\n      element.rel = \"stylesheet\";\n      element.type = \"text/css\";\n      element.href = url;\n      console.debug(\"Bokeh: injecting link tag for BokehJS stylesheet: \", url);\n      document.body.appendChild(element);\n    }\n\n    for (let i = 0; i < js_urls.length; i++) {\n      const url = js_urls[i];\n      const element = document.createElement('script');\n      element.onload = on_load;\n      element.onerror = on_error.bind(null, url);\n      element.async = false;\n      element.src = url;\n      console.debug(\"Bokeh: injecting script tag for BokehJS library: \", url);\n      document.head.appendChild(element);\n    }\n  };\n\n  function inject_raw_css(css) {\n    const element = document.createElement(\"style\");\n    element.appendChild(document.createTextNode(css));\n    document.body.appendChild(element);\n  }\n\n  const js_urls = [\"https://cdn.bokeh.org/bokeh/release/bokeh-3.1.0.min.js\", \"https://cdn.bokeh.org/bokeh/release/bokeh-gl-3.1.0.min.js\", \"https://cdn.bokeh.org/bokeh/release/bokeh-widgets-3.1.0.min.js\", \"https://cdn.bokeh.org/bokeh/release/bokeh-tables-3.1.0.min.js\", \"https://cdn.bokeh.org/bokeh/release/bokeh-mathjax-3.1.0.min.js\"];\n  const css_urls = [];\n\n  const inline_js = [    function(Bokeh) {\n      Bokeh.set_log_level(\"info\");\n    },\nfunction(Bokeh) {\n    }\n  ];\n\n  function run_inline_js() {\n    if (root.Bokeh !== undefined || force === true) {\n          for (let i = 0; i < inline_js.length; i++) {\n      inline_js[i].call(root, root.Bokeh);\n    }\n} else if (Date.now() < root._bokeh_timeout) {\n      setTimeout(run_inline_js, 100);\n    } else if (!root._bokeh_failed_load) {\n      console.log(\"Bokeh: BokehJS failed to load within specified timeout.\");\n      root._bokeh_failed_load = true;\n    } else if (force !== true) {\n      const cell = $(document.getElementById(null)).parents('.cell').data().cell;\n      cell.output_area.append_execute_result(NB_LOAD_WARNING)\n    }\n  }\n\n  if (root._bokeh_is_loading === 0) {\n    console.debug(\"Bokeh: BokehJS loaded, going straight to plotting\");\n    run_inline_js();\n  } else {\n    load_libs(css_urls, js_urls, function() {\n      console.debug(\"Bokeh: BokehJS plotting callback run at\", now());\n      run_inline_js();\n    });\n  }\n}(window));",
      "application/vnd.bokehjs_load.v0+json": ""
     },
     "metadata": {},
     "output_type": "display_data"
    }
   ],
   "source": [
    "from IPython.core.display import HTML\n",
    "from bokeh.plotting import output_notebook, show\n",
    "import wellbeing\n",
    "\n",
    "# Disable MathJax, otherwise have to escape dollar sign with 2 backslashes or it'll treat as math\n",
    "import pandas as pd\n",
    "pd.options.display.html.use_mathjax = False\n",
    "\n",
    "output_notebook(hide_banner=True)\n",
    "\n",
    "default_end_year = 2022\n",
    "default_end_quarter = str(default_end_year) + 'Q4'\n",
    "\n",
    "#wellbeing.get_data.cache_dir = \"cache\"  # the default\n",
    "from_cache=True\n",
    "\n",
    "def show_narrative(section):\n",
    "    narrative_date, narrative = wellbeing.generate_chart.get_narrative(section)\n",
    "    display(HTML((narrative_date + \" release: \" + narrative).replace('\\n','<br>')))"
   ]
  },
  {
   "attachments": {},
   "cell_type": "markdown",
   "metadata": {},
   "source": [
    "#### GDP and GDP Per Capita"
   ]
  },
  {
   "cell_type": "code",
   "execution_count": 42,
   "metadata": {},
   "outputs": [
    {
     "name": "stdout",
     "output_type": "stream",
     "text": [
      "GDP and GDP Per Capita\n"
     ]
    },
    {
     "data": {
      "text/html": [
       "\n",
       "  <div id=\"1f2fa569-e609-465e-be58-8ce8f07fcc08\" data-root-id=\"p9993\" style=\"display: contents;\"></div>\n"
      ]
     },
     "metadata": {},
     "output_type": "display_data"
    },
    {
     "data": {
      "application/javascript": "(function(root) {\n  function embed_document(root) {\n  const docs_json = {\"fba79398-ad24-442d-9b20-c32125677195\":{\"version\":\"3.1.0\",\"title\":\"Bokeh Application\",\"defs\":[],\"roots\":[{\"type\":\"object\",\"name\":\"Figure\",\"id\":\"p9993\",\"attributes\":{\"styles\":{\"type\":\"map\",\"entries\":[[\"width\",\"98%\"]]},\"width\":700,\"height\":400,\"aspect_ratio\":1.75,\"sizing_mode\":\"scale_both\",\"x_range\":{\"type\":\"object\",\"name\":\"Range1d\",\"id\":\"p10002\",\"attributes\":{\"start\":-536457600000.0,\"end\":1640995200000.0}},\"y_range\":{\"type\":\"object\",\"name\":\"DataRange1d\",\"id\":\"p9995\"},\"x_scale\":{\"type\":\"object\",\"name\":\"LinearScale\",\"id\":\"p10006\"},\"y_scale\":{\"type\":\"object\",\"name\":\"LinearScale\",\"id\":\"p10008\"},\"title\":{\"type\":\"object\",\"name\":\"Title\",\"id\":\"p9998\"},\"renderers\":[{\"type\":\"object\",\"name\":\"GlyphRenderer\",\"id\":\"p10105\",\"attributes\":{\"name\":\"gdp\",\"data_source\":{\"type\":\"object\",\"name\":\"ColumnDataSource\",\"id\":\"p9990\",\"attributes\":{\"selected\":{\"type\":\"object\",\"name\":\"Selection\",\"id\":\"p9991\",\"attributes\":{\"indices\":[],\"line_indices\":[]}},\"selection_policy\":{\"type\":\"object\",\"name\":\"UnionRenderers\",\"id\":\"p9992\"},\"data\":{\"type\":\"map\",\"entries\":[[\"TimePeriod\",{\"type\":\"ndarray\",\"array\":[-536457600000.0,-504921600000.0,-473385600000.0,-441849600000.0,-410227200000.0,-378691200000.0,-347155200000.0,-315619200000.0,-283996800000.0,-252460800000.0,-220924800000.0,-189388800000.0,-157766400000.0,-126230400000.0,-94694400000.0,-63158400000.0,-31536000000.0,0.0,31536000000.0,63072000000.0,94694400000.0,126230400000.0,157766400000.0,189302400000.0,220924800000.0,252460800000.0,283996800000.0,315532800000.0,347155200000.0,378691200000.0,410227200000.0,441763200000.0,473385600000.0,504921600000.0,536457600000.0,567993600000.0,599616000000.0,631152000000.0,662688000000.0,694224000000.0,725846400000.0,757382400000.0,788918400000.0,820454400000.0,852076800000.0,883612800000.0,915148800000.0,946684800000.0,978307200000.0,1009843200000.0,1041379200000.0,1072915200000.0,1104537600000.0,1136073600000.0,1167609600000.0,1199145600000.0,1230768000000.0,1262304000000.0,1293840000000.0,1325376000000.0,1356998400000.0,1388534400000.0,1420070400000.0,1451606400000.0,1483228800000.0,1514764800000.0,1546300800000.0,1577836800000.0,1609459200000.0,1640995200000.0],\"shape\":[70],\"dtype\":\"object\",\"order\":\"little\"}],[\"gdp\",{\"type\":\"ndarray\",\"array\":{\"type\":\"bytes\",\"data\":\"AAAAAAAA8D/xqKkjntDvP+RGPgXNCvE/PQmVNcdn8T9sv9+HmcXxP2jEYlTlo/E//vxhww/d8j8LI4ahVVnzP6KOPYtS2PM/goRxZpkP9T/k+03tZ/r1Pzw4Ss6OPvc/+IYFuDXB+D9rDBJONmP6P/rKOWx5HPs/clT8/qNx/D84fmMSLlX9P72Tf8EmY/0/Gw7qS+pa/j+fQoKYlPP/P2spTD2w4ABACj/KN1XJAEAUzN71gMAAQANxyQWTpwFAPLu5+5B4AkAVHI2RTn4DQB3/pqlOHARAaCijyRYPBEDet281Z5EEQAK8dU95MgRAaHOT4XsfBUDnFUe+zaYGQOsZbAeYmAdA9wA8HMJpCECT+EUA9EEJQMlZeDoKUApASdwfVm5HC0CwnQbVIssLQGlh9tBuwwtA1bGJuMm9DEAunooYQogNQJqVemnYuA5AyTsddPSLD0CSTCsTUF4QQL6gM9CpGBFA239og8zcEUCslYitCrgSQMj4vLFrexNAV3RZjwSrE0CF7zmqaAAUQBx6sf+VjxRAANDDWl5aFUAv8L4wxhgWQBmzWgMxthZAGzx+DRYrF0DwBGNaVTIXQL8Gi3XxlxZAqT5SQ580F0CPU8UPspAXQJYBVEtIGhhA03mkbe6LGEBNuP6EsRsZQIp5KI+myRlAQqq8R7s3GkCbgQr3M84aQJLPmkBSmBtAqo+yaWg6HEBosB1gYnIbQIIBcYU3FB1AL5PCu7OtHUA=\"},\"shape\":[70],\"dtype\":\"float64\",\"order\":\"little\"}],[\"gdp_pc\",{\"type\":\"ndarray\",\"array\":{\"type\":\"bytes\",\"data\":\"AAAAAAAA8D8Uxqh/AkPvPzHROjQPdPA/CP2j25iC8D8JFG01eI7wP86k1cTqKfA/rfGh6ir+8D9/ztxzdRTxP//rIPLzO/E/JUO+jKIC8j9dkbmSr4byP0AttNYuU/M/o/278gtT9D8I/FXCp2r1P9r8T+4PxPU/rpT2ffKb9j8jOJ1iEBb3P25MQegf3fY/vlO2OCdS9z8HPbJWS0n4Pw+wZiveafk/oKBJcp0L+T+my7jtvsD4PzW1sm+w1fk/JEsuVyvC+j+Ld1rahfH7P2qgZ12ogvw/8cRbtCoc/D/OqA0qr4n8P3gAGWWMwfs/OnPP1VHE/D92KqyfUJT+PyMcTop7kv8/PxWdY14vAEBTTNBdpZgAQDfEC/8GIgFA8tVQdmOYAUC2rjdLEboBQEHLgutAeQFAdtQi5K/ZAUA3jG1O3RoCQAAdnfGFmwJA5XAZ8MnhAkAhDkMUFl4DQEC6jSkI/QNA8b/VNXWkBEANS4Tg5mIFQLY32TgmBAZApGnA7poBBkDbZWqeyyoGQGcPj5HUkwZAgx+nxJY8B0BMK23f7tIHQEhFWXFrQQhAcVR4xt6BCEB4rXn1vk4IQMNLDYLUdwdAz4AWIs3mB0DfRFxbtxQIQMMTb9GqcAhADgzEfiW0CEC41Fk0RxIJQPK+hxyEjAlAxuAds2zGCUAghu8/8isKQHg4txW2yApARhgV151BC0AEw6LkVmYKQBoHkzsS7AtAUT7F5z9kDEA=\"},\"shape\":[70],\"dtype\":\"float64\",\"order\":\"little\"}]]}}},\"view\":{\"type\":\"object\",\"name\":\"CDSView\",\"id\":\"p10106\",\"attributes\":{\"filter\":{\"type\":\"object\",\"name\":\"AllIndices\",\"id\":\"p10107\"}}},\"glyph\":{\"type\":\"object\",\"name\":\"Line\",\"id\":\"p10102\",\"attributes\":{\"x\":{\"type\":\"field\",\"field\":\"TimePeriod\"},\"y\":{\"type\":\"field\",\"field\":\"gdp\"},\"line_color\":\"#004C97\",\"line_width\":3}},\"nonselection_glyph\":{\"type\":\"object\",\"name\":\"Line\",\"id\":\"p10103\",\"attributes\":{\"x\":{\"type\":\"field\",\"field\":\"TimePeriod\"},\"y\":{\"type\":\"field\",\"field\":\"gdp\"},\"line_color\":\"#004C97\",\"line_alpha\":0.1,\"line_width\":3}},\"muted_glyph\":{\"type\":\"object\",\"name\":\"Line\",\"id\":\"p10104\",\"attributes\":{\"x\":{\"type\":\"field\",\"field\":\"TimePeriod\"},\"y\":{\"type\":\"field\",\"field\":\"gdp\"},\"line_color\":\"#004C97\",\"line_alpha\":0.2,\"line_width\":3}}}},{\"type\":\"object\",\"name\":\"GlyphRenderer\",\"id\":\"p10114\",\"attributes\":{\"name\":\"gdp_pc\",\"data_source\":{\"id\":\"p9990\"},\"view\":{\"type\":\"object\",\"name\":\"CDSView\",\"id\":\"p10115\",\"attributes\":{\"filter\":{\"type\":\"object\",\"name\":\"AllIndices\",\"id\":\"p10116\"}}},\"glyph\":{\"type\":\"object\",\"name\":\"Line\",\"id\":\"p10111\",\"attributes\":{\"x\":{\"type\":\"field\",\"field\":\"TimePeriod\"},\"y\":{\"type\":\"field\",\"field\":\"gdp_pc\"},\"line_color\":\"#D86018\",\"line_width\":3}},\"nonselection_glyph\":{\"type\":\"object\",\"name\":\"Line\",\"id\":\"p10112\",\"attributes\":{\"x\":{\"type\":\"field\",\"field\":\"TimePeriod\"},\"y\":{\"type\":\"field\",\"field\":\"gdp_pc\"},\"line_color\":\"#D86018\",\"line_alpha\":0.1,\"line_width\":3}},\"muted_glyph\":{\"type\":\"object\",\"name\":\"Line\",\"id\":\"p10113\",\"attributes\":{\"x\":{\"type\":\"field\",\"field\":\"TimePeriod\"},\"y\":{\"type\":\"field\",\"field\":\"gdp_pc\"},\"line_color\":\"#D86018\",\"line_alpha\":0.2,\"line_width\":3}}}},{\"type\":\"object\",\"name\":\"GlyphRenderer\",\"id\":\"p10123\",\"attributes\":{\"data_source\":{\"type\":\"object\",\"name\":\"ColumnDataSource\",\"id\":\"p10117\",\"attributes\":{\"selected\":{\"type\":\"object\",\"name\":\"Selection\",\"id\":\"p10118\",\"attributes\":{\"indices\":[],\"line_indices\":[]}},\"selection_policy\":{\"type\":\"object\",\"name\":\"UnionRenderers\",\"id\":\"p10119\"},\"data\":{\"type\":\"map\"}}},\"view\":{\"type\":\"object\",\"name\":\"CDSView\",\"id\":\"p10124\",\"attributes\":{\"filter\":{\"type\":\"object\",\"name\":\"AllIndices\",\"id\":\"p10125\"}}},\"glyph\":{\"type\":\"object\",\"name\":\"VBar\",\"id\":\"p10120\",\"attributes\":{\"line_color\":{\"type\":\"value\",\"value\":\"#DCDEDF\"},\"fill_color\":{\"type\":\"value\",\"value\":\"#DCDEDF\"},\"hatch_color\":{\"type\":\"value\",\"value\":\"#DCDEDF\"}}},\"nonselection_glyph\":{\"type\":\"object\",\"name\":\"VBar\",\"id\":\"p10121\",\"attributes\":{\"line_color\":{\"type\":\"value\",\"value\":\"#DCDEDF\"},\"line_alpha\":{\"type\":\"value\",\"value\":0.1},\"fill_color\":{\"type\":\"value\",\"value\":\"#DCDEDF\"},\"fill_alpha\":{\"type\":\"value\",\"value\":0.1},\"hatch_color\":{\"type\":\"value\",\"value\":\"#DCDEDF\"},\"hatch_alpha\":{\"type\":\"value\",\"value\":0.1}}},\"muted_glyph\":{\"type\":\"object\",\"name\":\"VBar\",\"id\":\"p10122\",\"attributes\":{\"line_color\":{\"type\":\"value\",\"value\":\"#DCDEDF\"},\"line_alpha\":{\"type\":\"value\",\"value\":0.2},\"fill_color\":{\"type\":\"value\",\"value\":\"#DCDEDF\"},\"fill_alpha\":{\"type\":\"value\",\"value\":0.2},\"hatch_color\":{\"type\":\"value\",\"value\":\"#DCDEDF\"},\"hatch_alpha\":{\"type\":\"value\",\"value\":0.2}}}}}],\"toolbar\":{\"type\":\"object\",\"name\":\"Toolbar\",\"id\":\"p10000\",\"attributes\":{\"tools\":[{\"type\":\"object\",\"name\":\"PanTool\",\"id\":\"p10060\"},{\"type\":\"object\",\"name\":\"WheelZoomTool\",\"id\":\"p10061\"},{\"type\":\"object\",\"name\":\"BoxZoomTool\",\"id\":\"p10062\",\"attributes\":{\"overlay\":{\"type\":\"object\",\"name\":\"BoxAnnotation\",\"id\":\"p10063\",\"attributes\":{\"syncable\":false,\"level\":\"overlay\",\"visible\":false,\"left_units\":\"canvas\",\"right_units\":\"canvas\",\"bottom_units\":\"canvas\",\"top_units\":\"canvas\",\"line_color\":\"black\",\"line_alpha\":1.0,\"line_width\":2,\"line_dash\":[4,4],\"fill_color\":\"lightgrey\",\"fill_alpha\":0.5}}}},{\"type\":\"object\",\"name\":\"SaveTool\",\"id\":\"p10064\"},{\"type\":\"object\",\"name\":\"ResetTool\",\"id\":\"p10065\"},{\"type\":\"object\",\"name\":\"HelpTool\",\"id\":\"p10066\"},{\"type\":\"object\",\"name\":\"HoverTool\",\"id\":\"p10130\",\"attributes\":{\"renderers\":[{\"id\":\"p10105\"},{\"id\":\"p10114\"}],\"tooltips\":[[\"Year\",\"@TimePeriod{%Y}\"],[\"Index\",\"@$name\"]],\"formatters\":{\"type\":\"map\",\"entries\":[[\"@TimePeriod\",\"datetime\"]]}}}],\"active_drag\":null}},\"toolbar_location\":null,\"left\":[{\"type\":\"object\",\"name\":\"LinearAxis\",\"id\":\"p10053\",\"attributes\":{\"ticker\":{\"type\":\"object\",\"name\":\"BasicTicker\",\"id\":\"p10054\",\"attributes\":{\"mantissas\":[1,2,5]}},\"formatter\":{\"type\":\"object\",\"name\":\"BasicTickFormatter\",\"id\":\"p10056\"},\"axis_label\":\"Index numbers, [1953 = 1]\",\"axis_label_text_font\":\"calibri\",\"axis_label_text_font_style\":\"bold\",\"major_label_policy\":{\"type\":\"object\",\"name\":\"AllLabels\",\"id\":\"p10055\"},\"major_tick_line_color\":null,\"minor_tick_line_color\":null}}],\"below\":[{\"type\":\"object\",\"name\":\"DatetimeAxis\",\"id\":\"p10010\",\"attributes\":{\"ticker\":{\"type\":\"object\",\"name\":\"FixedTicker\",\"id\":\"p10075\",\"attributes\":{\"ticks\":[-536457600000.0,-347155200000.0,-157766400000.0,31536000000.0,220924800000.0,410227200000.0,599616000000.0,788918400000.0,978307200000.0,1167609600000.0,1356998400000.0,1546300800000.0],\"minor_ticks\":[]}},\"formatter\":{\"type\":\"object\",\"name\":\"DatetimeTickFormatter\",\"id\":\"p10025\"},\"axis_label_text_font\":\"calibri\",\"axis_label_text_font_style\":\"bold\",\"major_label_policy\":{\"type\":\"object\",\"name\":\"AllLabels\",\"id\":\"p10024\"},\"major_tick_line_color\":null,\"minor_tick_line_color\":null}},{\"type\":\"object\",\"name\":\"Legend\",\"id\":\"p10126\",\"attributes\":{\"location\":\"center\",\"orientation\":\"horizontal\",\"border_line_color\":\"white\",\"label_text_font\":\"calibri\",\"items\":[{\"type\":\"object\",\"name\":\"LegendItem\",\"id\":\"p10127\",\"attributes\":{\"label\":{\"type\":\"value\",\"value\":\"Real GDP\"},\"renderers\":[{\"id\":\"p10105\"}]}},{\"type\":\"object\",\"name\":\"LegendItem\",\"id\":\"p10128\",\"attributes\":{\"label\":{\"type\":\"value\",\"value\":\"Real GDP per capita\"},\"renderers\":[{\"id\":\"p10114\"}]}},{\"type\":\"object\",\"name\":\"LegendItem\",\"id\":\"p10129\",\"attributes\":{\"label\":{\"type\":\"value\",\"value\":\"Recessions\"},\"renderers\":[{\"id\":\"p10123\"}]}}]}}],\"center\":[{\"type\":\"object\",\"name\":\"Grid\",\"id\":\"p10052\",\"attributes\":{\"axis\":{\"id\":\"p10010\"},\"grid_line_color\":null,\"grid_line_width\":1.5}},{\"type\":\"object\",\"name\":\"Grid\",\"id\":\"p10059\",\"attributes\":{\"dimension\":1,\"axis\":{\"id\":\"p10053\"},\"grid_line_color\":\"#DCDEDF\",\"grid_line_width\":1.5}},{\"type\":\"object\",\"name\":\"BoxAnnotation\",\"id\":\"p10089\",\"attributes\":{\"level\":\"underlay\",\"left\":-536457600000.0,\"right\":-473385600000.0,\"line_color\":\"#DCDEDF\",\"line_width\":0,\"fill_color\":\"#DCDEDF\",\"fill_alpha\":1}},{\"type\":\"object\",\"name\":\"BoxAnnotation\",\"id\":\"p10090\",\"attributes\":{\"level\":\"underlay\",\"left\":-410227200000.0,\"right\":-347155200000.0,\"line_color\":\"#DCDEDF\",\"line_width\":0,\"fill_color\":\"#DCDEDF\",\"fill_alpha\":1}},{\"type\":\"object\",\"name\":\"BoxAnnotation\",\"id\":\"p10091\",\"attributes\":{\"level\":\"underlay\",\"left\":-315619200000.0,\"right\":-252460800000.0,\"line_color\":\"#DCDEDF\",\"line_width\":0,\"fill_color\":\"#DCDEDF\",\"fill_alpha\":1}},{\"type\":\"object\",\"name\":\"BoxAnnotation\",\"id\":\"p10092\",\"attributes\":{\"level\":\"underlay\",\"left\":0.0,\"right\":31536000000.0,\"line_color\":\"#DCDEDF\",\"line_width\":0,\"fill_color\":\"#DCDEDF\",\"fill_alpha\":1}},{\"type\":\"object\",\"name\":\"BoxAnnotation\",\"id\":\"p10093\",\"attributes\":{\"level\":\"underlay\",\"left\":94694400000.0,\"right\":189302400000.0,\"line_color\":\"#DCDEDF\",\"line_width\":0,\"fill_color\":\"#DCDEDF\",\"fill_alpha\":1}},{\"type\":\"object\",\"name\":\"BoxAnnotation\",\"id\":\"p10094\",\"attributes\":{\"level\":\"underlay\",\"left\":315532800000.0,\"right\":410227200000.0,\"line_color\":\"#DCDEDF\",\"line_width\":0,\"fill_color\":\"#DCDEDF\",\"fill_alpha\":1}},{\"type\":\"object\",\"name\":\"BoxAnnotation\",\"id\":\"p10095\",\"attributes\":{\"level\":\"underlay\",\"left\":631152000000.0,\"right\":694224000000.0,\"line_color\":\"#DCDEDF\",\"line_width\":0,\"fill_color\":\"#DCDEDF\",\"fill_alpha\":1}},{\"type\":\"object\",\"name\":\"BoxAnnotation\",\"id\":\"p10096\",\"attributes\":{\"level\":\"underlay\",\"left\":978307200000.0,\"right\":1009843200000.0,\"line_color\":\"#DCDEDF\",\"line_width\":0,\"fill_color\":\"#DCDEDF\",\"fill_alpha\":1}},{\"type\":\"object\",\"name\":\"BoxAnnotation\",\"id\":\"p10097\",\"attributes\":{\"level\":\"underlay\",\"left\":1199145600000.0,\"right\":1262304000000.0,\"line_color\":\"#DCDEDF\",\"line_width\":0,\"fill_color\":\"#DCDEDF\",\"fill_alpha\":1}},{\"type\":\"object\",\"name\":\"BoxAnnotation\",\"id\":\"p10098\",\"attributes\":{\"level\":\"underlay\",\"left\":1577836800000.0,\"right\":1609459200000.0,\"line_color\":\"#DCDEDF\",\"line_width\":0,\"fill_color\":\"#DCDEDF\",\"fill_alpha\":1}}]}}],\"callbacks\":{\"type\":\"map\"}}};\n  const render_items = [{\"docid\":\"fba79398-ad24-442d-9b20-c32125677195\",\"roots\":{\"p9993\":\"1f2fa569-e609-465e-be58-8ce8f07fcc08\"},\"root_ids\":[\"p9993\"]}];\n  root.Bokeh.embed.embed_items_notebook(docs_json, render_items);\n  }\n  if (root.Bokeh !== undefined) {\n    embed_document(root);\n  } else {\n    let attempts = 0;\n    const timer = setInterval(function(root) {\n      if (root.Bokeh !== undefined) {\n        clearInterval(timer);\n        embed_document(root);\n      } else {\n        attempts++;\n        if (attempts > 100) {\n          clearInterval(timer);\n          console.log(\"Bokeh: ERROR: Unable to run BokehJS code because BokehJS library is missing\");\n        }\n      }\n    }, 10, root)\n  }\n})(window);",
      "application/vnd.bokehjs_exec.v0+json": ""
     },
     "metadata": {
      "application/vnd.bokehjs_exec.v0+json": {
       "id": "p9993"
      }
     },
     "output_type": "display_data"
    },
    {
     "data": {
      "text/html": [
       "<ul class=\"footnote\">\n",
       "<li>Data. Real GDP and real GDP per capita, 1953–2022</li>\n",
       "<li>Source. BEA <a href=\"https://apps.bea.gov/iTable/iTable.cfm?reqid=19&step=3&isuri=1&nipa_table_list=6&categories=survey\" class=\"figlink\">NIPA table 1.1.6</a> and <a href=\"https://apps.bea.gov/iTable/iTable.cfm?reqid=19&step=3&isuri=1&nipa_table_list=264&categories=survey\" class=\"figlink\">NIPA table 7.1</a></li>\n",
       "<ul>"
      ],
      "text/plain": [
       "<IPython.core.display.HTML object>"
      ]
     },
     "metadata": {},
     "output_type": "display_data"
    },
    {
     "data": {
      "text/html": [
       "<style type=\"text/css\">\n",
       "</style>\n",
       "<table id=\"T_fca0c\" class=\"table table-condensed\">\n",
       "  <thead><tr><th>&nbsp;</th><th class=\"text-center\" colspan=\"2\">Average Change<!--<br>[Percent]--></th></tr>\n",
       "    <tr>\n",
       "      <th id=\"T_fca0c_level0_col0\" class=\"col_heading level0 col0\" ></th>\n",
       "      <th id=\"T_fca0c_level0_col1\" class=\"col_heading level0 col1\" >Real GDP</th>\n",
       "      <th id=\"T_fca0c_level0_col2\" class=\"col_heading level0 col2\" >Real GDP per capita</th>\n",
       "    </tr>\n",
       "  </thead>\n",
       "  <tbody>\n",
       "    <tr>\n",
       "      <td class=\"text-center\" id=\"T_fca0c_row0_col0\" class=\"data row0 col0\" >1953–1973</td>\n",
       "      <td class=\"text-center\" id=\"T_fca0c_row0_col1\" class=\"data row0 col1\" >3.8<span class=\"percent\">%</span></td>\n",
       "      <td class=\"text-center\" id=\"T_fca0c_row0_col2\" class=\"data row0 col2\" >2.3<span class=\"percent\">%</span></td>\n",
       "    </tr>\n",
       "    <tr>\n",
       "      <td class=\"text-center\" id=\"T_fca0c_row1_col0\" class=\"data row1 col0\" >1973–2007</td>\n",
       "      <td class=\"text-center\" id=\"T_fca0c_row1_col1\" class=\"data row1 col1\" >3.0<span class=\"percent\">%</span></td>\n",
       "      <td class=\"text-center\" id=\"T_fca0c_row1_col2\" class=\"data row1 col2\" >2.0<span class=\"percent\">%</span></td>\n",
       "    </tr>\n",
       "    <tr>\n",
       "      <td class=\"text-center\" id=\"T_fca0c_row2_col0\" class=\"data row2 col0\" >2007–2022</td>\n",
       "      <td class=\"text-center\" id=\"T_fca0c_row2_col1\" class=\"data row2 col1\" >1.7<span class=\"percent\">%</span></td>\n",
       "      <td class=\"text-center\" id=\"T_fca0c_row2_col2\" class=\"data row2 col2\" >1.0<span class=\"percent\">%</span></td>\n",
       "    </tr>\n",
       "  </tbody>\n",
       "</table>\n"
      ],
      "text/plain": [
       "<IPython.core.display.HTML object>"
      ]
     },
     "metadata": {},
     "output_type": "display_data"
    }
   ],
   "source": [
    "chart, tbl_html = wellbeing.generate_chart.gdp(start_year=1953, end_year=default_end_year, index_year=1953, from_cache=from_cache)\n",
    "show(chart)\n",
    "display(HTML(tbl_html))\n"
   ]
  },
  {
   "cell_type": "code",
   "execution_count": 43,
   "metadata": {},
   "outputs": [
    {
     "data": {
      "text/html": [
       "While the growth and size of GDP are oft-cited measures of the nation’s economic health, they are not measures of economic well-being. A large and growing GDP may simply reflect a large and growing population. GDP per capita standardizes for population and is often used as a proxy for a nation's standard of living.<br><br>Real—inflation-adjusted—GDP per capita has grown more slowly than real GDP, increasing 2.3 percent per year on average between 1953 and 1973, compared with 3.8 percent for real GDP. Over the last two business cycles, between 2007 and 2022, growth slowed with real GDP per capita increasing at 1.0 percent per year and real GDP growing at 1.7  percent per year."
      ],
      "text/plain": [
       "<IPython.core.display.HTML object>"
      ]
     },
     "metadata": {},
     "output_type": "display_data"
    }
   ],
   "source": [
    "show_narrative('Growth in GDP and GDP per Capita')"
   ]
  },
  {
   "attachments": {},
   "cell_type": "markdown",
   "metadata": {},
   "source": [
    "#### Comparison with G-7 and Other Countries"
   ]
  },
  {
   "cell_type": "code",
   "execution_count": 44,
   "metadata": {},
   "outputs": [
    {
     "name": "stdout",
     "output_type": "stream",
     "text": [
      "U.S. GDP Per Capita\n",
      "Comparison with G-7 Developed Economies and Selected Other Countries\n"
     ]
    },
    {
     "data": {
      "text/html": [
       "\n",
       "  <div id=\"d93c6591-7085-4a49-9c44-8b3a59c85245\" data-root-id=\"p10750\" style=\"display: contents;\"></div>\n"
      ]
     },
     "metadata": {},
     "output_type": "display_data"
    },
    {
     "data": {
      "application/javascript": "(function(root) {\n  function embed_document(root) {\n  const docs_json = {\"3cbff9b6-1306-4901-a8b7-487fa67a6074\":{\"version\":\"3.1.0\",\"title\":\"Bokeh Application\",\"defs\":[],\"roots\":[{\"type\":\"object\",\"name\":\"Figure\",\"id\":\"p10750\",\"attributes\":{\"styles\":{\"type\":\"map\",\"entries\":[[\"width\",\"98%\"]]},\"width\":700,\"height\":400,\"aspect_ratio\":1.75,\"sizing_mode\":\"scale_both\",\"x_range\":{\"type\":\"object\",\"name\":\"FactorRange\",\"id\":\"p10759\",\"attributes\":{\"factors\":[\"U.S.\",\"Canada\",\"Germany\",\"U.K.\",\"France\",\"Japan\",\"Italy\",\"China\",\"Russia\",\"Mexico\",\"Turkey\",\"Brazil\",\"India\",\"Indonesia\"]}},\"y_range\":{\"type\":\"object\",\"name\":\"Range1d\",\"id\":\"p10761\",\"attributes\":{\"end\":80000}},\"x_scale\":{\"type\":\"object\",\"name\":\"CategoricalScale\",\"id\":\"p10763\"},\"y_scale\":{\"type\":\"object\",\"name\":\"LinearScale\",\"id\":\"p10765\"},\"title\":{\"type\":\"object\",\"name\":\"Title\",\"id\":\"p10755\"},\"outline_line_color\":null,\"renderers\":[{\"type\":\"object\",\"name\":\"GlyphRenderer\",\"id\":\"p10802\",\"attributes\":{\"data_source\":{\"type\":\"object\",\"name\":\"ColumnDataSource\",\"id\":\"p10747\",\"attributes\":{\"selected\":{\"type\":\"object\",\"name\":\"Selection\",\"id\":\"p10748\",\"attributes\":{\"indices\":[],\"line_indices\":[]}},\"selection_policy\":{\"type\":\"object\",\"name\":\"UnionRenderers\",\"id\":\"p10749\"},\"data\":{\"type\":\"map\",\"entries\":[[\"index\",{\"type\":\"ndarray\",\"array\":{\"type\":\"bytes\",\"data\":\"DQAAAAEAAAADAAAABQAAAAQAAAAIAAAACQAAAAsAAAACAAAACgAAAAwAAAAAAAAABgAAAAcAAAA=\"},\"shape\":[14],\"dtype\":\"int32\",\"order\":\"little\"}],[\"Country\",{\"type\":\"ndarray\",\"array\":[\"USA\",\"CAN\",\"DEU\",\"GBR\",\"FRA\",\"ITA\",\"JPN\",\"RUS\",\"CHN\",\"MEX\",\"TUR\",\"BRA\",\"IDN\",\"IND\"],\"shape\":[14],\"dtype\":\"object\",\"order\":\"little\"}],[\"2007\",{\"type\":\"ndarray\",\"array\":{\"type\":\"bytes\",\"data\":\"AAAAAABt50BSuB6Fn9XlQCUGgZV7p+RAsHJokTGj6EBGtvP9gAblQBSuR+GKeOJAlkOLbOeA4UB3vp8arxDDQGq8dJMYBqVA8KfGSzfowkACK4cWSdTCQEoMAiun3rxAWDm0yHYgoECyne+nxkSQQA==\"},\"shape\":[14],\"dtype\":\"float64\",\"order\":\"little\"}],[\"2022\",{\"type\":\"ndarray\",\"array\":{\"type\":\"bytes\",\"data\":\"AAAAAICi8kA5tMh2ruXqQFyPwvWAv+dAKVyPwtkd5kAK16NwIbXkQFCNl24mqOBAEoPAyr2D4EAxCKwc6inOQLgehevhBslA8KfGS+c5xUCuR+F6JL3EQMuhRbaDkcFAObTIdh6+skC6SQwCa5aiQA==\"},\"shape\":[14],\"dtype\":\"float64\",\"order\":\"little\"}],[\"country_remap\",{\"type\":\"ndarray\",\"array\":[\"U.S.\",\"Canada\",\"Germany\",\"U.K.\",\"France\",\"Italy\",\"Japan\",\"Russia\",\"China\",\"Mexico\",\"Turkey\",\"Brazil\",\"Indonesia\",\"India\"],\"shape\":[14],\"dtype\":\"object\",\"order\":\"little\"}]]}}},\"view\":{\"type\":\"object\",\"name\":\"CDSView\",\"id\":\"p10803\",\"attributes\":{\"filter\":{\"type\":\"object\",\"name\":\"AllIndices\",\"id\":\"p10804\"}}},\"glyph\":{\"type\":\"object\",\"name\":\"VBar\",\"id\":\"p10799\",\"attributes\":{\"x\":{\"type\":\"field\",\"field\":\"country_remap\",\"transform\":{\"type\":\"object\",\"name\":\"Dodge\",\"id\":\"p10795\",\"attributes\":{\"value\":-0.25,\"range\":{\"id\":\"p10759\"}}}},\"width\":{\"type\":\"value\",\"value\":0.25},\"top\":{\"type\":\"field\",\"field\":\"2007\"},\"line_color\":{\"type\":\"value\",\"value\":\"#004C97\"},\"fill_color\":{\"type\":\"value\",\"value\":\"#004C97\"},\"hatch_color\":{\"type\":\"value\",\"value\":\"#004C97\"}}},\"nonselection_glyph\":{\"type\":\"object\",\"name\":\"VBar\",\"id\":\"p10800\",\"attributes\":{\"x\":{\"type\":\"field\",\"field\":\"country_remap\",\"transform\":{\"id\":\"p10795\"}},\"width\":{\"type\":\"value\",\"value\":0.25},\"top\":{\"type\":\"field\",\"field\":\"2007\"},\"line_color\":{\"type\":\"value\",\"value\":\"#004C97\"},\"line_alpha\":{\"type\":\"value\",\"value\":0.1},\"fill_color\":{\"type\":\"value\",\"value\":\"#004C97\"},\"fill_alpha\":{\"type\":\"value\",\"value\":0.1},\"hatch_color\":{\"type\":\"value\",\"value\":\"#004C97\"},\"hatch_alpha\":{\"type\":\"value\",\"value\":0.1}}},\"muted_glyph\":{\"type\":\"object\",\"name\":\"VBar\",\"id\":\"p10801\",\"attributes\":{\"x\":{\"type\":\"field\",\"field\":\"country_remap\",\"transform\":{\"id\":\"p10795\"}},\"width\":{\"type\":\"value\",\"value\":0.25},\"top\":{\"type\":\"field\",\"field\":\"2007\"},\"line_color\":{\"type\":\"value\",\"value\":\"#004C97\"},\"line_alpha\":{\"type\":\"value\",\"value\":0.2},\"fill_color\":{\"type\":\"value\",\"value\":\"#004C97\"},\"fill_alpha\":{\"type\":\"value\",\"value\":0.2},\"hatch_color\":{\"type\":\"value\",\"value\":\"#004C97\"},\"hatch_alpha\":{\"type\":\"value\",\"value\":0.2}}}}},{\"type\":\"object\",\"name\":\"GlyphRenderer\",\"id\":\"p10812\",\"attributes\":{\"data_source\":{\"id\":\"p10747\"},\"view\":{\"type\":\"object\",\"name\":\"CDSView\",\"id\":\"p10813\",\"attributes\":{\"filter\":{\"type\":\"object\",\"name\":\"AllIndices\",\"id\":\"p10814\"}}},\"glyph\":{\"type\":\"object\",\"name\":\"VBar\",\"id\":\"p10809\",\"attributes\":{\"x\":{\"type\":\"field\",\"field\":\"country_remap\",\"transform\":{\"type\":\"object\",\"name\":\"Dodge\",\"id\":\"p10805\",\"attributes\":{\"range\":{\"id\":\"p10759\"}}}},\"width\":{\"type\":\"value\",\"value\":0.25},\"top\":{\"type\":\"field\",\"field\":\"2022\"},\"line_color\":{\"type\":\"value\",\"value\":\"#D86018\"},\"fill_color\":{\"type\":\"value\",\"value\":\"#D86018\"},\"hatch_color\":{\"type\":\"value\",\"value\":\"#D86018\"}}},\"nonselection_glyph\":{\"type\":\"object\",\"name\":\"VBar\",\"id\":\"p10810\",\"attributes\":{\"x\":{\"type\":\"field\",\"field\":\"country_remap\",\"transform\":{\"id\":\"p10805\"}},\"width\":{\"type\":\"value\",\"value\":0.25},\"top\":{\"type\":\"field\",\"field\":\"2022\"},\"line_color\":{\"type\":\"value\",\"value\":\"#D86018\"},\"line_alpha\":{\"type\":\"value\",\"value\":0.1},\"fill_color\":{\"type\":\"value\",\"value\":\"#D86018\"},\"fill_alpha\":{\"type\":\"value\",\"value\":0.1},\"hatch_color\":{\"type\":\"value\",\"value\":\"#D86018\"},\"hatch_alpha\":{\"type\":\"value\",\"value\":0.1}}},\"muted_glyph\":{\"type\":\"object\",\"name\":\"VBar\",\"id\":\"p10811\",\"attributes\":{\"x\":{\"type\":\"field\",\"field\":\"country_remap\",\"transform\":{\"id\":\"p10805\"}},\"width\":{\"type\":\"value\",\"value\":0.25},\"top\":{\"type\":\"field\",\"field\":\"2022\"},\"line_color\":{\"type\":\"value\",\"value\":\"#D86018\"},\"line_alpha\":{\"type\":\"value\",\"value\":0.2},\"fill_color\":{\"type\":\"value\",\"value\":\"#D86018\"},\"fill_alpha\":{\"type\":\"value\",\"value\":0.2},\"hatch_color\":{\"type\":\"value\",\"value\":\"#D86018\"},\"hatch_alpha\":{\"type\":\"value\",\"value\":0.2}}}}}],\"toolbar\":{\"type\":\"object\",\"name\":\"Toolbar\",\"id\":\"p10757\",\"attributes\":{\"tools\":[{\"type\":\"object\",\"name\":\"PanTool\",\"id\":\"p10780\"},{\"type\":\"object\",\"name\":\"WheelZoomTool\",\"id\":\"p10781\"},{\"type\":\"object\",\"name\":\"BoxZoomTool\",\"id\":\"p10782\",\"attributes\":{\"overlay\":{\"type\":\"object\",\"name\":\"BoxAnnotation\",\"id\":\"p10783\",\"attributes\":{\"syncable\":false,\"level\":\"overlay\",\"visible\":false,\"left_units\":\"canvas\",\"right_units\":\"canvas\",\"bottom_units\":\"canvas\",\"top_units\":\"canvas\",\"line_color\":\"black\",\"line_alpha\":1.0,\"line_width\":2,\"line_dash\":[4,4],\"fill_color\":\"lightgrey\",\"fill_alpha\":0.5}}}},{\"type\":\"object\",\"name\":\"SaveTool\",\"id\":\"p10784\"},{\"type\":\"object\",\"name\":\"ResetTool\",\"id\":\"p10785\"},{\"type\":\"object\",\"name\":\"HelpTool\",\"id\":\"p10786\"},{\"type\":\"object\",\"name\":\"HoverTool\",\"id\":\"p10815\",\"attributes\":{\"renderers\":[{\"id\":\"p10802\"}],\"tooltips\":[[\"GDP/Capita (2007)\",\"@2007{$0,0}\"]],\"formatters\":{\"type\":\"map\",\"entries\":[[\"@TimePeriod\",\"datetime\"]]}}},{\"type\":\"object\",\"name\":\"HoverTool\",\"id\":\"p10817\",\"attributes\":{\"renderers\":[{\"id\":\"p10812\"}],\"tooltips\":[[\"GDP/Capita (2022)\",\"@2022{$0,0}\"]],\"formatters\":{\"type\":\"map\",\"entries\":[[\"@TimePeriod\",\"datetime\"]]}}}],\"active_drag\":null}},\"toolbar_location\":null,\"left\":[{\"type\":\"object\",\"name\":\"LinearAxis\",\"id\":\"p10773\",\"attributes\":{\"ticker\":{\"type\":\"object\",\"name\":\"BasicTicker\",\"id\":\"p10774\",\"attributes\":{\"mantissas\":[1,2,5]}},\"formatter\":{\"type\":\"object\",\"name\":\"NumeralTickFormatter\",\"id\":\"p10822\",\"attributes\":{\"format\":\"$0,0\"}},\"axis_label\":\"U.S. dollars\",\"axis_label_text_font\":\"calibri\",\"axis_label_text_font_style\":\"bold\",\"major_label_policy\":{\"type\":\"object\",\"name\":\"AllLabels\",\"id\":\"p10775\"},\"axis_line_color\":null,\"major_tick_line_color\":null,\"minor_tick_line_color\":null}}],\"below\":[{\"type\":\"object\",\"name\":\"CategoricalAxis\",\"id\":\"p10767\",\"attributes\":{\"ticker\":{\"type\":\"object\",\"name\":\"CategoricalTicker\",\"id\":\"p10768\"},\"formatter\":{\"type\":\"object\",\"name\":\"CategoricalTickFormatter\",\"id\":\"p10770\"},\"axis_label_text_font\":\"calibri\",\"axis_label_text_font_style\":\"bold\",\"major_label_orientation\":0.75,\"major_label_policy\":{\"type\":\"object\",\"name\":\"AllLabels\",\"id\":\"p10769\"},\"axis_line_color\":null,\"major_tick_line_color\":null,\"minor_tick_line_color\":null}},{\"type\":\"object\",\"name\":\"Legend\",\"id\":\"p10819\",\"attributes\":{\"location\":\"center\",\"orientation\":\"horizontal\",\"border_line_color\":\"white\",\"label_text_font\":\"calibri\",\"items\":[{\"type\":\"object\",\"name\":\"LegendItem\",\"id\":\"p10820\",\"attributes\":{\"label\":{\"type\":\"value\",\"value\":\"2007\"},\"renderers\":[{\"id\":\"p10802\"}]}},{\"type\":\"object\",\"name\":\"LegendItem\",\"id\":\"p10821\",\"attributes\":{\"label\":{\"type\":\"value\",\"value\":\"2022\"},\"renderers\":[{\"id\":\"p10812\"}]}}]}}],\"center\":[{\"type\":\"object\",\"name\":\"Grid\",\"id\":\"p10772\",\"attributes\":{\"axis\":{\"id\":\"p10767\"},\"grid_line_color\":null,\"grid_line_width\":1.5}},{\"type\":\"object\",\"name\":\"Grid\",\"id\":\"p10779\",\"attributes\":{\"dimension\":1,\"axis\":{\"id\":\"p10773\"},\"grid_line_color\":\"#DCDEDF\",\"grid_line_width\":1.5}}]}}],\"callbacks\":{\"type\":\"map\"}}};\n  const render_items = [{\"docid\":\"3cbff9b6-1306-4901-a8b7-487fa67a6074\",\"roots\":{\"p10750\":\"d93c6591-7085-4a49-9c44-8b3a59c85245\"},\"root_ids\":[\"p10750\"]}];\n  root.Bokeh.embed.embed_items_notebook(docs_json, render_items);\n  }\n  if (root.Bokeh !== undefined) {\n    embed_document(root);\n  } else {\n    let attempts = 0;\n    const timer = setInterval(function(root) {\n      if (root.Bokeh !== undefined) {\n        clearInterval(timer);\n        embed_document(root);\n      } else {\n        attempts++;\n        if (attempts > 100) {\n          clearInterval(timer);\n          console.log(\"Bokeh: ERROR: Unable to run BokehJS code because BokehJS library is missing\");\n        }\n      }\n    }, 10, root)\n  }\n})(window);",
      "application/vnd.bokehjs_exec.v0+json": ""
     },
     "metadata": {
      "application/vnd.bokehjs_exec.v0+json": {
       "id": "p10750"
      }
     },
     "output_type": "display_data"
    },
    {
     "data": {
      "text/html": [
       "<ul class=\"footnote\">\n",
       "<li>Data. GDP per capita for G-7 developed economies and selected other countries, 2007 and 2022</li>\n",
       "<li>Source. BEA <a href=\"https://apps.bea.gov/iTable/iTable.cfm?reqid=19&step=3&isuri=1&nipa_table_list=264&categories=survey\" class=\"figlink\">NIPA table 7.1</a>, <a href=\"https://www.imf.org/external/datamapper/PPPPC@WEO/OEMDC/ADVEC/WEOWORLD\" class=\"figlink\">International Monetary Fund DataMapper</a></li>\n",
       "<ul>"
      ],
      "text/plain": [
       "<IPython.core.display.HTML object>"
      ]
     },
     "metadata": {},
     "output_type": "display_data"
    }
   ],
   "source": [
    "show(wellbeing.generate_chart.gdppc_comparison(start_year=2007, end_year=default_end_year, from_cache=from_cache))"
   ]
  },
  {
   "cell_type": "code",
   "execution_count": 45,
   "metadata": {},
   "outputs": [
    {
     "data": {
      "text/html": [
       "Although growth in U.S. GDP per capita has been slower in recent years than in ealier periods (see \"GDP and GDP Per Capita\" above), U.S. growth has exceeded growth in G-7 developed economies and is well above the growth in other key nations. As a result, U.S. GDP per capita remains amongst the highest in the world."
      ],
      "text/plain": [
       "<IPython.core.display.HTML object>"
      ]
     },
     "metadata": {},
     "output_type": "display_data"
    }
   ],
   "source": [
    "show_narrative('GDP per Capita Country Comparisons')"
   ]
  },
  {
   "attachments": {},
   "cell_type": "markdown",
   "metadata": {},
   "source": [
    "#### Income Growth and Distribution"
   ]
  },
  {
   "cell_type": "code",
   "execution_count": 46,
   "metadata": {},
   "outputs": [
    {
     "name": "stdout",
     "output_type": "stream",
     "text": [
      "Income Growth and Its Distribution\n"
     ]
    },
    {
     "data": {
      "text/html": [
       "\n",
       "  <div id=\"a5022c3f-baa8-4fc9-8d8b-3cc4baaa4561\" data-root-id=\"p11429\" style=\"display: contents;\"></div>\n"
      ]
     },
     "metadata": {},
     "output_type": "display_data"
    },
    {
     "data": {
      "application/javascript": "(function(root) {\n  function embed_document(root) {\n  const docs_json = {\"7a965f19-3175-4a9b-bebe-256170ca319a\":{\"version\":\"3.1.0\",\"title\":\"Bokeh Application\",\"defs\":[],\"roots\":[{\"type\":\"object\",\"name\":\"Figure\",\"id\":\"p11429\",\"attributes\":{\"styles\":{\"type\":\"map\",\"entries\":[[\"width\",\"98%\"]]},\"width\":700,\"height\":400,\"aspect_ratio\":1.75,\"sizing_mode\":\"scale_both\",\"x_range\":{\"type\":\"object\",\"name\":\"Range1d\",\"id\":\"p11438\",\"attributes\":{\"start\":946684800000.0,\"end\":1609459200000.0}},\"y_range\":{\"type\":\"object\",\"name\":\"DataRange1d\",\"id\":\"p11431\"},\"x_scale\":{\"type\":\"object\",\"name\":\"LinearScale\",\"id\":\"p11442\"},\"y_scale\":{\"type\":\"object\",\"name\":\"LinearScale\",\"id\":\"p11444\"},\"title\":{\"type\":\"object\",\"name\":\"Title\",\"id\":\"p11434\"},\"outline_line_color\":null,\"renderers\":[{\"type\":\"object\",\"name\":\"GlyphRenderer\",\"id\":\"p11517\",\"attributes\":{\"name\":\"gdp_pc\",\"data_source\":{\"type\":\"object\",\"name\":\"ColumnDataSource\",\"id\":\"p11426\",\"attributes\":{\"selected\":{\"type\":\"object\",\"name\":\"Selection\",\"id\":\"p11427\",\"attributes\":{\"indices\":[],\"line_indices\":[]}},\"selection_policy\":{\"type\":\"object\",\"name\":\"UnionRenderers\",\"id\":\"p11428\"},\"data\":{\"type\":\"map\",\"entries\":[[\"TimePeriod\",{\"type\":\"ndarray\",\"array\":[946684800000.0,978307200000.0,1009843200000.0,1041379200000.0,1072915200000.0,1104537600000.0,1136073600000.0,1167609600000.0,1199145600000.0,1230768000000.0,1262304000000.0,1293840000000.0,1325376000000.0,1356998400000.0,1388534400000.0,1420070400000.0,1451606400000.0,1483228800000.0,1514764800000.0,1546300800000.0,1577836800000.0,1609459200000.0],\"shape\":[22],\"dtype\":\"object\",\"order\":\"little\"}],[\"gdp_pc\",{\"type\":\"ndarray\",\"array\":{\"type\":\"bytes\",\"data\":\"AAAAAGC35kAAAAAAwLTmQAAAAABA3+ZAAAAAAKBL50AAAAAAwPnnQAAAAADglOhAAAAAAOAG6UAAAAAAYEnpQAAAAACgFOlAAAAAAOA26EAAAAAAYKnoQAAAAADA2OhAAAAAAKA36UAAAAAAQH3pQAAAAABg3ulAAAAAAIBc6kAAAAAAQJjqQAAAAAAAAetAAAAAAMCi60AAAAAAgB/sQAAAAABAPetAAAAAAGDP7EA=\"},\"shape\":[22],\"dtype\":\"float64\",\"order\":\"little\"}],[\"median_income\",{\"type\":\"ndarray\",\"array\":[\"45719\",\"45934\",\"45790\",\"46370\",\"46605\",\"47185\",\"47953\",\"49875\",\"50332\",\"49582\",\"51213\",\"50281\",\"50528\",\"50969\",\"51555\",\"53938\",\"54381\",\"55065\",\"56588\",\"58998\",\"62661\",\"64188\"],\"shape\":[22],\"dtype\":\"object\",\"order\":\"little\"}]]}}},\"view\":{\"type\":\"object\",\"name\":\"CDSView\",\"id\":\"p11518\",\"attributes\":{\"filter\":{\"type\":\"object\",\"name\":\"AllIndices\",\"id\":\"p11519\"}}},\"glyph\":{\"type\":\"object\",\"name\":\"Line\",\"id\":\"p11514\",\"attributes\":{\"x\":{\"type\":\"field\",\"field\":\"TimePeriod\"},\"y\":{\"type\":\"field\",\"field\":\"gdp_pc\"},\"line_color\":\"#004C97\",\"line_width\":3}},\"nonselection_glyph\":{\"type\":\"object\",\"name\":\"Line\",\"id\":\"p11515\",\"attributes\":{\"x\":{\"type\":\"field\",\"field\":\"TimePeriod\"},\"y\":{\"type\":\"field\",\"field\":\"gdp_pc\"},\"line_color\":\"#004C97\",\"line_alpha\":0.1,\"line_width\":3}},\"muted_glyph\":{\"type\":\"object\",\"name\":\"Line\",\"id\":\"p11516\",\"attributes\":{\"x\":{\"type\":\"field\",\"field\":\"TimePeriod\"},\"y\":{\"type\":\"field\",\"field\":\"gdp_pc\"},\"line_color\":\"#004C97\",\"line_alpha\":0.2,\"line_width\":3}}}},{\"type\":\"object\",\"name\":\"GlyphRenderer\",\"id\":\"p11526\",\"attributes\":{\"name\":\"median_income\",\"data_source\":{\"id\":\"p11426\"},\"view\":{\"type\":\"object\",\"name\":\"CDSView\",\"id\":\"p11527\",\"attributes\":{\"filter\":{\"type\":\"object\",\"name\":\"AllIndices\",\"id\":\"p11528\"}}},\"glyph\":{\"type\":\"object\",\"name\":\"Line\",\"id\":\"p11523\",\"attributes\":{\"x\":{\"type\":\"field\",\"field\":\"TimePeriod\"},\"y\":{\"type\":\"field\",\"field\":\"median_income\"},\"line_color\":\"#D86018\",\"line_width\":3}},\"nonselection_glyph\":{\"type\":\"object\",\"name\":\"Line\",\"id\":\"p11524\",\"attributes\":{\"x\":{\"type\":\"field\",\"field\":\"TimePeriod\"},\"y\":{\"type\":\"field\",\"field\":\"median_income\"},\"line_color\":\"#D86018\",\"line_alpha\":0.1,\"line_width\":3}},\"muted_glyph\":{\"type\":\"object\",\"name\":\"Line\",\"id\":\"p11525\",\"attributes\":{\"x\":{\"type\":\"field\",\"field\":\"TimePeriod\"},\"y\":{\"type\":\"field\",\"field\":\"median_income\"},\"line_color\":\"#D86018\",\"line_alpha\":0.2,\"line_width\":3}}}},{\"type\":\"object\",\"name\":\"GlyphRenderer\",\"id\":\"p11535\",\"attributes\":{\"data_source\":{\"type\":\"object\",\"name\":\"ColumnDataSource\",\"id\":\"p11529\",\"attributes\":{\"selected\":{\"type\":\"object\",\"name\":\"Selection\",\"id\":\"p11530\",\"attributes\":{\"indices\":[],\"line_indices\":[]}},\"selection_policy\":{\"type\":\"object\",\"name\":\"UnionRenderers\",\"id\":\"p11531\"},\"data\":{\"type\":\"map\"}}},\"view\":{\"type\":\"object\",\"name\":\"CDSView\",\"id\":\"p11536\",\"attributes\":{\"filter\":{\"type\":\"object\",\"name\":\"AllIndices\",\"id\":\"p11537\"}}},\"glyph\":{\"type\":\"object\",\"name\":\"VBar\",\"id\":\"p11532\",\"attributes\":{\"line_color\":{\"type\":\"value\",\"value\":\"#DCDEDF\"},\"fill_color\":{\"type\":\"value\",\"value\":\"#DCDEDF\"},\"hatch_color\":{\"type\":\"value\",\"value\":\"#DCDEDF\"}}},\"nonselection_glyph\":{\"type\":\"object\",\"name\":\"VBar\",\"id\":\"p11533\",\"attributes\":{\"line_color\":{\"type\":\"value\",\"value\":\"#DCDEDF\"},\"line_alpha\":{\"type\":\"value\",\"value\":0.1},\"fill_color\":{\"type\":\"value\",\"value\":\"#DCDEDF\"},\"fill_alpha\":{\"type\":\"value\",\"value\":0.1},\"hatch_color\":{\"type\":\"value\",\"value\":\"#DCDEDF\"},\"hatch_alpha\":{\"type\":\"value\",\"value\":0.1}}},\"muted_glyph\":{\"type\":\"object\",\"name\":\"VBar\",\"id\":\"p11534\",\"attributes\":{\"line_color\":{\"type\":\"value\",\"value\":\"#DCDEDF\"},\"line_alpha\":{\"type\":\"value\",\"value\":0.2},\"fill_color\":{\"type\":\"value\",\"value\":\"#DCDEDF\"},\"fill_alpha\":{\"type\":\"value\",\"value\":0.2},\"hatch_color\":{\"type\":\"value\",\"value\":\"#DCDEDF\"},\"hatch_alpha\":{\"type\":\"value\",\"value\":0.2}}}}}],\"toolbar\":{\"type\":\"object\",\"name\":\"Toolbar\",\"id\":\"p11436\",\"attributes\":{\"tools\":[{\"type\":\"object\",\"name\":\"PanTool\",\"id\":\"p11496\"},{\"type\":\"object\",\"name\":\"WheelZoomTool\",\"id\":\"p11497\"},{\"type\":\"object\",\"name\":\"BoxZoomTool\",\"id\":\"p11498\",\"attributes\":{\"overlay\":{\"type\":\"object\",\"name\":\"BoxAnnotation\",\"id\":\"p11499\",\"attributes\":{\"syncable\":false,\"level\":\"overlay\",\"visible\":false,\"left_units\":\"canvas\",\"right_units\":\"canvas\",\"bottom_units\":\"canvas\",\"top_units\":\"canvas\",\"line_color\":\"black\",\"line_alpha\":1.0,\"line_width\":2,\"line_dash\":[4,4],\"fill_color\":\"lightgrey\",\"fill_alpha\":0.5}}}},{\"type\":\"object\",\"name\":\"SaveTool\",\"id\":\"p11500\"},{\"type\":\"object\",\"name\":\"ResetTool\",\"id\":\"p11501\"},{\"type\":\"object\",\"name\":\"HelpTool\",\"id\":\"p11502\"},{\"type\":\"object\",\"name\":\"HoverTool\",\"id\":\"p11561\",\"attributes\":{\"renderers\":[{\"id\":\"p11517\"},{\"id\":\"p11526\"}],\"tooltips\":[[\"Year\",\"@TimePeriod{%Y}\"],[\"Value\",\"@$name{$0,0}\"]],\"formatters\":{\"type\":\"map\",\"entries\":[[\"@TimePeriod\",\"datetime\"]]}}}],\"active_drag\":null}},\"toolbar_location\":null,\"left\":[{\"type\":\"object\",\"name\":\"LinearAxis\",\"id\":\"p11489\",\"attributes\":{\"ticker\":{\"type\":\"object\",\"name\":\"BasicTicker\",\"id\":\"p11490\",\"attributes\":{\"mantissas\":[1,2,5]}},\"formatter\":{\"type\":\"object\",\"name\":\"NumeralTickFormatter\",\"id\":\"p11559\"},\"axis_label\":\"Chained (2012) dollars\",\"axis_label_text_font\":\"calibri\",\"axis_label_text_font_style\":\"bold\",\"major_label_policy\":{\"type\":\"object\",\"name\":\"AllLabels\",\"id\":\"p11491\"},\"axis_line_color\":null,\"major_tick_line_color\":null,\"minor_tick_line_color\":null}}],\"below\":[{\"type\":\"object\",\"name\":\"DatetimeAxis\",\"id\":\"p11446\",\"attributes\":{\"ticker\":{\"type\":\"object\",\"name\":\"FixedTicker\",\"id\":\"p11545\",\"attributes\":{\"ticks\":[946684800000.0,1262304000000.0,1577836800000.0],\"minor_ticks\":[]}},\"formatter\":{\"type\":\"object\",\"name\":\"DatetimeTickFormatter\",\"id\":\"p11461\"},\"axis_label_text_font\":\"calibri\",\"axis_label_text_font_style\":\"bold\",\"major_label_policy\":{\"type\":\"object\",\"name\":\"AllLabels\",\"id\":\"p11460\"},\"axis_line_color\":null,\"major_tick_line_color\":null,\"minor_tick_line_color\":null}},{\"type\":\"object\",\"name\":\"Legend\",\"id\":\"p11538\",\"attributes\":{\"location\":\"center\",\"orientation\":\"horizontal\",\"border_line_color\":\"white\",\"label_text_font\":\"calibri\",\"items\":[{\"type\":\"object\",\"name\":\"LegendItem\",\"id\":\"p11539\",\"attributes\":{\"label\":{\"type\":\"value\",\"value\":\"Real GDP per capita\"},\"renderers\":[{\"id\":\"p11517\"}]}},{\"type\":\"object\",\"name\":\"LegendItem\",\"id\":\"p11540\",\"attributes\":{\"label\":{\"type\":\"value\",\"value\":\"Real median equivalized personal income\"},\"renderers\":[{\"id\":\"p11526\"}]}},{\"type\":\"object\",\"name\":\"LegendItem\",\"id\":\"p11541\",\"attributes\":{\"label\":{\"type\":\"value\",\"value\":\"Recessions\"},\"renderers\":[{\"id\":\"p11535\"}]}}]}}],\"center\":[{\"type\":\"object\",\"name\":\"Grid\",\"id\":\"p11488\",\"attributes\":{\"axis\":{\"id\":\"p11446\"},\"grid_line_color\":null,\"grid_line_width\":1.5}},{\"type\":\"object\",\"name\":\"Grid\",\"id\":\"p11495\",\"attributes\":{\"dimension\":1,\"axis\":{\"id\":\"p11489\"},\"grid_line_color\":\"#DCDEDF\",\"grid_line_width\":1.5}},{\"type\":\"object\",\"name\":\"BoxAnnotation\",\"id\":\"p11542\",\"attributes\":{\"level\":\"underlay\",\"left\":978307200000.0,\"right\":1009843200000.0,\"line_color\":\"#DCDEDF\",\"line_width\":0,\"fill_color\":\"#DCDEDF\",\"fill_alpha\":1}},{\"type\":\"object\",\"name\":\"BoxAnnotation\",\"id\":\"p11543\",\"attributes\":{\"level\":\"underlay\",\"left\":1199145600000.0,\"right\":1262304000000.0,\"line_color\":\"#DCDEDF\",\"line_width\":0,\"fill_color\":\"#DCDEDF\",\"fill_alpha\":1}},{\"type\":\"object\",\"name\":\"BoxAnnotation\",\"id\":\"p11544\",\"attributes\":{\"level\":\"underlay\",\"left\":1577836800000.0,\"right\":1609459200000.0,\"line_color\":\"#DCDEDF\",\"line_width\":0,\"fill_color\":\"#DCDEDF\",\"fill_alpha\":1}}]}}],\"callbacks\":{\"type\":\"map\"}}};\n  const render_items = [{\"docid\":\"7a965f19-3175-4a9b-bebe-256170ca319a\",\"roots\":{\"p11429\":\"a5022c3f-baa8-4fc9-8d8b-3cc4baaa4561\"},\"root_ids\":[\"p11429\"]}];\n  root.Bokeh.embed.embed_items_notebook(docs_json, render_items);\n  }\n  if (root.Bokeh !== undefined) {\n    embed_document(root);\n  } else {\n    let attempts = 0;\n    const timer = setInterval(function(root) {\n      if (root.Bokeh !== undefined) {\n        clearInterval(timer);\n        embed_document(root);\n      } else {\n        attempts++;\n        if (attempts > 100) {\n          clearInterval(timer);\n          console.log(\"Bokeh: ERROR: Unable to run BokehJS code because BokehJS library is missing\");\n        }\n      }\n    }, 10, root)\n  }\n})(window);",
      "application/vnd.bokehjs_exec.v0+json": ""
     },
     "metadata": {
      "application/vnd.bokehjs_exec.v0+json": {
       "id": "p11429"
      }
     },
     "output_type": "display_data"
    },
    {
     "data": {
      "text/html": [
       "<ul class=\"footnote\">\n",
       "<li>Data. Real GDP per capita and real median equivalized personal income in 2012 dollars, 2000–2021</li>\n",
       "<li>Source. BEA <a href=\"https://apps.bea.gov/iTable/iTable.cfm?reqid=19&step=3&isuri=1&nipa_table_list=264&categories=survey\" class=\"figlink\">NIPA table 7.1</a>, BEA <a href=\"https://www.bea.gov/data/special-topics/distribution-of-personal-income\" class=\"figlink\">Distribution of personal income estimates</a></li>\n",
       "<li>In addition to differences related to the concepts of \"median\" and \"mean\" and between GDP and personal income, there are other important conceptual differences between GDP per capita, median personal income, and other available measures of the distribution of income (like those produced by the Census Bureau).</li>\n",
       "<ul>"
      ],
      "text/plain": [
       "<IPython.core.display.HTML object>"
      ]
     },
     "metadata": {},
     "output_type": "display_data"
    },
    {
     "data": {
      "text/html": [
       "<style type=\"text/css\">\n",
       "</style>\n",
       "<table id=\"T_efdb3\" class=\"table table-condensed\">\n",
       "  <thead><tr><th>&nbsp;</th><th class=\"text-center\" colspan=\"2\">Average Change</th></tr>\n",
       "    <tr>\n",
       "      <th id=\"T_efdb3_level0_col0\" class=\"col_heading level0 col0\" ></th>\n",
       "      <th id=\"T_efdb3_level0_col1\" class=\"col_heading level0 col1\" >Real GDP<br>per capita</th>\n",
       "      <th id=\"T_efdb3_level0_col2\" class=\"col_heading level0 col2\" >Real median<br>equivalized<br>personal income</th>\n",
       "    </tr>\n",
       "  </thead>\n",
       "  <tbody>\n",
       "    <tr>\n",
       "      <td class=\"text-center>\" id=\"T_efdb3_row0_col0\" class=\"data row0 col0\" >2007–2021</td>\n",
       "      <td class=\"text-center text-blue>\" id=\"T_efdb3_row0_col1\" class=\"data row0 col1\" >0.9<span class=\"percent\">%</span></td>\n",
       "      <td class=\"text-center text-orange>\" id=\"T_efdb3_row0_col2\" class=\"data row0 col2\" >1.8<span class=\"percent\">%</span></td>\n",
       "    </tr>\n",
       "  </tbody>\n",
       "</table>\n"
      ],
      "text/plain": [
       "<IPython.core.display.HTML object>"
      ]
     },
     "metadata": {},
     "output_type": "display_data"
    }
   ],
   "source": [
    "chart, tbl_html = wellbeing.generate_chart.income_growth_and_distribution(start_year=2000, end_year=2021, table_start=2007, from_cache=from_cache)\n",
    "show(chart)\n",
    "display(HTML(tbl_html))"
   ]
  },
  {
   "cell_type": "code",
   "execution_count": 47,
   "metadata": {},
   "outputs": [
    {
     "data": {
      "text/html": [
       "Real GDP per capita and real median personal income provide two different perspectives on the impact of economic growth. <br><br>Real GDP per capita spreads total production across the entire population equally.<br><br>Alternatively, real median equivalized personal income—that is, adjusted for household size—provides an inflation-adjusted measure of total income received by the “middle” income household, whose income is below 50 percent of households and above the other 50 percent of households.<br><br>Real median personal income is a more appropriate gauge of how the U.S. economic pie is distributed because it focuses on how income accrues to households rather than on GDP, which is a measure of production.<br><br>For 2007–2021, real median equivalized personal income grew 1.8 percent per year, higher than the growth of 0.9 percent per year in real GDP per capita."
      ],
      "text/plain": [
       "<IPython.core.display.HTML object>"
      ]
     },
     "metadata": {},
     "output_type": "display_data"
    }
   ],
   "source": [
    "show_narrative('Income Growth and Distribution')"
   ]
  },
  {
   "attachments": {},
   "cell_type": "markdown",
   "metadata": {},
   "source": [
    "#### Distribution of Income between Labor and Capital"
   ]
  },
  {
   "cell_type": "code",
   "execution_count": 2,
   "metadata": {},
   "outputs": [
    {
     "data": {
      "text/html": [
       "\n",
       "  <div id=\"be8a5b91-ac72-4bce-9041-84cde502c7bb\" data-root-id=\"p1147\" style=\"display: contents;\"></div>\n"
      ]
     },
     "metadata": {},
     "output_type": "display_data"
    },
    {
     "data": {
      "application/javascript": "(function(root) {\n  function embed_document(root) {\n  const docs_json = {\"d89ba4e1-81b5-4afe-bf10-95fc49a81898\":{\"version\":\"3.1.0\",\"title\":\"Bokeh Application\",\"defs\":[],\"roots\":[{\"type\":\"object\",\"name\":\"Column\",\"id\":\"p1147\",\"attributes\":{\"styles\":{\"type\":\"map\",\"entries\":[[\"width\",\"s700px\"],[\"background-color\",\"white\"]]},\"stylesheets\":[{\"type\":\"object\",\"name\":\"ImportedStyleSheet\",\"id\":\"p1001\",\"attributes\":{\"url\":\"c:\\\\Users\\\\ODBXQ1\\\\Documents\\\\EconomicWellbeingAndGrowth\\\\wellbeing\\\\local.css\"}}],\"children\":[{\"type\":\"object\",\"name\":\"Div\",\"id\":\"p1145\",\"attributes\":{\"css_classes\":[\"figtitle\"],\"text\":\"Distribution of Income Between Labor and Capital\"}},{\"type\":\"object\",\"name\":\"Figure\",\"id\":\"p1005\",\"attributes\":{\"width\":700,\"height\":400,\"aspect_ratio\":1.75,\"sizing_mode\":\"scale_width\",\"x_range\":{\"type\":\"object\",\"name\":\"Range1d\",\"id\":\"p1014\",\"attributes\":{\"start\":-694310400000.0,\"end\":1672531200000.0}},\"y_range\":{\"type\":\"object\",\"name\":\"Range1d\",\"id\":\"p1016\",\"attributes\":{\"start\":30,\"end\":70}},\"x_scale\":{\"type\":\"object\",\"name\":\"LinearScale\",\"id\":\"p1018\"},\"y_scale\":{\"type\":\"object\",\"name\":\"LinearScale\",\"id\":\"p1020\"},\"title\":{\"type\":\"object\",\"name\":\"Title\",\"id\":\"p1008\"},\"outline_line_color\":null,\"renderers\":[{\"type\":\"object\",\"name\":\"GlyphRenderer\",\"id\":\"p1093\",\"attributes\":{\"name\":\"capital\",\"data_source\":{\"type\":\"object\",\"name\":\"ColumnDataSource\",\"id\":\"p1002\",\"attributes\":{\"selected\":{\"type\":\"object\",\"name\":\"Selection\",\"id\":\"p1004\",\"attributes\":{\"indices\":[],\"line_indices\":[]}},\"selection_policy\":{\"type\":\"object\",\"name\":\"UnionRenderers\",\"id\":\"p1003\"},\"data\":{\"type\":\"map\",\"entries\":[[\"TimePeriod\",{\"type\":\"ndarray\",\"array\":[-694310400000.0,-662688000000.0,-631152000000.0,-599616000000.0,-568080000000.0,-536457600000.0,-504921600000.0,-473385600000.0,-441849600000.0,-410227200000.0,-378691200000.0,-347155200000.0,-315619200000.0,-283996800000.0,-252460800000.0,-220924800000.0,-189388800000.0,-157766400000.0,-126230400000.0,-94694400000.0,-63158400000.0,-31536000000.0,0.0,31536000000.0,63072000000.0,94694400000.0,126230400000.0,157766400000.0,189302400000.0,220924800000.0,252460800000.0,283996800000.0,315532800000.0,347155200000.0,378691200000.0,410227200000.0,441763200000.0,473385600000.0,504921600000.0,536457600000.0,567993600000.0,599616000000.0,631152000000.0,662688000000.0,694224000000.0,725846400000.0,757382400000.0,788918400000.0,820454400000.0,852076800000.0,883612800000.0,915148800000.0,946684800000.0,978307200000.0,1009843200000.0,1041379200000.0,1072915200000.0,1104537600000.0,1136073600000.0,1167609600000.0,1199145600000.0,1230768000000.0,1262304000000.0,1293840000000.0,1325376000000.0,1356998400000.0,1388534400000.0,1420070400000.0,1451606400000.0,1483228800000.0,1514764800000.0,1546300800000.0,1577836800000.0,1609459200000.0,1640995200000.0],\"shape\":[75],\"dtype\":\"object\",\"order\":\"little\"}],[\"capital\",{\"type\":\"ndarray\",\"array\":{\"type\":\"bytes\",\"data\":\"2MmcK/JeQ0AmG2zdQHBDQO2Kh1V9s0NAvNpHmjkkQ0CMcunL8L5CQKmTINbcqEJAEoB3X+D9QkDY3UQjFZRDQMB7UvIaQkNAHINbVlU3Q0BOgIvaFj9DQJhEh2Xcp0NAoZ7EjDhvQ0C+xMtXSYxDQFAfv5tuuENARroeMPTqQ0DjwKKNke9DQKv/2IbxGERA6uRRLdepQ0DUYin2wWVDQEoC3btZRkNAAVxSxnfhQkBr3JsnMIZCQIS2JubF90JAItdmBKXtQkA3n6ULKedCQJtMj/Ew3UJAs0YO4xeCQ0AOKYThJo5DQM4wIEbamkNA50CafamMQ0Bc2fZoU0JDQOz5w5P1SUNALzwBZsYDRECjoSbIjxREQOOd7ItwUkRA3K6/NnuXREBTZ9xIYHpEQNHM8KYTBkRAwg1ZjRbnQ0CXb1cRSvVDQHabvP6M/ENAFijiCAyxQ0Ch9T/uOsRDQHcdLXqcbUNACtvSQxmOQ0B4xyME/gdEQO9enrBPQ0RAspy0fq9pRED98lwD2nlEQBn4sBKpEERASzk28CjSQ0A0JT9ixnpDQGPwlMyLWkNA/UmaQkuyQ0DhSwt62+1DQHdtT86UKkRAjvtc2pjIREBUMWrMZB5FQDKbiz/nsERAjZnUVVZdREADsiqEUuJEQOpeVHZIYUVAXkU/Sg5hRUAz87sLHplFQOpOHEoTk0VAOdQVIka0RUClLWtGwnlFQLaLYLzURUVA21fgb6wnRUBm8Vu0P0FFQETBI842L0VAv9AUcJV0RECn7x0MfBJFQLQMYuNackVA\"},\"shape\":[75],\"dtype\":\"float64\",\"order\":\"little\"}],[\"labor\",{\"type\":\"ndarray\",\"array\":{\"type\":\"bytes\",\"data\":\"JzZj1A2hTkDa5JMiv49OQBN1eKqCTE5ARCW4ZcbbTkB0jRY0D0FPQFds3ykjV09A7n+IoB8CT0AoIrvc6mtOQECErQ3lvU5A5HykqarITkCyf3Ql6cBOQGi7eJojWE5AX2E7c8eQTkBCOzSotnNOQLDgQGSRR05AukXhzwsVTkAcP11ybhBOQFYAJ3kO501AFhuu0ihWTkArndYJPppOQLb9IkSmuU5A/6OtOYgeT0CVI2TYz3lPQHxJ2Rk6CE9A3iiZ+1oST0DJYFr01hhPQGWzcA7PIk9ATrnxHOh9TkDy1nse2XFOQDLP37klZU5AGL9lglZzTkCkJgmXrL1OQBUGPGwKtk5A0cP+mTn8TUBcXtk3cOtNQB5iE3SPrU1AJFFAyYRoTUCtmCO3n4VNQDAzD1ns+U1APvKmcukYTkBpkKjutQpOQIpkQwFzA05A6tcd9/NOTkBgCsARxTtOQIni0oVjkk5A9iQtvOZxTkCJONz7AfhNQBGhYU+wvE1ATWNLgVCWTUADDaP8JYZNQOcHT+1W701AtsbJD9ctTkDN2sCdOYVOQJwPazN0pU5AA7ZlvbRNTkAftPSFJBJOQImSsDFr1U1AcQSjJWc3TUCszpUzm+FMQM5kdMAYT01Ac2YrqqmiTUD8TdV7rR1NQBehq4m3nkxAorrAtfGeTEDODET04WZMQBax47XsbExAxyvq3blLTEBb0pS5PYZMQEp0n0MrukxAJagfkFPYTECbDqRLwL5MQLw+3DHJ0ExAQS/rj2qLTUBYEOLzg+1MQEzznRyljUxA\"},\"shape\":[75],\"dtype\":\"float64\",\"order\":\"little\"}]]}}},\"view\":{\"type\":\"object\",\"name\":\"CDSView\",\"id\":\"p1094\",\"attributes\":{\"filter\":{\"type\":\"object\",\"name\":\"AllIndices\",\"id\":\"p1095\"}}},\"glyph\":{\"type\":\"object\",\"name\":\"Line\",\"id\":\"p1090\",\"attributes\":{\"x\":{\"type\":\"field\",\"field\":\"TimePeriod\"},\"y\":{\"type\":\"field\",\"field\":\"capital\"},\"line_color\":\"#D86018\",\"line_width\":3}},\"nonselection_glyph\":{\"type\":\"object\",\"name\":\"Line\",\"id\":\"p1091\",\"attributes\":{\"x\":{\"type\":\"field\",\"field\":\"TimePeriod\"},\"y\":{\"type\":\"field\",\"field\":\"capital\"},\"line_color\":\"#D86018\",\"line_alpha\":0.1,\"line_width\":3}},\"muted_glyph\":{\"type\":\"object\",\"name\":\"Line\",\"id\":\"p1092\",\"attributes\":{\"x\":{\"type\":\"field\",\"field\":\"TimePeriod\"},\"y\":{\"type\":\"field\",\"field\":\"capital\"},\"line_color\":\"#D86018\",\"line_alpha\":0.2,\"line_width\":3}}}},{\"type\":\"object\",\"name\":\"GlyphRenderer\",\"id\":\"p1102\",\"attributes\":{\"name\":\"labor\",\"data_source\":{\"id\":\"p1002\"},\"view\":{\"type\":\"object\",\"name\":\"CDSView\",\"id\":\"p1103\",\"attributes\":{\"filter\":{\"type\":\"object\",\"name\":\"AllIndices\",\"id\":\"p1104\"}}},\"glyph\":{\"type\":\"object\",\"name\":\"Line\",\"id\":\"p1099\",\"attributes\":{\"x\":{\"type\":\"field\",\"field\":\"TimePeriod\"},\"y\":{\"type\":\"field\",\"field\":\"labor\"},\"line_color\":\"#004C97\",\"line_width\":3}},\"nonselection_glyph\":{\"type\":\"object\",\"name\":\"Line\",\"id\":\"p1100\",\"attributes\":{\"x\":{\"type\":\"field\",\"field\":\"TimePeriod\"},\"y\":{\"type\":\"field\",\"field\":\"labor\"},\"line_color\":\"#004C97\",\"line_alpha\":0.1,\"line_width\":3}},\"muted_glyph\":{\"type\":\"object\",\"name\":\"Line\",\"id\":\"p1101\",\"attributes\":{\"x\":{\"type\":\"field\",\"field\":\"TimePeriod\"},\"y\":{\"type\":\"field\",\"field\":\"labor\"},\"line_color\":\"#004C97\",\"line_alpha\":0.2,\"line_width\":3}}}},{\"type\":\"object\",\"name\":\"GlyphRenderer\",\"id\":\"p1111\",\"attributes\":{\"data_source\":{\"type\":\"object\",\"name\":\"ColumnDataSource\",\"id\":\"p1105\",\"attributes\":{\"selected\":{\"type\":\"object\",\"name\":\"Selection\",\"id\":\"p1107\",\"attributes\":{\"indices\":[],\"line_indices\":[]}},\"selection_policy\":{\"type\":\"object\",\"name\":\"UnionRenderers\",\"id\":\"p1106\"},\"data\":{\"type\":\"map\"}}},\"view\":{\"type\":\"object\",\"name\":\"CDSView\",\"id\":\"p1112\",\"attributes\":{\"filter\":{\"type\":\"object\",\"name\":\"AllIndices\",\"id\":\"p1113\"}}},\"glyph\":{\"type\":\"object\",\"name\":\"VBar\",\"id\":\"p1108\",\"attributes\":{\"line_color\":{\"type\":\"value\",\"value\":\"#DCDEDF\"},\"fill_color\":{\"type\":\"value\",\"value\":\"#DCDEDF\"},\"hatch_color\":{\"type\":\"value\",\"value\":\"#DCDEDF\"}}},\"nonselection_glyph\":{\"type\":\"object\",\"name\":\"VBar\",\"id\":\"p1109\",\"attributes\":{\"line_color\":{\"type\":\"value\",\"value\":\"#DCDEDF\"},\"line_alpha\":{\"type\":\"value\",\"value\":0.1},\"fill_color\":{\"type\":\"value\",\"value\":\"#DCDEDF\"},\"fill_alpha\":{\"type\":\"value\",\"value\":0.1},\"hatch_color\":{\"type\":\"value\",\"value\":\"#DCDEDF\"},\"hatch_alpha\":{\"type\":\"value\",\"value\":0.1}}},\"muted_glyph\":{\"type\":\"object\",\"name\":\"VBar\",\"id\":\"p1110\",\"attributes\":{\"line_color\":{\"type\":\"value\",\"value\":\"#DCDEDF\"},\"line_alpha\":{\"type\":\"value\",\"value\":0.2},\"fill_color\":{\"type\":\"value\",\"value\":\"#DCDEDF\"},\"fill_alpha\":{\"type\":\"value\",\"value\":0.2},\"hatch_color\":{\"type\":\"value\",\"value\":\"#DCDEDF\"},\"hatch_alpha\":{\"type\":\"value\",\"value\":0.2}}}}}],\"toolbar\":{\"type\":\"object\",\"name\":\"Toolbar\",\"id\":\"p1010\",\"attributes\":{\"tools\":[{\"type\":\"object\",\"name\":\"PanTool\",\"id\":\"p1072\"},{\"type\":\"object\",\"name\":\"WheelZoomTool\",\"id\":\"p1073\"},{\"type\":\"object\",\"name\":\"BoxZoomTool\",\"id\":\"p1074\",\"attributes\":{\"overlay\":{\"type\":\"object\",\"name\":\"BoxAnnotation\",\"id\":\"p1075\",\"attributes\":{\"syncable\":false,\"level\":\"overlay\",\"visible\":false,\"left_units\":\"canvas\",\"right_units\":\"canvas\",\"bottom_units\":\"canvas\",\"top_units\":\"canvas\",\"line_color\":\"black\",\"line_alpha\":1.0,\"line_width\":2,\"line_dash\":[4,4],\"fill_color\":\"lightgrey\",\"fill_alpha\":0.5}}}},{\"type\":\"object\",\"name\":\"SaveTool\",\"id\":\"p1076\"},{\"type\":\"object\",\"name\":\"ResetTool\",\"id\":\"p1077\"},{\"type\":\"object\",\"name\":\"HelpTool\",\"id\":\"p1078\"},{\"type\":\"object\",\"name\":\"HoverTool\",\"id\":\"p1129\",\"attributes\":{\"renderers\":[{\"id\":\"p1093\"},{\"id\":\"p1102\"}],\"tooltips\":\"<div class=\\\"bk-tooltip-content\\\">\\n<div>\\n<div style=\\\"display: table; border-spacing: 2px;\\\">\\n<div style=\\\"display: table-row;\\\"><div class=\\\"bk-tooltip-row-value\\\" style=\\\"display: table-cell;\\\">Year: </div><div class=\\\"bk-tooltip-row-value\\\" style=\\\"display: table-cell;\\\"><span data-value=\\\"\\\">@TimePeriod{%Y}</span><span class=\\\"bk-tooltip-color-block\\\" data-swatch=\\\"\\\" style=\\\"display: none;\\\"> </span></div></div>\\n<div style=\\\"display: table-row;\\\"><div class=\\\"bk-tooltip-row-value\\\" style=\\\"display: table-cell;\\\">Percent: </div><div class=\\\"bk-tooltip-row-value\\\" style=\\\"display: table-cell;\\\"><span data-value=\\\"\\\">@$name{0.0}</span><span class=\\\"bk-tooltip-color-block\\\" data-swatch=\\\"\\\" style=\\\"display: none;\\\"> </span></div></div>\\n</div>\\n</div>\\n</div>\",\"formatters\":{\"type\":\"map\",\"entries\":[[\"@TimePeriod\",\"datetime\"]]}}}],\"active_drag\":null}},\"toolbar_location\":null,\"left\":[{\"type\":\"object\",\"name\":\"LinearAxis\",\"id\":\"p1065\",\"attributes\":{\"ticker\":{\"type\":\"object\",\"name\":\"BasicTicker\",\"id\":\"p1068\",\"attributes\":{\"mantissas\":[1,2,5]}},\"formatter\":{\"type\":\"object\",\"name\":\"BasicTickFormatter\",\"id\":\"p1067\"},\"axis_label\":\"Percent\",\"axis_label_text_font\":\"calibri\",\"axis_label_text_font_style\":\"bold\",\"major_label_policy\":{\"type\":\"object\",\"name\":\"AllLabels\",\"id\":\"p1066\"},\"axis_line_color\":null,\"major_tick_line_color\":null,\"minor_tick_line_color\":null}}],\"below\":[{\"type\":\"object\",\"name\":\"DatetimeAxis\",\"id\":\"p1022\",\"attributes\":{\"ticker\":{\"type\":\"object\",\"name\":\"FixedTicker\",\"id\":\"p1131\",\"attributes\":{\"ticks\":[-694310400000.0,-536457600000.0,-378691200000.0,-220924800000.0,-63158400000.0,94694400000.0,252460800000.0,410227200000.0,567993600000.0,725846400000.0,883612800000.0,1041379200000.0,1199145600000.0,1356998400000.0,1514764800000.0],\"minor_ticks\":[]}},\"formatter\":{\"type\":\"object\",\"name\":\"DatetimeTickFormatter\",\"id\":\"p1024\"},\"axis_label_text_font\":\"calibri\",\"axis_label_text_font_style\":\"bold\",\"major_label_policy\":{\"type\":\"object\",\"name\":\"AllLabels\",\"id\":\"p1023\"},\"axis_line_color\":null,\"major_tick_line_color\":null,\"minor_tick_line_color\":null}},{\"type\":\"object\",\"name\":\"Legend\",\"id\":\"p1114\",\"attributes\":{\"location\":\"center\",\"orientation\":\"horizontal\",\"border_line_color\":\"white\",\"label_text_font\":\"calibri\",\"items\":[{\"type\":\"object\",\"name\":\"LegendItem\",\"id\":\"p1115\",\"attributes\":{\"label\":{\"type\":\"value\",\"value\":\"Labor share of income\"},\"renderers\":[{\"id\":\"p1102\"}]}},{\"type\":\"object\",\"name\":\"LegendItem\",\"id\":\"p1116\",\"attributes\":{\"label\":{\"type\":\"value\",\"value\":\"Capital share of income\"},\"renderers\":[{\"id\":\"p1093\"}]}},{\"type\":\"object\",\"name\":\"LegendItem\",\"id\":\"p1117\",\"attributes\":{\"label\":{\"type\":\"value\",\"value\":\"Recessions\"},\"renderers\":[{\"id\":\"p1111\"}]}}]}}],\"center\":[{\"type\":\"object\",\"name\":\"Grid\",\"id\":\"p1064\",\"attributes\":{\"axis\":{\"id\":\"p1022\"},\"grid_line_color\":null,\"grid_line_width\":1.5}},{\"type\":\"object\",\"name\":\"Grid\",\"id\":\"p1071\",\"attributes\":{\"dimension\":1,\"axis\":{\"id\":\"p1065\"},\"grid_line_color\":\"#DCDEDF\",\"grid_line_width\":1.5}},{\"type\":\"object\",\"name\":\"BoxAnnotation\",\"id\":\"p1118\",\"attributes\":{\"level\":\"underlay\",\"left\":-694310400000.0,\"right\":-631152000000.0,\"line_color\":\"#DCDEDF\",\"line_width\":0,\"fill_color\":\"#DCDEDF\",\"fill_alpha\":1}},{\"type\":\"object\",\"name\":\"BoxAnnotation\",\"id\":\"p1119\",\"attributes\":{\"level\":\"underlay\",\"left\":-536457600000.0,\"right\":-473385600000.0,\"line_color\":\"#DCDEDF\",\"line_width\":0,\"fill_color\":\"#DCDEDF\",\"fill_alpha\":1}},{\"type\":\"object\",\"name\":\"BoxAnnotation\",\"id\":\"p1120\",\"attributes\":{\"level\":\"underlay\",\"left\":-410227200000.0,\"right\":-347155200000.0,\"line_color\":\"#DCDEDF\",\"line_width\":0,\"fill_color\":\"#DCDEDF\",\"fill_alpha\":1}},{\"type\":\"object\",\"name\":\"BoxAnnotation\",\"id\":\"p1121\",\"attributes\":{\"level\":\"underlay\",\"left\":-315619200000.0,\"right\":-252460800000.0,\"line_color\":\"#DCDEDF\",\"line_width\":0,\"fill_color\":\"#DCDEDF\",\"fill_alpha\":1}},{\"type\":\"object\",\"name\":\"BoxAnnotation\",\"id\":\"p1122\",\"attributes\":{\"level\":\"underlay\",\"left\":0.0,\"right\":31536000000.0,\"line_color\":\"#DCDEDF\",\"line_width\":0,\"fill_color\":\"#DCDEDF\",\"fill_alpha\":1}},{\"type\":\"object\",\"name\":\"BoxAnnotation\",\"id\":\"p1123\",\"attributes\":{\"level\":\"underlay\",\"left\":94694400000.0,\"right\":189302400000.0,\"line_color\":\"#DCDEDF\",\"line_width\":0,\"fill_color\":\"#DCDEDF\",\"fill_alpha\":1}},{\"type\":\"object\",\"name\":\"BoxAnnotation\",\"id\":\"p1124\",\"attributes\":{\"level\":\"underlay\",\"left\":315532800000.0,\"right\":410227200000.0,\"line_color\":\"#DCDEDF\",\"line_width\":0,\"fill_color\":\"#DCDEDF\",\"fill_alpha\":1}},{\"type\":\"object\",\"name\":\"BoxAnnotation\",\"id\":\"p1125\",\"attributes\":{\"level\":\"underlay\",\"left\":631152000000.0,\"right\":694224000000.0,\"line_color\":\"#DCDEDF\",\"line_width\":0,\"fill_color\":\"#DCDEDF\",\"fill_alpha\":1}},{\"type\":\"object\",\"name\":\"BoxAnnotation\",\"id\":\"p1126\",\"attributes\":{\"level\":\"underlay\",\"left\":978307200000.0,\"right\":1009843200000.0,\"line_color\":\"#DCDEDF\",\"line_width\":0,\"fill_color\":\"#DCDEDF\",\"fill_alpha\":1}},{\"type\":\"object\",\"name\":\"BoxAnnotation\",\"id\":\"p1127\",\"attributes\":{\"level\":\"underlay\",\"left\":1199145600000.0,\"right\":1262304000000.0,\"line_color\":\"#DCDEDF\",\"line_width\":0,\"fill_color\":\"#DCDEDF\",\"fill_alpha\":1}},{\"type\":\"object\",\"name\":\"BoxAnnotation\",\"id\":\"p1128\",\"attributes\":{\"level\":\"underlay\",\"left\":1577836800000.0,\"right\":1609459200000.0,\"line_color\":\"#DCDEDF\",\"line_width\":0,\"fill_color\":\"#DCDEDF\",\"fill_alpha\":1}}]}},{\"type\":\"object\",\"name\":\"Div\",\"id\":\"p1146\",\"attributes\":{\"css_classes\":[\"list-bordered\",\"fignotes\"],\"text\":\"<ul class=\\\"footnote\\\">\\n<li>Data. Labor and capital shares of gross domestic income, 1948\\u20132022</li>\\n<li>Source. BEA <a href=\\\"https://apps.bea.gov/iTable/iTable.cfm?reqid=19&step=3&isuri=1&nipa_table_list=51&categories=survey\\\" class=\\\"figlink\\\">NIPA table 1.10</a></li>\\n<li>Labor share of income is calculated as compensation divided by gross domestic income excluding proprietors' income, which is a mix of labor and capital income. Capital share of income includes rental income, profits, and net interest and is calclulated as gross domestic income excluding compensation and proprietors' income divided by gross domestic income excluding proprietors' income.</li>\\n<ul>\"}}]}}],\"callbacks\":{\"type\":\"map\"}}};\n  const render_items = [{\"docid\":\"d89ba4e1-81b5-4afe-bf10-95fc49a81898\",\"roots\":{\"p1147\":\"be8a5b91-ac72-4bce-9041-84cde502c7bb\"},\"root_ids\":[\"p1147\"]}];\n  root.Bokeh.embed.embed_items_notebook(docs_json, render_items);\n  }\n  if (root.Bokeh !== undefined) {\n    embed_document(root);\n  } else {\n    let attempts = 0;\n    const timer = setInterval(function(root) {\n      if (root.Bokeh !== undefined) {\n        clearInterval(timer);\n        embed_document(root);\n      } else {\n        attempts++;\n        if (attempts > 100) {\n          clearInterval(timer);\n          console.log(\"Bokeh: ERROR: Unable to run BokehJS code because BokehJS library is missing\");\n        }\n      }\n    }, 10, root)\n  }\n})(window);",
      "application/vnd.bokehjs_exec.v0+json": ""
     },
     "metadata": {
      "application/vnd.bokehjs_exec.v0+json": {
       "id": "p1147"
      }
     },
     "output_type": "display_data"
    }
   ],
   "source": [
    "show(wellbeing.generate_chart.income_shares(start_year=1948, end_year=default_end_year, from_cache=from_cache))"
   ]
  },
  {
   "cell_type": "code",
   "execution_count": 49,
   "metadata": {},
   "outputs": [
    {
     "data": {
      "text/html": [
       "One driver of the changing distribution of income is the movement in the share of labor income relative to capital income. \"Capital income\" refers to income arising from the use of fixed assets, such as property, plant, and equipment. After reaching 63 percent in 1970, labor's share of income has generally declined, and in 2022 stood at 57.1 percent. Capital's share of income increased from 37 percent in 1970 to 42.9 percent in 2022."
      ],
      "text/plain": [
       "<IPython.core.display.HTML object>"
      ]
     },
     "metadata": {},
     "output_type": "display_data"
    }
   ],
   "source": [
    "show_narrative('Income Shares')"
   ]
  },
  {
   "attachments": {},
   "cell_type": "markdown",
   "metadata": {},
   "source": [
    "#### Americans' Financial Well-being"
   ]
  },
  {
   "cell_type": "code",
   "execution_count": 50,
   "metadata": {},
   "outputs": [
    {
     "name": "stdout",
     "output_type": "stream",
     "text": [
      "Americans' Financial Well-being\n",
      "Trends in Household Wealth as Measured by Net Worth\n"
     ]
    },
    {
     "data": {
      "text/html": [
       "\n",
       "  <div id=\"60005771-ac25-41b1-a6af-aa1decdb906a\" data-root-id=\"p13107\" style=\"display: contents;\"></div>\n"
      ]
     },
     "metadata": {},
     "output_type": "display_data"
    },
    {
     "data": {
      "application/javascript": "(function(root) {\n  function embed_document(root) {\n  const docs_json = {\"58b26c8d-841e-47b0-baf5-c18654ebf8d6\":{\"version\":\"3.1.0\",\"title\":\"Bokeh Application\",\"defs\":[],\"roots\":[{\"type\":\"object\",\"name\":\"Figure\",\"id\":\"p13107\",\"attributes\":{\"styles\":{\"type\":\"map\",\"entries\":[[\"width\",\"98%\"]]},\"width\":700,\"height\":400,\"aspect_ratio\":1.75,\"sizing_mode\":\"scale_both\",\"x_range\":{\"type\":\"object\",\"name\":\"Range1d\",\"id\":\"p13116\",\"attributes\":{\"start\":-315619200000.0,\"end\":1640995200000.0}},\"y_range\":{\"type\":\"object\",\"name\":\"Range1d\",\"id\":\"p13106\",\"attributes\":{\"start\":4.5,\"end\":8.5}},\"x_scale\":{\"type\":\"object\",\"name\":\"LinearScale\",\"id\":\"p13119\"},\"y_scale\":{\"type\":\"object\",\"name\":\"LinearScale\",\"id\":\"p13121\"},\"extra_y_ranges\":{\"type\":\"map\",\"entries\":[[\"net_worth_range\",{\"type\":\"object\",\"name\":\"Range1d\",\"id\":\"p13202\",\"attributes\":{\"start\":-8000,\"end\":161900}}]]},\"title\":{\"type\":\"object\",\"name\":\"Title\",\"id\":\"p13112\"},\"outline_line_color\":null,\"renderers\":[{\"type\":\"object\",\"name\":\"GlyphRenderer\",\"id\":\"p13209\",\"attributes\":{\"name\":\"net_worth\",\"y_range_name\":\"net_worth_range\",\"data_source\":{\"type\":\"object\",\"name\":\"ColumnDataSource\",\"id\":\"p13103\",\"attributes\":{\"selected\":{\"type\":\"object\",\"name\":\"Selection\",\"id\":\"p13104\",\"attributes\":{\"indices\":[],\"line_indices\":[]}},\"selection_policy\":{\"type\":\"object\",\"name\":\"UnionRenderers\",\"id\":\"p13105\"},\"data\":{\"type\":\"map\",\"entries\":[[\"TimePeriod\",{\"type\":\"ndarray\",\"array\":[-315619200000.0,-283996800000.0,-252460800000.0,-220924800000.0,-189388800000.0,-157766400000.0,-126230400000.0,-94694400000.0,-63158400000.0,-31536000000.0,0.0,31536000000.0,63072000000.0,94694400000.0,126230400000.0,157766400000.0,189302400000.0,220924800000.0,252460800000.0,283996800000.0,315532800000.0,347155200000.0,378691200000.0,410227200000.0,441763200000.0,473385600000.0,504921600000.0,536457600000.0,567993600000.0,599616000000.0,631152000000.0,662688000000.0,694224000000.0,725846400000.0,757382400000.0,788918400000.0,820454400000.0,852076800000.0,883612800000.0,915148800000.0,946684800000.0,978307200000.0,1009843200000.0,1041379200000.0,1072915200000.0,1104537600000.0,1136073600000.0,1167609600000.0,1199145600000.0,1230768000000.0,1262304000000.0,1293840000000.0,1325376000000.0,1356998400000.0,1388534400000.0,1420070400000.0,1451606400000.0,1483228800000.0,1514764800000.0,1546300800000.0,1577836800000.0,1609459200000.0,1640995200000.0],\"shape\":[63],\"dtype\":\"object\",\"order\":\"little\"}],[\"net_worth\",{\"type\":\"ndarray\",\"array\":{\"type\":\"bytes\",\"data\":\"MzMzMzNWoEBmZmZmZqGhQGZmZmZmHqJAZmZmZmbtokBmZmZmZlikQDMzMzMz5qVAzczMzMyspkAzMzMzMwipQGZmZmZmF6xAzczMzMyYrECamZmZmUeuQGZmZmZmxrBAMzMzM7MZs0AzMzMzM+2zQJqZmZkZXbRAMzMzMzPmtkCamZmZmXu5QDMzMzMzxrtAAAAAAAAYv0BmZmZmJsnBQM3MzMwMP8RAmpmZmdkAxkDNzMzMTJ3HQJqZmZnZX8lAAAAAAMB9y0BmZmZm5lDOQDMzMzPzv9BAAAAAAOD70UBmZmZmRrTTQJqZmZn5dNVAmpmZmXkd1kAAAAAAQJTXQDMzMzPTp9hAzczMzIwQ2kAzMzMzk/faQJqZmZmZat1AAAAAAOB830DNzMzM7GDhQGZmZmYWN+NAmpmZmVko5UDNzMzM3L/lQGZmZmYmi+ZAZmZmZmaA5kCamZmZye3oQGZmZmYmQ+xAAAAAAHD+7kAAAAAAqKrwQM3MzMwEGvFAMzMzM3Pb7UAAAAAAsAzuQGZmZmZGG/BAZmZmZqZd8EBmZmZmbpDxQGZmZmZmrPNAAAAAACgr9UBmZmZmHuz1QDMzMzM7J/dAmpmZmdFI+UDNzMzMDG/5QGZmZmaWh/xAzczMzCgUAEEAAAAAXIgCQQAAAADYBwJB\"},\"shape\":[63],\"dtype\":\"float64\",\"order\":\"little\"}],[\"ratio\",{\"type\":\"ndarray\",\"array\":{\"type\":\"bytes\",\"data\":\"iqfEwdk9FkAtgAvrLfMWQDvwMtVCOxZA8mso7SgdFkDoV9qC2uAVQKY7coZT2xVA9ADUQxr1FEDWK1U6Gp8VQFjg4o4GVhZAhoBWWLsKFUAqOA9UmFgUQDstgSxEqxRAUCGqOFq2FUAxKc0oQTwUQNjkVuqF8RJAKontNjoxE0ADvvuqxZ4TQHxAE84/dhNApdMpQS18E0CrOQAULhUUQKSw9hsqfBRAeLV+U/TxE0AAVLx4o9gTQD+Rpj/fxRNAkNUHJ99QE0DxoJSgifsTQMwsxtDh0RRADgnlRkg3FUCIB+wdpF0VQAnBEuWhqBVAvnpvygH5FECmDsTQM3sVQAqCxBIOARVAusDUDx9QFUD+ErUJ9wUVQOcdq2bEvBVAOxJ8mUEUFkAs123X2RsXQMuhxc6N8RdAOQnvHU0jGUAkl6kAgAMYQBZEduukwRdA/H6kW4e7FkAlJspGLQoYQGw7biXgvBlALZFpvFEIG0CW15lZJzsbQHwkOWylnBpAtAWgqNJLFkD2lMaRroYWQC01auhuPBdA2n7OsFOPFkCcgQrQSQMXQKRP9aA0wBlAdky08mdKGkBSjLQxfiEaQLmPPJeF1BpAvY3DN9cBHEBsrCTRYbIaQBc+5KCKhRxAmaoSAlDxHUB5jEWWsEsgQG34FPxTzB9A\"},\"shape\":[63],\"dtype\":\"float64\",\"order\":\"little\"}]]}}},\"view\":{\"type\":\"object\",\"name\":\"CDSView\",\"id\":\"p13210\",\"attributes\":{\"filter\":{\"type\":\"object\",\"name\":\"AllIndices\",\"id\":\"p13211\"}}},\"glyph\":{\"type\":\"object\",\"name\":\"Line\",\"id\":\"p13206\",\"attributes\":{\"x\":{\"type\":\"field\",\"field\":\"TimePeriod\"},\"y\":{\"type\":\"field\",\"field\":\"net_worth\"},\"line_color\":\"#D86018\",\"line_width\":3}},\"nonselection_glyph\":{\"type\":\"object\",\"name\":\"Line\",\"id\":\"p13207\",\"attributes\":{\"x\":{\"type\":\"field\",\"field\":\"TimePeriod\"},\"y\":{\"type\":\"field\",\"field\":\"net_worth\"},\"line_color\":\"#D86018\",\"line_alpha\":0.1,\"line_width\":3}},\"muted_glyph\":{\"type\":\"object\",\"name\":\"Line\",\"id\":\"p13208\",\"attributes\":{\"x\":{\"type\":\"field\",\"field\":\"TimePeriod\"},\"y\":{\"type\":\"field\",\"field\":\"net_worth\"},\"line_color\":\"#D86018\",\"line_alpha\":0.2,\"line_width\":3}}}},{\"type\":\"object\",\"name\":\"GlyphRenderer\",\"id\":\"p13218\",\"attributes\":{\"name\":\"ratio\",\"data_source\":{\"id\":\"p13103\"},\"view\":{\"type\":\"object\",\"name\":\"CDSView\",\"id\":\"p13219\",\"attributes\":{\"filter\":{\"type\":\"object\",\"name\":\"AllIndices\",\"id\":\"p13220\"}}},\"glyph\":{\"type\":\"object\",\"name\":\"Line\",\"id\":\"p13215\",\"attributes\":{\"x\":{\"type\":\"field\",\"field\":\"TimePeriod\"},\"y\":{\"type\":\"field\",\"field\":\"ratio\"},\"line_color\":\"#004C97\",\"line_width\":3}},\"nonselection_glyph\":{\"type\":\"object\",\"name\":\"Line\",\"id\":\"p13216\",\"attributes\":{\"x\":{\"type\":\"field\",\"field\":\"TimePeriod\"},\"y\":{\"type\":\"field\",\"field\":\"ratio\"},\"line_color\":\"#004C97\",\"line_alpha\":0.1,\"line_width\":3}},\"muted_glyph\":{\"type\":\"object\",\"name\":\"Line\",\"id\":\"p13217\",\"attributes\":{\"x\":{\"type\":\"field\",\"field\":\"TimePeriod\"},\"y\":{\"type\":\"field\",\"field\":\"ratio\"},\"line_color\":\"#004C97\",\"line_alpha\":0.2,\"line_width\":3}}}},{\"type\":\"object\",\"name\":\"GlyphRenderer\",\"id\":\"p13234\",\"attributes\":{\"data_source\":{\"type\":\"object\",\"name\":\"ColumnDataSource\",\"id\":\"p13228\",\"attributes\":{\"selected\":{\"type\":\"object\",\"name\":\"Selection\",\"id\":\"p13229\",\"attributes\":{\"indices\":[],\"line_indices\":[]}},\"selection_policy\":{\"type\":\"object\",\"name\":\"UnionRenderers\",\"id\":\"p13230\"},\"data\":{\"type\":\"map\"}}},\"view\":{\"type\":\"object\",\"name\":\"CDSView\",\"id\":\"p13235\",\"attributes\":{\"filter\":{\"type\":\"object\",\"name\":\"AllIndices\",\"id\":\"p13236\"}}},\"glyph\":{\"type\":\"object\",\"name\":\"VBar\",\"id\":\"p13231\",\"attributes\":{\"line_color\":{\"type\":\"value\",\"value\":\"#DCDEDF\"},\"fill_color\":{\"type\":\"value\",\"value\":\"#DCDEDF\"},\"hatch_color\":{\"type\":\"value\",\"value\":\"#DCDEDF\"}}},\"nonselection_glyph\":{\"type\":\"object\",\"name\":\"VBar\",\"id\":\"p13232\",\"attributes\":{\"line_color\":{\"type\":\"value\",\"value\":\"#DCDEDF\"},\"line_alpha\":{\"type\":\"value\",\"value\":0.1},\"fill_color\":{\"type\":\"value\",\"value\":\"#DCDEDF\"},\"fill_alpha\":{\"type\":\"value\",\"value\":0.1},\"hatch_color\":{\"type\":\"value\",\"value\":\"#DCDEDF\"},\"hatch_alpha\":{\"type\":\"value\",\"value\":0.1}}},\"muted_glyph\":{\"type\":\"object\",\"name\":\"VBar\",\"id\":\"p13233\",\"attributes\":{\"line_color\":{\"type\":\"value\",\"value\":\"#DCDEDF\"},\"line_alpha\":{\"type\":\"value\",\"value\":0.2},\"fill_color\":{\"type\":\"value\",\"value\":\"#DCDEDF\"},\"fill_alpha\":{\"type\":\"value\",\"value\":0.2},\"hatch_color\":{\"type\":\"value\",\"value\":\"#DCDEDF\"},\"hatch_alpha\":{\"type\":\"value\",\"value\":0.2}}}}}],\"toolbar\":{\"type\":\"object\",\"name\":\"Toolbar\",\"id\":\"p13114\",\"attributes\":{\"tools\":[{\"type\":\"object\",\"name\":\"PanTool\",\"id\":\"p13173\"},{\"type\":\"object\",\"name\":\"WheelZoomTool\",\"id\":\"p13174\"},{\"type\":\"object\",\"name\":\"BoxZoomTool\",\"id\":\"p13175\",\"attributes\":{\"overlay\":{\"type\":\"object\",\"name\":\"BoxAnnotation\",\"id\":\"p13176\",\"attributes\":{\"syncable\":false,\"level\":\"overlay\",\"visible\":false,\"left_units\":\"canvas\",\"right_units\":\"canvas\",\"bottom_units\":\"canvas\",\"top_units\":\"canvas\",\"line_color\":\"black\",\"line_alpha\":1.0,\"line_width\":2,\"line_dash\":[4,4],\"fill_color\":\"lightgrey\",\"fill_alpha\":0.5}}}},{\"type\":\"object\",\"name\":\"SaveTool\",\"id\":\"p13177\"},{\"type\":\"object\",\"name\":\"ResetTool\",\"id\":\"p13178\"},{\"type\":\"object\",\"name\":\"HelpTool\",\"id\":\"p13179\"},{\"type\":\"object\",\"name\":\"HoverTool\",\"id\":\"p13249\",\"attributes\":{\"renderers\":[{\"id\":\"p13218\"}],\"tooltips\":[[\"Year\",\"@TimePeriod{%Y}\"],[\"Value\",\"@$name{0.0%}\"]],\"formatters\":{\"type\":\"map\",\"entries\":[[\"@TimePeriod\",\"datetime\"]]}}},{\"type\":\"object\",\"name\":\"HoverTool\",\"id\":\"p13251\",\"attributes\":{\"renderers\":[{\"id\":\"p13209\"}],\"tooltips\":[[\"Year\",\"@TimePeriod{%Y}\"],[\"Value\",\"@$name{$0,0.0}\"]],\"formatters\":{\"type\":\"map\",\"entries\":[[\"@TimePeriod\",\"datetime\"]]}}}],\"active_drag\":null}},\"toolbar_location\":null,\"left\":[{\"type\":\"object\",\"name\":\"LinearAxis\",\"id\":\"p13166\",\"attributes\":{\"ticker\":{\"type\":\"object\",\"name\":\"BasicTicker\",\"id\":\"p13167\",\"attributes\":{\"mantissas\":[1,2,5]}},\"formatter\":{\"type\":\"object\",\"name\":\"NumeralTickFormatter\",\"id\":\"p13221\",\"attributes\":{\"format\":\"0%\"}},\"axis_label_text_font\":\"calibri\",\"axis_label_text_font_style\":\"bold\",\"major_label_policy\":{\"type\":\"object\",\"name\":\"AllLabels\",\"id\":\"p13168\"},\"major_label_text_color\":\"#004C97\",\"axis_line_color\":null,\"major_tick_line_color\":null,\"minor_tick_line_color\":null}}],\"right\":[{\"type\":\"object\",\"name\":\"LinearAxis\",\"id\":\"p13224\",\"attributes\":{\"y_range_name\":\"net_worth_range\",\"ticker\":{\"type\":\"object\",\"name\":\"BasicTicker\",\"id\":\"p13226\",\"attributes\":{\"mantissas\":[1,2,5]}},\"formatter\":{\"type\":\"object\",\"name\":\"NumeralTickFormatter\",\"id\":\"p13223\"},\"axis_label\":\"Billions of dollars\",\"axis_label_text_color\":\"#D86018\",\"axis_label_text_font\":\"calibri\",\"axis_label_text_font_style\":\"bold\",\"major_label_policy\":{\"type\":\"object\",\"name\":\"AllLabels\",\"id\":\"p13227\"},\"major_label_text_color\":\"#D86018\",\"axis_line_color\":null,\"major_tick_line_color\":null,\"minor_tick_line_color\":null}}],\"below\":[{\"type\":\"object\",\"name\":\"DatetimeAxis\",\"id\":\"p13123\",\"attributes\":{\"ticker\":{\"type\":\"object\",\"name\":\"FixedTicker\",\"id\":\"p13188\",\"attributes\":{\"ticks\":[-315619200000.0,-157766400000.0,0.0,157766400000.0,315532800000.0,473385600000.0,631152000000.0,788918400000.0,946684800000.0,1104537600000.0,1262304000000.0,1420070400000.0,1577836800000.0],\"minor_ticks\":[]}},\"formatter\":{\"type\":\"object\",\"name\":\"DatetimeTickFormatter\",\"id\":\"p13138\"},\"axis_label_text_font\":\"calibri\",\"axis_label_text_font_style\":\"bold\",\"major_label_policy\":{\"type\":\"object\",\"name\":\"AllLabels\",\"id\":\"p13137\"},\"axis_line_color\":null,\"major_tick_line_color\":null,\"minor_tick_line_color\":null}},{\"type\":\"object\",\"name\":\"Legend\",\"id\":\"p13237\",\"attributes\":{\"location\":\"center\",\"orientation\":\"horizontal\",\"border_line_color\":\"white\",\"label_text_font\":\"calibri\",\"items\":[{\"type\":\"object\",\"name\":\"LegendItem\",\"id\":\"p13238\",\"attributes\":{\"label\":{\"type\":\"value\",\"value\":\"Ratio: Household net worth to DPI\"},\"renderers\":[{\"id\":\"p13218\"}]}},{\"type\":\"object\",\"name\":\"LegendItem\",\"id\":\"p13239\",\"attributes\":{\"label\":{\"type\":\"value\",\"value\":\"Household net worth\"},\"renderers\":[{\"id\":\"p13209\"}]}},{\"type\":\"object\",\"name\":\"LegendItem\",\"id\":\"p13240\",\"attributes\":{\"label\":{\"type\":\"value\",\"value\":\"Recessions\"},\"renderers\":[{\"id\":\"p13234\"}]}}]}}],\"center\":[{\"type\":\"object\",\"name\":\"Grid\",\"id\":\"p13165\",\"attributes\":{\"axis\":{\"id\":\"p13123\"},\"grid_line_color\":null,\"grid_line_width\":1.5}},{\"type\":\"object\",\"name\":\"Grid\",\"id\":\"p13172\",\"attributes\":{\"dimension\":1,\"axis\":{\"id\":\"p13166\"},\"grid_line_color\":\"#DCDEDF\",\"grid_line_width\":1.5}},{\"type\":\"object\",\"name\":\"BoxAnnotation\",\"id\":\"p13241\",\"attributes\":{\"level\":\"underlay\",\"left\":-315619200000.0,\"right\":-252460800000.0,\"line_color\":\"#DCDEDF\",\"line_width\":0,\"fill_color\":\"#DCDEDF\",\"fill_alpha\":1}},{\"type\":\"object\",\"name\":\"BoxAnnotation\",\"id\":\"p13242\",\"attributes\":{\"level\":\"underlay\",\"left\":0.0,\"right\":31536000000.0,\"line_color\":\"#DCDEDF\",\"line_width\":0,\"fill_color\":\"#DCDEDF\",\"fill_alpha\":1}},{\"type\":\"object\",\"name\":\"BoxAnnotation\",\"id\":\"p13243\",\"attributes\":{\"level\":\"underlay\",\"left\":94694400000.0,\"right\":189302400000.0,\"line_color\":\"#DCDEDF\",\"line_width\":0,\"fill_color\":\"#DCDEDF\",\"fill_alpha\":1}},{\"type\":\"object\",\"name\":\"BoxAnnotation\",\"id\":\"p13244\",\"attributes\":{\"level\":\"underlay\",\"left\":315532800000.0,\"right\":410227200000.0,\"line_color\":\"#DCDEDF\",\"line_width\":0,\"fill_color\":\"#DCDEDF\",\"fill_alpha\":1}},{\"type\":\"object\",\"name\":\"BoxAnnotation\",\"id\":\"p13245\",\"attributes\":{\"level\":\"underlay\",\"left\":631152000000.0,\"right\":694224000000.0,\"line_color\":\"#DCDEDF\",\"line_width\":0,\"fill_color\":\"#DCDEDF\",\"fill_alpha\":1}},{\"type\":\"object\",\"name\":\"BoxAnnotation\",\"id\":\"p13246\",\"attributes\":{\"level\":\"underlay\",\"left\":978307200000.0,\"right\":1009843200000.0,\"line_color\":\"#DCDEDF\",\"line_width\":0,\"fill_color\":\"#DCDEDF\",\"fill_alpha\":1}},{\"type\":\"object\",\"name\":\"BoxAnnotation\",\"id\":\"p13247\",\"attributes\":{\"level\":\"underlay\",\"left\":1199145600000.0,\"right\":1262304000000.0,\"line_color\":\"#DCDEDF\",\"line_width\":0,\"fill_color\":\"#DCDEDF\",\"fill_alpha\":1}},{\"type\":\"object\",\"name\":\"BoxAnnotation\",\"id\":\"p13248\",\"attributes\":{\"level\":\"underlay\",\"left\":1577836800000.0,\"right\":1609459200000.0,\"line_color\":\"#DCDEDF\",\"line_width\":0,\"fill_color\":\"#DCDEDF\",\"fill_alpha\":1}}]}}],\"callbacks\":{\"type\":\"map\"}}};\n  const render_items = [{\"docid\":\"58b26c8d-841e-47b0-baf5-c18654ebf8d6\",\"roots\":{\"p13107\":\"60005771-ac25-41b1-a6af-aa1decdb906a\"},\"root_ids\":[\"p13107\"]}];\n  root.Bokeh.embed.embed_items_notebook(docs_json, render_items);\n  }\n  if (root.Bokeh !== undefined) {\n    embed_document(root);\n  } else {\n    let attempts = 0;\n    const timer = setInterval(function(root) {\n      if (root.Bokeh !== undefined) {\n        clearInterval(timer);\n        embed_document(root);\n      } else {\n        attempts++;\n        if (attempts > 100) {\n          clearInterval(timer);\n          console.log(\"Bokeh: ERROR: Unable to run BokehJS code because BokehJS library is missing\");\n        }\n      }\n    }, 10, root)\n  }\n})(window);",
      "application/vnd.bokehjs_exec.v0+json": ""
     },
     "metadata": {
      "application/vnd.bokehjs_exec.v0+json": {
       "id": "p13107"
      }
     },
     "output_type": "display_data"
    },
    {
     "data": {
      "text/html": [
       "<ul class=\"footnote\">\n",
       "<li>Data. Ratio of household net worth to disposable personal income (DPI) and household net worth, 1960–2022</li>\n",
       "<li>Source. BEA-FRB <a href=\"https://apps.bea.gov/iTable/iTable.cfm?reqid=14&step=3&isuri=1&table_list=6201\" class=\"figlink\">Integrated macroeconomic accounts table S.3.a</a>, BEA <a href=\"https://apps.bea.gov/iTable/iTable.cfm?reqid=19&step=3&isuri=1&nipa_table_list=58&categories=survey\" class=\"figlink\">NIPA table 2.1</a></li>\n",
       "<li>In 2019, the Federal Reserve Board (FRB) introduced Distributional Financial Accounts of the United States, which include estimates of the distribution of household wealth.</li>\n",
       "<ul>"
      ],
      "text/plain": [
       "<IPython.core.display.HTML object>"
      ]
     },
     "metadata": {},
     "output_type": "display_data"
    }
   ],
   "source": [
    "show(wellbeing.generate_chart.net_worth(start_year=1960, end_year=default_end_year, from_cache=from_cache))"
   ]
  },
  {
   "cell_type": "code",
   "execution_count": 51,
   "metadata": {},
   "outputs": [
    {
     "data": {
      "text/html": [
       "Another key measure of the economic well-being of a nation is its wealth. Wealth increases economic welfare by supplementing income for large purchases, unemployment, emergencies, retirement, education, and bequests to heirs.<br><br>Since 1960, household wealth—measured by net worth (that is, household assets less liabilities)—has risen every year except for in 2002 after the dotcom bust, in 2008 during the Great Recession, and in 2022 coming out of the coronavirus pandemic.<br><br>In addition, the ratio of household net worth to disposable personal income (DPI) indicates whether trends in saving and wealth are in line with movements in income. During the post-WWII era, net worth of households as a percentage of DPI has risen, with net worth around eight times larger than DPI in 2022."
      ],
      "text/plain": [
       "<IPython.core.display.HTML object>"
      ]
     },
     "metadata": {},
     "output_type": "display_data"
    }
   ],
   "source": [
    "show_narrative('Net Worth')"
   ]
  },
  {
   "attachments": {},
   "cell_type": "markdown",
   "metadata": {},
   "source": [
    "#### Inflation Trends"
   ]
  },
  {
   "cell_type": "code",
   "execution_count": 52,
   "metadata": {},
   "outputs": [
    {
     "name": "stdout",
     "output_type": "stream",
     "text": [
      "Inflation Trends\n",
      "Percent Changes in Consumer Prices\n"
     ]
    },
    {
     "data": {
      "text/html": [
       "\n",
       "  <div id=\"fc96a177-66ae-4cf0-bc2d-6fff15be9daf\" data-root-id=\"p13964\" style=\"display: contents;\"></div>\n"
      ]
     },
     "metadata": {},
     "output_type": "display_data"
    },
    {
     "data": {
      "application/javascript": "(function(root) {\n  function embed_document(root) {\n  const docs_json = {\"51baaa1c-31d5-4fd8-b9e8-a0c0ba60f16b\":{\"version\":\"3.1.0\",\"title\":\"Bokeh Application\",\"defs\":[],\"roots\":[{\"type\":\"object\",\"name\":\"Figure\",\"id\":\"p13964\",\"attributes\":{\"styles\":{\"type\":\"map\",\"entries\":[[\"width\",\"98%\"]]},\"width\":700,\"height\":400,\"aspect_ratio\":1.75,\"sizing_mode\":\"scale_both\",\"x_range\":{\"type\":\"object\",\"name\":\"Range1d\",\"id\":\"p13973\",\"attributes\":{\"start\":-1293840000000.0,\"end\":1672531200000.0}},\"y_range\":{\"type\":\"object\",\"name\":\"DataRange1d\",\"id\":\"p13966\"},\"x_scale\":{\"type\":\"object\",\"name\":\"LinearScale\",\"id\":\"p13977\"},\"y_scale\":{\"type\":\"object\",\"name\":\"LinearScale\",\"id\":\"p13979\"},\"title\":{\"type\":\"object\",\"name\":\"Title\",\"id\":\"p13969\"},\"outline_line_color\":null,\"renderers\":[{\"type\":\"object\",\"name\":\"GlyphRenderer\",\"id\":\"p14053\",\"attributes\":{\"data_source\":{\"type\":\"object\",\"name\":\"ColumnDataSource\",\"id\":\"p13961\",\"attributes\":{\"selected\":{\"type\":\"object\",\"name\":\"Selection\",\"id\":\"p13962\",\"attributes\":{\"indices\":[],\"line_indices\":[]}},\"selection_policy\":{\"type\":\"object\",\"name\":\"UnionRenderers\",\"id\":\"p13963\"},\"data\":{\"type\":\"map\",\"entries\":[[\"TimePeriod\",{\"type\":\"ndarray\",\"array\":[-1262304000000.0,-1230768000000.0,-1199232000000.0,-1167609600000.0,-1136073600000.0,-1104537600000.0,-1073001600000.0,-1041379200000.0,-1009843200000.0,-978307200000.0,-946771200000.0,-915148800000.0,-883612800000.0,-852076800000.0,-820540800000.0,-788918400000.0,-757382400000.0,-725846400000.0,-694310400000.0,-662688000000.0,-631152000000.0,-599616000000.0,-568080000000.0,-536457600000.0,-504921600000.0,-473385600000.0,-441849600000.0,-410227200000.0,-378691200000.0,-347155200000.0,-315619200000.0,-283996800000.0,-252460800000.0,-220924800000.0,-189388800000.0,-157766400000.0,-126230400000.0,-94694400000.0,-63158400000.0,-31536000000.0,0.0,31536000000.0,63072000000.0,94694400000.0,126230400000.0,157766400000.0,189302400000.0,220924800000.0,252460800000.0,283996800000.0,315532800000.0,347155200000.0,378691200000.0,410227200000.0,441763200000.0,473385600000.0,504921600000.0,536457600000.0,567993600000.0,599616000000.0,631152000000.0,662688000000.0,694224000000.0,725846400000.0,757382400000.0,788918400000.0,820454400000.0,852076800000.0,883612800000.0,915148800000.0,946684800000.0,978307200000.0,1009843200000.0,1041379200000.0,1072915200000.0,1104537600000.0,1136073600000.0,1167609600000.0,1199145600000.0,1230768000000.0,1262304000000.0,1293840000000.0,1325376000000.0,1356998400000.0,1388534400000.0,1420070400000.0,1451606400000.0,1483228800000.0,1514764800000.0,1546300800000.0,1577836800000.0,1609459200000.0,1640995200000.0],\"shape\":[93],\"dtype\":\"object\",\"order\":\"little\"}],[\"prices_pc\",{\"type\":\"ndarray\",\"array\":{\"type\":\"bytes\",\"data\":\"zczMzMzMEMBmZmZmZmYlwJqZmZmZmSfAzczMzMzMDMAAAAAAAAASQAAAAAAAAARAzczMzMzM7D+amZmZmZkNQGZmZmZmZgLAAAAAAAAA8L+amZmZmZnpP83MzMzMzBhAAAAAAAAAKUBmZmZmZmYiQM3MzMzMzBZAAAAAAAAAEEAAAAAAAAAcQDMzMzMzMyRAzczMzMzMFkCamZmZmZnpvzMzMzMzM/M/MzMzMzMzG0AAAAAAAAAAQM3MzMzMzPQ/mpmZmZmZ6T+amZmZmZnZPwAAAAAAAABAAAAAAAAACEAzMzMzMzMDQAAAAAAAAPg/mpmZmZmZ+T8AAAAAAADwPzMzMzMzM/M/MzMzMzMz8z8AAAAAAAD4P2ZmZmZmZvY/AAAAAAAABEAAAAAAAAAEQDMzMzMzMw9AAAAAAAAAEkDNzMzMzMwSQM3MzMzMzBBAMzMzMzMzC0CamZmZmZkVQM3MzMzMzCRAmpmZmZmZIEAAAAAAAAAWQAAAAAAAABpAAAAAAAAAHEDNzMzMzMwhQJqZmZmZmSVAAAAAAAAAIkBmZmZmZmYWQDMzMzMzMxFAZmZmZmZmDkAAAAAAAAAMQJqZmZmZmQFAzczMzMzMCEAzMzMzMzMPQJqZmZmZmRFAmpmZmZmZEUBmZmZmZmYKQJqZmZmZmQVAAAAAAAAABEDNzMzMzMwAQM3MzMzMzABAzczMzMzMAEAzMzMzMzP7P5qZmZmZmek/AAAAAAAA+D8AAAAAAAAEQAAAAAAAAABAzczMzMzM9D/NzMzMzMwAQAAAAAAAAARAMzMzMzMzB0BmZmZmZmYGQM3MzMzMzARAAAAAAAAACEAzMzMzMzPTv83MzMzMzPw/AAAAAAAABEBmZmZmZmb+P2ZmZmZmZvY/AAAAAAAA+D+amZmZmZnJPwAAAAAAAPA/zczMzMzM/D/NzMzMzMwAQAAAAAAAAPg/mpmZmZmZ8T8AAAAAAAAQQDMzMzMzMxlA\"},\"shape\":[93],\"dtype\":\"float64\",\"order\":\"little\"}]]}}},\"view\":{\"type\":\"object\",\"name\":\"CDSView\",\"id\":\"p14054\",\"attributes\":{\"filter\":{\"type\":\"object\",\"name\":\"AllIndices\",\"id\":\"p14055\"}}},\"glyph\":{\"type\":\"object\",\"name\":\"VBar\",\"id\":\"p14050\",\"attributes\":{\"x\":{\"type\":\"field\",\"field\":\"TimePeriod\",\"transform\":{\"type\":\"object\",\"name\":\"Dodge\",\"id\":\"p14046\",\"attributes\":{\"value\":10800000000.0}}},\"width\":{\"type\":\"value\",\"value\":21600000000.0},\"top\":{\"type\":\"field\",\"field\":\"prices_pc\"},\"line_color\":{\"type\":\"value\",\"value\":\"#1f77b4\"},\"line_width\":{\"type\":\"value\",\"value\":0.0},\"fill_color\":{\"type\":\"value\",\"value\":\"#1f77b4\"}}},\"nonselection_glyph\":{\"type\":\"object\",\"name\":\"VBar\",\"id\":\"p14051\",\"attributes\":{\"x\":{\"type\":\"field\",\"field\":\"TimePeriod\",\"transform\":{\"id\":\"p14046\"}},\"width\":{\"type\":\"value\",\"value\":21600000000.0},\"top\":{\"type\":\"field\",\"field\":\"prices_pc\"},\"line_color\":{\"type\":\"value\",\"value\":\"#1f77b4\"},\"line_alpha\":{\"type\":\"value\",\"value\":0.1},\"line_width\":{\"type\":\"value\",\"value\":0.0},\"fill_color\":{\"type\":\"value\",\"value\":\"#1f77b4\"},\"fill_alpha\":{\"type\":\"value\",\"value\":0.1},\"hatch_alpha\":{\"type\":\"value\",\"value\":0.1}}},\"muted_glyph\":{\"type\":\"object\",\"name\":\"VBar\",\"id\":\"p14052\",\"attributes\":{\"x\":{\"type\":\"field\",\"field\":\"TimePeriod\",\"transform\":{\"id\":\"p14046\"}},\"width\":{\"type\":\"value\",\"value\":21600000000.0},\"top\":{\"type\":\"field\",\"field\":\"prices_pc\"},\"line_color\":{\"type\":\"value\",\"value\":\"#1f77b4\"},\"line_alpha\":{\"type\":\"value\",\"value\":0.2},\"line_width\":{\"type\":\"value\",\"value\":0.0},\"fill_color\":{\"type\":\"value\",\"value\":\"#1f77b4\"},\"fill_alpha\":{\"type\":\"value\",\"value\":0.2},\"hatch_alpha\":{\"type\":\"value\",\"value\":0.2}}}}},{\"type\":\"object\",\"name\":\"GlyphRenderer\",\"id\":\"p14064\",\"attributes\":{\"data_source\":{\"type\":\"object\",\"name\":\"ColumnDataSource\",\"id\":\"p14058\",\"attributes\":{\"selected\":{\"type\":\"object\",\"name\":\"Selection\",\"id\":\"p14059\",\"attributes\":{\"indices\":[],\"line_indices\":[]}},\"selection_policy\":{\"type\":\"object\",\"name\":\"UnionRenderers\",\"id\":\"p14060\"},\"data\":{\"type\":\"map\"}}},\"view\":{\"type\":\"object\",\"name\":\"CDSView\",\"id\":\"p14065\",\"attributes\":{\"filter\":{\"type\":\"object\",\"name\":\"AllIndices\",\"id\":\"p14066\"}}},\"glyph\":{\"type\":\"object\",\"name\":\"VBar\",\"id\":\"p14061\",\"attributes\":{\"line_color\":{\"type\":\"value\",\"value\":\"#DCDEDF\"},\"fill_color\":{\"type\":\"value\",\"value\":\"#DCDEDF\"},\"hatch_color\":{\"type\":\"value\",\"value\":\"#DCDEDF\"}}},\"nonselection_glyph\":{\"type\":\"object\",\"name\":\"VBar\",\"id\":\"p14062\",\"attributes\":{\"line_color\":{\"type\":\"value\",\"value\":\"#DCDEDF\"},\"line_alpha\":{\"type\":\"value\",\"value\":0.1},\"fill_color\":{\"type\":\"value\",\"value\":\"#DCDEDF\"},\"fill_alpha\":{\"type\":\"value\",\"value\":0.1},\"hatch_color\":{\"type\":\"value\",\"value\":\"#DCDEDF\"},\"hatch_alpha\":{\"type\":\"value\",\"value\":0.1}}},\"muted_glyph\":{\"type\":\"object\",\"name\":\"VBar\",\"id\":\"p14063\",\"attributes\":{\"line_color\":{\"type\":\"value\",\"value\":\"#DCDEDF\"},\"line_alpha\":{\"type\":\"value\",\"value\":0.2},\"fill_color\":{\"type\":\"value\",\"value\":\"#DCDEDF\"},\"fill_alpha\":{\"type\":\"value\",\"value\":0.2},\"hatch_color\":{\"type\":\"value\",\"value\":\"#DCDEDF\"},\"hatch_alpha\":{\"type\":\"value\",\"value\":0.2}}}}}],\"toolbar\":{\"type\":\"object\",\"name\":\"Toolbar\",\"id\":\"p13971\",\"attributes\":{\"tools\":[{\"type\":\"object\",\"name\":\"PanTool\",\"id\":\"p14031\"},{\"type\":\"object\",\"name\":\"WheelZoomTool\",\"id\":\"p14032\"},{\"type\":\"object\",\"name\":\"BoxZoomTool\",\"id\":\"p14033\",\"attributes\":{\"overlay\":{\"type\":\"object\",\"name\":\"BoxAnnotation\",\"id\":\"p14034\",\"attributes\":{\"syncable\":false,\"level\":\"overlay\",\"visible\":false,\"left_units\":\"canvas\",\"right_units\":\"canvas\",\"bottom_units\":\"canvas\",\"top_units\":\"canvas\",\"line_color\":\"black\",\"line_alpha\":1.0,\"line_width\":2,\"line_dash\":[4,4],\"fill_color\":\"lightgrey\",\"fill_alpha\":0.5}}}},{\"type\":\"object\",\"name\":\"SaveTool\",\"id\":\"p14035\"},{\"type\":\"object\",\"name\":\"ResetTool\",\"id\":\"p14036\"},{\"type\":\"object\",\"name\":\"HelpTool\",\"id\":\"p14037\"},{\"type\":\"object\",\"name\":\"HoverTool\",\"id\":\"p14056\",\"attributes\":{\"renderers\":[{\"id\":\"p14053\"}],\"tooltips\":[[\"Year\",\"@TimePeriod{%Y}\"],[\"Percent Change in PCE Prices\",\"@prices_pc{0.0}\"]],\"formatters\":{\"type\":\"map\",\"entries\":[[\"@TimePeriod\",\"datetime\"]]}}}],\"active_drag\":null}},\"toolbar_location\":null,\"left\":[{\"type\":\"object\",\"name\":\"LinearAxis\",\"id\":\"p14024\",\"attributes\":{\"ticker\":{\"type\":\"object\",\"name\":\"BasicTicker\",\"id\":\"p14025\",\"attributes\":{\"mantissas\":[1,2,5]}},\"formatter\":{\"type\":\"object\",\"name\":\"BasicTickFormatter\",\"id\":\"p14027\"},\"axis_label\":\"Percent\",\"axis_label_text_font\":\"calibri\",\"axis_label_text_font_style\":\"bold\",\"major_label_policy\":{\"type\":\"object\",\"name\":\"AllLabels\",\"id\":\"p14026\"},\"axis_line_color\":null,\"major_tick_line_color\":null,\"minor_tick_line_color\":null}}],\"below\":[{\"type\":\"object\",\"name\":\"DatetimeAxis\",\"id\":\"p13981\",\"attributes\":{\"ticker\":{\"type\":\"object\",\"name\":\"FixedTicker\",\"id\":\"p14084\",\"attributes\":{\"ticks\":[-1262304000000.0,-946771200000.0,-631152000000.0,-315619200000.0,0.0,315532800000.0,631152000000.0,946684800000.0,1262304000000.0,1577836800000.0],\"minor_ticks\":[]}},\"formatter\":{\"type\":\"object\",\"name\":\"DatetimeTickFormatter\",\"id\":\"p13996\"},\"axis_label_text_font\":\"calibri\",\"axis_label_text_font_style\":\"bold\",\"major_label_policy\":{\"type\":\"object\",\"name\":\"AllLabels\",\"id\":\"p13995\"},\"axis_line_color\":null,\"major_tick_line_color\":null,\"minor_tick_line_color\":null}},{\"type\":\"object\",\"name\":\"Legend\",\"id\":\"p14067\",\"attributes\":{\"location\":\"center\",\"orientation\":\"horizontal\",\"border_line_color\":\"white\",\"label_text_font\":\"calibri\",\"items\":[{\"type\":\"object\",\"name\":\"LegendItem\",\"id\":\"p14068\",\"attributes\":{\"label\":{\"type\":\"value\",\"value\":\"Percent change in PCE prices\"},\"renderers\":[{\"id\":\"p14053\"}]}},{\"type\":\"object\",\"name\":\"LegendItem\",\"id\":\"p14069\",\"attributes\":{\"label\":{\"type\":\"value\",\"value\":\"Recessions\"},\"renderers\":[{\"id\":\"p14064\"}]}}]}}],\"center\":[{\"type\":\"object\",\"name\":\"Grid\",\"id\":\"p14023\",\"attributes\":{\"axis\":{\"id\":\"p13981\"},\"grid_line_color\":null,\"grid_line_width\":1.5}},{\"type\":\"object\",\"name\":\"Grid\",\"id\":\"p14030\",\"attributes\":{\"dimension\":1,\"axis\":{\"id\":\"p14024\"},\"grid_line_color\":\"#DCDEDF\",\"grid_line_width\":1.5}},{\"type\":\"object\",\"name\":\"BoxAnnotation\",\"id\":\"p14070\",\"attributes\":{\"level\":\"underlay\",\"left\":-1262304000000.0,\"right\":-1136073600000.0,\"line_color\":\"#DCDEDF\",\"line_width\":0,\"fill_color\":\"#DCDEDF\",\"fill_alpha\":1}},{\"type\":\"object\",\"name\":\"BoxAnnotation\",\"id\":\"p14071\",\"attributes\":{\"level\":\"underlay\",\"left\":-1041379200000.0,\"right\":-978307200000.0,\"line_color\":\"#DCDEDF\",\"line_width\":0,\"fill_color\":\"#DCDEDF\",\"fill_alpha\":1}},{\"type\":\"object\",\"name\":\"BoxAnnotation\",\"id\":\"p14072\",\"attributes\":{\"level\":\"underlay\",\"left\":-788918400000.0,\"right\":-757382400000.0,\"line_color\":\"#DCDEDF\",\"line_width\":0,\"fill_color\":\"#DCDEDF\",\"fill_alpha\":1}},{\"type\":\"object\",\"name\":\"BoxAnnotation\",\"id\":\"p14073\",\"attributes\":{\"level\":\"underlay\",\"left\":-694310400000.0,\"right\":-631152000000.0,\"line_color\":\"#DCDEDF\",\"line_width\":0,\"fill_color\":\"#DCDEDF\",\"fill_alpha\":1}},{\"type\":\"object\",\"name\":\"BoxAnnotation\",\"id\":\"p14074\",\"attributes\":{\"level\":\"underlay\",\"left\":-536457600000.0,\"right\":-473385600000.0,\"line_color\":\"#DCDEDF\",\"line_width\":0,\"fill_color\":\"#DCDEDF\",\"fill_alpha\":1}},{\"type\":\"object\",\"name\":\"BoxAnnotation\",\"id\":\"p14075\",\"attributes\":{\"level\":\"underlay\",\"left\":-410227200000.0,\"right\":-347155200000.0,\"line_color\":\"#DCDEDF\",\"line_width\":0,\"fill_color\":\"#DCDEDF\",\"fill_alpha\":1}},{\"type\":\"object\",\"name\":\"BoxAnnotation\",\"id\":\"p14076\",\"attributes\":{\"level\":\"underlay\",\"left\":-315619200000.0,\"right\":-252460800000.0,\"line_color\":\"#DCDEDF\",\"line_width\":0,\"fill_color\":\"#DCDEDF\",\"fill_alpha\":1}},{\"type\":\"object\",\"name\":\"BoxAnnotation\",\"id\":\"p14077\",\"attributes\":{\"level\":\"underlay\",\"left\":0.0,\"right\":31536000000.0,\"line_color\":\"#DCDEDF\",\"line_width\":0,\"fill_color\":\"#DCDEDF\",\"fill_alpha\":1}},{\"type\":\"object\",\"name\":\"BoxAnnotation\",\"id\":\"p14078\",\"attributes\":{\"level\":\"underlay\",\"left\":94694400000.0,\"right\":189302400000.0,\"line_color\":\"#DCDEDF\",\"line_width\":0,\"fill_color\":\"#DCDEDF\",\"fill_alpha\":1}},{\"type\":\"object\",\"name\":\"BoxAnnotation\",\"id\":\"p14079\",\"attributes\":{\"level\":\"underlay\",\"left\":315532800000.0,\"right\":410227200000.0,\"line_color\":\"#DCDEDF\",\"line_width\":0,\"fill_color\":\"#DCDEDF\",\"fill_alpha\":1}},{\"type\":\"object\",\"name\":\"BoxAnnotation\",\"id\":\"p14080\",\"attributes\":{\"level\":\"underlay\",\"left\":631152000000.0,\"right\":694224000000.0,\"line_color\":\"#DCDEDF\",\"line_width\":0,\"fill_color\":\"#DCDEDF\",\"fill_alpha\":1}},{\"type\":\"object\",\"name\":\"BoxAnnotation\",\"id\":\"p14081\",\"attributes\":{\"level\":\"underlay\",\"left\":978307200000.0,\"right\":1009843200000.0,\"line_color\":\"#DCDEDF\",\"line_width\":0,\"fill_color\":\"#DCDEDF\",\"fill_alpha\":1}},{\"type\":\"object\",\"name\":\"BoxAnnotation\",\"id\":\"p14082\",\"attributes\":{\"level\":\"underlay\",\"left\":1199145600000.0,\"right\":1262304000000.0,\"line_color\":\"#DCDEDF\",\"line_width\":0,\"fill_color\":\"#DCDEDF\",\"fill_alpha\":1}},{\"type\":\"object\",\"name\":\"BoxAnnotation\",\"id\":\"p14083\",\"attributes\":{\"level\":\"underlay\",\"left\":1577836800000.0,\"right\":1609459200000.0,\"line_color\":\"#DCDEDF\",\"line_width\":0,\"fill_color\":\"#DCDEDF\",\"fill_alpha\":1}}]}}],\"callbacks\":{\"type\":\"map\"}}};\n  const render_items = [{\"docid\":\"51baaa1c-31d5-4fd8-b9e8-a0c0ba60f16b\",\"roots\":{\"p13964\":\"fc96a177-66ae-4cf0-bc2d-6fff15be9daf\"},\"root_ids\":[\"p13964\"]}];\n  root.Bokeh.embed.embed_items_notebook(docs_json, render_items);\n  }\n  if (root.Bokeh !== undefined) {\n    embed_document(root);\n  } else {\n    let attempts = 0;\n    const timer = setInterval(function(root) {\n      if (root.Bokeh !== undefined) {\n        clearInterval(timer);\n        embed_document(root);\n      } else {\n        attempts++;\n        if (attempts > 100) {\n          clearInterval(timer);\n          console.log(\"Bokeh: ERROR: Unable to run BokehJS code because BokehJS library is missing\");\n        }\n      }\n    }, 10, root)\n  }\n})(window);",
      "application/vnd.bokehjs_exec.v0+json": ""
     },
     "metadata": {
      "application/vnd.bokehjs_exec.v0+json": {
       "id": "p13964"
      }
     },
     "output_type": "display_data"
    },
    {
     "data": {
      "text/html": [
       "<ul class=\"footnote\">\n",
       "<li>Data. Percent changes in personal consumption expenditures (PCE) price index, 1930–2022</li>\n",
       "<li>Source. BEA <a href=\"https://apps.bea.gov/iTable/iTable.cfm?reqid=19&step=3&isuri=1&nipa_table_list=38&categories=survey\" class=\"figlink\">NIPA table 1.6.7</a></li>\n",
       "<ul>"
      ],
      "text/plain": [
       "<IPython.core.display.HTML object>"
      ]
     },
     "metadata": {},
     "output_type": "display_data"
    }
   ],
   "source": [
    "show(wellbeing.generate_chart.inflation_trends(start_year=1930, end_year=default_end_year, from_cache=from_cache))"
   ]
  },
  {
   "cell_type": "code",
   "execution_count": 53,
   "metadata": {},
   "outputs": [
    {
     "data": {
      "text/html": [
       "Inflation, especially high and variable rates of inflation, can affect economic well-being, including eroding the real income and purchasing power of those on fixed incomes and more generally transferring income from debtors to creditors.<br><br>After a period of deflation during the Great Depression, inflation peaked in the immediate post-WWII era and later in the 1970s and 1980s. Since the mid-1990s, inflation has generally remained in the 2 percent range, low by historical standards; however, inflation was 4.0 percent in 2021 and 6.3 percent in 2022."
      ],
      "text/plain": [
       "<IPython.core.display.HTML object>"
      ]
     },
     "metadata": {},
     "output_type": "display_data"
    }
   ],
   "source": [
    "show_narrative('Inflation Trends')"
   ]
  },
  {
   "attachments": {},
   "cell_type": "markdown",
   "metadata": {},
   "source": [
    "#### Employment and Unemployment"
   ]
  },
  {
   "cell_type": "code",
   "execution_count": 54,
   "metadata": {},
   "outputs": [
    {
     "name": "stdout",
     "output_type": "stream",
     "text": [
      "Employment Trends\n"
     ]
    },
    {
     "data": {
      "text/html": [
       "\n",
       "  <div id=\"3bcfec5b-d86d-435b-b6af-ac2d308fa88b\" data-root-id=\"p14800\" style=\"display: contents;\"></div>\n"
      ]
     },
     "metadata": {},
     "output_type": "display_data"
    },
    {
     "data": {
      "application/javascript": "(function(root) {\n  function embed_document(root) {\n  const docs_json = {\"bc6dc409-02b0-4160-8d8f-eb3a2355cb2a\":{\"version\":\"3.1.0\",\"title\":\"Bokeh Application\",\"defs\":[],\"roots\":[{\"type\":\"object\",\"name\":\"Figure\",\"id\":\"p14800\",\"attributes\":{\"styles\":{\"type\":\"map\",\"entries\":[[\"width\",\"98%\"]]},\"width\":700,\"height\":400,\"aspect_ratio\":1.75,\"sizing_mode\":\"scale_both\",\"x_range\":{\"type\":\"object\",\"name\":\"Range1d\",\"id\":\"p14809\",\"attributes\":{\"start\":-473385600000.0,\"end\":1640995200000.0}},\"y_range\":{\"type\":\"object\",\"name\":\"Range1d\",\"id\":\"p14811\",\"attributes\":{\"start\":20,\"end\":100}},\"x_scale\":{\"type\":\"object\",\"name\":\"LinearScale\",\"id\":\"p14813\"},\"y_scale\":{\"type\":\"object\",\"name\":\"LinearScale\",\"id\":\"p14815\"},\"extra_y_ranges\":{\"type\":\"map\",\"entries\":[[\"unemployment\",{\"type\":\"object\",\"name\":\"Range1d\",\"id\":\"p14900\",\"attributes\":{\"start\":2,\"end\":10}}]]},\"title\":{\"type\":\"object\",\"name\":\"Title\",\"id\":\"p14805\"},\"renderers\":[{\"type\":\"object\",\"name\":\"GlyphRenderer\",\"id\":\"p14888\",\"attributes\":{\"name\":\"fte_employment\",\"data_source\":{\"type\":\"object\",\"name\":\"ColumnDataSource\",\"id\":\"p14797\",\"attributes\":{\"selected\":{\"type\":\"object\",\"name\":\"Selection\",\"id\":\"p14798\",\"attributes\":{\"indices\":[],\"line_indices\":[]}},\"selection_policy\":{\"type\":\"object\",\"name\":\"UnionRenderers\",\"id\":\"p14799\"},\"data\":{\"type\":\"map\",\"entries\":[[\"TimePeriod\",{\"type\":\"ndarray\",\"array\":[-473385600000.0,-441849600000.0,-410227200000.0,-378691200000.0,-347155200000.0,-315619200000.0,-283996800000.0,-252460800000.0,-220924800000.0,-189388800000.0,-157766400000.0,-126230400000.0,-94694400000.0,-63158400000.0,-31536000000.0,0.0,31536000000.0,63072000000.0,94694400000.0,126230400000.0,157766400000.0,189302400000.0,220924800000.0,252460800000.0,283996800000.0,315532800000.0,347155200000.0,378691200000.0,410227200000.0,441763200000.0,473385600000.0,504921600000.0,536457600000.0,567993600000.0,599616000000.0,631152000000.0,662688000000.0,694224000000.0,725846400000.0,757382400000.0,788918400000.0,820454400000.0,852076800000.0,883612800000.0,915148800000.0,946684800000.0,978307200000.0,1009843200000.0,1041379200000.0,1072915200000.0,1104537600000.0,1136073600000.0,1167609600000.0,1199145600000.0,1230768000000.0,1262304000000.0,1293840000000.0,1325376000000.0,1356998400000.0,1388534400000.0,1420070400000.0,1451606400000.0,1483228800000.0,1514764800000.0,1546300800000.0,1577836800000.0,1609459200000.0,1640995200000.0],\"shape\":[68],\"dtype\":\"object\",\"order\":\"little\"}],[\"fte_employment\",{\"type\":\"ndarray\",\"array\":{\"type\":\"bytes\",\"data\":\"fpgq/DBVQEAReaG+BnBAQFhhXPV6REBA/oZRtnz2PkD7j/Yc7F8/QOojCus9TT9AI4oFRPu8PkAXFTUBOBo/QFZalOtKHj9AGcmFZcleP0DW+d2xGx1AQJWQar6xzUBAUWEt0c8aQUDcle0nYmZBQGYtR0MCsEFAZgOeI0pdQUCUUxgeOA5BQL+hesxBT0FANJToqQ3wQUB0/EEdTQhCQJRIEG4ec0FA5joAahvRQUDtkiJJq0BCQHJgsy7/+kJALUPSRB5kQ0DR4qu7kCZDQKkKvZ9UIENA07ca0o96QkCQb+3U3mxCQHWk8XA5K0NA7hBqg+N9Q0CjvSFC46lDQCg/jji9CERASQAwmj1uRECzZUHZksREQNISezyGw0RAe30NiO4xREDo84jBNPNDQLXaZeGI+0NAdAzvOipEREB/Do4fv5VEQJ3XwpAuvkRAEeBeFOwDRUArgsCIVVJFQGibVYG2iUVAKdMS/5DGRUBs/cIuHJhFQMrmUFi8K0VA4Nt45ZHhREBkdxeJk+FEQInpJe1MEEVAwlCidHk7RUAsH32A/T5FQGOkpgEs30RAUz6yHKOiQ0AIqIpZ5VBDQG+MK00cZUNAfHO12aafQ0C/CApZistDQMNsyzSZC0RAWSRcnudVREABWjSyVH1EQPkADk6fqkRAzRpU3rLrREDU4wBTFSVFQEzru7gQ8kNA1nu/UdGEREAAAAAAAAD4fw==\"},\"shape\":[68],\"dtype\":\"float64\",\"order\":\"little\"}],[\"prime_age\",{\"type\":\"ndarray\",\"array\":{\"type\":\"bytes\",\"data\":\"7+7u7u5OUECamZmZmXlQQFVVVVVVfVBAd3d3d3cnUEAREREREWlQQFVVVVVVdVBAq6qqqqpSUEDv7u7u7n5QQEREREREnFBA3t3d3d29UECZmZmZmelQQFVVVVVVHVFA7+7u7u4+UUBVVVVVVV1RQM3MzMzMfFFA7+7u7u5mUUAREREREUFRQImIiIiIYFFAd3d3d3efUUBERERERLRRQN7d3d3dVVFA7+7u7u6mUUAAAAAAAPhRQHd3d3d3Z1JA3t3d3d2lUkDe3d3d3ZVSQJmZmZmZqVJAiYiIiIhgUkDNzMzMzGxSQM3MzMzM9FJAzczMzMwsU0C7u7u7u1NTQO/u7u7ullNAvLu7u7vLU0AzMzMzM/tTQLy7u7u761NAERERERGpU0BFRERERJRTQKuqqqqqolNA7+7u7u7OU0B3d3d3d+9TQFVVVVVVDVRA7+7u7u42VEDv7u7u7kZUQDMzMzMzW1RAVVVVVVVdVEAzMzMzMyNUQM3MzMzM1FNAzczMzMy0U0De3d3d3b1TQM3MzMzM1FNAzczMzMz0U0CZmZmZmflTQN7d3d3dxVNAIiIiIiLyUkBVVVVVVcVSQAAAAAAAyFJAd3d3d3fvUkAREREREflSQM3MzMzMLFNA7+7u7u5OU0C8u7u7u3tTQAAAAAAAqFNA7+7u7u7WU0BVVVVVVf1TQAAAAAAA6FJA7+7u7u5mU0AAAAAAAPhTQA==\"},\"shape\":[68],\"dtype\":\"float64\",\"order\":\"little\"}],[\"unemployment\",{\"type\":\"ndarray\",\"array\":{\"type\":\"bytes\",\"data\":\"d3d3d3d3EUAAAAAAAIAQQDMzMzMzMxFA3d3d3d1dG0DNzMzMzMwVQKuqqqqqKhZARERERETEGkBEREREREQWQBERERERkRZAIiIiIiKiFECJiIiIiAgSQFVVVVVVVQ5AvLu7u7u7DkB4d3d3d3cMQO/u7u7u7gtA7+7u7u7uE0DNzMzMzMwXQGdmZmZmZhZA7+7u7u5uE0AREREREZEWQDMzMzMz8yBAzczMzMzMHkAzMzMzMzMcQERERERERBhAZ2ZmZmZmF0AzMzMzM7McQHh3d3d3dx5Aq6qqqqpqI0AzMzMzMzMjQIiIiIiICB5ARERERETEHEAAAAAAAAAcQDMzMzMzsxhAeHd3d3f3FUCJiIiIiAgVQHh3d3d3dxZAZ2ZmZmZmG0B4d3d3d/cdQCMiIiIiohtAZ2ZmZmZmGEDd3d3d3V0WQCMiIiIiohVARERERETEE0AAAAAAAAASQN7d3d3d3RBAvLu7u7u7D0B3d3d3d/cSQCMiIiIiIhdAeHd3d3f3F0CrqqqqqioWQFVVVVVVVRRA7+7u7u5uEkB3d3d3d3cSQDMzMzMzMxdAERERERGRIkB4d3d3dzcjQN7d3d3d3SFAZmZmZmYmIEDv7u7u7m4dQCMiIiIiohhAmZmZmZkZFUAAAAAAAIATQO/u7u7ubhFAISIiIiIiD0B4d3d3d3cNQO/u7u7uLiBAeHd3d3d3FUAjIiIiIiINQA==\"},\"shape\":[68],\"dtype\":\"float64\",\"order\":\"little\"}]]}}},\"view\":{\"type\":\"object\",\"name\":\"CDSView\",\"id\":\"p14889\",\"attributes\":{\"filter\":{\"type\":\"object\",\"name\":\"AllIndices\",\"id\":\"p14890\"}}},\"glyph\":{\"type\":\"object\",\"name\":\"Line\",\"id\":\"p14885\",\"attributes\":{\"x\":{\"type\":\"field\",\"field\":\"TimePeriod\"},\"y\":{\"type\":\"field\",\"field\":\"fte_employment\"},\"line_color\":\"#004C97\",\"line_width\":3}},\"nonselection_glyph\":{\"type\":\"object\",\"name\":\"Line\",\"id\":\"p14886\",\"attributes\":{\"x\":{\"type\":\"field\",\"field\":\"TimePeriod\"},\"y\":{\"type\":\"field\",\"field\":\"fte_employment\"},\"line_color\":\"#004C97\",\"line_alpha\":0.1,\"line_width\":3}},\"muted_glyph\":{\"type\":\"object\",\"name\":\"Line\",\"id\":\"p14887\",\"attributes\":{\"x\":{\"type\":\"field\",\"field\":\"TimePeriod\"},\"y\":{\"type\":\"field\",\"field\":\"fte_employment\"},\"line_color\":\"#004C97\",\"line_alpha\":0.2,\"line_width\":3}}}},{\"type\":\"object\",\"name\":\"GlyphRenderer\",\"id\":\"p14897\",\"attributes\":{\"name\":\"prime_age\",\"data_source\":{\"id\":\"p14797\"},\"view\":{\"type\":\"object\",\"name\":\"CDSView\",\"id\":\"p14898\",\"attributes\":{\"filter\":{\"type\":\"object\",\"name\":\"AllIndices\",\"id\":\"p14899\"}}},\"glyph\":{\"type\":\"object\",\"name\":\"Line\",\"id\":\"p14894\",\"attributes\":{\"x\":{\"type\":\"field\",\"field\":\"TimePeriod\"},\"y\":{\"type\":\"field\",\"field\":\"prime_age\"},\"line_color\":\"#004C97\",\"line_width\":3,\"line_dash\":[6]}},\"nonselection_glyph\":{\"type\":\"object\",\"name\":\"Line\",\"id\":\"p14895\",\"attributes\":{\"x\":{\"type\":\"field\",\"field\":\"TimePeriod\"},\"y\":{\"type\":\"field\",\"field\":\"prime_age\"},\"line_color\":\"#004C97\",\"line_alpha\":0.1,\"line_width\":3,\"line_dash\":[6]}},\"muted_glyph\":{\"type\":\"object\",\"name\":\"Line\",\"id\":\"p14896\",\"attributes\":{\"x\":{\"type\":\"field\",\"field\":\"TimePeriod\"},\"y\":{\"type\":\"field\",\"field\":\"prime_age\"},\"line_color\":\"#004C97\",\"line_alpha\":0.2,\"line_width\":3,\"line_dash\":[6]}}}},{\"type\":\"object\",\"name\":\"GlyphRenderer\",\"id\":\"p14907\",\"attributes\":{\"name\":\"unemployment\",\"y_range_name\":\"unemployment\",\"data_source\":{\"id\":\"p14797\"},\"view\":{\"type\":\"object\",\"name\":\"CDSView\",\"id\":\"p14908\",\"attributes\":{\"filter\":{\"type\":\"object\",\"name\":\"AllIndices\",\"id\":\"p14909\"}}},\"glyph\":{\"type\":\"object\",\"name\":\"Line\",\"id\":\"p14904\",\"attributes\":{\"x\":{\"type\":\"field\",\"field\":\"TimePeriod\"},\"y\":{\"type\":\"field\",\"field\":\"unemployment\"},\"line_color\":\"#D86018\",\"line_width\":3}},\"nonselection_glyph\":{\"type\":\"object\",\"name\":\"Line\",\"id\":\"p14905\",\"attributes\":{\"x\":{\"type\":\"field\",\"field\":\"TimePeriod\"},\"y\":{\"type\":\"field\",\"field\":\"unemployment\"},\"line_color\":\"#D86018\",\"line_alpha\":0.1,\"line_width\":3}},\"muted_glyph\":{\"type\":\"object\",\"name\":\"Line\",\"id\":\"p14906\",\"attributes\":{\"x\":{\"type\":\"field\",\"field\":\"TimePeriod\"},\"y\":{\"type\":\"field\",\"field\":\"unemployment\"},\"line_color\":\"#D86018\",\"line_alpha\":0.2,\"line_width\":3}}}},{\"type\":\"object\",\"name\":\"GlyphRenderer\",\"id\":\"p14920\",\"attributes\":{\"data_source\":{\"type\":\"object\",\"name\":\"ColumnDataSource\",\"id\":\"p14914\",\"attributes\":{\"selected\":{\"type\":\"object\",\"name\":\"Selection\",\"id\":\"p14915\",\"attributes\":{\"indices\":[],\"line_indices\":[]}},\"selection_policy\":{\"type\":\"object\",\"name\":\"UnionRenderers\",\"id\":\"p14916\"},\"data\":{\"type\":\"map\"}}},\"view\":{\"type\":\"object\",\"name\":\"CDSView\",\"id\":\"p14921\",\"attributes\":{\"filter\":{\"type\":\"object\",\"name\":\"AllIndices\",\"id\":\"p14922\"}}},\"glyph\":{\"type\":\"object\",\"name\":\"VBar\",\"id\":\"p14917\",\"attributes\":{\"line_color\":{\"type\":\"value\",\"value\":\"#DCDEDF\"},\"fill_color\":{\"type\":\"value\",\"value\":\"#DCDEDF\"},\"hatch_color\":{\"type\":\"value\",\"value\":\"#DCDEDF\"}}},\"nonselection_glyph\":{\"type\":\"object\",\"name\":\"VBar\",\"id\":\"p14918\",\"attributes\":{\"line_color\":{\"type\":\"value\",\"value\":\"#DCDEDF\"},\"line_alpha\":{\"type\":\"value\",\"value\":0.1},\"fill_color\":{\"type\":\"value\",\"value\":\"#DCDEDF\"},\"fill_alpha\":{\"type\":\"value\",\"value\":0.1},\"hatch_color\":{\"type\":\"value\",\"value\":\"#DCDEDF\"},\"hatch_alpha\":{\"type\":\"value\",\"value\":0.1}}},\"muted_glyph\":{\"type\":\"object\",\"name\":\"VBar\",\"id\":\"p14919\",\"attributes\":{\"line_color\":{\"type\":\"value\",\"value\":\"#DCDEDF\"},\"line_alpha\":{\"type\":\"value\",\"value\":0.2},\"fill_color\":{\"type\":\"value\",\"value\":\"#DCDEDF\"},\"fill_alpha\":{\"type\":\"value\",\"value\":0.2},\"hatch_color\":{\"type\":\"value\",\"value\":\"#DCDEDF\"},\"hatch_alpha\":{\"type\":\"value\",\"value\":0.2}}}}}],\"toolbar\":{\"type\":\"object\",\"name\":\"Toolbar\",\"id\":\"p14807\",\"attributes\":{\"tools\":[{\"type\":\"object\",\"name\":\"PanTool\",\"id\":\"p14867\"},{\"type\":\"object\",\"name\":\"WheelZoomTool\",\"id\":\"p14868\"},{\"type\":\"object\",\"name\":\"BoxZoomTool\",\"id\":\"p14869\",\"attributes\":{\"overlay\":{\"type\":\"object\",\"name\":\"BoxAnnotation\",\"id\":\"p14870\",\"attributes\":{\"syncable\":false,\"level\":\"overlay\",\"visible\":false,\"left_units\":\"canvas\",\"right_units\":\"canvas\",\"bottom_units\":\"canvas\",\"top_units\":\"canvas\",\"line_color\":\"black\",\"line_alpha\":1.0,\"line_width\":2,\"line_dash\":[4,4],\"fill_color\":\"lightgrey\",\"fill_alpha\":0.5}}}},{\"type\":\"object\",\"name\":\"SaveTool\",\"id\":\"p14871\"},{\"type\":\"object\",\"name\":\"ResetTool\",\"id\":\"p14872\"},{\"type\":\"object\",\"name\":\"HelpTool\",\"id\":\"p14873\"},{\"type\":\"object\",\"name\":\"HoverTool\",\"id\":\"p14938\",\"attributes\":{\"renderers\":[{\"id\":\"p14888\"},{\"id\":\"p14897\"},{\"id\":\"p14907\"}],\"tooltips\":[[\"Year\",\"@TimePeriod{%Y}\"],[\"Percent\",\"@$name{0.0}\"]],\"formatters\":{\"type\":\"map\",\"entries\":[[\"@TimePeriod\",\"datetime\"]]}}}],\"active_drag\":null}},\"toolbar_location\":null,\"left\":[{\"type\":\"object\",\"name\":\"LinearAxis\",\"id\":\"p14860\",\"attributes\":{\"ticker\":{\"type\":\"object\",\"name\":\"BasicTicker\",\"id\":\"p14861\",\"attributes\":{\"mantissas\":[1,2,5]}},\"formatter\":{\"type\":\"object\",\"name\":\"BasicTickFormatter\",\"id\":\"p14863\"},\"axis_label\":\"Employment rates, percent\",\"axis_label_text_color\":\"#004C97\",\"axis_label_text_font\":\"calibri\",\"axis_label_text_font_style\":\"bold\",\"major_label_policy\":{\"type\":\"object\",\"name\":\"AllLabels\",\"id\":\"p14862\"},\"major_label_text_color\":\"#004C97\",\"major_tick_line_color\":null,\"minor_tick_line_color\":null}}],\"right\":[{\"type\":\"object\",\"name\":\"LinearAxis\",\"id\":\"p14910\",\"attributes\":{\"y_range_name\":\"unemployment\",\"ticker\":{\"type\":\"object\",\"name\":\"BasicTicker\",\"id\":\"p14911\",\"attributes\":{\"mantissas\":[1,2,5]}},\"formatter\":{\"type\":\"object\",\"name\":\"BasicTickFormatter\",\"id\":\"p14913\"},\"axis_label\":\"Unemployment rate, percent\",\"axis_label_text_color\":\"#D86018\",\"axis_label_text_font\":\"calibri\",\"axis_label_text_font_style\":\"bold\",\"major_label_policy\":{\"type\":\"object\",\"name\":\"AllLabels\",\"id\":\"p14912\"},\"major_label_text_color\":\"#D86018\",\"major_tick_line_color\":null,\"minor_tick_line_color\":null}}],\"below\":[{\"type\":\"object\",\"name\":\"DatetimeAxis\",\"id\":\"p14817\",\"attributes\":{\"ticker\":{\"type\":\"object\",\"name\":\"DatetimeTicker\",\"id\":\"p14818\",\"attributes\":{\"num_minor_ticks\":5,\"tickers\":[{\"type\":\"object\",\"name\":\"AdaptiveTicker\",\"id\":\"p14819\",\"attributes\":{\"num_minor_ticks\":0,\"mantissas\":[1,2,5],\"max_interval\":500.0}},{\"type\":\"object\",\"name\":\"AdaptiveTicker\",\"id\":\"p14820\",\"attributes\":{\"num_minor_ticks\":0,\"base\":60,\"mantissas\":[1,2,5,10,15,20,30],\"min_interval\":1000.0,\"max_interval\":1800000.0}},{\"type\":\"object\",\"name\":\"AdaptiveTicker\",\"id\":\"p14821\",\"attributes\":{\"num_minor_ticks\":0,\"base\":24,\"mantissas\":[1,2,4,6,8,12],\"min_interval\":3600000.0,\"max_interval\":43200000.0}},{\"type\":\"object\",\"name\":\"DaysTicker\",\"id\":\"p14822\",\"attributes\":{\"days\":[1,2,3,4,5,6,7,8,9,10,11,12,13,14,15,16,17,18,19,20,21,22,23,24,25,26,27,28,29,30,31]}},{\"type\":\"object\",\"name\":\"DaysTicker\",\"id\":\"p14823\",\"attributes\":{\"days\":[1,4,7,10,13,16,19,22,25,28]}},{\"type\":\"object\",\"name\":\"DaysTicker\",\"id\":\"p14824\",\"attributes\":{\"days\":[1,8,15,22]}},{\"type\":\"object\",\"name\":\"DaysTicker\",\"id\":\"p14825\",\"attributes\":{\"days\":[1,15]}},{\"type\":\"object\",\"name\":\"MonthsTicker\",\"id\":\"p14826\",\"attributes\":{\"months\":[0,1,2,3,4,5,6,7,8,9,10,11]}},{\"type\":\"object\",\"name\":\"MonthsTicker\",\"id\":\"p14827\",\"attributes\":{\"months\":[0,2,4,6,8,10]}},{\"type\":\"object\",\"name\":\"MonthsTicker\",\"id\":\"p14828\",\"attributes\":{\"months\":[0,4,8]}},{\"type\":\"object\",\"name\":\"MonthsTicker\",\"id\":\"p14829\",\"attributes\":{\"months\":[0,6]}},{\"type\":\"object\",\"name\":\"YearsTicker\",\"id\":\"p14830\"}]}},\"formatter\":{\"type\":\"object\",\"name\":\"DatetimeTickFormatter\",\"id\":\"p14832\"},\"axis_label_text_font\":\"calibri\",\"axis_label_text_font_style\":\"bold\",\"major_label_policy\":{\"type\":\"object\",\"name\":\"AllLabels\",\"id\":\"p14831\"},\"major_tick_line_color\":null,\"minor_tick_line_color\":null}},{\"type\":\"object\",\"name\":\"Legend\",\"id\":\"p14923\",\"attributes\":{\"location\":\"center\",\"orientation\":\"horizontal\",\"border_line_color\":\"white\",\"label_text_font\":\"calibri\",\"items\":[{\"type\":\"object\",\"name\":\"LegendItem\",\"id\":\"p14924\",\"attributes\":{\"label\":{\"type\":\"value\",\"value\":\"FTE employment rate (BEA)\"},\"renderers\":[{\"id\":\"p14888\"}]}},{\"type\":\"object\",\"name\":\"LegendItem\",\"id\":\"p14925\",\"attributes\":{\"label\":{\"type\":\"value\",\"value\":\"Prime age employment rate (BLS)\"},\"renderers\":[{\"id\":\"p14897\"}]}},{\"type\":\"object\",\"name\":\"LegendItem\",\"id\":\"p14926\",\"attributes\":{\"label\":{\"type\":\"value\",\"value\":\"Unemployment rate (BLS)\"},\"renderers\":[{\"id\":\"p14907\"}]}},{\"type\":\"object\",\"name\":\"LegendItem\",\"id\":\"p14927\",\"attributes\":{\"label\":{\"type\":\"value\",\"value\":\"Recessions\"},\"renderers\":[{\"id\":\"p14920\"}]}}]}}],\"center\":[{\"type\":\"object\",\"name\":\"Grid\",\"id\":\"p14859\",\"attributes\":{\"axis\":{\"id\":\"p14817\"},\"grid_line_color\":null,\"grid_line_width\":1.5}},{\"type\":\"object\",\"name\":\"Grid\",\"id\":\"p14866\",\"attributes\":{\"dimension\":1,\"axis\":{\"id\":\"p14860\"},\"grid_line_color\":\"#DCDEDF\",\"grid_line_width\":1.5}},{\"type\":\"object\",\"name\":\"BoxAnnotation\",\"id\":\"p14928\",\"attributes\":{\"level\":\"underlay\",\"left\":-473385600000.0,\"right\":-473385600000.0,\"line_color\":\"#DCDEDF\",\"line_width\":0,\"fill_color\":\"#DCDEDF\",\"fill_alpha\":1}},{\"type\":\"object\",\"name\":\"BoxAnnotation\",\"id\":\"p14929\",\"attributes\":{\"level\":\"underlay\",\"left\":-410227200000.0,\"right\":-347155200000.0,\"line_color\":\"#DCDEDF\",\"line_width\":0,\"fill_color\":\"#DCDEDF\",\"fill_alpha\":1}},{\"type\":\"object\",\"name\":\"BoxAnnotation\",\"id\":\"p14930\",\"attributes\":{\"level\":\"underlay\",\"left\":-315619200000.0,\"right\":-252460800000.0,\"line_color\":\"#DCDEDF\",\"line_width\":0,\"fill_color\":\"#DCDEDF\",\"fill_alpha\":1}},{\"type\":\"object\",\"name\":\"BoxAnnotation\",\"id\":\"p14931\",\"attributes\":{\"level\":\"underlay\",\"left\":0.0,\"right\":31536000000.0,\"line_color\":\"#DCDEDF\",\"line_width\":0,\"fill_color\":\"#DCDEDF\",\"fill_alpha\":1}},{\"type\":\"object\",\"name\":\"BoxAnnotation\",\"id\":\"p14932\",\"attributes\":{\"level\":\"underlay\",\"left\":94694400000.0,\"right\":189302400000.0,\"line_color\":\"#DCDEDF\",\"line_width\":0,\"fill_color\":\"#DCDEDF\",\"fill_alpha\":1}},{\"type\":\"object\",\"name\":\"BoxAnnotation\",\"id\":\"p14933\",\"attributes\":{\"level\":\"underlay\",\"left\":315532800000.0,\"right\":410227200000.0,\"line_color\":\"#DCDEDF\",\"line_width\":0,\"fill_color\":\"#DCDEDF\",\"fill_alpha\":1}},{\"type\":\"object\",\"name\":\"BoxAnnotation\",\"id\":\"p14934\",\"attributes\":{\"level\":\"underlay\",\"left\":631152000000.0,\"right\":694224000000.0,\"line_color\":\"#DCDEDF\",\"line_width\":0,\"fill_color\":\"#DCDEDF\",\"fill_alpha\":1}},{\"type\":\"object\",\"name\":\"BoxAnnotation\",\"id\":\"p14935\",\"attributes\":{\"level\":\"underlay\",\"left\":978307200000.0,\"right\":1009843200000.0,\"line_color\":\"#DCDEDF\",\"line_width\":0,\"fill_color\":\"#DCDEDF\",\"fill_alpha\":1}},{\"type\":\"object\",\"name\":\"BoxAnnotation\",\"id\":\"p14936\",\"attributes\":{\"level\":\"underlay\",\"left\":1199145600000.0,\"right\":1262304000000.0,\"line_color\":\"#DCDEDF\",\"line_width\":0,\"fill_color\":\"#DCDEDF\",\"fill_alpha\":1}},{\"type\":\"object\",\"name\":\"BoxAnnotation\",\"id\":\"p14937\",\"attributes\":{\"level\":\"underlay\",\"left\":1577836800000.0,\"right\":1609459200000.0,\"line_color\":\"#DCDEDF\",\"line_width\":0,\"fill_color\":\"#DCDEDF\",\"fill_alpha\":1}}]}}],\"callbacks\":{\"type\":\"map\"}}};\n  const render_items = [{\"docid\":\"bc6dc409-02b0-4160-8d8f-eb3a2355cb2a\",\"roots\":{\"p14800\":\"3bcfec5b-d86d-435b-b6af-ac2d308fa88b\"},\"root_ids\":[\"p14800\"]}];\n  root.Bokeh.embed.embed_items_notebook(docs_json, render_items);\n  }\n  if (root.Bokeh !== undefined) {\n    embed_document(root);\n  } else {\n    let attempts = 0;\n    const timer = setInterval(function(root) {\n      if (root.Bokeh !== undefined) {\n        clearInterval(timer);\n        embed_document(root);\n      } else {\n        attempts++;\n        if (attempts > 100) {\n          clearInterval(timer);\n          console.log(\"Bokeh: ERROR: Unable to run BokehJS code because BokehJS library is missing\");\n        }\n      }\n    }, 10, root)\n  }\n})(window);",
      "application/vnd.bokehjs_exec.v0+json": ""
     },
     "metadata": {
      "application/vnd.bokehjs_exec.v0+json": {
       "id": "p14800"
      }
     },
     "output_type": "display_data"
    },
    {
     "data": {
      "text/html": [
       "<ul class=\"footnote\">\n",
       "<li>Data. Employment and unemployment rates, 1955–2022, and FTE employment rate, 1955–2021</li>\n",
       "<li>Source. BEA <a href=\"https://apps.bea.gov/iTable/?reqid=19&step=3&isuri=1&nipa_table_list=194&categories=survey\" class=\"figlink\">NIPA tables 6.5A</a>, <a href=\"https://apps.bea.gov/iTable/?reqid=19&step=3&isuri=1&nipa_table_list=195&categories=survey\">6.5B</a>, <a href=\"https://apps.bea.gov/iTable/?reqid=19&step=3&isuri=1&nipa_table_list=196&categories=survey\">6.5C</a>, <a href=\"https://apps.bea.gov/iTable/?reqid=19&step=3&isuri=1&nipa_table_list=197&categories=survey\">6.5D</a>; BEA <a href=\"https://apps.bea.gov/iTable/iTable.cfm?reqid=19&step=3&isuri=1&nipa_table_list=264&categories=survey\" class=\"figlink\">NIPA table 7.1</a>; <a href=\"https://www.bls.gov/cps/\" class=\"figlink\">Bureau of Labor Statistics (BLS)</a></li>\n",
       "<li>Full-time equivalent employees (FTEs) equals the number of employees on full-time schedules plus the number of employees on part-time schedules converted to a full-time basis. The FTE employment rate is calculated as FTEs divided by population. The prime age employment rate is calculated as the number of employed civilian persons aged 25–54 divided by the population of civilian noninstitutional persons aged 25–54. In concept, the number of persons employed plus the number of persons unemployed plus the number of persons not in the labor force should equal the population.</li>\n",
       "<ul>"
      ],
      "text/plain": [
       "<IPython.core.display.HTML object>"
      ]
     },
     "metadata": {},
     "output_type": "display_data"
    }
   ],
   "source": [
    "show(wellbeing.generate_chart.employment(start_year=1955, end_year=default_end_year, from_cache=from_cache))"
   ]
  },
  {
   "cell_type": "code",
   "execution_count": 55,
   "metadata": {},
   "outputs": [
    {
     "data": {
      "text/html": [
       "Employment data are among the economic indicators most closely watched by households.<br><br>After falling steadily to 3.7 percent during the last expansion, unemployment—perhaps the best-known employment indicator—rose rapidly to over 8 percent in 2020 before falling to 5.4 percent in 2021 and 3.6 percent in 2022, reflecting the impact of the coronavirus pandemic.<br><br>In addition, two of the broader-based employment indicators, which are not affected by changes in labor force participation rates, also rose throughout the previous recovery. The overall (FTE) employment rate increased to 42.3 percent in 2019 before falling slightly to 39.9 percent in 2020 and rising to 41.0 percent in 2021. The prime age workers' employment rate peaked at 80 percent in 2019, before falling to 75.6 percent in 2020 and rising in 2021 and 2022, reaching 79.9 percent in the latest year."
      ],
      "text/plain": [
       "<IPython.core.display.HTML object>"
      ]
     },
     "metadata": {},
     "output_type": "display_data"
    }
   ],
   "source": [
    "show_narrative('Employment')"
   ]
  },
  {
   "attachments": {},
   "cell_type": "markdown",
   "metadata": {},
   "source": [
    "#### Industry Economic Growth Comparison"
   ]
  },
  {
   "cell_type": "code",
   "execution_count": 56,
   "metadata": {},
   "outputs": [
    {
     "name": "stdout",
     "output_type": "stream",
     "text": [
      "Industry Comparison of Economic Growth\n"
     ]
    },
    {
     "data": {
      "text/html": [
       "\n",
       "  <div id=\"a0a37ca9-5299-4a5f-899a-144b3b7e6159\" data-root-id=\"p15874\" style=\"display: contents;\"></div>\n"
      ]
     },
     "metadata": {},
     "output_type": "display_data"
    },
    {
     "data": {
      "application/javascript": "(function(root) {\n  function embed_document(root) {\n  const docs_json = {\"83999189-35a8-4b31-b882-27416554b22e\":{\"version\":\"3.1.0\",\"title\":\"Bokeh Application\",\"defs\":[],\"roots\":[{\"type\":\"object\",\"name\":\"Figure\",\"id\":\"p15874\",\"attributes\":{\"styles\":{\"type\":\"map\",\"entries\":[[\"width\",\"98%\"]]},\"width\":700,\"height\":400,\"aspect_ratio\":1.75,\"sizing_mode\":\"scale_both\",\"x_range\":{\"type\":\"object\",\"name\":\"Range1d\",\"id\":\"p15883\",\"attributes\":{\"start\":-1,\"end\":1.65}},\"y_range\":{\"type\":\"object\",\"name\":\"FactorRange\",\"id\":\"p15885\",\"attributes\":{\"factors\":[\"Mining\",\"Utilities\",\"Construction\",\"Agriculture, forestry, fishing, and hunting\",\"Government\",\"Nondurable goods\",\"Finance and insurance\",\"Real estate and rental and leasing\",\"Retail trade\",\"Educational services\",\"Wholesale trade\",\"GDP\",\"Health care and social assistance\",\"Other services, except government\",\"Management of companies and enterprises\",\"Durable goods\",\"Professional, scientific, and technical services\",\"Transportation and warehousing\",\"Information\",\"Administrative and waste management services\",\"Accommodation and food services\",\"Arts, entertainment, and recreation\"]}},\"x_scale\":{\"type\":\"object\",\"name\":\"LinearScale\",\"id\":\"p15887\"},\"y_scale\":{\"type\":\"object\",\"name\":\"CategoricalScale\",\"id\":\"p15889\"},\"title\":{\"type\":\"object\",\"name\":\"Title\",\"id\":\"p15879\"},\"renderers\":[{\"type\":\"object\",\"name\":\"GlyphRenderer\",\"id\":\"p15925\",\"attributes\":{\"data_source\":{\"type\":\"object\",\"name\":\"ColumnDataSource\",\"id\":\"p15871\",\"attributes\":{\"selected\":{\"type\":\"object\",\"name\":\"Selection\",\"id\":\"p15872\",\"attributes\":{\"indices\":[],\"line_indices\":[]}},\"selection_policy\":{\"type\":\"object\",\"name\":\"UnionRenderers\",\"id\":\"p15873\"},\"data\":{\"type\":\"map\",\"entries\":[[\"index\",{\"type\":\"ndarray\",\"array\":{\"type\":\"bytes\",\"data\":\"DQAAABQAAAAEAAAAAgAAAAgAAAAOAAAABwAAABEAAAASAAAABgAAABUAAAAJAAAACgAAAA8AAAAMAAAABQAAABAAAAATAAAACwAAAAEAAAAAAAAAAwAAAA==\"},\"shape\":[22],\"dtype\":\"int32\",\"order\":\"little\"}],[\"industry\",{\"type\":\"ndarray\",\"array\":[\"Mining\",\"Utilities\",\"Construction\",\"Agriculture, forestry, fishing, and hunting\",\"Government\",\"Nondurable goods\",\"Finance and insurance\",\"Real estate and rental and leasing\",\"Retail trade\",\"Educational services\",\"Wholesale trade\",\"GDP\",\"Health care and social assistance\",\"Other services, except government\",\"Management of companies and enterprises\",\"Durable goods\",\"Professional, scientific, and technical services\",\"Transportation and warehousing\",\"Information\",\"Administrative and waste management services\",\"Accommodation and food services\",\"Arts, entertainment, and recreation\"],\"shape\":[22],\"dtype\":\"object\",\"order\":\"little\"}],[\"percent_change\",{\"type\":\"ndarray\",\"array\":{\"type\":\"bytes\",\"data\":\"CCNGLlAwsL+wsrXUADahvwBDwfKOhp2/QIYRLYZ6lL/AeM9lZ3aQP4DB1mNzups/oIzq22AAoD8g2l8jeduhP2D3bi/2/6E/oCzTZvSorD8gnIZTM1+tP0Cxzn8kka8/cCCAGZNStz+gh6ohZue3PzBhbn9EWbk/IKeh5jNzuT8g73bupre6PyCYWiZNiLs/AAk7afkrvT+A3EBwiIXBP3xuVtYPA9I/ZIOoaZ9u3j8=\"},\"shape\":[22],\"dtype\":\"float64\",\"order\":\"little\"}],[\"label_alignment\",{\"type\":\"ndarray\",\"array\":[\"right\",\"right\",\"right\",\"right\",\"left\",\"left\",\"left\",\"left\",\"left\",\"left\",\"left\",\"left\",\"left\",\"left\",\"left\",\"left\",\"left\",\"left\",\"left\",\"left\",\"left\",\"left\"],\"shape\":[22],\"dtype\":\"object\",\"order\":\"little\"}],[\"label_offset\",{\"type\":\"ndarray\",\"array\":{\"type\":\"bytes\",\"data\":\"+/////v////7////+////wUAAAAFAAAABQAAAAUAAAAFAAAABQAAAAUAAAAFAAAABQAAAAUAAAAFAAAABQAAAAUAAAAFAAAABQAAAAUAAAAFAAAABQAAAA==\"},\"shape\":[22],\"dtype\":\"int32\",\"order\":\"little\"}],[\"bar_color\",{\"type\":\"ndarray\",\"array\":[\"#004C97\",\"#004C97\",\"#004C97\",\"#004C97\",\"#004C97\",\"#004C97\",\"#004C97\",\"#004C97\",\"#004C97\",\"#004C97\",\"#004C97\",\"#D86018\",\"#004C97\",\"#004C97\",\"#004C97\",\"#004C97\",\"#004C97\",\"#004C97\",\"#004C97\",\"#004C97\",\"#004C97\",\"#004C97\"],\"shape\":[22],\"dtype\":\"object\",\"order\":\"little\"}]]}}},\"view\":{\"type\":\"object\",\"name\":\"CDSView\",\"id\":\"p15926\",\"attributes\":{\"filter\":{\"type\":\"object\",\"name\":\"AllIndices\",\"id\":\"p15927\"}}},\"glyph\":{\"type\":\"object\",\"name\":\"HBar\",\"id\":\"p15922\",\"attributes\":{\"y\":{\"type\":\"field\",\"field\":\"industry\"},\"right\":{\"type\":\"field\",\"field\":\"percent_change\"},\"line_color\":{\"type\":\"value\",\"value\":\"white\"},\"fill_color\":{\"type\":\"field\",\"field\":\"bar_color\"},\"hatch_color\":{\"type\":\"field\",\"field\":\"bar_color\"}}},\"nonselection_glyph\":{\"type\":\"object\",\"name\":\"HBar\",\"id\":\"p15923\",\"attributes\":{\"y\":{\"type\":\"field\",\"field\":\"industry\"},\"right\":{\"type\":\"field\",\"field\":\"percent_change\"},\"line_color\":{\"type\":\"value\",\"value\":\"white\"},\"line_alpha\":{\"type\":\"value\",\"value\":0.1},\"fill_color\":{\"type\":\"field\",\"field\":\"bar_color\"},\"fill_alpha\":{\"type\":\"value\",\"value\":0.1},\"hatch_color\":{\"type\":\"field\",\"field\":\"bar_color\"},\"hatch_alpha\":{\"type\":\"value\",\"value\":0.1}}},\"muted_glyph\":{\"type\":\"object\",\"name\":\"HBar\",\"id\":\"p15924\",\"attributes\":{\"y\":{\"type\":\"field\",\"field\":\"industry\"},\"right\":{\"type\":\"field\",\"field\":\"percent_change\"},\"line_color\":{\"type\":\"value\",\"value\":\"white\"},\"line_alpha\":{\"type\":\"value\",\"value\":0.2},\"fill_color\":{\"type\":\"field\",\"field\":\"bar_color\"},\"fill_alpha\":{\"type\":\"value\",\"value\":0.2},\"hatch_color\":{\"type\":\"field\",\"field\":\"bar_color\"},\"hatch_alpha\":{\"type\":\"value\",\"value\":0.2}}}}},{\"type\":\"object\",\"name\":\"GlyphRenderer\",\"id\":\"p15940\",\"attributes\":{\"data_source\":{\"type\":\"object\",\"name\":\"ColumnDataSource\",\"id\":\"p15934\",\"attributes\":{\"selected\":{\"type\":\"object\",\"name\":\"Selection\",\"id\":\"p15935\",\"attributes\":{\"indices\":[],\"line_indices\":[]}},\"selection_policy\":{\"type\":\"object\",\"name\":\"UnionRenderers\",\"id\":\"p15936\"},\"data\":{\"type\":\"map\",\"entries\":[[\"y0\",{\"type\":\"ndarray\",\"array\":[\"GDP\"],\"shape\":[1],\"dtype\":\"object\",\"order\":\"little\"}],[\"y1\",{\"type\":\"ndarray\",\"array\":[\"GDP\"],\"shape\":[1],\"dtype\":\"object\",\"order\":\"little\"}]]}}},\"view\":{\"type\":\"object\",\"name\":\"CDSView\",\"id\":\"p15941\",\"attributes\":{\"filter\":{\"type\":\"object\",\"name\":\"AllIndices\",\"id\":\"p15942\"}}},\"glyph\":{\"type\":\"object\",\"name\":\"Segment\",\"id\":\"p15937\",\"attributes\":{\"x0\":{\"type\":\"value\",\"value\":-100},\"y0\":{\"type\":\"field\",\"field\":\"y0\"},\"x1\":{\"type\":\"value\",\"value\":0},\"y1\":{\"type\":\"field\",\"field\":\"y1\"},\"line_color\":{\"type\":\"value\",\"value\":\"#D86018\"},\"line_width\":{\"type\":\"value\",\"value\":2},\"line_dash\":{\"type\":\"value\",\"value\":\"dashed\"}}},\"nonselection_glyph\":{\"type\":\"object\",\"name\":\"Segment\",\"id\":\"p15938\",\"attributes\":{\"x0\":{\"type\":\"value\",\"value\":-100},\"y0\":{\"type\":\"field\",\"field\":\"y0\"},\"x1\":{\"type\":\"value\",\"value\":0},\"y1\":{\"type\":\"field\",\"field\":\"y1\"},\"line_color\":{\"type\":\"value\",\"value\":\"#D86018\"},\"line_alpha\":{\"type\":\"value\",\"value\":0.1},\"line_width\":{\"type\":\"value\",\"value\":2},\"line_dash\":{\"type\":\"value\",\"value\":\"dashed\"}}},\"muted_glyph\":{\"type\":\"object\",\"name\":\"Segment\",\"id\":\"p15939\",\"attributes\":{\"x0\":{\"type\":\"value\",\"value\":-100},\"y0\":{\"type\":\"field\",\"field\":\"y0\"},\"x1\":{\"type\":\"value\",\"value\":0},\"y1\":{\"type\":\"field\",\"field\":\"y1\"},\"line_color\":{\"type\":\"value\",\"value\":\"#D86018\"},\"line_alpha\":{\"type\":\"value\",\"value\":0.2},\"line_width\":{\"type\":\"value\",\"value\":2},\"line_dash\":{\"type\":\"value\",\"value\":\"dashed\"}}}}},{\"type\":\"object\",\"name\":\"GlyphRenderer\",\"id\":\"p15949\",\"attributes\":{\"data_source\":{\"type\":\"object\",\"name\":\"ColumnDataSource\",\"id\":\"p15943\",\"attributes\":{\"selected\":{\"type\":\"object\",\"name\":\"Selection\",\"id\":\"p15944\",\"attributes\":{\"indices\":[],\"line_indices\":[]}},\"selection_policy\":{\"type\":\"object\",\"name\":\"UnionRenderers\",\"id\":\"p15945\"},\"data\":{\"type\":\"map\",\"entries\":[[\"y0\",{\"type\":\"ndarray\",\"array\":[\"GDP\"],\"shape\":[1],\"dtype\":\"object\",\"order\":\"little\"}],[\"y1\",{\"type\":\"ndarray\",\"array\":[\"GDP\"],\"shape\":[1],\"dtype\":\"object\",\"order\":\"little\"}]]}}},\"view\":{\"type\":\"object\",\"name\":\"CDSView\",\"id\":\"p15950\",\"attributes\":{\"filter\":{\"type\":\"object\",\"name\":\"AllIndices\",\"id\":\"p15951\"}}},\"glyph\":{\"type\":\"object\",\"name\":\"Segment\",\"id\":\"p15946\",\"attributes\":{\"x0\":{\"type\":\"value\",\"value\":0.1816542249693759},\"y0\":{\"type\":\"field\",\"field\":\"y0\"},\"x1\":{\"type\":\"value\",\"value\":100},\"y1\":{\"type\":\"field\",\"field\":\"y1\"},\"line_color\":{\"type\":\"value\",\"value\":\"#D86018\"},\"line_width\":{\"type\":\"value\",\"value\":2},\"line_dash\":{\"type\":\"value\",\"value\":\"dashed\"}}},\"nonselection_glyph\":{\"type\":\"object\",\"name\":\"Segment\",\"id\":\"p15947\",\"attributes\":{\"x0\":{\"type\":\"value\",\"value\":0.1816542249693759},\"y0\":{\"type\":\"field\",\"field\":\"y0\"},\"x1\":{\"type\":\"value\",\"value\":100},\"y1\":{\"type\":\"field\",\"field\":\"y1\"},\"line_color\":{\"type\":\"value\",\"value\":\"#D86018\"},\"line_alpha\":{\"type\":\"value\",\"value\":0.1},\"line_width\":{\"type\":\"value\",\"value\":2},\"line_dash\":{\"type\":\"value\",\"value\":\"dashed\"}}},\"muted_glyph\":{\"type\":\"object\",\"name\":\"Segment\",\"id\":\"p15948\",\"attributes\":{\"x0\":{\"type\":\"value\",\"value\":0.1816542249693759},\"y0\":{\"type\":\"field\",\"field\":\"y0\"},\"x1\":{\"type\":\"value\",\"value\":100},\"y1\":{\"type\":\"field\",\"field\":\"y1\"},\"line_color\":{\"type\":\"value\",\"value\":\"#D86018\"},\"line_alpha\":{\"type\":\"value\",\"value\":0.2},\"line_width\":{\"type\":\"value\",\"value\":2},\"line_dash\":{\"type\":\"value\",\"value\":\"dashed\"}}}}}],\"toolbar\":{\"type\":\"object\",\"name\":\"Toolbar\",\"id\":\"p15881\",\"attributes\":{\"tools\":[{\"type\":\"object\",\"name\":\"PanTool\",\"id\":\"p15904\"},{\"type\":\"object\",\"name\":\"WheelZoomTool\",\"id\":\"p15905\"},{\"type\":\"object\",\"name\":\"BoxZoomTool\",\"id\":\"p15906\",\"attributes\":{\"overlay\":{\"type\":\"object\",\"name\":\"BoxAnnotation\",\"id\":\"p15907\",\"attributes\":{\"syncable\":false,\"level\":\"overlay\",\"visible\":false,\"left_units\":\"canvas\",\"right_units\":\"canvas\",\"bottom_units\":\"canvas\",\"top_units\":\"canvas\",\"line_color\":\"black\",\"line_alpha\":1.0,\"line_width\":2,\"line_dash\":[4,4],\"fill_color\":\"lightgrey\",\"fill_alpha\":0.5}}}},{\"type\":\"object\",\"name\":\"SaveTool\",\"id\":\"p15908\"},{\"type\":\"object\",\"name\":\"ResetTool\",\"id\":\"p15909\"},{\"type\":\"object\",\"name\":\"HelpTool\",\"id\":\"p15910\"},{\"type\":\"object\",\"name\":\"HoverTool\",\"id\":\"p15928\",\"attributes\":{\"renderers\":[{\"id\":\"p15925\"}],\"tooltips\":[[\"Industry\",\"@industry\"],[\"Percent Change\",\"@percent_change{0.0%}\"]],\"formatters\":{\"type\":\"map\",\"entries\":[[\"@TimePeriod\",\"datetime\"]]}}}],\"active_drag\":null}},\"toolbar_location\":null,\"left\":[{\"type\":\"object\",\"name\":\"CategoricalAxis\",\"id\":\"p15898\",\"attributes\":{\"visible\":false,\"ticker\":{\"type\":\"object\",\"name\":\"CategoricalTicker\",\"id\":\"p15899\"},\"formatter\":{\"type\":\"object\",\"name\":\"CategoricalTickFormatter\",\"id\":\"p15901\"},\"axis_label\":\"Industries\",\"axis_label_text_font\":\"calibri\",\"axis_label_text_font_style\":\"bold\",\"major_label_policy\":{\"type\":\"object\",\"name\":\"AllLabels\",\"id\":\"p15900\"},\"major_tick_line_color\":null,\"minor_tick_line_color\":null}}],\"below\":[{\"type\":\"object\",\"name\":\"LinearAxis\",\"id\":\"p15891\",\"attributes\":{\"ticker\":{\"type\":\"object\",\"name\":\"FixedTicker\",\"id\":\"p15952\",\"attributes\":{\"ticks\":{\"type\":\"ndarray\",\"array\":{\"type\":\"bytes\",\"data\":\"mpmZmZmZ2b+amZmZmZnJvwAAAAAAAAAAnJmZmZmZyT+amZmZmZnZPzMzMzMzM+M/m5mZmZmZ6T8AAAAAAADwPw==\"},\"shape\":[8],\"dtype\":\"float64\",\"order\":\"little\"},\"minor_ticks\":[]}},\"formatter\":{\"type\":\"object\",\"name\":\"NumeralTickFormatter\",\"id\":\"p15954\",\"attributes\":{\"format\":\"0%\"}},\"axis_label_text_font\":\"calibri\",\"axis_label_text_font_style\":\"bold\",\"major_label_policy\":{\"type\":\"object\",\"name\":\"AllLabels\",\"id\":\"p15893\"},\"major_tick_line_color\":null,\"minor_tick_line_color\":null}}],\"center\":[{\"type\":\"object\",\"name\":\"Grid\",\"id\":\"p15897\",\"attributes\":{\"axis\":{\"id\":\"p15891\"},\"grid_line_color\":null,\"grid_line_width\":1.5}},{\"type\":\"object\",\"name\":\"Grid\",\"id\":\"p15903\",\"attributes\":{\"dimension\":1,\"axis\":{\"id\":\"p15898\"},\"grid_line_color\":null,\"grid_line_width\":1.5}},{\"type\":\"object\",\"name\":\"LabelSet\",\"id\":\"p15930\",\"attributes\":{\"level\":\"glyph\",\"source\":{\"id\":\"p15871\"},\"x\":{\"type\":\"field\",\"field\":\"percent_change\"},\"y\":{\"type\":\"field\",\"field\":\"industry\"},\"text\":{\"type\":\"field\",\"field\":\"industry\"},\"x_offset\":{\"type\":\"field\",\"field\":\"label_offset\"},\"y_offset\":{\"type\":\"value\",\"value\":-8},\"text_font\":{\"type\":\"value\",\"value\":\"calibri\"},\"text_font_size\":{\"type\":\"value\",\"value\":\"10pt\"},\"text_font_style\":{\"type\":\"value\",\"value\":\"bold\"},\"text_align\":{\"type\":\"field\",\"field\":\"label_alignment\"}}}]}}],\"callbacks\":{\"type\":\"map\"}}};\n  const render_items = [{\"docid\":\"83999189-35a8-4b31-b882-27416554b22e\",\"roots\":{\"p15874\":\"a0a37ca9-5299-4a5f-899a-144b3b7e6159\"},\"root_ids\":[\"p15874\"]}];\n  root.Bokeh.embed.embed_items_notebook(docs_json, render_items);\n  }\n  if (root.Bokeh !== undefined) {\n    embed_document(root);\n  } else {\n    let attempts = 0;\n    const timer = setInterval(function(root) {\n      if (root.Bokeh !== undefined) {\n        clearInterval(timer);\n        embed_document(root);\n      } else {\n        attempts++;\n        if (attempts > 100) {\n          clearInterval(timer);\n          console.log(\"Bokeh: ERROR: Unable to run BokehJS code because BokehJS library is missing\");\n        }\n      }\n    }, 10, root)\n  }\n})(window);",
      "application/vnd.bokehjs_exec.v0+json": ""
     },
     "metadata": {
      "application/vnd.bokehjs_exec.v0+json": {
       "id": "p15874"
      }
     },
     "output_type": "display_data"
    },
    {
     "data": {
      "text/html": [
       "<ul class=\"footnote\">\n",
       "<li>Data. Average annual changes in real value added by industry, 2020Q2–2022Q4</li>\n",
       "<li>Source. BEA GDP by Industry table \"<a href=\"https://apps.bea.gov/iTable/iTable.cfm?reqid=150&step=3&isuri=1&table_list=8&categories=gdpxind\" class=\"figlink\">Chain-Type Quantity Indexes for Value Added by Industry</a>\"</li>\n",
       "<ul>"
      ],
      "text/plain": [
       "<IPython.core.display.HTML object>"
      ]
     },
     "metadata": {},
     "output_type": "display_data"
    }
   ],
   "source": [
    "show(wellbeing.generate_chart.industry_growth(start_quarter='2020Q2', end_quarter=default_end_quarter, x_range=(-1, 1.65), from_cache=from_cache))  #x_range can be used to re-center."
   ]
  },
  {
   "cell_type": "code",
   "execution_count": 57,
   "metadata": {},
   "outputs": [
    {
     "data": {
      "text/html": [
       "The economic experience across industries varies significantly. Since the latest trough in the business cycle in 2020Q2, real GDP increased at a 6.2 percent annual rate. Changes by industry ranged from a 6.3 percent decline in mining to a 47.6 percent increase in arts, entertainment, and recreation."
      ],
      "text/plain": [
       "<IPython.core.display.HTML object>"
      ]
     },
     "metadata": {},
     "output_type": "display_data"
    }
   ],
   "source": [
    "show_narrative('Industry Comparisons')"
   ]
  },
  {
   "attachments": {},
   "cell_type": "markdown",
   "metadata": {},
   "source": [
    "#### Comparison of State Income"
   ]
  },
  {
   "cell_type": "code",
   "execution_count": 58,
   "metadata": {},
   "outputs": [
    {
     "name": "stdout",
     "output_type": "stream",
     "text": [
      "State Comparison of Personal Income Growth\n"
     ]
    },
    {
     "data": {
      "text/html": [
       "\n",
       "  <div id=\"95205341-6e33-4e0f-8484-3f7bdb542b6f\" data-root-id=\"p16754\" style=\"display: contents;\"></div>\n"
      ]
     },
     "metadata": {},
     "output_type": "display_data"
    },
    {
     "data": {
      "application/javascript": "(function(root) {\n  function embed_document(root) {\n  const docs_json = {\"e99d0a78-bd1d-477b-9ea2-b73387ff90e2\":{\"version\":\"3.1.0\",\"title\":\"Bokeh Application\",\"defs\":[],\"roots\":[{\"type\":\"object\",\"name\":\"Figure\",\"id\":\"p16754\",\"attributes\":{\"styles\":{\"type\":\"map\",\"entries\":[[\"width\",\"98%\"]]},\"width\":700,\"height\":400,\"aspect_ratio\":1.75,\"sizing_mode\":\"scale_both\",\"x_range\":{\"type\":\"object\",\"name\":\"FactorRange\",\"id\":\"p16763\",\"attributes\":{\"factors\":[\"Oklahoma\",\"Alaska\",\"Hawaii\",\"Kansas\",\"Louisiana\",\"Missouri\",\"Maryland\",\"Connecticut\",\"Iowa\",\"New Jersey\",\"Wyoming\",\"Virginia\",\"North Carolina\",\"Texas\",\"West Virginia\",\"South Dakota\",\"Nebraska\",\"North Dakota\",\"Minnesota\",\"Alabama\",\"Delaware\",\"Wisconsin\",\"Illinois\",\"Mississippi\",\"Vermont\",\"Ohio\",\"Rhode Island\",\"Georgia\",\"Arkansas\",\"United States\",\"South Carolina\",\"Kentucky\",\"Oregon\",\"New Mexico\",\"Pennsylvania\",\"Maine\",\"Florida\",\"Michigan\",\"Indiana\",\"Washington\",\"Massachusetts\",\"New York\",\"Tennessee\",\"Colorado\",\"Nevada\",\"New Hampshire\",\"Arizona\",\"Idaho\",\"Montana\",\"Utah\",\"California\"]}},\"y_range\":{\"type\":\"object\",\"name\":\"DataRange1d\",\"id\":\"p16756\"},\"x_scale\":{\"type\":\"object\",\"name\":\"CategoricalScale\",\"id\":\"p16767\"},\"y_scale\":{\"type\":\"object\",\"name\":\"LinearScale\",\"id\":\"p16769\"},\"title\":{\"type\":\"object\",\"name\":\"Title\",\"id\":\"p16759\"},\"outline_line_color\":null,\"renderers\":[{\"type\":\"object\",\"name\":\"GlyphRenderer\",\"id\":\"p16807\",\"attributes\":{\"data_source\":{\"type\":\"object\",\"name\":\"ColumnDataSource\",\"id\":\"p16751\",\"attributes\":{\"selected\":{\"type\":\"object\",\"name\":\"Selection\",\"id\":\"p16752\",\"attributes\":{\"indices\":[],\"line_indices\":[]}},\"selection_policy\":{\"type\":\"object\",\"name\":\"UnionRenderers\",\"id\":\"p16753\"},\"data\":{\"type\":\"map\",\"entries\":[[\"index\",{\"type\":\"ndarray\",\"array\":{\"type\":\"bytes\",\"data\":\"IwAAAAEAAAAKAAAADwAAABEAAAAYAAAAEwAAAAYAAAAOAAAAHQAAADIAAAAuAAAAIAAAACoAAAAwAAAAKAAAABoAAAAhAAAAFgAAAAAAAAAHAAAAMQAAAAwAAAAXAAAALQAAACIAAAAmAAAACQAAAAMAAAArAAAAJwAAABAAAAAkAAAAHgAAACUAAAASAAAACAAAABUAAAANAAAALwAAABQAAAAfAAAAKQAAAAUAAAAbAAAAHAAAAAIAAAALAAAAGQAAACwAAAAEAAAA\"},\"shape\":[51],\"dtype\":\"int32\",\"order\":\"little\"}],[\"GeoName\",{\"type\":\"ndarray\",\"array\":[\"Oklahoma\",\"Alaska\",\"Hawaii\",\"Kansas\",\"Louisiana\",\"Missouri\",\"Maryland\",\"Connecticut\",\"Iowa\",\"New Jersey\",\"Wyoming\",\"Virginia\",\"North Carolina\",\"Texas\",\"West Virginia\",\"South Dakota\",\"Nebraska\",\"North Dakota\",\"Minnesota\",\"Alabama\",\"Delaware\",\"Wisconsin\",\"Illinois\",\"Mississippi\",\"Vermont\",\"Ohio\",\"Rhode Island\",\"Georgia\",\"Arkansas\",\"United States\",\"South Carolina\",\"Kentucky\",\"Oregon\",\"New Mexico\",\"Pennsylvania\",\"Maine\",\"Florida\",\"Michigan\",\"Indiana\",\"Washington\",\"Massachusetts\",\"New York\",\"Tennessee\",\"Colorado\",\"Nevada\",\"New Hampshire\",\"Arizona\",\"Idaho\",\"Montana\",\"Utah\",\"California\"],\"shape\":[51],\"dtype\":\"object\",\"order\":\"little\"}],[\"2008\",{\"type\":\"ndarray\",\"array\":{\"type\":\"bytes\",\"data\":\"AAAAAMBs5kAAAAAAgFnnQAAAAACg0eNAAAAAAOCP50AAAAAAwIDlQAAAAABgo+VAAAAAACCA50AAAAAAAO7sQAAAAACAu+ZAAAAAAGAb6UAAAAAAINzqQAAAAAAg1uZAAAAAAGAW5UAAAAAAIDrlQAAAAACglOJAAAAAAGDP6EAAAAAAAB/nQAAAAACAguhAAAAAACA250AAAAAAIGPjQAAAAAAABuVAAAAAAKCu5UAAAAAAoHLmQAAAAABA5OFAAAAAAGAK5UAAAAAAgKDkQAAAAADgJOVAAAAAAKBf40AAAAAAQM/iQAAAAADgPOVAAAAAAACU4kAAAAAAwPjiQAAAAACgo+NAAAAAAABe4kAAAAAAwNPlQAAAAADAruNAAAAAACAP5EAAAAAAAILjQAAAAACg0+NAAAAAAEAM5kAAAAAAoGXpQAAAAABAe+ZAAAAAAEC840AAAAAA4JzlQAAAAACA0ONAAAAAAEBz5kAAAAAAIAXiQAAAAABg4+FAAAAAAKBa40AAAAAAgA7iQAAAAABAiORA\"},\"shape\":[51],\"dtype\":\"float64\",\"order\":\"little\"}],[\"2021\",{\"type\":\"ndarray\",\"array\":{\"type\":\"bytes\",\"data\":\"AAAAAEBH6UAAAAAAQLHqQAAAAADAzOZAAAAAAGBh60AAAAAAACnpQAAAAABgd+lAAAAAACDX60AAAAAAgDHxQAAAAACACOtAAAAAAODm7UAAAAAAwCPwQAAAAADAdetAAAAAAIBd6UAAAAAAQL7pQAAAAAAAoeZAAAAAAABK7kAAAAAAoEHsQAAAAAAgAO5AAAAAAGCG7EAAAAAAAOvnQAAAAABA/elAAAAAAIAO60AAAAAAQBbsQAAAAAAAceZAAAAAAICR6kAAAAAA4A7qQAAAAABgtupAAAAAAICr6EAAAAAAYPnnQAAAAACgFutAAAAAAEC450AAAAAAgF3oQAAAAADAUulAAAAAAAC050AAAAAAoEDsQAAAAAAgfOlAAAAAAEAB6kAAAAAAgGPpQAAAAABgzulAAAAAACCz7EAAAAAAgKDwQAAAAADAuO1AAAAAAKBe6kAAAAAAIBPtQAAAAADgsepAAAAAAEA/7kAAAAAAwEzoQAAAAACgK+hAAAAAAABY6kAAAAAA4BXpQAAAAAAgB+1A\"},\"shape\":[51],\"dtype\":\"float64\",\"order\":\"little\"}],[\"per_change\",{\"type\":\"ndarray\",\"array\":{\"type\":\"bytes\",\"data\":\"APiSQAL1gj8AVSuB6i+FPwDcs02GMYY/AJikLkrMhz8Ax3/HIeWIPwD/0t/v0ok/ALkBXjjfij+AfWkTm2eLP4C/LSjheos/AKDb9k24iz8A+1q2/CiNPwCDGTmtQI0/ACpYvz1OjT+ADiI3Vp2OP4D7T80QSo8/AIHCzGStjz+ALc4Sy9ePP4Ds4cUIDJA/AMelOchdkD8AAMuOXK2QPwCm2iXx1pA/wHmD/6aXkT9AjQ22Z86RP4Ci9yzxAJI/gJNy5FaKkj8AEw3nxpOSP8Dnr4+WlJI/QNJMuvk2kz8AHNRKIUqTPwBc6lbJWJM/ABRSuVNtkz8Alq0pVeaTP0CuVspOOJQ/QHwj9KlJlD9Aifk1CoeUPwDphIexjZQ/AMzThnqnlD/AqXVSbfeUP8CaPDlu+ZQ/wL+0AjX7lD/AIF3JCXSVP0CN2u+oOpY/gOKrO3IVlz+Ag4T6UaGXPwDaq6K/v5c/gKgcMp3Alz+APy2u39KXP8BOuFo5/Jc/AKnwBc6TmD9AggWpQTqaPwCfsA0dpJs/\"},\"shape\":[51],\"dtype\":\"float64\",\"order\":\"little\"}],[\"color_list\",{\"type\":\"ndarray\",\"array\":[\"#004c97\",\"#004c97\",\"#004c97\",\"#004c97\",\"#004c97\",\"#004c97\",\"#004c97\",\"#004c97\",\"#004c97\",\"#004c97\",\"#004c97\",\"#004c97\",\"#004c97\",\"#004c97\",\"#004c97\",\"#004c97\",\"#004c97\",\"#004c97\",\"#004c97\",\"#004c97\",\"#004c97\",\"#004c97\",\"#004c97\",\"#004c97\",\"#004c97\",\"#004c97\",\"#004c97\",\"#004c97\",\"#004c97\",\"#D86018\",\"#004c97\",\"#004c97\",\"#004c97\",\"#004c97\",\"#004c97\",\"#004c97\",\"#004c97\",\"#004c97\",\"#004c97\",\"#004c97\",\"#004c97\",\"#004c97\",\"#004c97\",\"#004c97\",\"#004c97\",\"#004c97\",\"#004c97\",\"#004c97\",\"#004c97\",\"#004c97\",\"#004c97\"],\"shape\":[51],\"dtype\":\"object\",\"order\":\"little\"}]]}}},\"view\":{\"type\":\"object\",\"name\":\"CDSView\",\"id\":\"p16808\",\"attributes\":{\"filter\":{\"type\":\"object\",\"name\":\"AllIndices\",\"id\":\"p16809\"}}},\"glyph\":{\"type\":\"object\",\"name\":\"VBar\",\"id\":\"p16804\",\"attributes\":{\"x\":{\"type\":\"field\",\"field\":\"GeoName\"},\"width\":{\"type\":\"value\",\"value\":0.9},\"top\":{\"type\":\"field\",\"field\":\"per_change\"},\"line_color\":{\"type\":\"value\",\"value\":\"white\"},\"fill_color\":{\"type\":\"field\",\"field\":\"color_list\"},\"hatch_color\":{\"type\":\"field\",\"field\":\"color_list\"}}},\"nonselection_glyph\":{\"type\":\"object\",\"name\":\"VBar\",\"id\":\"p16805\",\"attributes\":{\"x\":{\"type\":\"field\",\"field\":\"GeoName\"},\"width\":{\"type\":\"value\",\"value\":0.9},\"top\":{\"type\":\"field\",\"field\":\"per_change\"},\"line_color\":{\"type\":\"value\",\"value\":\"white\"},\"line_alpha\":{\"type\":\"value\",\"value\":0.1},\"fill_color\":{\"type\":\"field\",\"field\":\"color_list\"},\"fill_alpha\":{\"type\":\"value\",\"value\":0.1},\"hatch_color\":{\"type\":\"field\",\"field\":\"color_list\"},\"hatch_alpha\":{\"type\":\"value\",\"value\":0.1}}},\"muted_glyph\":{\"type\":\"object\",\"name\":\"VBar\",\"id\":\"p16806\",\"attributes\":{\"x\":{\"type\":\"field\",\"field\":\"GeoName\"},\"width\":{\"type\":\"value\",\"value\":0.9},\"top\":{\"type\":\"field\",\"field\":\"per_change\"},\"line_color\":{\"type\":\"value\",\"value\":\"white\"},\"line_alpha\":{\"type\":\"value\",\"value\":0.2},\"fill_color\":{\"type\":\"field\",\"field\":\"color_list\"},\"fill_alpha\":{\"type\":\"value\",\"value\":0.2},\"hatch_color\":{\"type\":\"field\",\"field\":\"color_list\"},\"hatch_alpha\":{\"type\":\"value\",\"value\":0.2}}}}}],\"toolbar\":{\"type\":\"object\",\"name\":\"Toolbar\",\"id\":\"p16761\",\"attributes\":{\"tools\":[{\"type\":\"object\",\"name\":\"PanTool\",\"id\":\"p16784\"},{\"type\":\"object\",\"name\":\"WheelZoomTool\",\"id\":\"p16785\"},{\"type\":\"object\",\"name\":\"BoxZoomTool\",\"id\":\"p16786\",\"attributes\":{\"overlay\":{\"type\":\"object\",\"name\":\"BoxAnnotation\",\"id\":\"p16787\",\"attributes\":{\"syncable\":false,\"level\":\"overlay\",\"visible\":false,\"left_units\":\"canvas\",\"right_units\":\"canvas\",\"bottom_units\":\"canvas\",\"top_units\":\"canvas\",\"line_color\":\"black\",\"line_alpha\":1.0,\"line_width\":2,\"line_dash\":[4,4],\"fill_color\":\"lightgrey\",\"fill_alpha\":0.5}}}},{\"type\":\"object\",\"name\":\"SaveTool\",\"id\":\"p16788\"},{\"type\":\"object\",\"name\":\"ResetTool\",\"id\":\"p16789\"},{\"type\":\"object\",\"name\":\"HelpTool\",\"id\":\"p16790\"},{\"type\":\"object\",\"name\":\"HoverTool\",\"id\":\"p16810\",\"attributes\":{\"renderers\":[{\"id\":\"p16807\"}],\"tooltips\":[[\"State\",\"@GeoName\"],[\"Percent Change\",\"@per_change{0.0%}\"]],\"formatters\":{\"type\":\"map\",\"entries\":[[\"@TimePeriod\",\"datetime\"]]}}}],\"active_drag\":null}},\"toolbar_location\":null,\"left\":[{\"type\":\"object\",\"name\":\"LinearAxis\",\"id\":\"p16777\",\"attributes\":{\"ticker\":{\"type\":\"object\",\"name\":\"BasicTicker\",\"id\":\"p16778\",\"attributes\":{\"mantissas\":[1,2,5]}},\"formatter\":{\"type\":\"object\",\"name\":\"NumeralTickFormatter\",\"id\":\"p16799\",\"attributes\":{\"format\":\"0.0%\"}},\"axis_label\":\"Percent change (2008\\u20132021)\",\"axis_label_text_font\":\"calibri\",\"axis_label_text_font_style\":\"bold\",\"major_label_policy\":{\"type\":\"object\",\"name\":\"AllLabels\",\"id\":\"p16779\"},\"axis_line_color\":null,\"major_tick_line_color\":null,\"minor_tick_line_color\":null}}],\"below\":[{\"type\":\"object\",\"name\":\"CategoricalAxis\",\"id\":\"p16771\",\"attributes\":{\"ticker\":{\"type\":\"object\",\"name\":\"CategoricalTicker\",\"id\":\"p16772\"},\"formatter\":{\"type\":\"object\",\"name\":\"CategoricalTickFormatter\",\"id\":\"p16774\"},\"axis_label_text_font\":\"calibri\",\"axis_label_text_font_style\":\"bold\",\"major_label_orientation\":1.5707963267948966,\"major_label_policy\":{\"type\":\"object\",\"name\":\"AllLabels\",\"id\":\"p16773\"},\"axis_line_color\":null,\"major_tick_line_color\":null,\"minor_tick_line_color\":null}}],\"center\":[{\"type\":\"object\",\"name\":\"Grid\",\"id\":\"p16776\",\"attributes\":{\"axis\":{\"id\":\"p16771\"},\"grid_line_color\":null,\"grid_line_width\":1.5}},{\"type\":\"object\",\"name\":\"Grid\",\"id\":\"p16783\",\"attributes\":{\"dimension\":1,\"axis\":{\"id\":\"p16777\"},\"grid_line_color\":\"#DCDEDF\",\"grid_line_width\":1.5}}]}}],\"callbacks\":{\"type\":\"map\"}}};\n  const render_items = [{\"docid\":\"e99d0a78-bd1d-477b-9ea2-b73387ff90e2\",\"roots\":{\"p16754\":\"95205341-6e33-4e0f-8484-3f7bdb542b6f\"},\"root_ids\":[\"p16754\"]}];\n  root.Bokeh.embed.embed_items_notebook(docs_json, render_items);\n  }\n  if (root.Bokeh !== undefined) {\n    embed_document(root);\n  } else {\n    let attempts = 0;\n    const timer = setInterval(function(root) {\n      if (root.Bokeh !== undefined) {\n        clearInterval(timer);\n        embed_document(root);\n      } else {\n        attempts++;\n        if (attempts > 100) {\n          clearInterval(timer);\n          console.log(\"Bokeh: ERROR: Unable to run BokehJS code because BokehJS library is missing\");\n        }\n      }\n    }, 10, root)\n  }\n})(window);",
      "application/vnd.bokehjs_exec.v0+json": ""
     },
     "metadata": {
      "application/vnd.bokehjs_exec.v0+json": {
       "id": "p16754"
      }
     },
     "output_type": "display_data"
    },
    {
     "data": {
      "text/html": [
       "<ul class=\"footnote\">\n",
       "<li>Data. Average annual changes in real per capita personal income by state, 2008–2021</li>\n",
       "<li>Source. BEA Real Personal Income by State table \"<a href=\"https://apps.bea.gov/iTable/iTable.cfm?reqid=70&step=30&isuri=1&major_area=0&area=xx&year=-1&tableid=100&category=8100&area_type=0&year_end=-1&classification=non-industry&state=0&statistic=2&yearbegin=-1&unit_of_measure=levels\" class=\"figlink\">Real Per Capita Personal Income By State (constant 2012 dollars)</a>\"</li>\n",
       "<li>Value for the United States includes the 50 states and the District of Columbia.</li>\n",
       "<ul>"
      ],
      "text/plain": [
       "<IPython.core.display.HTML object>"
      ]
     },
     "metadata": {},
     "output_type": "display_data"
    }
   ],
   "source": [
    "show(wellbeing.generate_chart.state_income_growth(start_year=2008, end_year=2021, from_cache=from_cache))"
   ]
  },
  {
   "cell_type": "code",
   "execution_count": 59,
   "metadata": {},
   "outputs": [
    {
     "name": "stdout",
     "output_type": "stream",
     "text": [
      "State Comparison of Income Per Capita\n"
     ]
    },
    {
     "data": {
      "text/html": [
       "\n",
       "  <div id=\"a23c1487-13f7-4845-92a7-3b05e6d45b8e\" data-root-id=\"p17578\" style=\"display: contents;\"></div>\n"
      ]
     },
     "metadata": {},
     "output_type": "display_data"
    },
    {
     "data": {
      "application/javascript": "(function(root) {\n  function embed_document(root) {\n  const docs_json = {\"280a013a-e882-4d3c-ab16-fa020a7894e0\":{\"version\":\"3.1.0\",\"title\":\"Bokeh Application\",\"defs\":[],\"roots\":[{\"type\":\"object\",\"name\":\"Figure\",\"id\":\"p17578\",\"attributes\":{\"styles\":{\"type\":\"map\",\"entries\":[[\"width\",\"98%\"]]},\"width\":700,\"height\":400,\"aspect_ratio\":1.75,\"sizing_mode\":\"scale_both\",\"x_range\":{\"type\":\"object\",\"name\":\"FactorRange\",\"id\":\"p17587\",\"attributes\":{\"factors\":[\"Mississippi\",\"West Virginia\",\"Hawaii\",\"New Mexico\",\"South Carolina\",\"Alabama\",\"Arkansas\",\"Idaho\",\"Arizona\",\"Kentucky\",\"Georgia\",\"Utah\",\"Louisiana\",\"Oklahoma\",\"Oregon\",\"North Carolina\",\"Michigan\",\"Missouri\",\"Maine\",\"Texas\",\"Indiana\",\"Delaware\",\"Florida\",\"Ohio\",\"Montana\",\"Tennessee\",\"Vermont\",\"Alaska\",\"Nevada\",\"Rhode Island\",\"Iowa\",\"Wisconsin\",\"United States\",\"Kansas\",\"Virginia\",\"Maryland\",\"Illinois\",\"Pennsylvania\",\"Nebraska\",\"Minnesota\",\"Washington\",\"California\",\"Colorado\",\"New York\",\"New Jersey\",\"North Dakota\",\"New Hampshire\",\"South Dakota\",\"Wyoming\",\"Massachusetts\",\"Connecticut\"]}},\"y_range\":{\"type\":\"object\",\"name\":\"Range1d\",\"id\":\"p17589\",\"attributes\":{\"end\":80000}},\"x_scale\":{\"type\":\"object\",\"name\":\"CategoricalScale\",\"id\":\"p17591\"},\"y_scale\":{\"type\":\"object\",\"name\":\"LinearScale\",\"id\":\"p17593\"},\"title\":{\"type\":\"object\",\"name\":\"Title\",\"id\":\"p17583\"},\"outline_line_color\":null,\"renderers\":[{\"type\":\"object\",\"name\":\"GlyphRenderer\",\"id\":\"p17629\",\"attributes\":{\"data_source\":{\"type\":\"object\",\"name\":\"ColumnDataSource\",\"id\":\"p17575\",\"attributes\":{\"selected\":{\"type\":\"object\",\"name\":\"Selection\",\"id\":\"p17576\",\"attributes\":{\"indices\":[],\"line_indices\":[]}},\"selection_policy\":{\"type\":\"object\",\"name\":\"UnionRenderers\",\"id\":\"p17577\"},\"data\":{\"type\":\"map\",\"entries\":[[\"index\",{\"type\":\"ndarray\",\"array\":{\"type\":\"bytes\",\"data\":\"AAAAAAEAAAACAAAAAwAAAAQAAAAFAAAABgAAAAcAAAAIAAAACQAAAAoAAAALAAAADAAAAA0AAAAOAAAADwAAABAAAAARAAAAEgAAABMAAAAUAAAAFQAAABYAAAAXAAAAGAAAABkAAAAaAAAAGwAAABwAAAAdAAAAHgAAAB8AAAAgAAAAIQAAACIAAAAjAAAAJAAAACUAAAAmAAAAJwAAACgAAAApAAAAKgAAACsAAAAsAAAALQAAAC4AAAAvAAAAMAAAADEAAAAyAAAA\"},\"shape\":[51],\"dtype\":\"int32\",\"order\":\"little\"}],[\"GeoName\",{\"type\":\"ndarray\",\"array\":[\"Mississippi\",\"West Virginia\",\"Hawaii\",\"New Mexico\",\"South Carolina\",\"Alabama\",\"Arkansas\",\"Idaho\",\"Arizona\",\"Kentucky\",\"Georgia\",\"Utah\",\"Louisiana\",\"Oklahoma\",\"Oregon\",\"North Carolina\",\"Michigan\",\"Missouri\",\"Maine\",\"Texas\",\"Indiana\",\"Delaware\",\"Florida\",\"Ohio\",\"Montana\",\"Tennessee\",\"Vermont\",\"Alaska\",\"Nevada\",\"Rhode Island\",\"Iowa\",\"Wisconsin\",\"United States\",\"Kansas\",\"Virginia\",\"Maryland\",\"Illinois\",\"Pennsylvania\",\"Nebraska\",\"Minnesota\",\"Washington\",\"California\",\"Colorado\",\"New York\",\"New Jersey\",\"North Dakota\",\"New Hampshire\",\"South Dakota\",\"Wyoming\",\"Massachusetts\",\"Connecticut\"],\"shape\":[51],\"dtype\":\"object\",\"order\":\"little\"}],[\"2021\",{\"type\":\"ndarray\",\"array\":{\"type\":\"bytes\",\"data\":\"AAAAAABx5kAAAAAAAKHmQAAAAADAzOZAAAAAAAC050AAAAAAQLjnQAAAAAAA6+dAAAAAAGD550AAAAAAoCvoQAAAAADATOhAAAAAAIBd6EAAAAAAgKvoQAAAAADgFelAAAAAAAAp6UAAAAAAQEfpQAAAAADAUulAAAAAAIBd6UAAAAAAgGPpQAAAAABgd+lAAAAAACB86UAAAAAAQL7pQAAAAABgzulAAAAAAED96UAAAAAAQAHqQAAAAADgDupAAAAAAABY6kAAAAAAoF7qQAAAAACAkepAAAAAAECx6kAAAAAA4LHqQAAAAABgtupAAAAAAIAI60AAAAAAgA7rQAAAAACgFutAAAAAAGBh60AAAAAAwHXrQAAAAAAg1+tAAAAAAEAW7EAAAAAAoEDsQAAAAACgQexAAAAAAGCG7EAAAAAAILPsQAAAAAAgB+1AAAAAACAT7UAAAAAAwLjtQAAAAADg5u1AAAAAACAA7kAAAAAAQD/uQAAAAAAASu5AAAAAAMAj8EAAAAAAgKDwQAAAAACAMfFA\"},\"shape\":[51],\"dtype\":\"float64\",\"order\":\"little\"}],[\"bar_color\",{\"type\":\"ndarray\",\"array\":[\"#004C97\",\"#004C97\",\"#004C97\",\"#004C97\",\"#004C97\",\"#004C97\",\"#004C97\",\"#004C97\",\"#004C97\",\"#004C97\",\"#004C97\",\"#004C97\",\"#004C97\",\"#004C97\",\"#004C97\",\"#004C97\",\"#004C97\",\"#004C97\",\"#004C97\",\"#004C97\",\"#004C97\",\"#004C97\",\"#004C97\",\"#004C97\",\"#004C97\",\"#004C97\",\"#004C97\",\"#004C97\",\"#004C97\",\"#004C97\",\"#004C97\",\"#004C97\",\"#D86018\",\"#004C97\",\"#004C97\",\"#004C97\",\"#004C97\",\"#004C97\",\"#004C97\",\"#004C97\",\"#004C97\",\"#004C97\",\"#004C97\",\"#004C97\",\"#004C97\",\"#004C97\",\"#004C97\",\"#004C97\",\"#004C97\",\"#004C97\",\"#004C97\"],\"shape\":[51],\"dtype\":\"object\",\"order\":\"little\"}]]}}},\"view\":{\"type\":\"object\",\"name\":\"CDSView\",\"id\":\"p17630\",\"attributes\":{\"filter\":{\"type\":\"object\",\"name\":\"AllIndices\",\"id\":\"p17631\"}}},\"glyph\":{\"type\":\"object\",\"name\":\"VBar\",\"id\":\"p17626\",\"attributes\":{\"x\":{\"type\":\"field\",\"field\":\"GeoName\"},\"width\":{\"type\":\"value\",\"value\":0.9},\"top\":{\"type\":\"field\",\"field\":\"2021\"},\"line_color\":{\"type\":\"value\",\"value\":\"white\"},\"fill_color\":{\"type\":\"field\",\"field\":\"bar_color\"},\"hatch_color\":{\"type\":\"field\",\"field\":\"bar_color\"}}},\"nonselection_glyph\":{\"type\":\"object\",\"name\":\"VBar\",\"id\":\"p17627\",\"attributes\":{\"x\":{\"type\":\"field\",\"field\":\"GeoName\"},\"width\":{\"type\":\"value\",\"value\":0.9},\"top\":{\"type\":\"field\",\"field\":\"2021\"},\"line_color\":{\"type\":\"value\",\"value\":\"white\"},\"line_alpha\":{\"type\":\"value\",\"value\":0.1},\"fill_color\":{\"type\":\"field\",\"field\":\"bar_color\"},\"fill_alpha\":{\"type\":\"value\",\"value\":0.1},\"hatch_color\":{\"type\":\"field\",\"field\":\"bar_color\"},\"hatch_alpha\":{\"type\":\"value\",\"value\":0.1}}},\"muted_glyph\":{\"type\":\"object\",\"name\":\"VBar\",\"id\":\"p17628\",\"attributes\":{\"x\":{\"type\":\"field\",\"field\":\"GeoName\"},\"width\":{\"type\":\"value\",\"value\":0.9},\"top\":{\"type\":\"field\",\"field\":\"2021\"},\"line_color\":{\"type\":\"value\",\"value\":\"white\"},\"line_alpha\":{\"type\":\"value\",\"value\":0.2},\"fill_color\":{\"type\":\"field\",\"field\":\"bar_color\"},\"fill_alpha\":{\"type\":\"value\",\"value\":0.2},\"hatch_color\":{\"type\":\"field\",\"field\":\"bar_color\"},\"hatch_alpha\":{\"type\":\"value\",\"value\":0.2}}}}}],\"toolbar\":{\"type\":\"object\",\"name\":\"Toolbar\",\"id\":\"p17585\",\"attributes\":{\"tools\":[{\"type\":\"object\",\"name\":\"PanTool\",\"id\":\"p17608\"},{\"type\":\"object\",\"name\":\"WheelZoomTool\",\"id\":\"p17609\"},{\"type\":\"object\",\"name\":\"BoxZoomTool\",\"id\":\"p17610\",\"attributes\":{\"overlay\":{\"type\":\"object\",\"name\":\"BoxAnnotation\",\"id\":\"p17611\",\"attributes\":{\"syncable\":false,\"level\":\"overlay\",\"visible\":false,\"left_units\":\"canvas\",\"right_units\":\"canvas\",\"bottom_units\":\"canvas\",\"top_units\":\"canvas\",\"line_color\":\"black\",\"line_alpha\":1.0,\"line_width\":2,\"line_dash\":[4,4],\"fill_color\":\"lightgrey\",\"fill_alpha\":0.5}}}},{\"type\":\"object\",\"name\":\"SaveTool\",\"id\":\"p17612\"},{\"type\":\"object\",\"name\":\"ResetTool\",\"id\":\"p17613\"},{\"type\":\"object\",\"name\":\"HelpTool\",\"id\":\"p17614\"},{\"type\":\"object\",\"name\":\"HoverTool\",\"id\":\"p17632\",\"attributes\":{\"renderers\":[{\"id\":\"p17629\"}],\"tooltips\":[[\"State\",\"@GeoName\"],[\"Real Income per Capita\",\"@2021{$0,0}\"]],\"formatters\":{\"type\":\"map\",\"entries\":[[\"@TimePeriod\",\"datetime\"]]}}}],\"active_drag\":null}},\"toolbar_location\":null,\"left\":[{\"type\":\"object\",\"name\":\"LinearAxis\",\"id\":\"p17601\",\"attributes\":{\"ticker\":{\"type\":\"object\",\"name\":\"BasicTicker\",\"id\":\"p17602\",\"attributes\":{\"mantissas\":[1,2,5]}},\"formatter\":{\"type\":\"object\",\"name\":\"NumeralTickFormatter\",\"id\":\"p17634\"},\"axis_label\":\"Chained (2012) dollars\",\"axis_label_text_font\":\"calibri\",\"axis_label_text_font_style\":\"bold\",\"major_label_policy\":{\"type\":\"object\",\"name\":\"AllLabels\",\"id\":\"p17603\"},\"axis_line_color\":null,\"major_tick_line_color\":null,\"minor_tick_line_color\":null}}],\"below\":[{\"type\":\"object\",\"name\":\"CategoricalAxis\",\"id\":\"p17595\",\"attributes\":{\"ticker\":{\"type\":\"object\",\"name\":\"CategoricalTicker\",\"id\":\"p17596\"},\"formatter\":{\"type\":\"object\",\"name\":\"CategoricalTickFormatter\",\"id\":\"p17598\"},\"axis_label_text_font\":\"calibri\",\"axis_label_text_font_style\":\"bold\",\"major_label_orientation\":1.5707963267948966,\"major_label_policy\":{\"type\":\"object\",\"name\":\"AllLabels\",\"id\":\"p17597\"},\"axis_line_color\":null,\"major_tick_line_color\":null,\"minor_tick_line_color\":null}}],\"center\":[{\"type\":\"object\",\"name\":\"Grid\",\"id\":\"p17600\",\"attributes\":{\"axis\":{\"id\":\"p17595\"},\"grid_line_color\":null,\"grid_line_width\":1.5}},{\"type\":\"object\",\"name\":\"Grid\",\"id\":\"p17607\",\"attributes\":{\"dimension\":1,\"axis\":{\"id\":\"p17601\"},\"grid_line_color\":\"#DCDEDF\",\"grid_line_width\":1.5}}]}}],\"callbacks\":{\"type\":\"map\"}}};\n  const render_items = [{\"docid\":\"280a013a-e882-4d3c-ab16-fa020a7894e0\",\"roots\":{\"p17578\":\"a23c1487-13f7-4845-92a7-3b05e6d45b8e\"},\"root_ids\":[\"p17578\"]}];\n  root.Bokeh.embed.embed_items_notebook(docs_json, render_items);\n  }\n  if (root.Bokeh !== undefined) {\n    embed_document(root);\n  } else {\n    let attempts = 0;\n    const timer = setInterval(function(root) {\n      if (root.Bokeh !== undefined) {\n        clearInterval(timer);\n        embed_document(root);\n      } else {\n        attempts++;\n        if (attempts > 100) {\n          clearInterval(timer);\n          console.log(\"Bokeh: ERROR: Unable to run BokehJS code because BokehJS library is missing\");\n        }\n      }\n    }, 10, root)\n  }\n})(window);",
      "application/vnd.bokehjs_exec.v0+json": ""
     },
     "metadata": {
      "application/vnd.bokehjs_exec.v0+json": {
       "id": "p17578"
      }
     },
     "output_type": "display_data"
    },
    {
     "data": {
      "text/html": [
       "<ul class=\"footnote\">\n",
       "<li>Data. Real per capita personal income by state, 2021</li>\n",
       "<li>Source. BEA Real Personal Income by State table \"<a href=\"https://apps.bea.gov/iTable/iTable.cfm?reqid=70&step=30&isuri=1&major_area=0&area=xx&year=-1&tableid=100&category=8100&area_type=0&year_end=-1&classification=non-industry&state=0&statistic=2&yearbegin=-1&unit_of_measure=levels\" class=\"figlink\">Real Per Capita Personal Income By State (constant 2012 dollars)</a>\"</li>\n",
       "<li>Value for the United States includes the 50 states and the District of Columbia.</li>\n",
       "<ul>"
      ],
      "text/plain": [
       "<IPython.core.display.HTML object>"
      ]
     },
     "metadata": {},
     "output_type": "display_data"
    }
   ],
   "source": [
    "show(wellbeing.generate_chart.state_income(year=2021, from_cache=from_cache))"
   ]
  },
  {
   "cell_type": "code",
   "execution_count": 60,
   "metadata": {},
   "outputs": [
    {
     "data": {
      "text/html": [
       "While figures on GDP, employment, and inflation for the nation dominate news coverage, the economic experience across the country varies considerably. Since the start of the Great Recession (calculated with annual data available from 2008 through 2021), real personal income per capita grew at an average annual rate of 1.9 percent, with California growing by 2.7 percent and Oklahoma growing by 0.9 percent. Similarly, in 2021, real personal income per capita for the nation ranged from $45,960 in Mississippi to $70,424 in Connecticut."
      ],
      "text/plain": [
       "<IPython.core.display.HTML object>"
      ]
     },
     "metadata": {},
     "output_type": "display_data"
    }
   ],
   "source": [
    "show_narrative('State Income Growth')"
   ]
  },
  {
   "attachments": {},
   "cell_type": "markdown",
   "metadata": {},
   "source": [
    "#### Sustainable Growth"
   ]
  },
  {
   "cell_type": "code",
   "execution_count": 61,
   "metadata": {},
   "outputs": [
    {
     "name": "stdout",
     "output_type": "stream",
     "text": [
      "Sustainable Economic Growth\n",
      "Real GDP vs Real Net Domestic Product\n"
     ]
    },
    {
     "data": {
      "text/html": [
       "\n",
       "  <div id=\"6d42bdbd-8e29-45dd-ab83-96dcc233ba00\" data-root-id=\"p18413\" style=\"display: contents;\"></div>\n"
      ]
     },
     "metadata": {},
     "output_type": "display_data"
    },
    {
     "data": {
      "application/javascript": "(function(root) {\n  function embed_document(root) {\n  const docs_json = {\"53b4e406-415d-4e5a-8c36-3e323ca8399a\":{\"version\":\"3.1.0\",\"title\":\"Bokeh Application\",\"defs\":[],\"roots\":[{\"type\":\"object\",\"name\":\"Figure\",\"id\":\"p18413\",\"attributes\":{\"styles\":{\"type\":\"map\",\"entries\":[[\"width\",\"98%\"]]},\"width\":700,\"height\":400,\"aspect_ratio\":1.75,\"sizing_mode\":\"scale_both\",\"x_range\":{\"type\":\"object\",\"name\":\"Range1d\",\"id\":\"p18422\",\"attributes\":{\"start\":-1293840000000.0,\"end\":1640995200000.0}},\"y_range\":{\"type\":\"object\",\"name\":\"DataRange1d\",\"id\":\"p18415\"},\"x_scale\":{\"type\":\"object\",\"name\":\"LinearScale\",\"id\":\"p18426\"},\"y_scale\":{\"type\":\"object\",\"name\":\"LinearScale\",\"id\":\"p18428\"},\"title\":{\"type\":\"object\",\"name\":\"Title\",\"id\":\"p18418\"},\"outline_line_color\":null,\"renderers\":[{\"type\":\"object\",\"name\":\"GlyphRenderer\",\"id\":\"p18501\",\"attributes\":{\"name\":\"gdp\",\"data_source\":{\"type\":\"object\",\"name\":\"ColumnDataSource\",\"id\":\"p18410\",\"attributes\":{\"selected\":{\"type\":\"object\",\"name\":\"Selection\",\"id\":\"p18411\",\"attributes\":{\"indices\":[],\"line_indices\":[]}},\"selection_policy\":{\"type\":\"object\",\"name\":\"UnionRenderers\",\"id\":\"p18412\"},\"data\":{\"type\":\"map\",\"entries\":[[\"TimePeriod\",{\"type\":\"ndarray\",\"array\":[-1293840000000.0,-1262304000000.0,-1230768000000.0,-1199232000000.0,-1167609600000.0,-1136073600000.0,-1104537600000.0,-1073001600000.0,-1041379200000.0,-1009843200000.0,-978307200000.0,-946771200000.0,-915148800000.0,-883612800000.0,-852076800000.0,-820540800000.0,-788918400000.0,-757382400000.0,-725846400000.0,-694310400000.0,-662688000000.0,-631152000000.0,-599616000000.0,-568080000000.0,-536457600000.0,-504921600000.0,-473385600000.0,-441849600000.0,-410227200000.0,-378691200000.0,-347155200000.0,-315619200000.0,-283996800000.0,-252460800000.0,-220924800000.0,-189388800000.0,-157766400000.0,-126230400000.0,-94694400000.0,-63158400000.0,-31536000000.0,0.0,31536000000.0,63072000000.0,94694400000.0,126230400000.0,157766400000.0,189302400000.0,220924800000.0,252460800000.0,283996800000.0,315532800000.0,347155200000.0,378691200000.0,410227200000.0,441763200000.0,473385600000.0,504921600000.0,536457600000.0,567993600000.0,599616000000.0,631152000000.0,662688000000.0,694224000000.0,725846400000.0,757382400000.0,788918400000.0,820454400000.0,852076800000.0,883612800000.0,915148800000.0,946684800000.0,978307200000.0,1009843200000.0,1041379200000.0,1072915200000.0,1104537600000.0,1136073600000.0,1167609600000.0,1199145600000.0,1230768000000.0,1262304000000.0,1293840000000.0,1325376000000.0,1356998400000.0,1388534400000.0,1420070400000.0,1451606400000.0,1483228800000.0,1514764800000.0,1546300800000.0,1577836800000.0,1609459200000.0,1640995200000.0],\"shape\":[94],\"dtype\":\"object\",\"order\":\"little\"}],[\"gdp\",{\"type\":\"ndarray\",\"array\":{\"type\":\"bytes\",\"data\":\"5/up8dJYkUBeukkMAr6PQHNoke18tY1Ac2iR7XzgiUA730+Nl46JQGIQWDm0UYxACtejcD3XjkCR7Xw/NWiRQH9qvHSTTJJAMQisHFqxkUCkcD0K1xyTQArXo3A9zJRACKwcWmR7mEAMAiuHFhudQF66SQzCB6FAhxbZzndiokB3vp8abzSiQPLSTWKQF6BAiUFg5dDQn0C6SQwC64+gQGiR7Xz/d6BAtvP91DjmoUDP91Pj5VajQIlBYOVQIaRA9P3UeOkSpUCR7Xw/tfOkQLgehetRcqZAeekmMcjspkBg5dAiW2inQFg5tMj2O6dAPQrXo3DYqEAdWmQ7H3ypQHsUrkdhI6pA7nw/NV69q0BCYOXQovKsQEa28/2Una5AgZVDi2xNsEAX2c73s2CxQN0kBoG12rFAjZduEmO7skCPwvUoPFGzQA4tsp1vWrNAfT81Xpr9s0D4U+Oluwq1QH0/NV7aOrZA8KfGSxcctkDByqFFdhC2QHe+nxrPQLdAf2q8dBNUuEBt5/up0ay5QIGVQ4vsfLpAJQaBlYNrukBKDAIrJxe7QIXrUbgemrpA16NwPUrSu0BiEFg5tNW9QFK4HoUrFL9ARrbz/dQTwEDdJAaBNaLAQMuhRbYTVMFADi2ynf/2wUBEi2znu03CQKjGSzepSMJAtvP91IjtwkBoke1833LDQBsv3SR2O8RAZDvfT33GxEBeukkMIo/FQLx0kxiUhMZA9P3UeOmGx0DufD81rqfIQK5H4XoEqclAN4lBYLXnyUBWDi2yLVjKQFCNl27CFMtAAiuHFtkfzEBQjZduohrNQBBYObT46c1AaJHtfO+DzkBg5dAie43OQMdLN4khws1AK4cW2X6QzkAIrBxaxAnPQI/C9Sj8vs9AwcqhRVYq0EAGgZVDA4nQQBSuR+GS+9BAx0s3iRFE0UBt5/upKafRQEa28/1ELNJA2c73UwOX0kDVeOkmSRPSQBfZzvdzJtNAeekmMYiL00A=\"},\"shape\":[94],\"dtype\":\"float64\",\"order\":\"little\"}],[\"ndp\",{\"type\":\"ndarray\",\"array\":{\"type\":\"bytes\",\"data\":\"/tR46Sa8j0BMN4lBYKeMQPLSTWIQlYpAPQrXo3DAhkCuR+F6FIOGQJzEILByZ4lA16NwPQr5i0ASg8DKofuPQBsv3SQG2ZBAmpmZmRkwkEB1kxgEVqCRQOXQItv5UJNAyXa+n5r/lkBvEoPASoObQKabxCCwG6BAppvEILBCoUAfhetReOqgQN0kBoEVbp1A8tJNYpAbnUAIrBxa5HieQGDl0CJbPp5ARIts53uToEBCYOXQYgCiQJzEILBytqJAL90kBoGPo0Dl0CLb+U2jQJ7vp8ZLv6RA4XoUrscfpUAIrBxaJIClQCuHFtmOLKVAXrpJDMLBpkCR7Xw/tVKnQG3n+6kx4KdAL90kBkFmqUAAAAAAwH2qQBBYObSIDaxAVg4tsp3qrUBaZDvfj+mvQIGVQ4usU7BAwcqhRRYesUCPwvUonJqxQMUgsHIIibFATmIQWNkbskBvEoPAChqzQKAaL92EMrRA7nw/Nb7ys0Ce76fGa82zQEw3iUGg8rRAVOOlm2TxtUDfT42XDjK3QDVeukkM3bdAf2q8dNOdt0C28/3UmCm4QLKd76dme7dAO99PjfecuED2KFyPAoe6QAaBlUPrkrtAw/UoXG90vECoxks3iV+9QG8Sg8CKmL5AukkMAiuyv0AfhetRiBjAQCUGgZXD/L9ABoGVQ2uVwECJQWDlkAjBQKJFtvMNvcFAtvP91BgtwkCDwMqhZdjCQArXo3AdqsNAPzVeupmAxEBqvHSTOG/FQFyPwvWIO8ZAjZduEhNLxkAv3SQGQZnGQHWTGAQWN8dAK4cW2b4eyEAZBFYOLfDIQAisHFoUkslAFK5H4dr+yUA3iUFgleHJQCUGgZWT/8hAUI2XbmLAyUDVeOkmESLKQM3MzMz8tspAhetRuN4ny0DVeOkm8b/LQAAAAACgf8xA2c73UzPrzEB7FK5HQYrNQOXQIttZaM5ACtejcF0Oz0BvEoPA+t7NQBSuR+Fq189Arkfhelw20EA=\"},\"shape\":[94],\"dtype\":\"float64\",\"order\":\"little\"}]]}}},\"view\":{\"type\":\"object\",\"name\":\"CDSView\",\"id\":\"p18502\",\"attributes\":{\"filter\":{\"type\":\"object\",\"name\":\"AllIndices\",\"id\":\"p18503\"}}},\"glyph\":{\"type\":\"object\",\"name\":\"Line\",\"id\":\"p18498\",\"attributes\":{\"x\":{\"type\":\"field\",\"field\":\"TimePeriod\"},\"y\":{\"type\":\"field\",\"field\":\"gdp\"},\"line_color\":\"#004C97\",\"line_width\":3}},\"nonselection_glyph\":{\"type\":\"object\",\"name\":\"Line\",\"id\":\"p18499\",\"attributes\":{\"x\":{\"type\":\"field\",\"field\":\"TimePeriod\"},\"y\":{\"type\":\"field\",\"field\":\"gdp\"},\"line_color\":\"#004C97\",\"line_alpha\":0.1,\"line_width\":3}},\"muted_glyph\":{\"type\":\"object\",\"name\":\"Line\",\"id\":\"p18500\",\"attributes\":{\"x\":{\"type\":\"field\",\"field\":\"TimePeriod\"},\"y\":{\"type\":\"field\",\"field\":\"gdp\"},\"line_color\":\"#004C97\",\"line_alpha\":0.2,\"line_width\":3}}}},{\"type\":\"object\",\"name\":\"GlyphRenderer\",\"id\":\"p18510\",\"attributes\":{\"name\":\"ndp\",\"data_source\":{\"id\":\"p18410\"},\"view\":{\"type\":\"object\",\"name\":\"CDSView\",\"id\":\"p18511\",\"attributes\":{\"filter\":{\"type\":\"object\",\"name\":\"AllIndices\",\"id\":\"p18512\"}}},\"glyph\":{\"type\":\"object\",\"name\":\"Line\",\"id\":\"p18507\",\"attributes\":{\"x\":{\"type\":\"field\",\"field\":\"TimePeriod\"},\"y\":{\"type\":\"field\",\"field\":\"ndp\"},\"line_color\":\"#D86018\",\"line_width\":3}},\"nonselection_glyph\":{\"type\":\"object\",\"name\":\"Line\",\"id\":\"p18508\",\"attributes\":{\"x\":{\"type\":\"field\",\"field\":\"TimePeriod\"},\"y\":{\"type\":\"field\",\"field\":\"ndp\"},\"line_color\":\"#D86018\",\"line_alpha\":0.1,\"line_width\":3}},\"muted_glyph\":{\"type\":\"object\",\"name\":\"Line\",\"id\":\"p18509\",\"attributes\":{\"x\":{\"type\":\"field\",\"field\":\"TimePeriod\"},\"y\":{\"type\":\"field\",\"field\":\"ndp\"},\"line_color\":\"#D86018\",\"line_alpha\":0.2,\"line_width\":3}}}},{\"type\":\"object\",\"name\":\"GlyphRenderer\",\"id\":\"p18519\",\"attributes\":{\"data_source\":{\"type\":\"object\",\"name\":\"ColumnDataSource\",\"id\":\"p18513\",\"attributes\":{\"selected\":{\"type\":\"object\",\"name\":\"Selection\",\"id\":\"p18514\",\"attributes\":{\"indices\":[],\"line_indices\":[]}},\"selection_policy\":{\"type\":\"object\",\"name\":\"UnionRenderers\",\"id\":\"p18515\"},\"data\":{\"type\":\"map\"}}},\"view\":{\"type\":\"object\",\"name\":\"CDSView\",\"id\":\"p18520\",\"attributes\":{\"filter\":{\"type\":\"object\",\"name\":\"AllIndices\",\"id\":\"p18521\"}}},\"glyph\":{\"type\":\"object\",\"name\":\"VBar\",\"id\":\"p18516\",\"attributes\":{\"line_color\":{\"type\":\"value\",\"value\":\"#DCDEDF\"},\"fill_color\":{\"type\":\"value\",\"value\":\"#DCDEDF\"},\"hatch_color\":{\"type\":\"value\",\"value\":\"#DCDEDF\"}}},\"nonselection_glyph\":{\"type\":\"object\",\"name\":\"VBar\",\"id\":\"p18517\",\"attributes\":{\"line_color\":{\"type\":\"value\",\"value\":\"#DCDEDF\"},\"line_alpha\":{\"type\":\"value\",\"value\":0.1},\"fill_color\":{\"type\":\"value\",\"value\":\"#DCDEDF\"},\"fill_alpha\":{\"type\":\"value\",\"value\":0.1},\"hatch_color\":{\"type\":\"value\",\"value\":\"#DCDEDF\"},\"hatch_alpha\":{\"type\":\"value\",\"value\":0.1}}},\"muted_glyph\":{\"type\":\"object\",\"name\":\"VBar\",\"id\":\"p18518\",\"attributes\":{\"line_color\":{\"type\":\"value\",\"value\":\"#DCDEDF\"},\"line_alpha\":{\"type\":\"value\",\"value\":0.2},\"fill_color\":{\"type\":\"value\",\"value\":\"#DCDEDF\"},\"fill_alpha\":{\"type\":\"value\",\"value\":0.2},\"hatch_color\":{\"type\":\"value\",\"value\":\"#DCDEDF\"},\"hatch_alpha\":{\"type\":\"value\",\"value\":0.2}}}}}],\"toolbar\":{\"type\":\"object\",\"name\":\"Toolbar\",\"id\":\"p18420\",\"attributes\":{\"tools\":[{\"type\":\"object\",\"name\":\"PanTool\",\"id\":\"p18480\"},{\"type\":\"object\",\"name\":\"WheelZoomTool\",\"id\":\"p18481\"},{\"type\":\"object\",\"name\":\"BoxZoomTool\",\"id\":\"p18482\",\"attributes\":{\"overlay\":{\"type\":\"object\",\"name\":\"BoxAnnotation\",\"id\":\"p18483\",\"attributes\":{\"syncable\":false,\"level\":\"overlay\",\"visible\":false,\"left_units\":\"canvas\",\"right_units\":\"canvas\",\"bottom_units\":\"canvas\",\"top_units\":\"canvas\",\"line_color\":\"black\",\"line_alpha\":1.0,\"line_width\":2,\"line_dash\":[4,4],\"fill_color\":\"lightgrey\",\"fill_alpha\":0.5}}}},{\"type\":\"object\",\"name\":\"SaveTool\",\"id\":\"p18484\"},{\"type\":\"object\",\"name\":\"ResetTool\",\"id\":\"p18485\"},{\"type\":\"object\",\"name\":\"HelpTool\",\"id\":\"p18486\"},{\"type\":\"object\",\"name\":\"HoverTool\",\"id\":\"p18540\",\"attributes\":{\"renderers\":[{\"id\":\"p18501\"},{\"id\":\"p18510\"}],\"tooltips\":[[\"Year\",\"@TimePeriod{%Y}\"],[\"Value\",\"@$name{$0,0.0}\"]],\"formatters\":{\"type\":\"map\",\"entries\":[[\"@TimePeriod\",\"datetime\"]]}}}],\"active_drag\":null}},\"toolbar_location\":null,\"left\":[{\"type\":\"object\",\"name\":\"LinearAxis\",\"id\":\"p18473\",\"attributes\":{\"ticker\":{\"type\":\"object\",\"name\":\"BasicTicker\",\"id\":\"p18474\",\"attributes\":{\"mantissas\":[1,2,5]}},\"formatter\":{\"type\":\"object\",\"name\":\"NumeralTickFormatter\",\"id\":\"p18542\"},\"axis_label\":\"Billions of chained (2012) dollars\",\"axis_label_text_font\":\"calibri\",\"axis_label_text_font_style\":\"bold\",\"major_label_policy\":{\"type\":\"object\",\"name\":\"AllLabels\",\"id\":\"p18475\"},\"axis_line_color\":null,\"major_tick_line_color\":null,\"minor_tick_line_color\":null}}],\"below\":[{\"type\":\"object\",\"name\":\"DatetimeAxis\",\"id\":\"p18430\",\"attributes\":{\"ticker\":{\"type\":\"object\",\"name\":\"FixedTicker\",\"id\":\"p18544\",\"attributes\":{\"ticks\":[-1293840000000.0,-978307200000.0,-662688000000.0,-347155200000.0,-31536000000.0,283996800000.0,599616000000.0,915148800000.0,1230768000000.0,1546300800000.0],\"minor_ticks\":[]}},\"formatter\":{\"type\":\"object\",\"name\":\"DatetimeTickFormatter\",\"id\":\"p18445\"},\"axis_label_text_font\":\"calibri\",\"axis_label_text_font_style\":\"bold\",\"major_label_policy\":{\"type\":\"object\",\"name\":\"AllLabels\",\"id\":\"p18444\"},\"axis_line_color\":null,\"major_tick_line_color\":null,\"minor_tick_line_color\":null}},{\"type\":\"object\",\"name\":\"Legend\",\"id\":\"p18522\",\"attributes\":{\"location\":\"center\",\"orientation\":\"horizontal\",\"border_line_color\":\"white\",\"label_text_font\":\"calibri\",\"items\":[{\"type\":\"object\",\"name\":\"LegendItem\",\"id\":\"p18523\",\"attributes\":{\"label\":{\"type\":\"value\",\"value\":\"Real gross domestic product\"},\"renderers\":[{\"id\":\"p18501\"}]}},{\"type\":\"object\",\"name\":\"LegendItem\",\"id\":\"p18524\",\"attributes\":{\"label\":{\"type\":\"value\",\"value\":\"Real net domestic product\"},\"renderers\":[{\"id\":\"p18510\"}]}},{\"type\":\"object\",\"name\":\"LegendItem\",\"id\":\"p18525\",\"attributes\":{\"label\":{\"type\":\"value\",\"value\":\"Recessions\"},\"renderers\":[{\"id\":\"p18519\"}]}}]}}],\"center\":[{\"type\":\"object\",\"name\":\"Grid\",\"id\":\"p18472\",\"attributes\":{\"axis\":{\"id\":\"p18430\"},\"grid_line_color\":null,\"grid_line_width\":1.5}},{\"type\":\"object\",\"name\":\"Grid\",\"id\":\"p18479\",\"attributes\":{\"dimension\":1,\"axis\":{\"id\":\"p18473\"},\"grid_line_color\":\"#DCDEDF\",\"grid_line_width\":1.5}},{\"type\":\"object\",\"name\":\"BoxAnnotation\",\"id\":\"p18526\",\"attributes\":{\"level\":\"underlay\",\"left\":-1293840000000.0,\"right\":-1136073600000.0,\"line_color\":\"#DCDEDF\",\"line_width\":0,\"fill_color\":\"#DCDEDF\",\"fill_alpha\":1}},{\"type\":\"object\",\"name\":\"BoxAnnotation\",\"id\":\"p18527\",\"attributes\":{\"level\":\"underlay\",\"left\":-1041379200000.0,\"right\":-978307200000.0,\"line_color\":\"#DCDEDF\",\"line_width\":0,\"fill_color\":\"#DCDEDF\",\"fill_alpha\":1}},{\"type\":\"object\",\"name\":\"BoxAnnotation\",\"id\":\"p18528\",\"attributes\":{\"level\":\"underlay\",\"left\":-788918400000.0,\"right\":-757382400000.0,\"line_color\":\"#DCDEDF\",\"line_width\":0,\"fill_color\":\"#DCDEDF\",\"fill_alpha\":1}},{\"type\":\"object\",\"name\":\"BoxAnnotation\",\"id\":\"p18529\",\"attributes\":{\"level\":\"underlay\",\"left\":-694310400000.0,\"right\":-631152000000.0,\"line_color\":\"#DCDEDF\",\"line_width\":0,\"fill_color\":\"#DCDEDF\",\"fill_alpha\":1}},{\"type\":\"object\",\"name\":\"BoxAnnotation\",\"id\":\"p18530\",\"attributes\":{\"level\":\"underlay\",\"left\":-536457600000.0,\"right\":-473385600000.0,\"line_color\":\"#DCDEDF\",\"line_width\":0,\"fill_color\":\"#DCDEDF\",\"fill_alpha\":1}},{\"type\":\"object\",\"name\":\"BoxAnnotation\",\"id\":\"p18531\",\"attributes\":{\"level\":\"underlay\",\"left\":-410227200000.0,\"right\":-347155200000.0,\"line_color\":\"#DCDEDF\",\"line_width\":0,\"fill_color\":\"#DCDEDF\",\"fill_alpha\":1}},{\"type\":\"object\",\"name\":\"BoxAnnotation\",\"id\":\"p18532\",\"attributes\":{\"level\":\"underlay\",\"left\":-315619200000.0,\"right\":-252460800000.0,\"line_color\":\"#DCDEDF\",\"line_width\":0,\"fill_color\":\"#DCDEDF\",\"fill_alpha\":1}},{\"type\":\"object\",\"name\":\"BoxAnnotation\",\"id\":\"p18533\",\"attributes\":{\"level\":\"underlay\",\"left\":0.0,\"right\":31536000000.0,\"line_color\":\"#DCDEDF\",\"line_width\":0,\"fill_color\":\"#DCDEDF\",\"fill_alpha\":1}},{\"type\":\"object\",\"name\":\"BoxAnnotation\",\"id\":\"p18534\",\"attributes\":{\"level\":\"underlay\",\"left\":94694400000.0,\"right\":189302400000.0,\"line_color\":\"#DCDEDF\",\"line_width\":0,\"fill_color\":\"#DCDEDF\",\"fill_alpha\":1}},{\"type\":\"object\",\"name\":\"BoxAnnotation\",\"id\":\"p18535\",\"attributes\":{\"level\":\"underlay\",\"left\":315532800000.0,\"right\":410227200000.0,\"line_color\":\"#DCDEDF\",\"line_width\":0,\"fill_color\":\"#DCDEDF\",\"fill_alpha\":1}},{\"type\":\"object\",\"name\":\"BoxAnnotation\",\"id\":\"p18536\",\"attributes\":{\"level\":\"underlay\",\"left\":631152000000.0,\"right\":694224000000.0,\"line_color\":\"#DCDEDF\",\"line_width\":0,\"fill_color\":\"#DCDEDF\",\"fill_alpha\":1}},{\"type\":\"object\",\"name\":\"BoxAnnotation\",\"id\":\"p18537\",\"attributes\":{\"level\":\"underlay\",\"left\":978307200000.0,\"right\":1009843200000.0,\"line_color\":\"#DCDEDF\",\"line_width\":0,\"fill_color\":\"#DCDEDF\",\"fill_alpha\":1}},{\"type\":\"object\",\"name\":\"BoxAnnotation\",\"id\":\"p18538\",\"attributes\":{\"level\":\"underlay\",\"left\":1199145600000.0,\"right\":1262304000000.0,\"line_color\":\"#DCDEDF\",\"line_width\":0,\"fill_color\":\"#DCDEDF\",\"fill_alpha\":1}},{\"type\":\"object\",\"name\":\"BoxAnnotation\",\"id\":\"p18539\",\"attributes\":{\"level\":\"underlay\",\"left\":1577836800000.0,\"right\":1609459200000.0,\"line_color\":\"#DCDEDF\",\"line_width\":0,\"fill_color\":\"#DCDEDF\",\"fill_alpha\":1}}]}}],\"callbacks\":{\"type\":\"map\"}}};\n  const render_items = [{\"docid\":\"53b4e406-415d-4e5a-8c36-3e323ca8399a\",\"roots\":{\"p18413\":\"6d42bdbd-8e29-45dd-ab83-96dcc233ba00\"},\"root_ids\":[\"p18413\"]}];\n  root.Bokeh.embed.embed_items_notebook(docs_json, render_items);\n  }\n  if (root.Bokeh !== undefined) {\n    embed_document(root);\n  } else {\n    let attempts = 0;\n    const timer = setInterval(function(root) {\n      if (root.Bokeh !== undefined) {\n        clearInterval(timer);\n        embed_document(root);\n      } else {\n        attempts++;\n        if (attempts > 100) {\n          clearInterval(timer);\n          console.log(\"Bokeh: ERROR: Unable to run BokehJS code because BokehJS library is missing\");\n        }\n      }\n    }, 10, root)\n  }\n})(window);",
      "application/vnd.bokehjs_exec.v0+json": ""
     },
     "metadata": {
      "application/vnd.bokehjs_exec.v0+json": {
       "id": "p18413"
      }
     },
     "output_type": "display_data"
    },
    {
     "data": {
      "text/html": [
       "<ul class=\"footnote\">\n",
       "<li>Data. Real GDP and real net domestic product, 1929–2022</li>\n",
       "<li>Source. BEA <a href=\"https://apps.bea.gov/iTable/?reqid=19&step=3&isuri=1&nipa_table_list=44&categories=survey\" class=\"figlink\">NIPA table 1.7.6</a></li>\n",
       "<ul>"
      ],
      "text/plain": [
       "<IPython.core.display.HTML object>"
      ]
     },
     "metadata": {},
     "output_type": "display_data"
    }
   ],
   "source": [
    "show(wellbeing.generate_chart.sustainable_growth(start_year=1929, end_year=default_end_year, from_cache=from_cache))"
   ]
  },
  {
   "cell_type": "code",
   "execution_count": 62,
   "metadata": {},
   "outputs": [
    {
     "data": {
      "text/html": [
       "Economists since Adam Smith have been concerned with sustaining a level of economic growth that would provide for a rising standard of living for a growing population. In the national accounts, sustainable growth is measured by net domestic product (NDP), which is equal to GDP less depreciation, that is, what is left over for consumption after deducting the amount necessary to replace the capital used up in that production.<br><br>Over the last few decades, NDP has grown more slowly than GDP. This is the result of gross investment spending (a component of GDP) growing more slowly than depreciation. This slowing of investment spending has reduced the net investment available for activities that produce economic growth and that lead to a rise in productivity and standards of living."
      ],
      "text/plain": [
       "<IPython.core.display.HTML object>"
      ]
     },
     "metadata": {},
     "output_type": "display_data"
    }
   ],
   "source": [
    "show_narrative('GDP vs NDP')"
   ]
  },
  {
   "attachments": {},
   "cell_type": "markdown",
   "metadata": {},
   "source": [
    "#### Trends in Economic Growth"
   ]
  },
  {
   "cell_type": "code",
   "execution_count": 63,
   "metadata": {},
   "outputs": [
    {
     "data": {
      "text/html": [
       "<style type=\"text/css\">\n",
       "</style>\n",
       "<table id=\"T_97505\" class=\"table table-condensed\">\n",
       "  <thead><tr><th>&nbsp;</th><th class=\"text-center\" colspan=\"3\">Average Annual Growth</th></tr>\n",
       "    <tr>\n",
       "      <th class=\"text-left\" id=\"T_97505_level0_col0\" class=\"col_heading level0 col0\" >Component</th>\n",
       "      <th class=\"text-center\" id=\"T_97505_level0_col1\" class=\"col_heading level0 col1\" align=\"center\" >1987–2007</th>\n",
       "      <th class=\"text-center\" id=\"T_97505_level0_col2\" class=\"col_heading level0 col2\" align=\"center\" >2007–2021</th>\n",
       "      <th class=\"text-center\" id=\"T_97505_level0_col3\" class=\"col_heading level0 col3\" align=\"center\" >Difference</th>\n",
       "    </tr>\n",
       "  </thead>\n",
       "  <tbody>\n",
       "    <tr>\n",
       "      <td id=\"T_97505_row0_col0\" class=\"data row0 col0\" >Real GDP</td>\n",
       "      <td id=\"T_97505_row0_col1\" class=\"data row0 col1\" align=\"center\" >3.1<span class=\"percent\">%</span></td>\n",
       "      <td id=\"T_97505_row0_col2\" class=\"data row0 col2\" align=\"center\" >1.6<span class=\"percent\">%</span></td>\n",
       "      <td id=\"T_97505_row0_col3\" class=\"data row0 col3\" align=\"center\" >-1.4<span class=\"percent\">%</span></td>\n",
       "    </tr>\n",
       "    <tr>\n",
       "      <td id=\"T_97505_row1_col0\" class=\"data row1 col0\" >Labor input</td>\n",
       "      <td id=\"T_97505_row1_col1\" class=\"data row1 col1\" align=\"center\" >1.6<span class=\"percent\">%</span></td>\n",
       "      <td id=\"T_97505_row1_col2\" class=\"data row1 col2\" align=\"center\" >0.8<span class=\"percent\">%</span></td>\n",
       "      <td id=\"T_97505_row1_col3\" class=\"data row1 col3\" align=\"center\" >-0.8<span class=\"percent\">%</span></td>\n",
       "    </tr>\n",
       "    <tr>\n",
       "      <td id=\"T_97505_row2_col0\" class=\"data row2 col0\" >Capital services</td>\n",
       "      <td id=\"T_97505_row2_col1\" class=\"data row2 col1\" align=\"center\" >4.0<span class=\"percent\">%</span></td>\n",
       "      <td id=\"T_97505_row2_col2\" class=\"data row2 col2\" align=\"center\" >2.4<span class=\"percent\">%</span></td>\n",
       "      <td id=\"T_97505_row2_col3\" class=\"data row2 col3\" align=\"center\" >-1.7<span class=\"percent\">%</span></td>\n",
       "    </tr>\n",
       "    <tr>\n",
       "      <td id=\"T_97505_row3_col0\" class=\"data row3 col0\" >Multifactor productivity</td>\n",
       "      <td id=\"T_97505_row3_col1\" class=\"data row3 col1\" align=\"center\" >1.0<span class=\"percent\">%</span></td>\n",
       "      <td id=\"T_97505_row3_col2\" class=\"data row3 col2\" align=\"center\" >0.6<span class=\"percent\">%</span></td>\n",
       "      <td id=\"T_97505_row3_col3\" class=\"data row3 col3\" align=\"center\" >-0.5<span class=\"percent\">%</span></td>\n",
       "    </tr>\n",
       "<tr><td></td><td colspan=3 style=\"text-align: center\">Contributions to Growth<br>[Percentage points]<sup>1</sup></tc></tr>\n",
       "    <tr>\n",
       "      <td id=\"T_5675f_row0_col0\" class=\"data row0 col0\" >Real GDP</td>\n",
       "      <td id=\"T_5675f_row0_col1\" class=\"data row0 col1\" align=\"center\" >3.1</td>\n",
       "      <td id=\"T_5675f_row0_col2\" class=\"data row0 col2\" align=\"center\" >1.6</td>\n",
       "      <td id=\"T_5675f_row0_col3\" class=\"data row0 col3\" align=\"center\" >-1.4</td>\n",
       "    </tr>\n",
       "    <tr>\n",
       "      <td id=\"T_5675f_row1_col0\" class=\"data row1 col0\" >Labor input</td>\n",
       "      <td id=\"T_5675f_row1_col1\" class=\"data row1 col1\" align=\"center\" >1.05</td>\n",
       "      <td id=\"T_5675f_row1_col2\" class=\"data row1 col2\" align=\"center\" >0.50</td>\n",
       "      <td id=\"T_5675f_row1_col3\" class=\"data row1 col3\" align=\"center\" >-0.56</td>\n",
       "    </tr>\n",
       "    <tr>\n",
       "      <td id=\"T_5675f_row2_col0\" class=\"data row2 col0\" >Capital services</td>\n",
       "      <td id=\"T_5675f_row2_col1\" class=\"data row2 col1\" align=\"center\" >1.37</td>\n",
       "      <td id=\"T_5675f_row2_col2\" class=\"data row2 col2\" align=\"center\" >0.92</td>\n",
       "      <td id=\"T_5675f_row2_col3\" class=\"data row2 col3\" align=\"center\" >-0.45</td>\n",
       "    </tr>\n",
       "    <tr>\n",
       "      <td id=\"T_5675f_row3_col0\" class=\"data row3 col0\" >Multifactor productivity</td>\n",
       "      <td id=\"T_5675f_row3_col1\" class=\"data row3 col1\" align=\"center\" >0.65</td>\n",
       "      <td id=\"T_5675f_row3_col2\" class=\"data row3 col2\" align=\"center\" >0.22</td>\n",
       "      <td id=\"T_5675f_row3_col3\" class=\"data row3 col3\" align=\"center\" >-0.43</td>\n",
       "    </tr>\n",
       "  </tbody>\n",
       "<tfoot><tr><td colspan=\"4\"><ul class=\"footnote\">\n",
       "<li>Source. BEA <a href=\"https://apps.bea.gov/iTable/iTable.cfm?reqid=19&step=3&isuri=1&nipa_table_list=3&categories=survey\" target=\"_blank\">NIPA table 1.1.3</a>, <a href=\"https://www.bls.gov/mfp/special_requests/mfptablehis.xlsx\" target=\"_blank\">Integrated BEA GDP-BLS productivity accounts</a></li>\n",
       "<li><sup>1</sup> For real GDP, estimates under the contributions columns are also percent changes.</li>\n",
       "<li>Contributions to real GDP for labor input and capital services are calculated by multiplying labor's and capital's average shares in cost by their average annual growth rates; contributions to real GDP for multifactor productivity is the residual.</li>\n",
       "</ul></td></tr></tfoot></table>"
      ],
      "text/plain": [
       "<IPython.core.display.HTML object>"
      ]
     },
     "metadata": {},
     "output_type": "display_data"
    }
   ],
   "source": [
    "tbl_html = wellbeing.generate_chart.economic_growth_tables(start_year=1987, mid_year=2007, end_year=2021, from_cache=from_cache)\n",
    "display(HTML(tbl_html))"
   ]
  },
  {
   "cell_type": "code",
   "execution_count": 64,
   "metadata": {},
   "outputs": [
    {
     "data": {
      "text/html": [
       "Growth in GDP is essential to economic well-being.<br><br>Over time, there has been a slowdown in all three of the sources of economic growth—labor and capital inputs and multifactor productivity (real GDP per unit of output)—which has contributed to the declining rate of long-term growth.<br><br>The slowdown in labor input is accounted for by demographic factors such as the aging and retirement of the population. The slowdown in capital services reflects a slowdown in net investment (and saving). The slowdown in multifactor productivity is much debated and reflects many factors, including the pace of technological change."
      ],
      "text/plain": [
       "<IPython.core.display.HTML object>"
      ]
     },
     "metadata": {},
     "output_type": "display_data"
    }
   ],
   "source": [
    "show_narrative('Economic Growth Tables')"
   ]
  },
  {
   "attachments": {},
   "cell_type": "markdown",
   "metadata": {},
   "source": [
    "#### Trade Balance"
   ]
  },
  {
   "cell_type": "code",
   "execution_count": 65,
   "metadata": {},
   "outputs": [
    {
     "name": "stdout",
     "output_type": "stream",
     "text": [
      "Trade and the U.S. Economy Over Time\n",
      "Total Trade and Trade Balances as Percentages of GDP\n"
     ]
    },
    {
     "data": {
      "text/html": [
       "\n",
       "  <div id=\"0e23d2a1-ced9-4b97-aed8-da0584a33a98\" data-root-id=\"p19397\" style=\"display: contents;\"></div>\n"
      ]
     },
     "metadata": {},
     "output_type": "display_data"
    },
    {
     "data": {
      "application/javascript": "(function(root) {\n  function embed_document(root) {\n  const docs_json = {\"92d74584-db9b-4f25-b944-9a8939b47361\":{\"version\":\"3.1.0\",\"title\":\"Bokeh Application\",\"defs\":[],\"roots\":[{\"type\":\"object\",\"name\":\"Figure\",\"id\":\"p19397\",\"attributes\":{\"styles\":{\"type\":\"map\",\"entries\":[[\"width\",\"98%\"]]},\"width\":700,\"height\":400,\"aspect_ratio\":1.75,\"sizing_mode\":\"scale_both\",\"x_range\":{\"type\":\"object\",\"name\":\"Range1d\",\"id\":\"p19406\",\"attributes\":{\"start\":-1325462400000.0,\"end\":1672531200000.0}},\"y_range\":{\"type\":\"object\",\"name\":\"Range1d\",\"id\":\"p19408\",\"attributes\":{\"end\":35}},\"x_scale\":{\"type\":\"object\",\"name\":\"LinearScale\",\"id\":\"p19410\"},\"y_scale\":{\"type\":\"object\",\"name\":\"LinearScale\",\"id\":\"p19412\"},\"extra_y_ranges\":{\"type\":\"map\",\"entries\":[[\"balances_shares\",{\"type\":\"object\",\"name\":\"Range1d\",\"id\":\"p19488\",\"attributes\":{\"start\":-8,\"end\":6}}]]},\"title\":{\"type\":\"object\",\"name\":\"Title\",\"id\":\"p19402\"},\"renderers\":[{\"type\":\"object\",\"name\":\"GlyphRenderer\",\"id\":\"p19485\",\"attributes\":{\"data_source\":{\"type\":\"object\",\"name\":\"ColumnDataSource\",\"id\":\"p19394\",\"attributes\":{\"selected\":{\"type\":\"object\",\"name\":\"Selection\",\"id\":\"p19395\",\"attributes\":{\"indices\":[],\"line_indices\":[]}},\"selection_policy\":{\"type\":\"object\",\"name\":\"UnionRenderers\",\"id\":\"p19396\"},\"data\":{\"type\":\"map\",\"entries\":[[\"TimePeriod\",{\"type\":\"ndarray\",\"array\":[-1293840000000.0,-1262304000000.0,-1230768000000.0,-1199232000000.0,-1167609600000.0,-1136073600000.0,-1104537600000.0,-1073001600000.0,-1041379200000.0,-1009843200000.0,-978307200000.0,-946771200000.0,-915148800000.0,-883612800000.0,-852076800000.0,-820540800000.0,-788918400000.0,-757382400000.0,-725846400000.0,-694310400000.0,-662688000000.0,-631152000000.0,-599616000000.0,-568080000000.0,-536457600000.0,-504921600000.0,-473385600000.0,-441849600000.0,-410227200000.0,-378691200000.0,-347155200000.0,-315619200000.0,-283996800000.0,-252460800000.0,-220924800000.0,-189388800000.0,-157766400000.0,-126230400000.0,-94694400000.0,-63158400000.0,-31536000000.0,0.0,31536000000.0,63072000000.0,94694400000.0,126230400000.0,157766400000.0,189302400000.0,220924800000.0,252460800000.0,283996800000.0,315532800000.0,347155200000.0,378691200000.0,410227200000.0,441763200000.0,473385600000.0,504921600000.0,536457600000.0,567993600000.0,599616000000.0,631152000000.0,662688000000.0,694224000000.0,725846400000.0,757382400000.0,788918400000.0,820454400000.0,852076800000.0,883612800000.0,915148800000.0,946684800000.0,978307200000.0,1009843200000.0,1041379200000.0,1072915200000.0,1104537600000.0,1136073600000.0,1167609600000.0,1199145600000.0,1230768000000.0,1262304000000.0,1293840000000.0,1325376000000.0,1356998400000.0,1388534400000.0,1420070400000.0,1451606400000.0,1483228800000.0,1514764800000.0,1546300800000.0,1577836800000.0,1609459200000.0,1640995200000.0],\"shape\":[94],\"dtype\":\"object\",\"order\":\"little\"}],[\"net_exports\",{\"type\":\"ndarray\",\"array\":{\"type\":\"bytes\",\"data\":\"mpmZmZmZ2T+amZmZmZnZPwAAAAAAAAAAmpmZmZmZuT+amZmZmZm5PwAAAAAAAOA/MzMzMzMz07+amZmZmZnJv5qZmZmZmbk/mpmZmZmZ8T/NzMzMzMzsP2ZmZmZmZvY/mpmZmZmZ6T+amZmZmZnJv5qZmZmZmfG/zczMzMzM7L8zMzMzMzPTv5qZmZmZmQlAMzMzMzMzEUAAAAAAAAAAQGZmZmZmZv4/mpmZmZmZyT9mZmZmZmbmPzMzMzMzM9M/mpmZmZmZyb+amZmZmZm5P5qZmZmZmbk/AAAAAAAA4D/NzMzMzMzsP5qZmZmZmbk/mpmZmZmZuT+amZmZmZnpP83MzMzMzOw/ZmZmZmZm5j+amZmZmZnpPwAAAAAAAPA/mpmZmZmZ6T8AAAAAAADgP5qZmZmZmdk/mpmZmZmZuT+amZmZmZm5P5qZmZmZmdk/mpmZmZmZuT8zMzMzMzPTvzMzMzMzM9M/mpmZmZmZub/NzMzMzMzsP5qZmZmZmbm/mpmZmZmZ8b+amZmZmZnxv83MzMzMzOy/AAAAAAAA4L+amZmZmZnZvzMzMzMzM+O/ZmZmZmZm9r8AAAAAAAAEwM3MzMzMzATAMzMzMzMzB8AAAAAAAAAIwM3MzMzMzADAAAAAAAAA+L/NzMzMzMz0vwAAAAAAAOC/AAAAAAAA4L8AAAAAAADwv83MzMzMzPS/MzMzMzMz878zMzMzMzPzvzMzMzMzM/O/zczMzMzM/L+amZmZmZkFwJqZmZmZmQ3AzczMzMzMDMAAAAAAAAAQwGZmZmZmZhLAzczMzMzMFMDNzMzMzMwWwM3MzMzMzBbAZmZmZmZmFMAAAAAAAAAUwDMzMzMzMwfAAAAAAAAADMCamZmZmZkNwDMzMzMzMwvAZmZmZmZmBsAzMzMzMzMHwDMzMzMzMwfAmpmZmZmZBcBmZmZmZmYGwDMzMzMzMwfAmpmZmZmZBcAAAAAAAAAIwJqZmZmZmQ3AZmZmZmZmDsA=\"},\"shape\":[94],\"dtype\":\"float64\",\"order\":\"little\"}],[\"goods\",{\"type\":\"ndarray\",\"array\":{\"type\":\"bytes\",\"data\":\"lL1Z7ysO6z9VVVVVVaXsP/CMcLm87d4/G3beejRr4T+UBuLRm07ZPwxIx1ImweY/qzRWWO7/s7/w2sMigI6qP6SLwuF9lNI/sdnNLE+Z8z/YRdyv6Q/wP6LfZcRWLPY/0/ots26k6z/ZSZTi6d/YP78eWjVJc9C/AuN0UIyMub+C+ZAytajkPzq1ozHYiwdAWe9mbys5EEAl1BmNJKMAQJs/ZNzjWf8/Tz5G0Sbz1z/FpBXHY0rsP66qWny9vuY/zVA/vACh1z8mxRqYUBvlP9ppIYPHyeU/NsxX8oPs8D966sF9iyr1Pyaj9r8XB+c/GW0dmTorzD+Q1D9Syt/uPxJ6Du8ZxvA/a/i2VEyl6T8FfWZQzEXsP42T/ftnPfE/QtlXrWSw6D+BuZPK0rTiP+7gzx0pz+E/6BI7zkonyD+wVfei+EnIP8S8p6bV79g/MAGUY5oen7+ZnET6T8HVv/jrYjwLo9E/cubCPmr/sL+7Q77c1Z7pPxQoDy8xgsW/JtKLxxid8r+Wsw/ZR7byv/a/ephsFe+/M+iWG2BR5L9zEqP68I7mv4B6oZTNyeq/9L/miBXQ+b8AvoXUcM8EwKUDl10MWgXAXOeRQ1M0CMCWu0YHEJYIwJvI5yQLWALAsF896nY1/79Ffbgo+h78vx206sHeVvK/TixtKcX99b9Ax9T0ZCv9v1hzGL/QZAHA4nEmn15HAcA+nQuVWLQBwOkWeZdsUwHAogZlnnwGBcDfo05z7TIMwLkZ1R5RzBHA1MUG8x2BEMB832SvTwQSwNrnRB+FuxPALZnVX9JyFsDbICT6WaUYwI9aAwAj1BjAbo99Q9NLF8BWHuXWIzoXwBN2OPJfUw3Ag5dfbwvrEcB4kzGsXo4TwH5xO54byxLAZOCnukNWEcATDl/wWZoRwDA4mDO0axHAyFRPr6R/EMCrlfiAHOgQwOh3HcNIVRHAf/VrJvBPEMDxUT5WacwQwE2g4flc7RLAxjRHQRsOE8A=\"},\"shape\":[94],\"dtype\":\"float64\",\"order\":\"little\"}],[\"services\",{\"type\":\"ndarray\",\"array\":{\"type\":\"bytes\",\"data\":\"pxoNsrSq3r/jOI7jOG7hv6bPxRiR2N6/GKpCOss23r/1fKP29M/Sv7g4rdk+Uc2//wxHg0m5yr8ljHQO69HMv2E4ncnJbMq/vdOfiZ56vr/1PxC5nsS8v9g19z4RZKY/kIQwSUOhsL/4MBDc60vhv0xLSehEKuu/mGj1Ob+p6b+mauwN2Wjvv0DgA4WhSMs/LlRWo/6C0T8Zo1xy65y0v53PQwPXiqO/KgtVX7lkwL+DLL9T2HDEv7b3jVvaNdm/sxbpWOuT4b+rP8qJ5svhv6TawZN0MeK/f8T43sUI4b8nJmkC8KXdvyilVERAc+O/b9l/RHNtwr+B4YSus0jIvxkzS2TeT8a/+hCzKW5Tv78Q4yQftdS7v1evkC4BPrG/FMYPZ84Sjr//NXiPwhK8v1jS37GeUsK/KjZOvgYip79XFJwZKCipv0r02/I5U5a/enzAk3pttT9YirsxeYOzPz0FjzVnJoo/ZfSmnA33iz/RF5hYxeLCP0Jy8zbLurQ/fkllQAOrqz/sDyTxwEC3P+62gPhP/7w/RGrTU7LIxj9zD40iOiLUP92S0FZesc4/wnYVxUCbyD/tu+aLKzStP49phQgyGaU/1jfsxYSzwj+nKCIVim63P8W32ND1Gco/2gyt96tu2j/ZCmnV5+zcP8tGpzNLz+U/0EZDySHv6j8kZUOeRu7rPwWWuXhE9uw/FQ2p+4aE7z9cKHc4707wP9XguRvyQu8/V9FP8kim6j/BQ3zEII/qPya4DZIvbec/5Z1YbxEb4j+ff4hBG8LeP3wSJ33wItg/cG/u7SH72j+3Jk0bZivfP746kAEUeOA/sHlUbvOq5z9iaxFySU3pP8YGVYfeqOg/AS8/n7sn7j/5EzUajsbyPxDNpUOv3/Q/lZNLu/nO9z+ky84KGur3P3jOfFxdcPc/U7/3F+yq9j9KguMmKYn3P54Fr1k/Hvc/p6hRkNzv9T9oldBQkoXzP/S7OEDWkvA/PjyXH4Tn7T8=\"},\"shape\":[94],\"dtype\":\"float64\",\"order\":\"little\"}],[\"total_trade\",{\"type\":\"ndarray\",\"array\":{\"type\":\"bytes\",\"data\":\"XlFkx/v8JUBWVVVVVZYiQCxuOgDVCB5A71hdnH5BGkA8ao2WGmgbQJYyCXYVvhxAL1EIlE78HkBeQNkrEQ0dQLSwl7QoNCFAvdOfiZ56HkBLLlUmjWoeQKlWULRRLSBA+0ob3l+4HkA6chuqpbIVQBvy0DuTUBRAUBSQMT4AFUByZDiC1SIZQCngs/OtkiJAwzozrghfJUDKJgt7zKgiQA81P6+ZayFAefYbpr/3H0D556ZeS0QiQCKXKp7fSSFAs/g8ku8YIEDbbuAlKAMgQFxi6OLPZCBA7jxx+z/lIUC7DJBb7IsiQJTpMwux3SBASywCLuxFIUByJB7DKGUiQKl1HHvg4yFA7+wX67PkIUCGv7Y/B/MhQJCl5SzScSJATjZoRuqAIkCunCmxOiwjQMfprhsyZCNAdC3UeZoVJEADnCuGxyAkQCetDvw9hCVAvAx5+KyDJUCf0N6yZa4mQMrfG/KOKCpAiHmmn+pxMEAg2fUfYggvQFi6xyWBDDBAAPc6JftqMECV1f2pC/kwQEdbVDtMYDJAlrUUyB4cNECk60GlCG0zQMmilodsiTFAG12WVWSqMEAUayp+vIUxQExThpeZmjBAIveh1OHlMECLvHiaPPkxQAcarx7yETNAWZiZ2kVqM0BXGbMnp9AzQMD/DKpUyTNAQ4hLKVrzM0D0xZkhbAs0QKT1VZIyDjVANE7b0RB0NkBlFTDz4682QAY2EOSmbTdAXwyxyW3TNkDpvxUbRlA3QJKl7kJdGjlA6c5cTpn3NkDIh895UEk2QG0qE46WoDZATGNR17NyOECGtnt+eKM5QFONoFSs+TpAiJmycxMDPEDIyMJSJ949QAZUNGdwwjhAVsQNX0o4PECyxzbOrNc+QJKS1AmNrj5A8IxnjJoAPkAc5CImfP89QMVHBE/uzztARwqXCkaWOkAL6ioOd0c7QENdXsFBnDtAOKxp+LJzOkCuErUwPmI3QIlwMAQ9ezlAlsabtBA0O0A=\"},\"shape\":[94],\"dtype\":\"float64\",\"order\":\"little\"}]]}}},\"view\":{\"type\":\"object\",\"name\":\"CDSView\",\"id\":\"p19486\",\"attributes\":{\"filter\":{\"type\":\"object\",\"name\":\"AllIndices\",\"id\":\"p19487\"}}},\"glyph\":{\"type\":\"object\",\"name\":\"VBar\",\"id\":\"p19482\",\"attributes\":{\"x\":{\"type\":\"field\",\"field\":\"TimePeriod\"},\"width\":{\"type\":\"value\",\"value\":21600000000.0},\"top\":{\"type\":\"field\",\"field\":\"total_trade\"},\"line_color\":{\"type\":\"value\",\"value\":\"#DCDEDF\"},\"fill_color\":{\"type\":\"value\",\"value\":\"#DCDEDF\"},\"hatch_color\":{\"type\":\"value\",\"value\":\"#DCDEDF\"}}},\"nonselection_glyph\":{\"type\":\"object\",\"name\":\"VBar\",\"id\":\"p19483\",\"attributes\":{\"x\":{\"type\":\"field\",\"field\":\"TimePeriod\"},\"width\":{\"type\":\"value\",\"value\":21600000000.0},\"top\":{\"type\":\"field\",\"field\":\"total_trade\"},\"line_color\":{\"type\":\"value\",\"value\":\"#DCDEDF\"},\"line_alpha\":{\"type\":\"value\",\"value\":0.1},\"fill_color\":{\"type\":\"value\",\"value\":\"#DCDEDF\"},\"fill_alpha\":{\"type\":\"value\",\"value\":0.1},\"hatch_color\":{\"type\":\"value\",\"value\":\"#DCDEDF\"},\"hatch_alpha\":{\"type\":\"value\",\"value\":0.1}}},\"muted_glyph\":{\"type\":\"object\",\"name\":\"VBar\",\"id\":\"p19484\",\"attributes\":{\"x\":{\"type\":\"field\",\"field\":\"TimePeriod\"},\"width\":{\"type\":\"value\",\"value\":21600000000.0},\"top\":{\"type\":\"field\",\"field\":\"total_trade\"},\"line_color\":{\"type\":\"value\",\"value\":\"#DCDEDF\"},\"line_alpha\":{\"type\":\"value\",\"value\":0.2},\"fill_color\":{\"type\":\"value\",\"value\":\"#DCDEDF\"},\"fill_alpha\":{\"type\":\"value\",\"value\":0.2},\"hatch_color\":{\"type\":\"value\",\"value\":\"#DCDEDF\"},\"hatch_alpha\":{\"type\":\"value\",\"value\":0.2}}}}},{\"type\":\"object\",\"name\":\"GlyphRenderer\",\"id\":\"p19495\",\"attributes\":{\"name\":\"net_exports\",\"y_range_name\":\"balances_shares\",\"data_source\":{\"id\":\"p19394\"},\"view\":{\"type\":\"object\",\"name\":\"CDSView\",\"id\":\"p19496\",\"attributes\":{\"filter\":{\"type\":\"object\",\"name\":\"AllIndices\",\"id\":\"p19497\"}}},\"glyph\":{\"type\":\"object\",\"name\":\"Line\",\"id\":\"p19492\",\"attributes\":{\"x\":{\"type\":\"field\",\"field\":\"TimePeriod\"},\"y\":{\"type\":\"field\",\"field\":\"net_exports\"},\"line_color\":\"#9EA2A2\",\"line_width\":3}},\"nonselection_glyph\":{\"type\":\"object\",\"name\":\"Line\",\"id\":\"p19493\",\"attributes\":{\"x\":{\"type\":\"field\",\"field\":\"TimePeriod\"},\"y\":{\"type\":\"field\",\"field\":\"net_exports\"},\"line_color\":\"#9EA2A2\",\"line_alpha\":0.1,\"line_width\":3}},\"muted_glyph\":{\"type\":\"object\",\"name\":\"Line\",\"id\":\"p19494\",\"attributes\":{\"x\":{\"type\":\"field\",\"field\":\"TimePeriod\"},\"y\":{\"type\":\"field\",\"field\":\"net_exports\"},\"line_color\":\"#9EA2A2\",\"line_alpha\":0.2,\"line_width\":3}}}},{\"type\":\"object\",\"name\":\"GlyphRenderer\",\"id\":\"p19504\",\"attributes\":{\"name\":\"goods\",\"y_range_name\":\"balances_shares\",\"data_source\":{\"id\":\"p19394\"},\"view\":{\"type\":\"object\",\"name\":\"CDSView\",\"id\":\"p19505\",\"attributes\":{\"filter\":{\"type\":\"object\",\"name\":\"AllIndices\",\"id\":\"p19506\"}}},\"glyph\":{\"type\":\"object\",\"name\":\"Line\",\"id\":\"p19501\",\"attributes\":{\"x\":{\"type\":\"field\",\"field\":\"TimePeriod\"},\"y\":{\"type\":\"field\",\"field\":\"goods\"},\"line_color\":\"#004C97\",\"line_width\":3}},\"nonselection_glyph\":{\"type\":\"object\",\"name\":\"Line\",\"id\":\"p19502\",\"attributes\":{\"x\":{\"type\":\"field\",\"field\":\"TimePeriod\"},\"y\":{\"type\":\"field\",\"field\":\"goods\"},\"line_color\":\"#004C97\",\"line_alpha\":0.1,\"line_width\":3}},\"muted_glyph\":{\"type\":\"object\",\"name\":\"Line\",\"id\":\"p19503\",\"attributes\":{\"x\":{\"type\":\"field\",\"field\":\"TimePeriod\"},\"y\":{\"type\":\"field\",\"field\":\"goods\"},\"line_color\":\"#004C97\",\"line_alpha\":0.2,\"line_width\":3}}}},{\"type\":\"object\",\"name\":\"GlyphRenderer\",\"id\":\"p19513\",\"attributes\":{\"name\":\"services\",\"y_range_name\":\"balances_shares\",\"data_source\":{\"id\":\"p19394\"},\"view\":{\"type\":\"object\",\"name\":\"CDSView\",\"id\":\"p19514\",\"attributes\":{\"filter\":{\"type\":\"object\",\"name\":\"AllIndices\",\"id\":\"p19515\"}}},\"glyph\":{\"type\":\"object\",\"name\":\"Line\",\"id\":\"p19510\",\"attributes\":{\"x\":{\"type\":\"field\",\"field\":\"TimePeriod\"},\"y\":{\"type\":\"field\",\"field\":\"services\"},\"line_color\":\"#D86018\",\"line_width\":3}},\"nonselection_glyph\":{\"type\":\"object\",\"name\":\"Line\",\"id\":\"p19511\",\"attributes\":{\"x\":{\"type\":\"field\",\"field\":\"TimePeriod\"},\"y\":{\"type\":\"field\",\"field\":\"services\"},\"line_color\":\"#D86018\",\"line_alpha\":0.1,\"line_width\":3}},\"muted_glyph\":{\"type\":\"object\",\"name\":\"Line\",\"id\":\"p19512\",\"attributes\":{\"x\":{\"type\":\"field\",\"field\":\"TimePeriod\"},\"y\":{\"type\":\"field\",\"field\":\"services\"},\"line_color\":\"#D86018\",\"line_alpha\":0.2,\"line_width\":3}}}}],\"toolbar\":{\"type\":\"object\",\"name\":\"Toolbar\",\"id\":\"p19404\",\"attributes\":{\"tools\":[{\"type\":\"object\",\"name\":\"PanTool\",\"id\":\"p19464\"},{\"type\":\"object\",\"name\":\"WheelZoomTool\",\"id\":\"p19465\"},{\"type\":\"object\",\"name\":\"BoxZoomTool\",\"id\":\"p19466\",\"attributes\":{\"overlay\":{\"type\":\"object\",\"name\":\"BoxAnnotation\",\"id\":\"p19467\",\"attributes\":{\"syncable\":false,\"level\":\"overlay\",\"visible\":false,\"left_units\":\"canvas\",\"right_units\":\"canvas\",\"bottom_units\":\"canvas\",\"top_units\":\"canvas\",\"line_color\":\"black\",\"line_alpha\":1.0,\"line_width\":2,\"line_dash\":[4,4],\"fill_color\":\"lightgrey\",\"fill_alpha\":0.5}}}},{\"type\":\"object\",\"name\":\"SaveTool\",\"id\":\"p19468\"},{\"type\":\"object\",\"name\":\"ResetTool\",\"id\":\"p19469\"},{\"type\":\"object\",\"name\":\"HelpTool\",\"id\":\"p19470\"},{\"type\":\"object\",\"name\":\"HoverTool\",\"id\":\"p19525\",\"attributes\":{\"renderers\":[{\"id\":\"p19485\"}],\"tooltips\":[[\"Year\",\"@TimePeriod{%Y}\"],[\"Percent\",\"@total_trade{0,0.0}\"]],\"formatters\":{\"type\":\"map\",\"entries\":[[\"@TimePeriod\",\"datetime\"]]}}},{\"type\":\"object\",\"name\":\"HoverTool\",\"id\":\"p19527\",\"attributes\":{\"renderers\":[{\"id\":\"p19495\"},{\"id\":\"p19504\"},{\"id\":\"p19513\"}],\"tooltips\":[[\"Year\",\"@TimePeriod{%Y}\"],[\"Percent\",\"@$name{0,0.0}\"]],\"formatters\":{\"type\":\"map\",\"entries\":[[\"@TimePeriod\",\"datetime\"]]}}}],\"active_drag\":null}},\"toolbar_location\":null,\"left\":[{\"type\":\"object\",\"name\":\"LinearAxis\",\"id\":\"p19457\",\"attributes\":{\"ticker\":{\"type\":\"object\",\"name\":\"BasicTicker\",\"id\":\"p19458\",\"attributes\":{\"mantissas\":[1,2,5]}},\"formatter\":{\"type\":\"object\",\"name\":\"BasicTickFormatter\",\"id\":\"p19460\"},\"axis_label\":\"Total trade share of GDP, percent (bars)\",\"axis_label_text_font\":\"calibri\",\"axis_label_text_font_style\":\"bold\",\"major_label_policy\":{\"type\":\"object\",\"name\":\"AllLabels\",\"id\":\"p19459\"},\"major_tick_line_color\":null,\"minor_tick_line_color\":null}}],\"right\":[{\"type\":\"object\",\"name\":\"LinearAxis\",\"id\":\"p19516\",\"attributes\":{\"y_range_name\":\"balances_shares\",\"ticker\":{\"type\":\"object\",\"name\":\"BasicTicker\",\"id\":\"p19517\",\"attributes\":{\"mantissas\":[1,2,5]}},\"formatter\":{\"type\":\"object\",\"name\":\"BasicTickFormatter\",\"id\":\"p19519\"},\"axis_label\":\"Trade balances, share of GDP, percent (lines)\",\"axis_label_text_font\":\"calibri\",\"axis_label_text_font_style\":\"bold\",\"major_label_policy\":{\"type\":\"object\",\"name\":\"AllLabels\",\"id\":\"p19518\"},\"major_tick_line_color\":null,\"minor_tick_line_color\":null}}],\"below\":[{\"type\":\"object\",\"name\":\"DatetimeAxis\",\"id\":\"p19414\",\"attributes\":{\"ticker\":{\"type\":\"object\",\"name\":\"DatetimeTicker\",\"id\":\"p19415\",\"attributes\":{\"num_minor_ticks\":5,\"tickers\":[{\"type\":\"object\",\"name\":\"AdaptiveTicker\",\"id\":\"p19416\",\"attributes\":{\"num_minor_ticks\":0,\"mantissas\":[1,2,5],\"max_interval\":500.0}},{\"type\":\"object\",\"name\":\"AdaptiveTicker\",\"id\":\"p19417\",\"attributes\":{\"num_minor_ticks\":0,\"base\":60,\"mantissas\":[1,2,5,10,15,20,30],\"min_interval\":1000.0,\"max_interval\":1800000.0}},{\"type\":\"object\",\"name\":\"AdaptiveTicker\",\"id\":\"p19418\",\"attributes\":{\"num_minor_ticks\":0,\"base\":24,\"mantissas\":[1,2,4,6,8,12],\"min_interval\":3600000.0,\"max_interval\":43200000.0}},{\"type\":\"object\",\"name\":\"DaysTicker\",\"id\":\"p19419\",\"attributes\":{\"days\":[1,2,3,4,5,6,7,8,9,10,11,12,13,14,15,16,17,18,19,20,21,22,23,24,25,26,27,28,29,30,31]}},{\"type\":\"object\",\"name\":\"DaysTicker\",\"id\":\"p19420\",\"attributes\":{\"days\":[1,4,7,10,13,16,19,22,25,28]}},{\"type\":\"object\",\"name\":\"DaysTicker\",\"id\":\"p19421\",\"attributes\":{\"days\":[1,8,15,22]}},{\"type\":\"object\",\"name\":\"DaysTicker\",\"id\":\"p19422\",\"attributes\":{\"days\":[1,15]}},{\"type\":\"object\",\"name\":\"MonthsTicker\",\"id\":\"p19423\",\"attributes\":{\"months\":[0,1,2,3,4,5,6,7,8,9,10,11]}},{\"type\":\"object\",\"name\":\"MonthsTicker\",\"id\":\"p19424\",\"attributes\":{\"months\":[0,2,4,6,8,10]}},{\"type\":\"object\",\"name\":\"MonthsTicker\",\"id\":\"p19425\",\"attributes\":{\"months\":[0,4,8]}},{\"type\":\"object\",\"name\":\"MonthsTicker\",\"id\":\"p19426\",\"attributes\":{\"months\":[0,6]}},{\"type\":\"object\",\"name\":\"YearsTicker\",\"id\":\"p19427\"}]}},\"formatter\":{\"type\":\"object\",\"name\":\"DatetimeTickFormatter\",\"id\":\"p19429\"},\"axis_label_text_font\":\"calibri\",\"axis_label_text_font_style\":\"bold\",\"major_label_policy\":{\"type\":\"object\",\"name\":\"AllLabels\",\"id\":\"p19428\"},\"major_tick_line_color\":null,\"minor_tick_line_color\":null}},{\"type\":\"object\",\"name\":\"Legend\",\"id\":\"p19520\",\"attributes\":{\"location\":\"center\",\"orientation\":\"horizontal\",\"border_line_color\":\"white\",\"label_text_font\":\"calibri\",\"items\":[{\"type\":\"object\",\"name\":\"LegendItem\",\"id\":\"p19521\",\"attributes\":{\"label\":{\"type\":\"value\",\"value\":\"Total trade (exports + imports)\"},\"renderers\":[{\"id\":\"p19485\"}]}},{\"type\":\"object\",\"name\":\"LegendItem\",\"id\":\"p19522\",\"attributes\":{\"label\":{\"type\":\"value\",\"value\":\"Trade balance\"},\"renderers\":[{\"id\":\"p19495\"}]}},{\"type\":\"object\",\"name\":\"LegendItem\",\"id\":\"p19523\",\"attributes\":{\"label\":{\"type\":\"value\",\"value\":\"Goods balance\"},\"renderers\":[{\"id\":\"p19504\"}]}},{\"type\":\"object\",\"name\":\"LegendItem\",\"id\":\"p19524\",\"attributes\":{\"label\":{\"type\":\"value\",\"value\":\"Services balance\"},\"renderers\":[{\"id\":\"p19513\"}]}}]}}],\"center\":[{\"type\":\"object\",\"name\":\"Grid\",\"id\":\"p19456\",\"attributes\":{\"axis\":{\"id\":\"p19414\"},\"grid_line_color\":null,\"grid_line_width\":1.5}},{\"type\":\"object\",\"name\":\"Grid\",\"id\":\"p19463\",\"attributes\":{\"dimension\":1,\"axis\":{\"id\":\"p19457\"},\"grid_line_color\":\"#DCDEDF\",\"grid_line_width\":1.5}}]}}],\"callbacks\":{\"type\":\"map\"}}};\n  const render_items = [{\"docid\":\"92d74584-db9b-4f25-b944-9a8939b47361\",\"roots\":{\"p19397\":\"0e23d2a1-ced9-4b97-aed8-da0584a33a98\"},\"root_ids\":[\"p19397\"]}];\n  root.Bokeh.embed.embed_items_notebook(docs_json, render_items);\n  }\n  if (root.Bokeh !== undefined) {\n    embed_document(root);\n  } else {\n    let attempts = 0;\n    const timer = setInterval(function(root) {\n      if (root.Bokeh !== undefined) {\n        clearInterval(timer);\n        embed_document(root);\n      } else {\n        attempts++;\n        if (attempts > 100) {\n          clearInterval(timer);\n          console.log(\"Bokeh: ERROR: Unable to run BokehJS code because BokehJS library is missing\");\n        }\n      }\n    }, 10, root)\n  }\n})(window);",
      "application/vnd.bokehjs_exec.v0+json": ""
     },
     "metadata": {
      "application/vnd.bokehjs_exec.v0+json": {
       "id": "p19397"
      }
     },
     "output_type": "display_data"
    },
    {
     "data": {
      "text/html": [
       "<ul class=\"footnote\">\n",
       "<li>Data. Ratios of total trade, net exports, net exports of goods, and net exports of services to GDP, 1929–2022</li>\n",
       "<li>Source. BEA <a href=\"https://apps.bea.gov/iTable/iTable.cfm?reqid=19&step=3&isuri=1&nipa_table_list=5&categories=survey\" class=\"figlink\">NIPA table 1.1.5</a> and <a href=\"https://apps.bea.gov/iTable/?reqid=19&step=3&isuri=1&nipa_table_list=14&categories=survey\" class=\"figlink\">NIPA table 1.1.10</a></li>\n",
       "<ul>"
      ],
      "text/plain": [
       "<IPython.core.display.HTML object>"
      ]
     },
     "metadata": {},
     "output_type": "display_data"
    }
   ],
   "source": [
    "show(wellbeing.generate_chart.trade_balance(start_year=1929, end_year=default_end_year, from_cache=from_cache))"
   ]
  },
  {
   "cell_type": "code",
   "execution_count": 66,
   "metadata": {},
   "outputs": [
    {
     "data": {
      "text/html": [
       "International trade is an important factor in economic growth. By allowing for specialization across nations and raising productivity, trade yields higher growth and standards of living.<br><br>Between 1948 and 2022, overall U.S. trade (exports plus imports) as a percentage of GDP grew from about 9 percent to about 27 percent. The increased international trade—along with higher quality economic data and better-informed policies and institutions—contributed to an unprecedented period of growth in standards of living in the United States and other developed economies. Since 1948, real GDP per capita quadrupled in the United States.<br><br>Until the mid-1970s, the United States had an international trade balance that was usually in surplus. Over time, the U.S. trade balance moved to persistent trade deficits (with deficits on goods more than offsetting surpluses in services). These trade deficits were the result of domestic spending that exceeded domestic production, or its mirror image, low national saving that reflects the higher domestic spending. The lower investment that often accompanies lower saving may slow growth in productivity, the economy, and standards of living, thereby offsetting some of the positive contributions of international trade to economic growth."
      ],
      "text/plain": [
       "<IPython.core.display.HTML object>"
      ]
     },
     "metadata": {},
     "output_type": "display_data"
    }
   ],
   "source": [
    "show_narrative('Trade Balance')"
   ]
  },
  {
   "attachments": {},
   "cell_type": "markdown",
   "metadata": {},
   "source": [
    "#### Financing International Trade"
   ]
  },
  {
   "cell_type": "code",
   "execution_count": 67,
   "metadata": {},
   "outputs": [
    {
     "name": "stdout",
     "output_type": "stream",
     "text": [
      "Financing International Trade\n",
      "Foreign Debt Service and Debt\n"
     ]
    },
    {
     "data": {
      "text/html": [
       "\n",
       "  <div id=\"ba5c2733-36ae-44ad-a342-7d39e49240dc\" data-root-id=\"p20573\" style=\"display: contents;\"></div>\n"
      ]
     },
     "metadata": {},
     "output_type": "display_data"
    },
    {
     "data": {
      "application/javascript": "(function(root) {\n  function embed_document(root) {\n  const docs_json = {\"b2a1cb0e-c075-46bb-b9ab-2778a8700a16\":{\"version\":\"3.1.0\",\"title\":\"Bokeh Application\",\"defs\":[],\"roots\":[{\"type\":\"object\",\"name\":\"Figure\",\"id\":\"p20573\",\"attributes\":{\"styles\":{\"type\":\"map\",\"entries\":[[\"width\",\"98%\"]]},\"width\":700,\"height\":400,\"aspect_ratio\":1.75,\"sizing_mode\":\"scale_both\",\"x_range\":{\"type\":\"object\",\"name\":\"Range1d\",\"id\":\"p20582\",\"attributes\":{\"start\":189302400000.0,\"end\":1640995200000.0}},\"y_range\":{\"type\":\"object\",\"name\":\"Range1d\",\"id\":\"p20584\",\"attributes\":{\"start\":-16,\"end\":16}},\"x_scale\":{\"type\":\"object\",\"name\":\"LinearScale\",\"id\":\"p20586\"},\"y_scale\":{\"type\":\"object\",\"name\":\"LinearScale\",\"id\":\"p20588\"},\"title\":{\"type\":\"object\",\"name\":\"Title\",\"id\":\"p20578\"},\"outline_line_color\":null,\"renderers\":[{\"type\":\"object\",\"name\":\"GlyphRenderer\",\"id\":\"p20661\",\"attributes\":{\"name\":\"debt_service_to_exports\",\"data_source\":{\"type\":\"object\",\"name\":\"ColumnDataSource\",\"id\":\"p20570\",\"attributes\":{\"selected\":{\"type\":\"object\",\"name\":\"Selection\",\"id\":\"p20571\",\"attributes\":{\"indices\":[],\"line_indices\":[]}},\"selection_policy\":{\"type\":\"object\",\"name\":\"UnionRenderers\",\"id\":\"p20572\"},\"data\":{\"type\":\"map\",\"entries\":[[\"TimePeriod\",{\"type\":\"ndarray\",\"array\":[189302400000.0,220924800000.0,252460800000.0,283996800000.0,315532800000.0,347155200000.0,378691200000.0,410227200000.0,441763200000.0,473385600000.0,504921600000.0,536457600000.0,567993600000.0,599616000000.0,631152000000.0,662688000000.0,694224000000.0,725846400000.0,757382400000.0,788918400000.0,820454400000.0,852076800000.0,883612800000.0,915148800000.0,946684800000.0,978307200000.0,1009843200000.0,1041379200000.0,1072915200000.0,1104537600000.0,1136073600000.0,1167609600000.0,1199145600000.0,1230768000000.0,1262304000000.0,1293840000000.0,1325376000000.0,1356998400000.0,1388534400000.0,1420070400000.0,1451606400000.0,1483228800000.0,1514764800000.0,1546300800000.0,1577836800000.0,1609459200000.0,1640995200000.0],\"shape\":[47],\"dtype\":\"object\",\"order\":\"little\"}],[\"debt_service_to_exports\",{\"type\":\"ndarray\",\"array\":{\"type\":\"bytes\",\"data\":\"iqHFvUd8JcADrFcEjcMmwITK1oDe1iXAh1fT4PfUKsAmLGevwmslwP+xZGcQjyXABpZLlu3UKMCMFEo590UqwFtT6+pSMSfAbP3DLmb3IMBdajHZTYMVwH6Ds1bzLxHAQipZYb2TEcC6xWcdG7sQwD2egKuLWhbAcUuHegYQEsCInV0uoC4RwHuJoC9tfRHAUTjRO1F5B8BnrfCAlZQIwM6Rw/+fYAjAQJMKZb+F/L9tmmvVbaDtv1l2CR7avvu/qXrf0xUjAMDjm9s0S1UIwBs1HaGwpATADc0cJMNRDcA7Pcr/ziwTwN1Rc2TAJRHATeQDHaH7/b85/iT/tiMSwI1GJuJO/xrAOHjwvXpDH8BlDKwdgx0jwIWQVq0S4CPA/5ptSceQIsCtlvybUtghwHh7TFKuoyHAhok5OhM4IcDbS+xT/pUiwKL8NrMkfSbAsyuqiv3sJMBMjoRQoB8kwETlcJZ40B/AP6sosCumF8DzWLim/7EZwA==\"},\"shape\":[47],\"dtype\":\"float64\",\"order\":\"little\"}],[\"debt_service_to_income\",{\"type\":\"ndarray\",\"array\":{\"type\":\"bytes\",\"data\":\"EM6n9Ne9678b4MACOSTsv2VnccIsDOy/b9mcUT8h879pS/Hx+Rrxv2BlWz3ZnPC/YXfCILve8L91GFfzqkbwvz5ziQJwFOy/Iy4K8dE1478scYZXOI7Yv5JR2+EhzdS/wPy8cFTk179aMfxuczjYv+T2KZ/X0eC/4UpHWB9Z3L8JVEkHoizbv+10i16fVtu/gC+ZwDbx0r9la93w3C3Vvz/l2u8iHNW/8uPl9kZoyb94Owckh8W4v73IL8Di0Ma/z2kW5kJby78z9Fk6NrDSvw0IshrO8s2/0Fc5NiYo1b+ZSZGy2Hvdv8w2HcbfRtu/ia6vhhwnyb/nMOiRmKjgv7zXhDYqM+u/9tIzq7m667/Kb+hpDPryv2UBtMiYjPW/NStNCS8I9L/5zaZut0Dzv+BdE0rd1vK/ZwPSCHDy8L+wihjZD6rxv3sotbIu7vW/QCTTcCuU9L8N55Ce+QTzv2UhZAIgtOm/oIaOpLJ+5L9Sn8HuKd/nvw==\"},\"shape\":[47],\"dtype\":\"float64\",\"order\":\"little\"}],[\"debt_to_assets\",{\"type\":\"ndarray\",\"array\":{\"type\":\"bytes\",\"data\":\"70HeIKF28b9nJR6jBXvzv+b1VLsqh/a/QFzDE3rRAcBLnqRnmhoEwNDWMdtkU/y/fG73s3DM+78uRnpeK0z8v3N/8qxM3+u/5tMb+NSm4r+fIYBw4Krhv9OIPDaM69G/8fCuE0mPt7/QSfRxU/fAP/4jpvY5I+I/yqKFBDm26z+iH+LrkYP3P+hfpVgkDtk/zuRtpm/R1T+3KYUdxzvpPwayInUU3+s/xfeITJJ2/j8l6xFdpiACQH4clskk9f8/tOYDvKyiB0CyNYWi0eoQQOLKqEvRihFAkTon0LYMDkDAteT5pGELQHY8dmjSmANAS5qEh/2mAUAGf4I7KSv4P9eiVzW/HhVAOi8mGf2tC0CyteTTXBEJQO5Km/Fo+RVACxHVXvJEFUDYV0ULovcWQEwBtBQlyRtAG4zPiB4YHUD6vaGOnBQeQAASWCO8TBpAA8UpOWNNIECRTD8/7XkhQPPaC0A1wyNA+Ucd5M5MJUD1nPZxmkojQA==\"},\"shape\":[47],\"dtype\":\"float64\",\"order\":\"little\"}]]}}},\"view\":{\"type\":\"object\",\"name\":\"CDSView\",\"id\":\"p20662\",\"attributes\":{\"filter\":{\"type\":\"object\",\"name\":\"AllIndices\",\"id\":\"p20663\"}}},\"glyph\":{\"type\":\"object\",\"name\":\"Line\",\"id\":\"p20658\",\"attributes\":{\"x\":{\"type\":\"field\",\"field\":\"TimePeriod\"},\"y\":{\"type\":\"field\",\"field\":\"debt_service_to_exports\"},\"line_color\":\"#004C97\",\"line_width\":3}},\"nonselection_glyph\":{\"type\":\"object\",\"name\":\"Line\",\"id\":\"p20659\",\"attributes\":{\"x\":{\"type\":\"field\",\"field\":\"TimePeriod\"},\"y\":{\"type\":\"field\",\"field\":\"debt_service_to_exports\"},\"line_color\":\"#004C97\",\"line_alpha\":0.1,\"line_width\":3}},\"muted_glyph\":{\"type\":\"object\",\"name\":\"Line\",\"id\":\"p20660\",\"attributes\":{\"x\":{\"type\":\"field\",\"field\":\"TimePeriod\"},\"y\":{\"type\":\"field\",\"field\":\"debt_service_to_exports\"},\"line_color\":\"#004C97\",\"line_alpha\":0.2,\"line_width\":3}}}},{\"type\":\"object\",\"name\":\"GlyphRenderer\",\"id\":\"p20670\",\"attributes\":{\"name\":\"debt_service_to_income\",\"data_source\":{\"id\":\"p20570\"},\"view\":{\"type\":\"object\",\"name\":\"CDSView\",\"id\":\"p20671\",\"attributes\":{\"filter\":{\"type\":\"object\",\"name\":\"AllIndices\",\"id\":\"p20672\"}}},\"glyph\":{\"type\":\"object\",\"name\":\"Line\",\"id\":\"p20667\",\"attributes\":{\"x\":{\"type\":\"field\",\"field\":\"TimePeriod\"},\"y\":{\"type\":\"field\",\"field\":\"debt_service_to_income\"},\"line_color\":\"#D86018\",\"line_width\":3}},\"nonselection_glyph\":{\"type\":\"object\",\"name\":\"Line\",\"id\":\"p20668\",\"attributes\":{\"x\":{\"type\":\"field\",\"field\":\"TimePeriod\"},\"y\":{\"type\":\"field\",\"field\":\"debt_service_to_income\"},\"line_color\":\"#D86018\",\"line_alpha\":0.1,\"line_width\":3}},\"muted_glyph\":{\"type\":\"object\",\"name\":\"Line\",\"id\":\"p20669\",\"attributes\":{\"x\":{\"type\":\"field\",\"field\":\"TimePeriod\"},\"y\":{\"type\":\"field\",\"field\":\"debt_service_to_income\"},\"line_color\":\"#D86018\",\"line_alpha\":0.2,\"line_width\":3}}}},{\"type\":\"object\",\"name\":\"GlyphRenderer\",\"id\":\"p20679\",\"attributes\":{\"name\":\"debt_to_assets\",\"data_source\":{\"id\":\"p20570\"},\"view\":{\"type\":\"object\",\"name\":\"CDSView\",\"id\":\"p20680\",\"attributes\":{\"filter\":{\"type\":\"object\",\"name\":\"AllIndices\",\"id\":\"p20681\"}}},\"glyph\":{\"type\":\"object\",\"name\":\"Line\",\"id\":\"p20676\",\"attributes\":{\"x\":{\"type\":\"field\",\"field\":\"TimePeriod\"},\"y\":{\"type\":\"field\",\"field\":\"debt_to_assets\"},\"line_color\":\"#9EA2A2\",\"line_width\":3}},\"nonselection_glyph\":{\"type\":\"object\",\"name\":\"Line\",\"id\":\"p20677\",\"attributes\":{\"x\":{\"type\":\"field\",\"field\":\"TimePeriod\"},\"y\":{\"type\":\"field\",\"field\":\"debt_to_assets\"},\"line_color\":\"#9EA2A2\",\"line_alpha\":0.1,\"line_width\":3}},\"muted_glyph\":{\"type\":\"object\",\"name\":\"Line\",\"id\":\"p20678\",\"attributes\":{\"x\":{\"type\":\"field\",\"field\":\"TimePeriod\"},\"y\":{\"type\":\"field\",\"field\":\"debt_to_assets\"},\"line_color\":\"#9EA2A2\",\"line_alpha\":0.2,\"line_width\":3}}}}],\"toolbar\":{\"type\":\"object\",\"name\":\"Toolbar\",\"id\":\"p20580\",\"attributes\":{\"tools\":[{\"type\":\"object\",\"name\":\"PanTool\",\"id\":\"p20640\"},{\"type\":\"object\",\"name\":\"WheelZoomTool\",\"id\":\"p20641\"},{\"type\":\"object\",\"name\":\"BoxZoomTool\",\"id\":\"p20642\",\"attributes\":{\"overlay\":{\"type\":\"object\",\"name\":\"BoxAnnotation\",\"id\":\"p20643\",\"attributes\":{\"syncable\":false,\"level\":\"overlay\",\"visible\":false,\"left_units\":\"canvas\",\"right_units\":\"canvas\",\"bottom_units\":\"canvas\",\"top_units\":\"canvas\",\"line_color\":\"black\",\"line_alpha\":1.0,\"line_width\":2,\"line_dash\":[4,4],\"fill_color\":\"lightgrey\",\"fill_alpha\":0.5}}}},{\"type\":\"object\",\"name\":\"SaveTool\",\"id\":\"p20644\"},{\"type\":\"object\",\"name\":\"ResetTool\",\"id\":\"p20645\"},{\"type\":\"object\",\"name\":\"HelpTool\",\"id\":\"p20646\"},{\"type\":\"object\",\"name\":\"HoverTool\",\"id\":\"p20686\",\"attributes\":{\"renderers\":[{\"id\":\"p20661\"},{\"id\":\"p20670\"},{\"id\":\"p20679\"}],\"tooltips\":[[\"Year\",\"@TimePeriod{%Y}\"],[\"Percent\",\"@$name{0.0}\"]],\"formatters\":{\"type\":\"map\",\"entries\":[[\"@TimePeriod\",\"datetime\"]]}}}],\"active_drag\":null}},\"toolbar_location\":null,\"left\":[{\"type\":\"object\",\"name\":\"LinearAxis\",\"id\":\"p20633\",\"attributes\":{\"ticker\":{\"type\":\"object\",\"name\":\"BasicTicker\",\"id\":\"p20634\",\"attributes\":{\"mantissas\":[1,2,5]}},\"formatter\":{\"type\":\"object\",\"name\":\"BasicTickFormatter\",\"id\":\"p20636\"},\"axis_label\":\"Percent\",\"axis_label_text_font\":\"calibri\",\"axis_label_text_font_style\":\"bold\",\"major_label_policy\":{\"type\":\"object\",\"name\":\"AllLabels\",\"id\":\"p20635\"},\"axis_line_color\":null,\"major_tick_line_color\":null,\"minor_tick_line_color\":null}}],\"below\":[{\"type\":\"object\",\"name\":\"DatetimeAxis\",\"id\":\"p20590\",\"attributes\":{\"ticker\":{\"type\":\"object\",\"name\":\"DatetimeTicker\",\"id\":\"p20591\",\"attributes\":{\"num_minor_ticks\":5,\"tickers\":[{\"type\":\"object\",\"name\":\"AdaptiveTicker\",\"id\":\"p20592\",\"attributes\":{\"num_minor_ticks\":0,\"mantissas\":[1,2,5],\"max_interval\":500.0}},{\"type\":\"object\",\"name\":\"AdaptiveTicker\",\"id\":\"p20593\",\"attributes\":{\"num_minor_ticks\":0,\"base\":60,\"mantissas\":[1,2,5,10,15,20,30],\"min_interval\":1000.0,\"max_interval\":1800000.0}},{\"type\":\"object\",\"name\":\"AdaptiveTicker\",\"id\":\"p20594\",\"attributes\":{\"num_minor_ticks\":0,\"base\":24,\"mantissas\":[1,2,4,6,8,12],\"min_interval\":3600000.0,\"max_interval\":43200000.0}},{\"type\":\"object\",\"name\":\"DaysTicker\",\"id\":\"p20595\",\"attributes\":{\"days\":[1,2,3,4,5,6,7,8,9,10,11,12,13,14,15,16,17,18,19,20,21,22,23,24,25,26,27,28,29,30,31]}},{\"type\":\"object\",\"name\":\"DaysTicker\",\"id\":\"p20596\",\"attributes\":{\"days\":[1,4,7,10,13,16,19,22,25,28]}},{\"type\":\"object\",\"name\":\"DaysTicker\",\"id\":\"p20597\",\"attributes\":{\"days\":[1,8,15,22]}},{\"type\":\"object\",\"name\":\"DaysTicker\",\"id\":\"p20598\",\"attributes\":{\"days\":[1,15]}},{\"type\":\"object\",\"name\":\"MonthsTicker\",\"id\":\"p20599\",\"attributes\":{\"months\":[0,1,2,3,4,5,6,7,8,9,10,11]}},{\"type\":\"object\",\"name\":\"MonthsTicker\",\"id\":\"p20600\",\"attributes\":{\"months\":[0,2,4,6,8,10]}},{\"type\":\"object\",\"name\":\"MonthsTicker\",\"id\":\"p20601\",\"attributes\":{\"months\":[0,4,8]}},{\"type\":\"object\",\"name\":\"MonthsTicker\",\"id\":\"p20602\",\"attributes\":{\"months\":[0,6]}},{\"type\":\"object\",\"name\":\"YearsTicker\",\"id\":\"p20603\"}]}},\"formatter\":{\"type\":\"object\",\"name\":\"DatetimeTickFormatter\",\"id\":\"p20605\"},\"axis_label_text_font\":\"calibri\",\"axis_label_text_font_style\":\"bold\",\"major_label_policy\":{\"type\":\"object\",\"name\":\"AllLabels\",\"id\":\"p20604\"},\"axis_line_color\":null,\"major_tick_line_color\":null,\"minor_tick_line_color\":null}},{\"type\":\"object\",\"name\":\"Legend\",\"id\":\"p20682\",\"attributes\":{\"location\":\"center\",\"orientation\":\"horizontal\",\"border_line_color\":\"white\",\"label_text_font\":\"calibri\",\"items\":[{\"type\":\"object\",\"name\":\"LegendItem\",\"id\":\"p20683\",\"attributes\":{\"label\":{\"type\":\"value\",\"value\":\"Intl debt service to exports ratio\"},\"renderers\":[{\"id\":\"p20661\"}]}},{\"type\":\"object\",\"name\":\"LegendItem\",\"id\":\"p20684\",\"attributes\":{\"label\":{\"type\":\"value\",\"value\":\"Intl debt service to income ratio\"},\"renderers\":[{\"id\":\"p20670\"}]}},{\"type\":\"object\",\"name\":\"LegendItem\",\"id\":\"p20685\",\"attributes\":{\"label\":{\"type\":\"value\",\"value\":\"Intl debt to asset ratio\"},\"renderers\":[{\"id\":\"p20679\"}]}}]}}],\"center\":[{\"type\":\"object\",\"name\":\"Grid\",\"id\":\"p20632\",\"attributes\":{\"axis\":{\"id\":\"p20590\"},\"grid_line_color\":null,\"grid_line_width\":1.5}},{\"type\":\"object\",\"name\":\"Grid\",\"id\":\"p20639\",\"attributes\":{\"dimension\":1,\"axis\":{\"id\":\"p20633\"},\"grid_line_color\":\"#DCDEDF\",\"grid_line_width\":1.5}}]}}],\"callbacks\":{\"type\":\"map\"}}};\n  const render_items = [{\"docid\":\"b2a1cb0e-c075-46bb-b9ab-2778a8700a16\",\"roots\":{\"p20573\":\"ba5c2733-36ae-44ad-a342-7d39e49240dc\"},\"root_ids\":[\"p20573\"]}];\n  root.Bokeh.embed.embed_items_notebook(docs_json, render_items);\n  }\n  if (root.Bokeh !== undefined) {\n    embed_document(root);\n  } else {\n    let attempts = 0;\n    const timer = setInterval(function(root) {\n      if (root.Bokeh !== undefined) {\n        clearInterval(timer);\n        embed_document(root);\n      } else {\n        attempts++;\n        if (attempts > 100) {\n          clearInterval(timer);\n          console.log(\"Bokeh: ERROR: Unable to run BokehJS code because BokehJS library is missing\");\n        }\n      }\n    }, 10, root)\n  }\n})(window);",
      "application/vnd.bokehjs_exec.v0+json": ""
     },
     "metadata": {
      "application/vnd.bokehjs_exec.v0+json": {
       "id": "p20573"
      }
     },
     "output_type": "display_data"
    },
    {
     "data": {
      "text/html": [
       "<ul class=\"footnote\">\n",
       "<li>Data. Trends in international (intl) debt service ratios and international debt to asset ratio, 1976–2022</li>\n",
       "<li>Source. BEA <a href=\"https://apps.bea.gov/iTable/?reqid=19&step=3&isuri=1&nipa_table_list=43&categories=survey\" class=\"figlink\">NIPA table 1.7.5</a>, BEA <a href=\"https://apps.bea.gov/iTable/iTable.cfm?reqid=62&step=6&isuri=1&tablelist=143&product=5\" class=\"figlink\">IIP table 1.1</a>, BEA-FRB <a href=\"https://apps.bea.gov/iTable/iTable.cfm?reqid=14&step=3&isuri=1&table_list=6201\" class=\"figlink\">Integrated macroeconomic accounts table S.3.a</a></li>\n",
       "<li>The debt service to exports ratio is calculated as net investment income payments to the rest of the world (ROW) divided by exports. The debt service to income ratio is calculated as net investment income payments to ROW divided by gross domestic income. The debt to asset ratio is calculated as net U.S. liabilities to ROW divided by U.S. household assets.</li>\n",
       "<ul>"
      ],
      "text/plain": [
       "<IPython.core.display.HTML object>"
      ]
     },
     "metadata": {},
     "output_type": "display_data"
    }
   ],
   "source": [
    "show(wellbeing.generate_chart.financing_trade(start_year=1976, end_year=default_end_year, from_cache=from_cache))"
   ]
  },
  {
   "cell_type": "code",
   "execution_count": 68,
   "metadata": {},
   "outputs": [
    {
     "data": {
      "text/html": [
       "One indicator of the long-term impact of U.S. trade deficits is the net amount the nation pays in external debt service, dividends, reinvested earnings, and other investment income to foreign investors relative to its exports. While the \"debt service to exports ratio\" generally increased from the mid-1970s through the late-1990s and trended downward thereafter, it has been consistently negative, meaning that the United States receives more in foreign investment income than it pays to foreign residents.<br><br>Because the U.S. dollar is an international currency, the United States' ability to service foreign debt is not constrained by the supply of currency earned through exports but by its income. Comparing net investment income payments to gross domestic income, shows that the \"debt service to income ratio\" has remained relatively stable over time.<br><br>Another key measure is the ratio of U.S. net liabilities to the rest of the world compared with U.S. household assets. The \"international debt to asset ratio\" has grown since the 1980s, with international debt equal to around 9.5 percent of U.S. assets in 2022.<br><br>Currently, U.S. receipts from overseas investments exceed payments for foreign investments in the United States, resulting in a surplus on international investment income even though the United States has outstanding net liabilities to the rest of the world. The rates of return earned by U.S. residents on assets abroad exceed the rates of return on foreign-held assets in the United States by a large enough amount to offset U.S. debt payments to the rest of the world."
      ],
      "text/plain": [
       "<IPython.core.display.HTML object>"
      ]
     },
     "metadata": {},
     "output_type": "display_data"
    }
   ],
   "source": [
    "show_narrative('Financing Trade')"
   ]
  },
  {
   "attachments": {},
   "cell_type": "markdown",
   "metadata": {},
   "source": [
    "#### Offshoring"
   ]
  },
  {
   "cell_type": "code",
   "execution_count": 3,
   "metadata": {},
   "outputs": [
    {
     "data": {
      "text/html": [
       "\n",
       "  <div id=\"0ca1e3ee-d0b7-4dad-b59d-cef36cb141b1\" data-root-id=\"p1263\" style=\"display: contents;\"></div>\n"
      ]
     },
     "metadata": {},
     "output_type": "display_data"
    },
    {
     "data": {
      "application/javascript": "(function(root) {\n  function embed_document(root) {\n  const docs_json = {\"5aa21da2-12ee-4489-a72b-becf870b061f\":{\"version\":\"3.1.0\",\"title\":\"Bokeh Application\",\"defs\":[],\"roots\":[{\"type\":\"object\",\"name\":\"Column\",\"id\":\"p1263\",\"attributes\":{\"styles\":{\"type\":\"map\",\"entries\":[[\"width\",\"s700px\"],[\"background-color\",\"white\"]]},\"stylesheets\":[{\"type\":\"object\",\"name\":\"ImportedStyleSheet\",\"id\":\"p1001\",\"attributes\":{\"url\":\"c:\\\\Users\\\\ODBXQ1\\\\Documents\\\\EconomicWellbeingAndGrowth\\\\wellbeing\\\\local.css\"}}],\"children\":[{\"type\":\"object\",\"name\":\"Div\",\"id\":\"p1261\",\"attributes\":{\"css_classes\":[\"figtitle\"],\"text\":\"U.S. Multinational Companies' Employment in U.S. and Foreign Subsidiaries\"}},{\"type\":\"object\",\"name\":\"Figure\",\"id\":\"p1186\",\"attributes\":{\"width\":700,\"height\":400,\"aspect_ratio\":1.75,\"sizing_mode\":\"scale_width\",\"x_range\":{\"type\":\"object\",\"name\":\"DataRange1d\",\"id\":\"p1188\"},\"y_range\":{\"type\":\"object\",\"name\":\"Range1d\",\"id\":\"p1197\",\"attributes\":{\"end\":30000}},\"x_scale\":{\"type\":\"object\",\"name\":\"LinearScale\",\"id\":\"p1199\"},\"y_scale\":{\"type\":\"object\",\"name\":\"LinearScale\",\"id\":\"p1201\"},\"title\":{\"type\":\"object\",\"name\":\"Title\",\"id\":\"p1189\"},\"renderers\":[{\"type\":\"object\",\"name\":\"GlyphRenderer\",\"id\":\"p1239\",\"attributes\":{\"data_source\":{\"type\":\"object\",\"name\":\"ColumnDataSource\",\"id\":\"p1183\",\"attributes\":{\"selected\":{\"type\":\"object\",\"name\":\"Selection\",\"id\":\"p1184\",\"attributes\":{\"indices\":[],\"line_indices\":[]}},\"selection_policy\":{\"type\":\"object\",\"name\":\"UnionRenderers\",\"id\":\"p1185\"},\"data\":{\"type\":\"map\",\"entries\":[[\"index\",{\"type\":\"ndarray\",\"array\":{\"type\":\"bytes\",\"data\":\"AAAAAAEAAAACAAAAAwAAAAQAAAAFAAAABgAAAAcAAAAIAAAACQAAAA==\"},\"shape\":[10],\"dtype\":\"int32\",\"order\":\"little\"}],[\"Year\",{\"type\":\"ndarray\",\"array\":{\"type\":\"bytes\",\"data\":\"1AcAAM8HAADZBwAA3gcAAOEHAADgBwAA3wcAAOQHAADiBwAA4wcAAA==\"},\"shape\":[10],\"dtype\":\"int32\",\"order\":\"little\"}],[\"SeriesName\",{\"type\":\"ndarray\",\"array\":[\"Employment\",\"Employment\",\"Employment\",\"Employment\",\"Employment\",\"Employment\",\"Employment\",\"Employment\",\"Employment\",\"Employment\"],\"shape\":[10],\"dtype\":\"object\",\"order\":\"little\"}],[\"DomesticEmploy\",{\"type\":\"ndarray\",\"array\":{\"type\":\"bytes\",\"data\":\"AAAAACCu1EAzMzMzs3fWQM3MzMwsZdZAzczMzMzw2kDNzMzMbFPbQGZmZmamXdtAZmZmZmZj20CamZmZGcbbQDMzMzMT3dtAzczMzOxk3EA=\"},\"shape\":[10],\"dtype\":\"float64\",\"order\":\"little\"}],[\"ForeignEmploy\",{\"type\":\"ndarray\",\"array\":{\"type\":\"bytes\",\"data\":\"mpmZmVntwEDNzMzMzFW+QDMzMzPzFMVAMzMzMzNyy0CamZmZ2RbMQDMzMzOz3MtAAAAAAICAy0DNzMzMzFvLQM3MzMwMCMxAZmZmZuaky0A=\"},\"shape\":[10],\"dtype\":\"float64\",\"order\":\"little\"}]]}}},\"view\":{\"type\":\"object\",\"name\":\"CDSView\",\"id\":\"p1240\",\"attributes\":{\"filter\":{\"type\":\"object\",\"name\":\"AllIndices\",\"id\":\"p1241\"}}},\"glyph\":{\"type\":\"object\",\"name\":\"VBar\",\"id\":\"p1236\",\"attributes\":{\"x\":{\"type\":\"field\",\"field\":\"Year\",\"transform\":{\"type\":\"object\",\"name\":\"Dodge\",\"id\":\"p1232\",\"attributes\":{\"value\":-0.22,\"range\":{\"id\":\"p1188\"}}}},\"width\":{\"type\":\"value\",\"value\":0.4},\"top\":{\"type\":\"field\",\"field\":\"DomesticEmploy\"},\"line_color\":{\"type\":\"value\",\"value\":\"#004C97\"},\"fill_color\":{\"type\":\"value\",\"value\":\"#004C97\"},\"hatch_color\":{\"type\":\"value\",\"value\":\"#004C97\"}}},\"nonselection_glyph\":{\"type\":\"object\",\"name\":\"VBar\",\"id\":\"p1237\",\"attributes\":{\"x\":{\"type\":\"field\",\"field\":\"Year\",\"transform\":{\"id\":\"p1232\"}},\"width\":{\"type\":\"value\",\"value\":0.4},\"top\":{\"type\":\"field\",\"field\":\"DomesticEmploy\"},\"line_color\":{\"type\":\"value\",\"value\":\"#004C97\"},\"line_alpha\":{\"type\":\"value\",\"value\":0.1},\"fill_color\":{\"type\":\"value\",\"value\":\"#004C97\"},\"fill_alpha\":{\"type\":\"value\",\"value\":0.1},\"hatch_color\":{\"type\":\"value\",\"value\":\"#004C97\"},\"hatch_alpha\":{\"type\":\"value\",\"value\":0.1}}},\"muted_glyph\":{\"type\":\"object\",\"name\":\"VBar\",\"id\":\"p1238\",\"attributes\":{\"x\":{\"type\":\"field\",\"field\":\"Year\",\"transform\":{\"id\":\"p1232\"}},\"width\":{\"type\":\"value\",\"value\":0.4},\"top\":{\"type\":\"field\",\"field\":\"DomesticEmploy\"},\"line_color\":{\"type\":\"value\",\"value\":\"#004C97\"},\"line_alpha\":{\"type\":\"value\",\"value\":0.2},\"fill_color\":{\"type\":\"value\",\"value\":\"#004C97\"},\"fill_alpha\":{\"type\":\"value\",\"value\":0.2},\"hatch_color\":{\"type\":\"value\",\"value\":\"#004C97\"},\"hatch_alpha\":{\"type\":\"value\",\"value\":0.2}}}}},{\"type\":\"object\",\"name\":\"GlyphRenderer\",\"id\":\"p1249\",\"attributes\":{\"data_source\":{\"id\":\"p1183\"},\"view\":{\"type\":\"object\",\"name\":\"CDSView\",\"id\":\"p1250\",\"attributes\":{\"filter\":{\"type\":\"object\",\"name\":\"AllIndices\",\"id\":\"p1251\"}}},\"glyph\":{\"type\":\"object\",\"name\":\"VBar\",\"id\":\"p1246\",\"attributes\":{\"x\":{\"type\":\"field\",\"field\":\"Year\",\"transform\":{\"type\":\"object\",\"name\":\"Dodge\",\"id\":\"p1242\",\"attributes\":{\"value\":0.22,\"range\":{\"id\":\"p1188\"}}}},\"width\":{\"type\":\"value\",\"value\":0.4},\"top\":{\"type\":\"field\",\"field\":\"ForeignEmploy\"},\"line_color\":{\"type\":\"value\",\"value\":\"#D86018\"},\"fill_color\":{\"type\":\"value\",\"value\":\"#D86018\"},\"hatch_color\":{\"type\":\"value\",\"value\":\"#D86018\"}}},\"nonselection_glyph\":{\"type\":\"object\",\"name\":\"VBar\",\"id\":\"p1247\",\"attributes\":{\"x\":{\"type\":\"field\",\"field\":\"Year\",\"transform\":{\"id\":\"p1242\"}},\"width\":{\"type\":\"value\",\"value\":0.4},\"top\":{\"type\":\"field\",\"field\":\"ForeignEmploy\"},\"line_color\":{\"type\":\"value\",\"value\":\"#D86018\"},\"line_alpha\":{\"type\":\"value\",\"value\":0.1},\"fill_color\":{\"type\":\"value\",\"value\":\"#D86018\"},\"fill_alpha\":{\"type\":\"value\",\"value\":0.1},\"hatch_color\":{\"type\":\"value\",\"value\":\"#D86018\"},\"hatch_alpha\":{\"type\":\"value\",\"value\":0.1}}},\"muted_glyph\":{\"type\":\"object\",\"name\":\"VBar\",\"id\":\"p1248\",\"attributes\":{\"x\":{\"type\":\"field\",\"field\":\"Year\",\"transform\":{\"id\":\"p1242\"}},\"width\":{\"type\":\"value\",\"value\":0.4},\"top\":{\"type\":\"field\",\"field\":\"ForeignEmploy\"},\"line_color\":{\"type\":\"value\",\"value\":\"#D86018\"},\"line_alpha\":{\"type\":\"value\",\"value\":0.2},\"fill_color\":{\"type\":\"value\",\"value\":\"#D86018\"},\"fill_alpha\":{\"type\":\"value\",\"value\":0.2},\"hatch_color\":{\"type\":\"value\",\"value\":\"#D86018\"},\"hatch_alpha\":{\"type\":\"value\",\"value\":0.2}}}}}],\"toolbar\":{\"type\":\"object\",\"name\":\"Toolbar\",\"id\":\"p1193\",\"attributes\":{\"tools\":[{\"type\":\"object\",\"name\":\"PanTool\",\"id\":\"p1217\"},{\"type\":\"object\",\"name\":\"WheelZoomTool\",\"id\":\"p1218\"},{\"type\":\"object\",\"name\":\"BoxZoomTool\",\"id\":\"p1219\",\"attributes\":{\"overlay\":{\"type\":\"object\",\"name\":\"BoxAnnotation\",\"id\":\"p1220\",\"attributes\":{\"syncable\":false,\"level\":\"overlay\",\"visible\":false,\"left_units\":\"canvas\",\"right_units\":\"canvas\",\"bottom_units\":\"canvas\",\"top_units\":\"canvas\",\"line_color\":\"black\",\"line_alpha\":1.0,\"line_width\":2,\"line_dash\":[4,4],\"fill_color\":\"lightgrey\",\"fill_alpha\":0.5}}}},{\"type\":\"object\",\"name\":\"SaveTool\",\"id\":\"p1221\"},{\"type\":\"object\",\"name\":\"ResetTool\",\"id\":\"p1222\"},{\"type\":\"object\",\"name\":\"HelpTool\",\"id\":\"p1223\"},{\"type\":\"object\",\"name\":\"HoverTool\",\"id\":\"p1252\",\"attributes\":{\"renderers\":[{\"id\":\"p1239\"}],\"tooltips\":\"<div class=\\\"bk-tooltip-content\\\">\\n<div>\\n<div style=\\\"display: table; border-spacing: 2px;\\\">\\n<div style=\\\"display: table-row;\\\"><div class=\\\"bk-tooltip-row-value\\\" style=\\\"display: table-cell;\\\">Year: </div><div class=\\\"bk-tooltip-row-value\\\" style=\\\"display: table-cell;\\\"><span data-value=\\\"\\\">@Year</span><span class=\\\"bk-tooltip-color-block\\\" data-swatch=\\\"\\\" style=\\\"display: none;\\\"> </span></div></div>\\n<div style=\\\"display: table-row;\\\"><div class=\\\"bk-tooltip-row-value\\\" style=\\\"display: table-cell;\\\">Domestic Employment: </div><div class=\\\"bk-tooltip-row-value\\\" style=\\\"display: table-cell;\\\"><span data-value=\\\"\\\">@DomesticEmploy{0,0}</span><span class=\\\"bk-tooltip-color-block\\\" data-swatch=\\\"\\\" style=\\\"display: none;\\\"> </span></div></div>\\n</div>\\n</div>\\n</div>\",\"formatters\":{\"type\":\"map\",\"entries\":[[\"@TimePeriod\",\"datetime\"]]}}},{\"type\":\"object\",\"name\":\"HoverTool\",\"id\":\"p1254\",\"attributes\":{\"renderers\":[{\"id\":\"p1249\"}],\"tooltips\":\"<div class=\\\"bk-tooltip-content\\\">\\n<div>\\n<div style=\\\"display: table; border-spacing: 2px;\\\">\\n<div style=\\\"display: table-row;\\\"><div class=\\\"bk-tooltip-row-value\\\" style=\\\"display: table-cell;\\\">Year: </div><div class=\\\"bk-tooltip-row-value\\\" style=\\\"display: table-cell;\\\"><span data-value=\\\"\\\">@Year</span><span class=\\\"bk-tooltip-color-block\\\" data-swatch=\\\"\\\" style=\\\"display: none;\\\"> </span></div></div>\\n<div style=\\\"display: table-row;\\\"><div class=\\\"bk-tooltip-row-value\\\" style=\\\"display: table-cell;\\\">Foreign Employment: </div><div class=\\\"bk-tooltip-row-value\\\" style=\\\"display: table-cell;\\\"><span data-value=\\\"\\\">@ForeignEmploy{0,0}</span><span class=\\\"bk-tooltip-color-block\\\" data-swatch=\\\"\\\" style=\\\"display: none;\\\"> </span></div></div>\\n</div>\\n</div>\\n</div>\",\"formatters\":{\"type\":\"map\",\"entries\":[[\"@TimePeriod\",\"datetime\"]]}}}],\"active_drag\":null}},\"toolbar_location\":null,\"left\":[{\"type\":\"object\",\"name\":\"LinearAxis\",\"id\":\"p1210\",\"attributes\":{\"ticker\":{\"type\":\"object\",\"name\":\"BasicTicker\",\"id\":\"p1212\",\"attributes\":{\"mantissas\":[1,2,5]}},\"formatter\":{\"type\":\"object\",\"name\":\"BasicTickFormatter\",\"id\":\"p1213\"},\"axis_label\":\"Thousands of employees\",\"axis_label_text_font\":\"calibri\",\"axis_label_text_font_style\":\"bold\",\"major_label_policy\":{\"type\":\"object\",\"name\":\"AllLabels\",\"id\":\"p1211\"},\"major_tick_line_color\":null,\"minor_tick_line_color\":null}}],\"below\":[{\"type\":\"object\",\"name\":\"LinearAxis\",\"id\":\"p1203\",\"attributes\":{\"ticker\":{\"type\":\"object\",\"name\":\"FixedTicker\",\"id\":\"p1259\",\"attributes\":{\"ticks\":[1999,2004,2009,2014,2015,2016,2017,2018,2019,2020],\"minor_ticks\":[]}},\"formatter\":{\"type\":\"object\",\"name\":\"BasicTickFormatter\",\"id\":\"p1206\"},\"axis_label_text_font\":\"calibri\",\"axis_label_text_font_style\":\"bold\",\"major_label_orientation\":0.75,\"major_label_policy\":{\"type\":\"object\",\"name\":\"AllLabels\",\"id\":\"p1204\"},\"major_tick_line_color\":null,\"minor_tick_line_color\":null}},{\"type\":\"object\",\"name\":\"Legend\",\"id\":\"p1256\",\"attributes\":{\"location\":\"center\",\"orientation\":\"horizontal\",\"border_line_color\":\"white\",\"label_text_font\":\"calibri\",\"items\":[{\"type\":\"object\",\"name\":\"LegendItem\",\"id\":\"p1257\",\"attributes\":{\"label\":{\"type\":\"value\",\"value\":\"Domestic employment\"},\"renderers\":[{\"id\":\"p1239\"}]}},{\"type\":\"object\",\"name\":\"LegendItem\",\"id\":\"p1258\",\"attributes\":{\"label\":{\"type\":\"value\",\"value\":\"Foreign employment\"},\"renderers\":[{\"id\":\"p1249\"}]}}]}}],\"center\":[{\"type\":\"object\",\"name\":\"Grid\",\"id\":\"p1209\",\"attributes\":{\"axis\":{\"id\":\"p1203\"},\"grid_line_color\":null,\"grid_line_width\":1.5}},{\"type\":\"object\",\"name\":\"Grid\",\"id\":\"p1216\",\"attributes\":{\"dimension\":1,\"axis\":{\"id\":\"p1210\"},\"grid_line_color\":\"#DCDEDF\",\"grid_line_width\":1.5}}]}},{\"type\":\"object\",\"name\":\"Div\",\"id\":\"p1262\",\"attributes\":{\"css_classes\":[\"list-bordered\",\"fignotes\"],\"text\":\"<ul class=\\\"footnote\\\">\\n<li>Data. Domestic and foreign employment by U.S. multinational companies, select years: 1999\\u20132020</li>\\n<li>Source. BEA <a href=\\\"https://www.bea.gov/data/intl-trade-investment/activities-us-multinational-enterprises-mnes\\\" class=\\\"figlink\\\">Activities of U.S. Multinational Enterprises</a></li>\\n<ul>\"}}]}}],\"callbacks\":{\"type\":\"map\"}}};\n  const render_items = [{\"docid\":\"5aa21da2-12ee-4489-a72b-becf870b061f\",\"roots\":{\"p1263\":\"0ca1e3ee-d0b7-4dad-b59d-cef36cb141b1\"},\"root_ids\":[\"p1263\"]}];\n  root.Bokeh.embed.embed_items_notebook(docs_json, render_items);\n  }\n  if (root.Bokeh !== undefined) {\n    embed_document(root);\n  } else {\n    let attempts = 0;\n    const timer = setInterval(function(root) {\n      if (root.Bokeh !== undefined) {\n        clearInterval(timer);\n        embed_document(root);\n      } else {\n        attempts++;\n        if (attempts > 100) {\n          clearInterval(timer);\n          console.log(\"Bokeh: ERROR: Unable to run BokehJS code because BokehJS library is missing\");\n        }\n      }\n    }, 10, root)\n  }\n})(window);",
      "application/vnd.bokehjs_exec.v0+json": ""
     },
     "metadata": {
      "application/vnd.bokehjs_exec.v0+json": {
       "id": "p1263"
      }
     },
     "output_type": "display_data"
    },
    {
     "data": {
      "text/html": [
       "<style type=\"text/css\">\n",
       "</style>\n",
       "<table id=\"T_399f9\" class=\"table table-condensed\">\n",
       "  <caption>Breakout of   Foreign Subsidiary Worldwide Sales: \n",
       "                                                    Snapshot for 2020<small>(share of total)</small></caption>\n",
       "  <thead>\n",
       "    <tr>\n",
       "      <th id=\"T_399f9_level0_col0\" class=\"col_heading level0 col0\" >Total</th>\n",
       "      <th id=\"T_399f9_level0_col1\" class=\"col_heading level0 col1\" align=\"center\" >100<span class=\"percent\">%</span></th>\n",
       "    </tr>\n",
       "  </thead>\n",
       "  <tbody>\n",
       "    <tr>\n",
       "      <td id=\"T_399f9_row0_col0\" class=\"data row0 col0\" >To the host country</td>\n",
       "      <td id=\"T_399f9_row0_col1\" class=\"data row0 col1\" align=\"center\" >57<span class=\"percent\">%</span></td>\n",
       "    </tr>\n",
       "    <tr>\n",
       "      <td id=\"T_399f9_row1_col0\" class=\"data row1 col0\" >To other foreign countries</td>\n",
       "      <td id=\"T_399f9_row1_col1\" class=\"data row1 col1\" align=\"center\" >30<span class=\"percent\">%</span></td>\n",
       "    </tr>\n",
       "    <tr>\n",
       "      <td id=\"T_399f9_row2_col0\" class=\"data row2 col0\" >To the United States</td>\n",
       "      <td id=\"T_399f9_row2_col1\" class=\"data row2 col1\" align=\"center\" >13<span class=\"percent\">%</span></td>\n",
       "    </tr>\n",
       "  </tbody>\n",
       "<tfoot><tr><td colspan=\"2\"><ul><li>Source. BEA <a href=\"https://www.bea.gov/data/intl-trade-investment/activities-us-multinational-enterprises-mnes\" class=\"figlink\">Activities of U.S. Multinational Enterprises</a></li></ul></td></tr></tfoot></table>\n"
      ],
      "text/plain": [
       "<IPython.core.display.HTML object>"
      ]
     },
     "metadata": {},
     "output_type": "display_data"
    },
    {
     "data": {
      "text/html": [
       "<style type=\"text/css\">\n",
       "</style>\n",
       "<table id=\"T_9b664\" class=\"table table-condensed\">\n",
       "  <caption>Share of Foreign Subsidiary Worldwide Employment by Level of Country Income</caption>\n",
       "  <thead>\n",
       "    <tr>\n",
       "      <th id=\"T_9b664_level0_col0\" class=\"col_heading level0 col0\" align=\"left\" >Income</th>\n",
       "      <th id=\"T_9b664_level0_col1\" class=\"col_heading level0 col1\" align=\"center\" >High</th>\n",
       "      <th id=\"T_9b664_level0_col2\" class=\"col_heading level0 col2\" align=\"center\" >Middle</th>\n",
       "      <th id=\"T_9b664_level0_col3\" class=\"col_heading level0 col3\" align=\"center\" >Low</th>\n",
       "    </tr>\n",
       "  </thead>\n",
       "  <tbody>\n",
       "    <tr>\n",
       "      <td id=\"T_9b664_row0_col0\" class=\"data row0 col0\" align=\"left\" >1997</td>\n",
       "      <td id=\"T_9b664_row0_col1\" class=\"data row0 col1\" align=\"center\" >69<span class=\"percent\">%</span></td>\n",
       "      <td id=\"T_9b664_row0_col2\" class=\"data row0 col2\" align=\"center\" >29<span class=\"percent\">%</span></td>\n",
       "      <td id=\"T_9b664_row0_col3\" class=\"data row0 col3\" align=\"center\" >2<span class=\"percent\">%</span></td>\n",
       "    </tr>\n",
       "    <tr>\n",
       "      <td id=\"T_9b664_row1_col0\" class=\"data row1 col0\" align=\"left\" >2000</td>\n",
       "      <td id=\"T_9b664_row1_col1\" class=\"data row1 col1\" align=\"center\" >66<span class=\"percent\">%</span></td>\n",
       "      <td id=\"T_9b664_row1_col2\" class=\"data row1 col2\" align=\"center\" >32<span class=\"percent\">%</span></td>\n",
       "      <td id=\"T_9b664_row1_col3\" class=\"data row1 col3\" align=\"center\" >2<span class=\"percent\">%</span></td>\n",
       "    </tr>\n",
       "    <tr>\n",
       "      <td id=\"T_9b664_row2_col0\" class=\"data row2 col0\" align=\"left\" >2007</td>\n",
       "      <td id=\"T_9b664_row2_col1\" class=\"data row2 col1\" align=\"center\" >61<span class=\"percent\">%</span></td>\n",
       "      <td id=\"T_9b664_row2_col2\" class=\"data row2 col2\" align=\"center\" >38<span class=\"percent\">%</span></td>\n",
       "      <td id=\"T_9b664_row2_col3\" class=\"data row2 col3\" align=\"center\" >0<span class=\"percent\">%</span></td>\n",
       "    </tr>\n",
       "    <tr>\n",
       "      <td id=\"T_9b664_row3_col0\" class=\"data row3 col0\" align=\"left\" >2019</td>\n",
       "      <td id=\"T_9b664_row3_col1\" class=\"data row3 col1\" align=\"center\" >52<span class=\"percent\">%</span></td>\n",
       "      <td id=\"T_9b664_row3_col2\" class=\"data row3 col2\" align=\"center\" >47<span class=\"percent\">%</span></td>\n",
       "      <td id=\"T_9b664_row3_col3\" class=\"data row3 col3\" align=\"center\" >0<span class=\"percent\">%</span></td>\n",
       "    </tr>\n",
       "    <tr>\n",
       "      <td id=\"T_9b664_row4_col0\" class=\"data row4 col0\" align=\"left\" >2020</td>\n",
       "      <td id=\"T_9b664_row4_col1\" class=\"data row4 col1\" align=\"center\" >51<span class=\"percent\">%</span></td>\n",
       "      <td id=\"T_9b664_row4_col2\" class=\"data row4 col2\" align=\"center\" >48<span class=\"percent\">%</span></td>\n",
       "      <td id=\"T_9b664_row4_col3\" class=\"data row4 col3\" align=\"center\" >0<span class=\"percent\">%</span></td>\n",
       "    </tr>\n",
       "  </tbody>\n",
       "<tfoot><tr><td colspan=\"4\"><ul><li>For a given year, shares may not sum to 100 percent due to rounding.</li>\n",
       "<li>Income classifications reflect those issued by the World Bank as of October 2006. The income levels are classified in the following tiers based on countries' annual per capita gross national income in 2005 dollars: High-income ($10,726 or more), middle-income ($876 to $10,725), and low-income ($875 or less).</li></ul></td></tr></tfoot></table></table>\n"
      ],
      "text/plain": [
       "<IPython.core.display.HTML object>"
      ]
     },
     "metadata": {},
     "output_type": "display_data"
    }
   ],
   "source": [
    "end_year = 2020\n",
    "show(wellbeing.generate_chart.mne_employment(start_year=1999, end_year=end_year, from_cache=from_cache))\n",
    "display(HTML(wellbeing.generate_chart.foreign_subsidiary_sales_table(year=end_year, from_cache=from_cache)))\n",
    "display(HTML(wellbeing.generate_chart.foreign_subsidiary_employment(from_cache=from_cache)))"
   ]
  },
  {
   "cell_type": "code",
   "execution_count": 70,
   "metadata": {},
   "outputs": [
    {
     "data": {
      "text/html": [
       "The movement of U.S. jobs abroad by U.S. companies often is seen as a threat to the long-term growth of the U.S. economy and its ability to produce high-paying domestic jobs. A look at the data shows that most of U.S. multinational companies' employment remains in the United States. For example, in 2020, about 67 percent of U.S. multinationals' employment was in the United States.<br><br>The share of foreign employment has risen as large and emerging economies like India and China have expanded their share of world income. However, most employment remains in high- and middle-income countries rather than low-income countries. Growth in foreign employment has been concentrated in middle-income countries.<br><br>In addition, BEA data on U.S.-owned foreign companies show that most overseas subsidiaries sell their goods and services in the countries where they are located or to other foreign countries. In 2020, only 13 percent of U.S. foreign subsidiaries' sales were to the United States. These trends suggest that the location of foreign production is more for access to large and growing markets than for low-cost labor."
      ],
      "text/plain": [
       "<IPython.core.display.HTML object>"
      ]
     },
     "metadata": {},
     "output_type": "display_data"
    }
   ],
   "source": [
    "show_narrative('MNE Employment')"
   ]
  },
  {
   "attachments": {},
   "cell_type": "markdown",
   "metadata": {},
   "source": [
    "#### U.S. Budget and GDP"
   ]
  },
  {
   "cell_type": "code",
   "execution_count": 71,
   "metadata": {},
   "outputs": [
    {
     "name": "stdout",
     "output_type": "stream",
     "text": [
      "U.S. Budget and the Economy Over Time\n",
      "Federal Surpluses and Deficits as a Percentage of GDP\n"
     ]
    },
    {
     "data": {
      "text/html": [
       "\n",
       "  <div id=\"b711d162-30e8-49e4-938d-0edeb1a0c1b8\" data-root-id=\"p22744\" style=\"display: contents;\"></div>\n"
      ]
     },
     "metadata": {},
     "output_type": "display_data"
    },
    {
     "data": {
      "application/javascript": "(function(root) {\n  function embed_document(root) {\n  const docs_json = {\"f3ba6cc7-5c55-4e39-b4e1-a41e664d9a39\":{\"version\":\"3.1.0\",\"title\":\"Bokeh Application\",\"defs\":[],\"roots\":[{\"type\":\"object\",\"name\":\"Figure\",\"id\":\"p22744\",\"attributes\":{\"styles\":{\"type\":\"map\",\"entries\":[[\"width\",\"98%\"]]},\"width\":700,\"height\":400,\"aspect_ratio\":1.75,\"sizing_mode\":\"scale_both\",\"x_range\":{\"type\":\"object\",\"name\":\"Range1d\",\"id\":\"p22753\",\"attributes\":{\"start\":-1293840000000.0,\"end\":1672531200000.0}},\"y_range\":{\"type\":\"object\",\"name\":\"DataRange1d\",\"id\":\"p22746\"},\"x_scale\":{\"type\":\"object\",\"name\":\"LinearScale\",\"id\":\"p22757\"},\"y_scale\":{\"type\":\"object\",\"name\":\"LinearScale\",\"id\":\"p22759\"},\"title\":{\"type\":\"object\",\"name\":\"Title\",\"id\":\"p22749\"},\"outline_line_color\":null,\"renderers\":[{\"type\":\"object\",\"name\":\"GlyphRenderer\",\"id\":\"p22833\",\"attributes\":{\"data_source\":{\"type\":\"object\",\"name\":\"ColumnDataSource\",\"id\":\"p22741\",\"attributes\":{\"selected\":{\"type\":\"object\",\"name\":\"Selection\",\"id\":\"p22742\",\"attributes\":{\"indices\":[],\"line_indices\":[]}},\"selection_policy\":{\"type\":\"object\",\"name\":\"UnionRenderers\",\"id\":\"p22743\"},\"data\":{\"type\":\"map\",\"entries\":[[\"TimePeriod\",{\"type\":\"ndarray\",\"array\":[-1293840000000.0,-1262304000000.0,-1230768000000.0,-1199232000000.0,-1167609600000.0,-1136073600000.0,-1104537600000.0,-1073001600000.0,-1041379200000.0,-1009843200000.0,-978307200000.0,-946771200000.0,-915148800000.0,-883612800000.0,-852076800000.0,-820540800000.0,-788918400000.0,-757382400000.0,-725846400000.0,-694310400000.0,-662688000000.0,-631152000000.0,-599616000000.0,-568080000000.0,-536457600000.0,-504921600000.0,-473385600000.0,-441849600000.0,-410227200000.0,-378691200000.0,-347155200000.0,-315619200000.0,-283996800000.0,-252460800000.0,-220924800000.0,-189388800000.0,-157766400000.0,-126230400000.0,-94694400000.0,-63158400000.0,-31536000000.0,0.0,31536000000.0,63072000000.0,94694400000.0,126230400000.0,157766400000.0,189302400000.0,220924800000.0,252460800000.0,283996800000.0,315532800000.0,347155200000.0,378691200000.0,410227200000.0,441763200000.0,473385600000.0,504921600000.0,536457600000.0,567993600000.0,599616000000.0,631152000000.0,662688000000.0,694224000000.0,725846400000.0,757382400000.0,788918400000.0,820454400000.0,852076800000.0,883612800000.0,915148800000.0,946684800000.0,978307200000.0,1009843200000.0,1041379200000.0,1072915200000.0,1104537600000.0,1136073600000.0,1167609600000.0,1199145600000.0,1230768000000.0,1262304000000.0,1293840000000.0,1325376000000.0,1356998400000.0,1388534400000.0,1420070400000.0,1451606400000.0,1483228800000.0,1514764800000.0,1546300800000.0,1577836800000.0,1609459200000.0,1640995200000.0],\"shape\":[94],\"dtype\":\"object\",\"order\":\"little\"}],[\"nom_gdp\",{\"type\":\"ndarray\",\"array\":{\"type\":\"bytes\",\"data\":\"AAAAAMCG+UAAAAAAAID2QAAAAADw5PJAAAAAAEAQ7UAAAAAAQOjrQAAAAAAAT/BAAAAAABAg8kAAAAAA4LX0QAAAAACwtPZAAAAAAIBT9UAAAAAA0M/2QAAAAAAwH/lAAAAAANCR/0AAAAAAAEIEQQAAAABgyghBAAAAAPhlC0EAAAAAONULQQAAAAB4xgtBAAAAAIB4DkEAAAAAkMAQQQAAAABsoRBBAAAAAMxMEkEAAAAAiCwVQQAAAAC0axZBAAAAAIjBF0EAAAAAVNYXQQAAAAAY+BlBAAAAACRtG0EAAAAA3O4cQQAAAAA0Xx1BAAAAANjWH0EAAAAAXI0gQQAAAABCKCFBAAAAACRuIkEAAAAAFHQjQQAAAABY4yRBAAAAACKnJkEAAAAAzNIoQQAAAABuPipBAAAAANa0LEEAAAAAHg4vQQAAAACXYDBBAAAAADLGMUEAAAAAhoQzQQAAAADgvzVBAAAAABuUN0EAAAAAqLU5QQAAAAAEljxBAAAAACLEP0EAAACA9/BBQQAAAICCC0RBAAAAgK3MRUEAAACAwHdIQQAAAIDWgklBAAAAALu5S0EAAACA9s1OQQAAAMBIjVBBAAAAwEt4UUEAAADAa4VSQQAAAIC1+VNBAAAAAFuFVUEAAAAAYr9WQQAAAEDMfVdBAAAAwIHfWEEAAADAzylaQQAAAABxzFtBAAAAQLEkXUEAAACA6MteQQAAAABCXGBBAAAAIDRJYUEAAACAuF5iQQAAAABZjWNBAAAAIPUuZEEAAACAethkQQAAAED42WVBAAAAgG1NZ0EAAACgy95oQQAAAODjWWpBAAAAgH6ba0EAAADA2CtsQQAAAGBenWtBAAAAQCG0bEEAAABgDsFtQQAAAECCAG9BAAAAwBsQcEEAAADw1bxwQQAAAHDUXHFBAAAAIDzUcUEAAACQNZNyQQAAACD0lHNBAAAAAPdjdEEAAACgtxV0QQAAAJAoPHZBAAAAIHxIeEE=\"},\"shape\":[94],\"dtype\":\"float64\",\"order\":\"little\"}],[\"gdp_fy\",{\"type\":\"ndarray\",\"array\":{\"type\":\"bytes\",\"data\":\"AAAAAAAA+H8AAAAAYAP4QAAAAAB4svRAAAAAAIi28EAAAAAAQHzsQAAAAAAgQ+5AAAAAAIg38UAAAAAA+GrzQAAAAABItfVAAAAAABgE9kAAAAAAqBH2QAAAAACA9/dAAAAAAIBY/EAAAAAAdAUCQQAAAAAwhgZBAAAAACwYCkEAAAAAmJ0LQQAAAADYzQtBAAAAAHwfDUEAAAAA0PwPQQAAAAD+sBBBAAAAABx3EUEAAAAAqrwTQQAAAAAezBVBAAAAAJ4WF0EAAAAA7ssXQQAAAAA25xhBAAAAAJ6yGkEAAAAAAC4cQQAAAAAIJx1BAAAAAAabHkEAAAAAZDwgQQAAAADP2iBBAAAAADPLIUEAAAAAHPEiQQAAAAC2KyRBAAAAAD3FJUEAAAAA97wnQQAAAACdiClBAAAAAKJ5K0EAAAAAeuEtQQAAAACm5y9BAAAAgGQTMUEAAAAAXKUyQQAAAAAzojRBAAAAgP2pNkEAAACA4aQ4QQAAAADWJTtBqqqqqsK0PkFVVVVVVUFBQVVVVdX+V0NBAAAAgPQ2RUH///9/D5RHQaqqqirPKUlBqqqqKsT8SkEAAAAAOMdNQaqqquouK1BBqqqqavUpUUGqqqpqtitSQaqqquqcfVNBqqqqKnkBVUEAAAAAtVZWQQAAAIBTPldBVFVVlZppWEH///+/tbtZQaqqqurlQFtBqqqqKvGxXEFVVVUV1j5eQVVVVRUoCmBBAAAAwDj6YEGqqqoKNwJiQVVVVdV4KGNBqqqqahb5Y0FVVVW1+J9kQaqqqqojhGVBAAAAwJvRZkFVVVWVAVloQVVVVXWG22lBVFVV9Uowa0GqqqqquvtrQQAAAIDczGtBAAAAoDVXbEEAAAAAamdtQaqqqkoGlm5BqqqqalDAb0GqqqqKQoNwQaqqqpp/J3FBVVVV5W6scUFVVVUVjVNyQQAAAPAJP3NBqqqqCvYedEEAAADAzC90QVVVVZWthHVBqqqqmrWZd0E=\"},\"shape\":[94],\"dtype\":\"float64\",\"order\":\"little\"}],[\"deficits\",{\"type\":\"ndarray\",\"array\":{\"type\":\"bytes\",\"data\":\"AAAAAAAA+H8AAAAAABCHQAAAAAAA4HzAAAAAAABepcAAAAAAAFSkwAAAAAAABKzAAAAAAADmpcAAAAAAANCwwAAAAAAAIqHAAAAAAABAVsAAAAAAADymwAAAAAAA0KbAAAAAAABNs8AAAAAAwAXUwAAAAABAo+rAAAAAAKA458AAAAAAIDjnwAAAAAAAIM/AAAAAAABkr0AAAAAAAArHQAAAAAAAIIJAAAAAAABeqMAAAAAAANa3QAAAAAAAvJfAAAAAAABducAAAAAAAAiSwAAAAAAAYqfAAAAAAADWrkAAAAAAAKiqQAAAAAAAoqXAAAAAAIAYycAAAAAAANByQAAAAAAADqrAAAAAAADqu8AAAAAAAJSywAAAAAAAG7fAAAAAAAAMlsAAAAAAAOSswAAAAACA4cDAAAAAAECS2MAAAAAAAFSpQAAAAAAANKbAAAAAAEB+1sAAAAAAQNPWwAAAAAAAHs3AAAAAAAD3t8AAAAAAQP/pwAAAAABAAPLAAAAAAGAz6sAAAAAAIObswAAAAADA4uPAAAAAAGAG8sAAAAAAgEfzwAAAAACQPv/AAAAAANBdCcEAAAAAuKAGwQAAAACg6gnBAAAAAFgBC8EAAAAAEEcCwQAAAABQ8QLBAAAAAPihAsEAAAAAYPsKwQAAAADYbhDBAAAAAES4EcEAAAAAWCIPwQAAAACQzQjBAAAAAIADBMEAAAAAcDr6wAAAAAAAX9XAAAAAAGDp8EAAAAAAoKr+QAAAAACI1gxBAAAAAMBO/0AAAAAA8EEDwQAAAADECxfBAAAAANwwGcEAAAAAKG4TwQAAAACoSw7BAAAAAOidA8EAAAAA5PwbwQAAAABQjjXBAAAAACXAM8EAAAAAj9QzwQAAAABdbTDBAAAAAL6+JMEAAAAA5JYdwQAAAACg+RrBAAAAAJTXIcEAAAAA1E4kwQAAAAAIxyfBAAAAAFgELsEAAACAFOZHwQAAAICfLEXBAAAAALX+NME=\"},\"shape\":[94],\"dtype\":\"float64\",\"order\":\"little\"}],[\"percentage\",{\"type\":\"ndarray\",\"array\":{\"type\":\"bytes\",\"data\":\"AAAAAAAA+H8iSI2hnwLoPz67zlhicOG/0uZIQz/2D8DsdcR/QtcRwDWGXb7hJBfAy7Xzoj/MD8AFIrNMS6UVwPo1SF4auwPAjotQnQZEub8BgWav9y8JwJvFANXCywfAkQdDqM0FEcBtcKGyrsYrwCognVrQkD3Aml/CdE0/NsDIzbgrIQU1wNLtdblq/BvA3qRYxVTy+j9dlPQomwESQMw/dl+yJcs/sLM0BZNw8b/9vaZ6JjH+P1qr1Ra+ONu/W6i3PZp2+79GY82kbvHSv+d1iZJGeee/INdfHATg7D+IdbiPAabnPxJF7WArjeK/7redKNJ/BMCpac41qvesP6U0IWyvUuO/P2uVnQWc87/hhUGIHIXovylcA2cpo+y/PYTGREJRyb+gr47KJm3evxtq+ZIuh/C/K+i27pVbBsAHRmjh5DDVPwfcfVTdZdG/R51saDl3AMAQuWV+e5r+vz/gD+Sxo/G/7FW6P1Vv2r/lgewqX18KwDOAPySrkxDAjX3Qj/JUBcDq7GaMV+8EwJMYvdlTs/m/P6R5tLc9BcCoDSMAFXEEwNHfc0OmCg/Ao9tXjJp/F8APCNeoOP8SwGI1M3U5CRTAWMU5n8yqE8AiND8KoSUJwLlMS6QKTAjATHS2evosBsBafZBiRzIOwJm5C6fCrBHAiFIjMm4lEsCD39uwPD8OwFUYk22JwAbAPOEdTL5vAcDmpYy39K31v5HePX+lp9C/ZS3bSTHn6D/fCyQcNEn1P1ITt0nZ0AJACcquov2X8z8eNkPMtlf3vwMUZoYJxwrAH65YG0yZC8Cq/69SbPMDwOx9pwN0Sv2/AeZZi6YJ8r8lA2yiCQEJwH4/Je53YiPAvFm3fCZsIcAvRNVQONwgwM0cOHil2hrAGbmecIZVEMAQGxLMIGYGwB8ZQtL+pwPAF1AJwwc9CcCQjBoRAbQLwI/8ng7H4g7ADuGA0tilEsCgFuz+3JgtwBzt3IiymSjAbe5zR3E9FsA=\"},\"shape\":[94],\"dtype\":\"float64\",\"order\":\"little\"}],[\"bar_color\",{\"type\":\"ndarray\",\"array\":[\"#004C97\",\"#D86018\",\"#004C97\",\"#004C97\",\"#004C97\",\"#004C97\",\"#004C97\",\"#004C97\",\"#004C97\",\"#004C97\",\"#004C97\",\"#004C97\",\"#004C97\",\"#004C97\",\"#004C97\",\"#004C97\",\"#004C97\",\"#004C97\",\"#D86018\",\"#D86018\",\"#D86018\",\"#004C97\",\"#D86018\",\"#004C97\",\"#004C97\",\"#004C97\",\"#004C97\",\"#D86018\",\"#D86018\",\"#004C97\",\"#004C97\",\"#D86018\",\"#004C97\",\"#004C97\",\"#004C97\",\"#004C97\",\"#004C97\",\"#004C97\",\"#004C97\",\"#004C97\",\"#D86018\",\"#004C97\",\"#004C97\",\"#004C97\",\"#004C97\",\"#004C97\",\"#004C97\",\"#004C97\",\"#004C97\",\"#004C97\",\"#004C97\",\"#004C97\",\"#004C97\",\"#004C97\",\"#004C97\",\"#004C97\",\"#004C97\",\"#004C97\",\"#004C97\",\"#004C97\",\"#004C97\",\"#004C97\",\"#004C97\",\"#004C97\",\"#004C97\",\"#004C97\",\"#004C97\",\"#004C97\",\"#004C97\",\"#D86018\",\"#D86018\",\"#D86018\",\"#D86018\",\"#004C97\",\"#004C97\",\"#004C97\",\"#004C97\",\"#004C97\",\"#004C97\",\"#004C97\",\"#004C97\",\"#004C97\",\"#004C97\",\"#004C97\",\"#004C97\",\"#004C97\",\"#004C97\",\"#004C97\",\"#004C97\",\"#004C97\",\"#004C97\",\"#004C97\",\"#004C97\",\"#004C97\"],\"shape\":[94],\"dtype\":\"object\",\"order\":\"little\"}]]}}},\"view\":{\"type\":\"object\",\"name\":\"CDSView\",\"id\":\"p22834\",\"attributes\":{\"filter\":{\"type\":\"object\",\"name\":\"AllIndices\",\"id\":\"p22835\"}}},\"glyph\":{\"type\":\"object\",\"name\":\"VBar\",\"id\":\"p22830\",\"attributes\":{\"x\":{\"type\":\"field\",\"field\":\"TimePeriod\",\"transform\":{\"type\":\"object\",\"name\":\"Dodge\",\"id\":\"p22826\",\"attributes\":{\"value\":10800000000.0}}},\"width\":{\"type\":\"value\",\"value\":21600000000.0},\"top\":{\"type\":\"field\",\"field\":\"percentage\"},\"line_color\":{\"type\":\"value\",\"value\":\"white\"},\"fill_color\":{\"type\":\"field\",\"field\":\"bar_color\"},\"hatch_color\":{\"type\":\"field\",\"field\":\"bar_color\"}}},\"nonselection_glyph\":{\"type\":\"object\",\"name\":\"VBar\",\"id\":\"p22831\",\"attributes\":{\"x\":{\"type\":\"field\",\"field\":\"TimePeriod\",\"transform\":{\"id\":\"p22826\"}},\"width\":{\"type\":\"value\",\"value\":21600000000.0},\"top\":{\"type\":\"field\",\"field\":\"percentage\"},\"line_color\":{\"type\":\"value\",\"value\":\"white\"},\"line_alpha\":{\"type\":\"value\",\"value\":0.1},\"fill_color\":{\"type\":\"field\",\"field\":\"bar_color\"},\"fill_alpha\":{\"type\":\"value\",\"value\":0.1},\"hatch_color\":{\"type\":\"field\",\"field\":\"bar_color\"},\"hatch_alpha\":{\"type\":\"value\",\"value\":0.1}}},\"muted_glyph\":{\"type\":\"object\",\"name\":\"VBar\",\"id\":\"p22832\",\"attributes\":{\"x\":{\"type\":\"field\",\"field\":\"TimePeriod\",\"transform\":{\"id\":\"p22826\"}},\"width\":{\"type\":\"value\",\"value\":21600000000.0},\"top\":{\"type\":\"field\",\"field\":\"percentage\"},\"line_color\":{\"type\":\"value\",\"value\":\"white\"},\"line_alpha\":{\"type\":\"value\",\"value\":0.2},\"fill_color\":{\"type\":\"field\",\"field\":\"bar_color\"},\"fill_alpha\":{\"type\":\"value\",\"value\":0.2},\"hatch_color\":{\"type\":\"field\",\"field\":\"bar_color\"},\"hatch_alpha\":{\"type\":\"value\",\"value\":0.2}}}}},{\"type\":\"object\",\"name\":\"GlyphRenderer\",\"id\":\"p22844\",\"attributes\":{\"data_source\":{\"type\":\"object\",\"name\":\"ColumnDataSource\",\"id\":\"p22838\",\"attributes\":{\"selected\":{\"type\":\"object\",\"name\":\"Selection\",\"id\":\"p22839\",\"attributes\":{\"indices\":[],\"line_indices\":[]}},\"selection_policy\":{\"type\":\"object\",\"name\":\"UnionRenderers\",\"id\":\"p22840\"},\"data\":{\"type\":\"map\"}}},\"view\":{\"type\":\"object\",\"name\":\"CDSView\",\"id\":\"p22845\",\"attributes\":{\"filter\":{\"type\":\"object\",\"name\":\"AllIndices\",\"id\":\"p22846\"}}},\"glyph\":{\"type\":\"object\",\"name\":\"VBar\",\"id\":\"p22841\",\"attributes\":{\"line_color\":{\"type\":\"value\",\"value\":\"#D86018\"},\"fill_color\":{\"type\":\"value\",\"value\":\"#D86018\"},\"hatch_color\":{\"type\":\"value\",\"value\":\"#D86018\"}}},\"nonselection_glyph\":{\"type\":\"object\",\"name\":\"VBar\",\"id\":\"p22842\",\"attributes\":{\"line_color\":{\"type\":\"value\",\"value\":\"#D86018\"},\"line_alpha\":{\"type\":\"value\",\"value\":0.1},\"fill_color\":{\"type\":\"value\",\"value\":\"#D86018\"},\"fill_alpha\":{\"type\":\"value\",\"value\":0.1},\"hatch_color\":{\"type\":\"value\",\"value\":\"#D86018\"},\"hatch_alpha\":{\"type\":\"value\",\"value\":0.1}}},\"muted_glyph\":{\"type\":\"object\",\"name\":\"VBar\",\"id\":\"p22843\",\"attributes\":{\"line_color\":{\"type\":\"value\",\"value\":\"#D86018\"},\"line_alpha\":{\"type\":\"value\",\"value\":0.2},\"fill_color\":{\"type\":\"value\",\"value\":\"#D86018\"},\"fill_alpha\":{\"type\":\"value\",\"value\":0.2},\"hatch_color\":{\"type\":\"value\",\"value\":\"#D86018\"},\"hatch_alpha\":{\"type\":\"value\",\"value\":0.2}}}}},{\"type\":\"object\",\"name\":\"GlyphRenderer\",\"id\":\"p22853\",\"attributes\":{\"data_source\":{\"type\":\"object\",\"name\":\"ColumnDataSource\",\"id\":\"p22847\",\"attributes\":{\"selected\":{\"type\":\"object\",\"name\":\"Selection\",\"id\":\"p22848\",\"attributes\":{\"indices\":[],\"line_indices\":[]}},\"selection_policy\":{\"type\":\"object\",\"name\":\"UnionRenderers\",\"id\":\"p22849\"},\"data\":{\"type\":\"map\"}}},\"view\":{\"type\":\"object\",\"name\":\"CDSView\",\"id\":\"p22854\",\"attributes\":{\"filter\":{\"type\":\"object\",\"name\":\"AllIndices\",\"id\":\"p22855\"}}},\"glyph\":{\"type\":\"object\",\"name\":\"VBar\",\"id\":\"p22850\",\"attributes\":{\"line_color\":{\"type\":\"value\",\"value\":\"#004C97\"},\"fill_color\":{\"type\":\"value\",\"value\":\"#004C97\"},\"hatch_color\":{\"type\":\"value\",\"value\":\"#004C97\"}}},\"nonselection_glyph\":{\"type\":\"object\",\"name\":\"VBar\",\"id\":\"p22851\",\"attributes\":{\"line_color\":{\"type\":\"value\",\"value\":\"#004C97\"},\"line_alpha\":{\"type\":\"value\",\"value\":0.1},\"fill_color\":{\"type\":\"value\",\"value\":\"#004C97\"},\"fill_alpha\":{\"type\":\"value\",\"value\":0.1},\"hatch_color\":{\"type\":\"value\",\"value\":\"#004C97\"},\"hatch_alpha\":{\"type\":\"value\",\"value\":0.1}}},\"muted_glyph\":{\"type\":\"object\",\"name\":\"VBar\",\"id\":\"p22852\",\"attributes\":{\"line_color\":{\"type\":\"value\",\"value\":\"#004C97\"},\"line_alpha\":{\"type\":\"value\",\"value\":0.2},\"fill_color\":{\"type\":\"value\",\"value\":\"#004C97\"},\"fill_alpha\":{\"type\":\"value\",\"value\":0.2},\"hatch_color\":{\"type\":\"value\",\"value\":\"#004C97\"},\"hatch_alpha\":{\"type\":\"value\",\"value\":0.2}}}}},{\"type\":\"object\",\"name\":\"GlyphRenderer\",\"id\":\"p22862\",\"attributes\":{\"data_source\":{\"type\":\"object\",\"name\":\"ColumnDataSource\",\"id\":\"p22856\",\"attributes\":{\"selected\":{\"type\":\"object\",\"name\":\"Selection\",\"id\":\"p22857\",\"attributes\":{\"indices\":[],\"line_indices\":[]}},\"selection_policy\":{\"type\":\"object\",\"name\":\"UnionRenderers\",\"id\":\"p22858\"},\"data\":{\"type\":\"map\"}}},\"view\":{\"type\":\"object\",\"name\":\"CDSView\",\"id\":\"p22863\",\"attributes\":{\"filter\":{\"type\":\"object\",\"name\":\"AllIndices\",\"id\":\"p22864\"}}},\"glyph\":{\"type\":\"object\",\"name\":\"VBar\",\"id\":\"p22859\",\"attributes\":{\"line_color\":{\"type\":\"value\",\"value\":\"#DCDEDF\"},\"fill_color\":{\"type\":\"value\",\"value\":\"#DCDEDF\"},\"hatch_color\":{\"type\":\"value\",\"value\":\"#DCDEDF\"}}},\"nonselection_glyph\":{\"type\":\"object\",\"name\":\"VBar\",\"id\":\"p22860\",\"attributes\":{\"line_color\":{\"type\":\"value\",\"value\":\"#DCDEDF\"},\"line_alpha\":{\"type\":\"value\",\"value\":0.1},\"fill_color\":{\"type\":\"value\",\"value\":\"#DCDEDF\"},\"fill_alpha\":{\"type\":\"value\",\"value\":0.1},\"hatch_color\":{\"type\":\"value\",\"value\":\"#DCDEDF\"},\"hatch_alpha\":{\"type\":\"value\",\"value\":0.1}}},\"muted_glyph\":{\"type\":\"object\",\"name\":\"VBar\",\"id\":\"p22861\",\"attributes\":{\"line_color\":{\"type\":\"value\",\"value\":\"#DCDEDF\"},\"line_alpha\":{\"type\":\"value\",\"value\":0.2},\"fill_color\":{\"type\":\"value\",\"value\":\"#DCDEDF\"},\"fill_alpha\":{\"type\":\"value\",\"value\":0.2},\"hatch_color\":{\"type\":\"value\",\"value\":\"#DCDEDF\"},\"hatch_alpha\":{\"type\":\"value\",\"value\":0.2}}}}}],\"toolbar\":{\"type\":\"object\",\"name\":\"Toolbar\",\"id\":\"p22751\",\"attributes\":{\"tools\":[{\"type\":\"object\",\"name\":\"PanTool\",\"id\":\"p22811\"},{\"type\":\"object\",\"name\":\"WheelZoomTool\",\"id\":\"p22812\"},{\"type\":\"object\",\"name\":\"BoxZoomTool\",\"id\":\"p22813\",\"attributes\":{\"overlay\":{\"type\":\"object\",\"name\":\"BoxAnnotation\",\"id\":\"p22814\",\"attributes\":{\"syncable\":false,\"level\":\"overlay\",\"visible\":false,\"left_units\":\"canvas\",\"right_units\":\"canvas\",\"bottom_units\":\"canvas\",\"top_units\":\"canvas\",\"line_color\":\"black\",\"line_alpha\":1.0,\"line_width\":2,\"line_dash\":[4,4],\"fill_color\":\"lightgrey\",\"fill_alpha\":0.5}}}},{\"type\":\"object\",\"name\":\"SaveTool\",\"id\":\"p22815\"},{\"type\":\"object\",\"name\":\"ResetTool\",\"id\":\"p22816\"},{\"type\":\"object\",\"name\":\"HelpTool\",\"id\":\"p22817\"},{\"type\":\"object\",\"name\":\"HoverTool\",\"id\":\"p22836\",\"attributes\":{\"renderers\":[{\"id\":\"p22833\"}],\"tooltips\":[[\"Year\",\"@TimePeriod{%Y}\"],[\"Surplus/Deficit Percent\",\"@percentage{0.0}\"]],\"formatters\":{\"type\":\"map\",\"entries\":[[\"@TimePeriod\",\"datetime\"]]}}}],\"active_drag\":null}},\"toolbar_location\":null,\"left\":[{\"type\":\"object\",\"name\":\"LinearAxis\",\"id\":\"p22804\",\"attributes\":{\"ticker\":{\"type\":\"object\",\"name\":\"BasicTicker\",\"id\":\"p22805\",\"attributes\":{\"mantissas\":[1,2,5]}},\"formatter\":{\"type\":\"object\",\"name\":\"BasicTickFormatter\",\"id\":\"p22807\"},\"axis_label\":\"Percent\",\"axis_label_text_font\":\"calibri\",\"axis_label_text_font_style\":\"bold\",\"major_label_policy\":{\"type\":\"object\",\"name\":\"AllLabels\",\"id\":\"p22806\"},\"axis_line_color\":null,\"major_tick_line_color\":null,\"minor_tick_line_color\":null}}],\"below\":[{\"type\":\"object\",\"name\":\"DatetimeAxis\",\"id\":\"p22761\",\"attributes\":{\"ticker\":{\"type\":\"object\",\"name\":\"FixedTicker\",\"id\":\"p22883\",\"attributes\":{\"ticks\":[-1262304000000.0,-946771200000.0,-631152000000.0,-315619200000.0,0.0,315532800000.0,631152000000.0,946684800000.0,1262304000000.0,1577836800000.0],\"minor_ticks\":[]}},\"formatter\":{\"type\":\"object\",\"name\":\"DatetimeTickFormatter\",\"id\":\"p22776\"},\"axis_label_text_font\":\"calibri\",\"axis_label_text_font_style\":\"bold\",\"major_label_policy\":{\"type\":\"object\",\"name\":\"AllLabels\",\"id\":\"p22775\"},\"axis_line_color\":null,\"major_tick_line_color\":null,\"minor_tick_line_color\":null}},{\"type\":\"object\",\"name\":\"Legend\",\"id\":\"p22865\",\"attributes\":{\"location\":\"center\",\"orientation\":\"horizontal\",\"border_line_color\":\"white\",\"label_text_font\":\"calibri\",\"items\":[{\"type\":\"object\",\"name\":\"LegendItem\",\"id\":\"p22866\",\"attributes\":{\"label\":{\"type\":\"value\",\"value\":\"Surplus\"},\"renderers\":[{\"id\":\"p22844\"}]}},{\"type\":\"object\",\"name\":\"LegendItem\",\"id\":\"p22867\",\"attributes\":{\"label\":{\"type\":\"value\",\"value\":\"Deficit\"},\"renderers\":[{\"id\":\"p22853\"}]}},{\"type\":\"object\",\"name\":\"LegendItem\",\"id\":\"p22868\",\"attributes\":{\"label\":{\"type\":\"value\",\"value\":\"Recessions\"},\"renderers\":[{\"id\":\"p22862\"}]}}]}}],\"center\":[{\"type\":\"object\",\"name\":\"Grid\",\"id\":\"p22803\",\"attributes\":{\"axis\":{\"id\":\"p22761\"},\"grid_line_color\":null,\"grid_line_width\":1.5}},{\"type\":\"object\",\"name\":\"Grid\",\"id\":\"p22810\",\"attributes\":{\"dimension\":1,\"axis\":{\"id\":\"p22804\"},\"grid_line_color\":\"#DCDEDF\",\"grid_line_width\":1.5}},{\"type\":\"object\",\"name\":\"BoxAnnotation\",\"id\":\"p22869\",\"attributes\":{\"level\":\"underlay\",\"left\":-1262304000000.0,\"right\":-1136073600000.0,\"line_color\":\"#DCDEDF\",\"line_width\":0,\"fill_color\":\"#DCDEDF\",\"fill_alpha\":1}},{\"type\":\"object\",\"name\":\"BoxAnnotation\",\"id\":\"p22870\",\"attributes\":{\"level\":\"underlay\",\"left\":-1041379200000.0,\"right\":-978307200000.0,\"line_color\":\"#DCDEDF\",\"line_width\":0,\"fill_color\":\"#DCDEDF\",\"fill_alpha\":1}},{\"type\":\"object\",\"name\":\"BoxAnnotation\",\"id\":\"p22871\",\"attributes\":{\"level\":\"underlay\",\"left\":-788918400000.0,\"right\":-757382400000.0,\"line_color\":\"#DCDEDF\",\"line_width\":0,\"fill_color\":\"#DCDEDF\",\"fill_alpha\":1}},{\"type\":\"object\",\"name\":\"BoxAnnotation\",\"id\":\"p22872\",\"attributes\":{\"level\":\"underlay\",\"left\":-694310400000.0,\"right\":-631152000000.0,\"line_color\":\"#DCDEDF\",\"line_width\":0,\"fill_color\":\"#DCDEDF\",\"fill_alpha\":1}},{\"type\":\"object\",\"name\":\"BoxAnnotation\",\"id\":\"p22873\",\"attributes\":{\"level\":\"underlay\",\"left\":-536457600000.0,\"right\":-473385600000.0,\"line_color\":\"#DCDEDF\",\"line_width\":0,\"fill_color\":\"#DCDEDF\",\"fill_alpha\":1}},{\"type\":\"object\",\"name\":\"BoxAnnotation\",\"id\":\"p22874\",\"attributes\":{\"level\":\"underlay\",\"left\":-410227200000.0,\"right\":-347155200000.0,\"line_color\":\"#DCDEDF\",\"line_width\":0,\"fill_color\":\"#DCDEDF\",\"fill_alpha\":1}},{\"type\":\"object\",\"name\":\"BoxAnnotation\",\"id\":\"p22875\",\"attributes\":{\"level\":\"underlay\",\"left\":-315619200000.0,\"right\":-252460800000.0,\"line_color\":\"#DCDEDF\",\"line_width\":0,\"fill_color\":\"#DCDEDF\",\"fill_alpha\":1}},{\"type\":\"object\",\"name\":\"BoxAnnotation\",\"id\":\"p22876\",\"attributes\":{\"level\":\"underlay\",\"left\":0.0,\"right\":31536000000.0,\"line_color\":\"#DCDEDF\",\"line_width\":0,\"fill_color\":\"#DCDEDF\",\"fill_alpha\":1}},{\"type\":\"object\",\"name\":\"BoxAnnotation\",\"id\":\"p22877\",\"attributes\":{\"level\":\"underlay\",\"left\":94694400000.0,\"right\":189302400000.0,\"line_color\":\"#DCDEDF\",\"line_width\":0,\"fill_color\":\"#DCDEDF\",\"fill_alpha\":1}},{\"type\":\"object\",\"name\":\"BoxAnnotation\",\"id\":\"p22878\",\"attributes\":{\"level\":\"underlay\",\"left\":315532800000.0,\"right\":410227200000.0,\"line_color\":\"#DCDEDF\",\"line_width\":0,\"fill_color\":\"#DCDEDF\",\"fill_alpha\":1}},{\"type\":\"object\",\"name\":\"BoxAnnotation\",\"id\":\"p22879\",\"attributes\":{\"level\":\"underlay\",\"left\":631152000000.0,\"right\":694224000000.0,\"line_color\":\"#DCDEDF\",\"line_width\":0,\"fill_color\":\"#DCDEDF\",\"fill_alpha\":1}},{\"type\":\"object\",\"name\":\"BoxAnnotation\",\"id\":\"p22880\",\"attributes\":{\"level\":\"underlay\",\"left\":978307200000.0,\"right\":1009843200000.0,\"line_color\":\"#DCDEDF\",\"line_width\":0,\"fill_color\":\"#DCDEDF\",\"fill_alpha\":1}},{\"type\":\"object\",\"name\":\"BoxAnnotation\",\"id\":\"p22881\",\"attributes\":{\"level\":\"underlay\",\"left\":1199145600000.0,\"right\":1262304000000.0,\"line_color\":\"#DCDEDF\",\"line_width\":0,\"fill_color\":\"#DCDEDF\",\"fill_alpha\":1}},{\"type\":\"object\",\"name\":\"BoxAnnotation\",\"id\":\"p22882\",\"attributes\":{\"level\":\"underlay\",\"left\":1577836800000.0,\"right\":1609459200000.0,\"line_color\":\"#DCDEDF\",\"line_width\":0,\"fill_color\":\"#DCDEDF\",\"fill_alpha\":1}}]}}],\"callbacks\":{\"type\":\"map\"}}};\n  const render_items = [{\"docid\":\"f3ba6cc7-5c55-4e39-b4e1-a41e664d9a39\",\"roots\":{\"p22744\":\"b711d162-30e8-49e4-938d-0edeb1a0c1b8\"},\"root_ids\":[\"p22744\"]}];\n  root.Bokeh.embed.embed_items_notebook(docs_json, render_items);\n  }\n  if (root.Bokeh !== undefined) {\n    embed_document(root);\n  } else {\n    let attempts = 0;\n    const timer = setInterval(function(root) {\n      if (root.Bokeh !== undefined) {\n        clearInterval(timer);\n        embed_document(root);\n      } else {\n        attempts++;\n        if (attempts > 100) {\n          clearInterval(timer);\n          console.log(\"Bokeh: ERROR: Unable to run BokehJS code because BokehJS library is missing\");\n        }\n      }\n    }, 10, root)\n  }\n})(window);",
      "application/vnd.bokehjs_exec.v0+json": ""
     },
     "metadata": {
      "application/vnd.bokehjs_exec.v0+json": {
       "id": "p22744"
      }
     },
     "output_type": "display_data"
    },
    {
     "data": {
      "text/html": [
       "<ul class=\"footnote\">\n",
       "<li>Data. Trends in federal surplus or deficit (-) as a percentage of GDP, fiscal years: 1930–2022</li>\n",
       "<li>Source. BEA <a href=\"https://apps.bea.gov/iTable/iTable.cfm?reqid=19&step=3&isuri=1&nipa_table_list=5&categories=survey\" class=\"figlink\">NIPA table 1.1.5</a>, <a href=\"https://www.whitehouse.gov/omb/historical-tables/\" class=\"figlink\">Office of Management and Budget</a></li>\n",
       "<ul>"
      ],
      "text/plain": [
       "<IPython.core.display.HTML object>"
      ]
     },
     "metadata": {},
     "output_type": "display_data"
    }
   ],
   "source": [
    "show(wellbeing.generate_chart.federal_budget(start_year=1930, end_year=default_end_year, from_cache=from_cache))"
   ]
  },
  {
   "cell_type": "code",
   "execution_count": 72,
   "metadata": {},
   "outputs": [
    {
     "data": {
      "text/html": [
       "Since 1930, the United States has run a federal budget deficit in most years. Higher deficits have generally resulted from economic downturns and war (the Great Depression, World War II, the Korean War, the Vietnam War, the Great Recession, and the coronavirus pandemic)."
      ],
      "text/plain": [
       "<IPython.core.display.HTML object>"
      ]
     },
     "metadata": {},
     "output_type": "display_data"
    }
   ],
   "source": [
    "show_narrative('Federal Budget')"
   ]
  },
  {
   "attachments": {},
   "cell_type": "markdown",
   "metadata": {},
   "source": [
    "#### U.S. Budget Deficits"
   ]
  },
  {
   "cell_type": "code",
   "execution_count": 73,
   "metadata": {},
   "outputs": [
    {
     "name": "stdout",
     "output_type": "stream",
     "text": [
      "U.S. Budget Deficits\n",
      "Federal Government Debt Service and Debt\n"
     ]
    },
    {
     "data": {
      "text/html": [
       "\n",
       "  <div id=\"2d28b1bf-2178-456e-b18d-c838cf74c1a6\" data-root-id=\"p23910\" style=\"display: contents;\"></div>\n"
      ]
     },
     "metadata": {},
     "output_type": "display_data"
    },
    {
     "data": {
      "application/javascript": "(function(root) {\n  function embed_document(root) {\n  const docs_json = {\"0506de1b-5222-407c-b565-63a49d2675fd\":{\"version\":\"3.1.0\",\"title\":\"Bokeh Application\",\"defs\":[],\"roots\":[{\"type\":\"object\",\"name\":\"Figure\",\"id\":\"p23910\",\"attributes\":{\"styles\":{\"type\":\"map\",\"entries\":[[\"width\",\"98%\"]]},\"width\":700,\"height\":400,\"aspect_ratio\":1.75,\"sizing_mode\":\"scale_both\",\"x_range\":{\"type\":\"object\",\"name\":\"Range1d\",\"id\":\"p23919\",\"attributes\":{\"start\":-315619200000.0,\"end\":1640995200000.0}},\"y_range\":{\"type\":\"object\",\"name\":\"Range1d\",\"id\":\"p23921\",\"attributes\":{\"start\":-8,\"end\":20}},\"x_scale\":{\"type\":\"object\",\"name\":\"LinearScale\",\"id\":\"p23923\"},\"y_scale\":{\"type\":\"object\",\"name\":\"LinearScale\",\"id\":\"p23925\"},\"title\":{\"type\":\"object\",\"name\":\"Title\",\"id\":\"p23915\"},\"outline_line_color\":null,\"renderers\":[{\"type\":\"object\",\"name\":\"GlyphRenderer\",\"id\":\"p23998\",\"attributes\":{\"name\":\"borrowing_to_income\",\"data_source\":{\"type\":\"object\",\"name\":\"ColumnDataSource\",\"id\":\"p23907\",\"attributes\":{\"selected\":{\"type\":\"object\",\"name\":\"Selection\",\"id\":\"p23908\",\"attributes\":{\"indices\":[],\"line_indices\":[]}},\"selection_policy\":{\"type\":\"object\",\"name\":\"UnionRenderers\",\"id\":\"p23909\"},\"data\":{\"type\":\"map\",\"entries\":[[\"TimePeriod\",{\"type\":\"ndarray\",\"array\":[-315619200000.0,-283996800000.0,-252460800000.0,-220924800000.0,-189388800000.0,-157766400000.0,-126230400000.0,-94694400000.0,-63158400000.0,-31536000000.0,0.0,31536000000.0,63072000000.0,94694400000.0,126230400000.0,157766400000.0,189302400000.0,220924800000.0,252460800000.0,283996800000.0,315532800000.0,347155200000.0,378691200000.0,410227200000.0,441763200000.0,473385600000.0,504921600000.0,536457600000.0,567993600000.0,599616000000.0,631152000000.0,662688000000.0,694224000000.0,725846400000.0,757382400000.0,788918400000.0,820454400000.0,852076800000.0,883612800000.0,915148800000.0,946684800000.0,978307200000.0,1009843200000.0,1041379200000.0,1072915200000.0,1104537600000.0,1136073600000.0,1167609600000.0,1199145600000.0,1230768000000.0,1262304000000.0,1293840000000.0,1325376000000.0,1356998400000.0,1388534400000.0,1420070400000.0,1451606400000.0,1483228800000.0,1514764800000.0,1546300800000.0,1577836800000.0,1609459200000.0,1640995200000.0],\"shape\":[63],\"dtype\":\"object\",\"order\":\"little\"}],[\"borrowing_to_income\",{\"type\":\"ndarray\",\"array\":{\"type\":\"bytes\",\"data\":\"CJwOypRU+j8XZU+aHcYHQAe8pCMNbwhA389cqIV4AUC4zBtiwU8GQPeINXEl3gBA68OUb7YQBECX60JvlJ0PQNlfe4qO2gVAo5tyCYc49j9J8NBNf54QQO6u14sM8RNAZ4EoAp0yEUBoKfafQIoGQOQALEjFOQdA4/w8yO+bHEDOdaebxYcVQEcdkkoA2RFA8MMj1Y/4DEAetH3gXqwFQFcTVOvjUxFAgyElkwe8DkC+IMSkaykaQBlBWZAmkx5A43jsek+4GkCKGeGRHeYaQGXDA4DImBtApQI7zM9sFUCu2GE/pfoRQPFnebuNUxBAKcIVm5tzE0BE6CWZEb8VQDojBzL/PBpAUyL6HanyFkDJSWPZDR4RQIfZsIpp6w1ANj8+jwonBUBv7XFDs67xP3bl2f88ocK/o3oZQ3GJ6L9HSeNUS5P7v0ME3HvfjpC/GJIJK4p6CkAUPn4NXwoTQPv58Ihg0RFAH+brGDxLDEAdZg6HAX0DQFH8ZNai9gZAJ1MajiwOGUACE/eIDHooQKL2It+8iCdAC24zpSXeJEAEBR9iSNcgQPbakK42OhNArhl26msoEUCbMrPnAq8NQA9tsoEV5RFAjLWE+kNGC0B71CYi3D0WQAAJkBVINxlA7BO6w64tMUD+igOQxjEuQEfmrENZyRRA\"},\"shape\":[63],\"dtype\":\"float64\",\"order\":\"little\"}],[\"debt_service_ratio\",{\"type\":\"ndarray\",\"array\":{\"type\":\"bytes\",\"data\":\"Xp+bp+dNBEA08KBSLaADQJTkOelJ4ANAcLHijdM1BEDUYzvS1EsEQPg4L9ps6gNAwAnP9hXuA0CmEy6SjloEQP75H17F0ARAhNOlVMN+BUA8KLWBitEIQFaZieYlPQhASK1YiGqCB0APd6Xs/i8IQM8+MSSctghAIA1qtK/qCEBszvuAlTMJQKqgCu51EQlA4aSp+vLuCkCSv2VTyPwLQGZUPDH9Ng5APh7phzarEEBF+wHOVR0SQBI/Z3LHehJAwmS+5zs6E0AkLL4fJdYTQC9ieWc12xNAv0+zL2o+E0ATtrzm6t0SQOQ1gwhaRBNAlGlRZbeWE0B8JR5H8vcTQNjQwikhExNAxiBsrgiAEkDcOORa/eURQDyuJ5v9mhJANlNaQ47lEUCVqqc+oQYRQAAJzrCvARBA+pxLlC0TDUCOmQFnrUALQLmGHMqMqAhA/EphUp3OBUDiQu3qeTsEQCL0z6YX4ANAtDMoRp7sBEAIQMjwOysFQDrzWbt+bgZAEjCGV3ocBUA5KOPLEKkDQFTyBx5/HQRA4R1kkDN5BUBvPfxWbEYEQMTlmqSMYANAbuYvhPV3A0CP6p4rSmcCQOo75H+lGwNAb3FYbXMtA0C+yJccJ7IEQFYCYYE5ZwVAAt1GXtaxA0DTVmLRg6EDQJq02cCYBQZA\"},\"shape\":[63],\"dtype\":\"float64\",\"order\":\"little\"}]]}}},\"view\":{\"type\":\"object\",\"name\":\"CDSView\",\"id\":\"p23999\",\"attributes\":{\"filter\":{\"type\":\"object\",\"name\":\"AllIndices\",\"id\":\"p24000\"}}},\"glyph\":{\"type\":\"object\",\"name\":\"Line\",\"id\":\"p23995\",\"attributes\":{\"x\":{\"type\":\"field\",\"field\":\"TimePeriod\"},\"y\":{\"type\":\"field\",\"field\":\"borrowing_to_income\"},\"line_color\":\"#D86018\",\"line_width\":3}},\"nonselection_glyph\":{\"type\":\"object\",\"name\":\"Line\",\"id\":\"p23996\",\"attributes\":{\"x\":{\"type\":\"field\",\"field\":\"TimePeriod\"},\"y\":{\"type\":\"field\",\"field\":\"borrowing_to_income\"},\"line_color\":\"#D86018\",\"line_alpha\":0.1,\"line_width\":3}},\"muted_glyph\":{\"type\":\"object\",\"name\":\"Line\",\"id\":\"p23997\",\"attributes\":{\"x\":{\"type\":\"field\",\"field\":\"TimePeriod\"},\"y\":{\"type\":\"field\",\"field\":\"borrowing_to_income\"},\"line_color\":\"#D86018\",\"line_alpha\":0.2,\"line_width\":3}}}},{\"type\":\"object\",\"name\":\"GlyphRenderer\",\"id\":\"p24007\",\"attributes\":{\"name\":\"debt_service_ratio\",\"data_source\":{\"id\":\"p23907\"},\"view\":{\"type\":\"object\",\"name\":\"CDSView\",\"id\":\"p24008\",\"attributes\":{\"filter\":{\"type\":\"object\",\"name\":\"AllIndices\",\"id\":\"p24009\"}}},\"glyph\":{\"type\":\"object\",\"name\":\"Line\",\"id\":\"p24004\",\"attributes\":{\"x\":{\"type\":\"field\",\"field\":\"TimePeriod\"},\"y\":{\"type\":\"field\",\"field\":\"debt_service_ratio\"},\"line_color\":\"#004C97\",\"line_width\":3}},\"nonselection_glyph\":{\"type\":\"object\",\"name\":\"Line\",\"id\":\"p24005\",\"attributes\":{\"x\":{\"type\":\"field\",\"field\":\"TimePeriod\"},\"y\":{\"type\":\"field\",\"field\":\"debt_service_ratio\"},\"line_color\":\"#004C97\",\"line_alpha\":0.1,\"line_width\":3}},\"muted_glyph\":{\"type\":\"object\",\"name\":\"Line\",\"id\":\"p24006\",\"attributes\":{\"x\":{\"type\":\"field\",\"field\":\"TimePeriod\"},\"y\":{\"type\":\"field\",\"field\":\"debt_service_ratio\"},\"line_color\":\"#004C97\",\"line_alpha\":0.2,\"line_width\":3}}}},{\"type\":\"object\",\"name\":\"GlyphRenderer\",\"id\":\"p24016\",\"attributes\":{\"data_source\":{\"type\":\"object\",\"name\":\"ColumnDataSource\",\"id\":\"p24010\",\"attributes\":{\"selected\":{\"type\":\"object\",\"name\":\"Selection\",\"id\":\"p24011\",\"attributes\":{\"indices\":[],\"line_indices\":[]}},\"selection_policy\":{\"type\":\"object\",\"name\":\"UnionRenderers\",\"id\":\"p24012\"},\"data\":{\"type\":\"map\"}}},\"view\":{\"type\":\"object\",\"name\":\"CDSView\",\"id\":\"p24017\",\"attributes\":{\"filter\":{\"type\":\"object\",\"name\":\"AllIndices\",\"id\":\"p24018\"}}},\"glyph\":{\"type\":\"object\",\"name\":\"VBar\",\"id\":\"p24013\",\"attributes\":{\"line_color\":{\"type\":\"value\",\"value\":\"#DCDEDF\"},\"fill_color\":{\"type\":\"value\",\"value\":\"#DCDEDF\"},\"hatch_color\":{\"type\":\"value\",\"value\":\"#DCDEDF\"}}},\"nonselection_glyph\":{\"type\":\"object\",\"name\":\"VBar\",\"id\":\"p24014\",\"attributes\":{\"line_color\":{\"type\":\"value\",\"value\":\"#DCDEDF\"},\"line_alpha\":{\"type\":\"value\",\"value\":0.1},\"fill_color\":{\"type\":\"value\",\"value\":\"#DCDEDF\"},\"fill_alpha\":{\"type\":\"value\",\"value\":0.1},\"hatch_color\":{\"type\":\"value\",\"value\":\"#DCDEDF\"},\"hatch_alpha\":{\"type\":\"value\",\"value\":0.1}}},\"muted_glyph\":{\"type\":\"object\",\"name\":\"VBar\",\"id\":\"p24015\",\"attributes\":{\"line_color\":{\"type\":\"value\",\"value\":\"#DCDEDF\"},\"line_alpha\":{\"type\":\"value\",\"value\":0.2},\"fill_color\":{\"type\":\"value\",\"value\":\"#DCDEDF\"},\"fill_alpha\":{\"type\":\"value\",\"value\":0.2},\"hatch_color\":{\"type\":\"value\",\"value\":\"#DCDEDF\"},\"hatch_alpha\":{\"type\":\"value\",\"value\":0.2}}}}}],\"toolbar\":{\"type\":\"object\",\"name\":\"Toolbar\",\"id\":\"p23917\",\"attributes\":{\"tools\":[{\"type\":\"object\",\"name\":\"PanTool\",\"id\":\"p23977\"},{\"type\":\"object\",\"name\":\"WheelZoomTool\",\"id\":\"p23978\"},{\"type\":\"object\",\"name\":\"BoxZoomTool\",\"id\":\"p23979\",\"attributes\":{\"overlay\":{\"type\":\"object\",\"name\":\"BoxAnnotation\",\"id\":\"p23980\",\"attributes\":{\"syncable\":false,\"level\":\"overlay\",\"visible\":false,\"left_units\":\"canvas\",\"right_units\":\"canvas\",\"bottom_units\":\"canvas\",\"top_units\":\"canvas\",\"line_color\":\"black\",\"line_alpha\":1.0,\"line_width\":2,\"line_dash\":[4,4],\"fill_color\":\"lightgrey\",\"fill_alpha\":0.5}}}},{\"type\":\"object\",\"name\":\"SaveTool\",\"id\":\"p23981\"},{\"type\":\"object\",\"name\":\"ResetTool\",\"id\":\"p23982\"},{\"type\":\"object\",\"name\":\"HelpTool\",\"id\":\"p23983\"},{\"type\":\"object\",\"name\":\"HoverTool\",\"id\":\"p24045\",\"attributes\":{\"renderers\":[{\"id\":\"p23998\"},{\"id\":\"p24007\"}],\"tooltips\":[[\"Year\",\"@TimePeriod{%Y}\"],[\"Percent\",\"@$name{0.0}\"]],\"formatters\":{\"type\":\"map\",\"entries\":[[\"@TimePeriod\",\"datetime\"]]}}}],\"active_drag\":null}},\"toolbar_location\":null,\"left\":[{\"type\":\"object\",\"name\":\"LinearAxis\",\"id\":\"p23970\",\"attributes\":{\"ticker\":{\"type\":\"object\",\"name\":\"BasicTicker\",\"id\":\"p23971\",\"attributes\":{\"mantissas\":[1,2,5]}},\"formatter\":{\"type\":\"object\",\"name\":\"BasicTickFormatter\",\"id\":\"p23973\"},\"axis_label\":\"Percent\",\"axis_label_text_font\":\"calibri\",\"axis_label_text_font_style\":\"bold\",\"major_label_policy\":{\"type\":\"object\",\"name\":\"AllLabels\",\"id\":\"p23972\"},\"axis_line_color\":null,\"major_tick_line_color\":null,\"minor_tick_line_color\":null}}],\"below\":[{\"type\":\"object\",\"name\":\"DatetimeAxis\",\"id\":\"p23927\",\"attributes\":{\"ticker\":{\"type\":\"object\",\"name\":\"FixedTicker\",\"id\":\"p24031\",\"attributes\":{\"ticks\":[-315619200000.0,-189388800000.0,-63158400000.0,63072000000.0,189302400000.0,315532800000.0,441763200000.0,567993600000.0,694224000000.0,820454400000.0,946684800000.0,1072915200000.0,1199145600000.0,1325376000000.0,1451606400000.0,1577836800000.0],\"minor_ticks\":[]}},\"formatter\":{\"type\":\"object\",\"name\":\"DatetimeTickFormatter\",\"id\":\"p23942\"},\"axis_label_text_font\":\"calibri\",\"axis_label_text_font_style\":\"bold\",\"major_label_policy\":{\"type\":\"object\",\"name\":\"AllLabels\",\"id\":\"p23941\"},\"axis_line_color\":null,\"major_tick_line_color\":null,\"minor_tick_line_color\":null}},{\"type\":\"object\",\"name\":\"Legend\",\"id\":\"p24019\",\"attributes\":{\"location\":\"center\",\"orientation\":\"horizontal\",\"border_line_color\":\"white\",\"label_text_font\":\"calibri\",\"items\":[{\"type\":\"object\",\"name\":\"LegendItem\",\"id\":\"p24020\",\"attributes\":{\"label\":{\"type\":\"value\",\"value\":\"Federal net borrowing to income ratio\"},\"renderers\":[{\"id\":\"p23998\"}]}},{\"type\":\"object\",\"name\":\"LegendItem\",\"id\":\"p24021\",\"attributes\":{\"label\":{\"type\":\"value\",\"value\":\"Federal debt service ratio\"},\"renderers\":[{\"id\":\"p24007\"}]}},{\"type\":\"object\",\"name\":\"LegendItem\",\"id\":\"p24022\",\"attributes\":{\"label\":{\"type\":\"value\",\"value\":\"Recessions\"},\"renderers\":[{\"id\":\"p24016\"}]}}]}}],\"center\":[{\"type\":\"object\",\"name\":\"Grid\",\"id\":\"p23969\",\"attributes\":{\"axis\":{\"id\":\"p23927\"},\"grid_line_color\":null,\"grid_line_width\":1.5}},{\"type\":\"object\",\"name\":\"Grid\",\"id\":\"p23976\",\"attributes\":{\"dimension\":1,\"axis\":{\"id\":\"p23970\"},\"grid_line_color\":\"#DCDEDF\",\"grid_line_width\":1.5}},{\"type\":\"object\",\"name\":\"BoxAnnotation\",\"id\":\"p24023\",\"attributes\":{\"level\":\"underlay\",\"left\":-315619200000.0,\"right\":-252460800000.0,\"line_color\":\"#DCDEDF\",\"line_width\":0,\"fill_color\":\"#DCDEDF\",\"fill_alpha\":1}},{\"type\":\"object\",\"name\":\"BoxAnnotation\",\"id\":\"p24024\",\"attributes\":{\"level\":\"underlay\",\"left\":0.0,\"right\":31536000000.0,\"line_color\":\"#DCDEDF\",\"line_width\":0,\"fill_color\":\"#DCDEDF\",\"fill_alpha\":1}},{\"type\":\"object\",\"name\":\"BoxAnnotation\",\"id\":\"p24025\",\"attributes\":{\"level\":\"underlay\",\"left\":94694400000.0,\"right\":189302400000.0,\"line_color\":\"#DCDEDF\",\"line_width\":0,\"fill_color\":\"#DCDEDF\",\"fill_alpha\":1}},{\"type\":\"object\",\"name\":\"BoxAnnotation\",\"id\":\"p24026\",\"attributes\":{\"level\":\"underlay\",\"left\":315532800000.0,\"right\":410227200000.0,\"line_color\":\"#DCDEDF\",\"line_width\":0,\"fill_color\":\"#DCDEDF\",\"fill_alpha\":1}},{\"type\":\"object\",\"name\":\"BoxAnnotation\",\"id\":\"p24027\",\"attributes\":{\"level\":\"underlay\",\"left\":631152000000.0,\"right\":694224000000.0,\"line_color\":\"#DCDEDF\",\"line_width\":0,\"fill_color\":\"#DCDEDF\",\"fill_alpha\":1}},{\"type\":\"object\",\"name\":\"BoxAnnotation\",\"id\":\"p24028\",\"attributes\":{\"level\":\"underlay\",\"left\":978307200000.0,\"right\":1009843200000.0,\"line_color\":\"#DCDEDF\",\"line_width\":0,\"fill_color\":\"#DCDEDF\",\"fill_alpha\":1}},{\"type\":\"object\",\"name\":\"BoxAnnotation\",\"id\":\"p24029\",\"attributes\":{\"level\":\"underlay\",\"left\":1199145600000.0,\"right\":1262304000000.0,\"line_color\":\"#DCDEDF\",\"line_width\":0,\"fill_color\":\"#DCDEDF\",\"fill_alpha\":1}},{\"type\":\"object\",\"name\":\"BoxAnnotation\",\"id\":\"p24030\",\"attributes\":{\"level\":\"underlay\",\"left\":1577836800000.0,\"right\":1609459200000.0,\"line_color\":\"#DCDEDF\",\"line_width\":0,\"fill_color\":\"#DCDEDF\",\"fill_alpha\":1}}]}}],\"callbacks\":{\"type\":\"map\"}}};\n  const render_items = [{\"docid\":\"0506de1b-5222-407c-b565-63a49d2675fd\",\"roots\":{\"p23910\":\"2d28b1bf-2178-456e-b18d-c838cf74c1a6\"},\"root_ids\":[\"p23910\"]}];\n  root.Bokeh.embed.embed_items_notebook(docs_json, render_items);\n  }\n  if (root.Bokeh !== undefined) {\n    embed_document(root);\n  } else {\n    let attempts = 0;\n    const timer = setInterval(function(root) {\n      if (root.Bokeh !== undefined) {\n        clearInterval(timer);\n        embed_document(root);\n      } else {\n        attempts++;\n        if (attempts > 100) {\n          clearInterval(timer);\n          console.log(\"Bokeh: ERROR: Unable to run BokehJS code because BokehJS library is missing\");\n        }\n      }\n    }, 10, root)\n  }\n})(window);",
      "application/vnd.bokehjs_exec.v0+json": ""
     },
     "metadata": {
      "application/vnd.bokehjs_exec.v0+json": {
       "id": "p23910"
      }
     },
     "output_type": "display_data"
    },
    {
     "data": {
      "text/html": [
       "<ul class=\"footnote\">\n",
       "<li>Data. Trends in federal deficits, debt, and debt service, 1960–2022</li>\n",
       "<li>Source. BEA <a href=\"https://apps.bea.gov/iTable/iTable.cfm?reqid=19&step=3&isuri=1&nipa_table_list=5&categories=survey\" class=\"figlink\">NIPA table 1.1.5</a> and <a href=\"https://apps.bea.gov/iTable/iTable.cfm?reqid=19&step=3&isuri=1&nipa_table_list=87&categories=survey\" class=\"figlink\">NIPA table 3.2</a></li>\n",
       "<li>The federal debt service ratio is calculated as federal interest payments divided by gross national income (GNI). The federal net borrowing to income ratio is calculated as total federal expenditures less total federal receipts divided by national income.</li>\n",
       "<ul>"
      ],
      "text/plain": [
       "<IPython.core.display.HTML object>"
      ]
     },
     "metadata": {},
     "output_type": "display_data"
    }
   ],
   "source": [
    "show(wellbeing.generate_chart.budget_deficit(start_year=1960, end_year=default_end_year, from_cache=from_cache))"
   ]
  },
  {
   "cell_type": "code",
   "execution_count": 74,
   "metadata": {},
   "outputs": [
    {
     "data": {
      "text/html": [
       "There are several key indicators used to assess the economic effects of debt burdens. This includes borrowers' ability to service their debt and how borrowing in each period compares with income.<br><br>For the federal government, the ability to service debt is measured by the \"federal debt service ratio,\" calculated as federal interest payments divided by gross national income (GNI). Borrowing compared with income is measured using the \"federal net borrowing to income ratio,\" calculated as federal total expenditures less federal total receipts divided by national income.<br><br>The federal debt service ratio has remained relatively flat over the last few decades. In addition, while the federal net borrowing to income ratio has been much more volatile, except at its peak in 2020 during the coronavirus pandemic, it was not much higher than such debt ratios in the past 50 years and remained significantly below the debt ratios created by the large deficits recorded during WWII and the Great Depression (see \"U.S. Budget and the Economy Over Time\" above)."
      ],
      "text/plain": [
       "<IPython.core.display.HTML object>"
      ]
     },
     "metadata": {},
     "output_type": "display_data"
    }
   ],
   "source": [
    "show_narrative('Budget Deficit')"
   ]
  },
  {
   "attachments": {},
   "cell_type": "markdown",
   "metadata": {},
   "source": [
    "#### Saving and Investment"
   ]
  },
  {
   "cell_type": "code",
   "execution_count": 75,
   "metadata": {},
   "outputs": [
    {
     "name": "stdout",
     "output_type": "stream",
     "text": [
      "Saving and Investment for the Future\n",
      "Net Saving and Net Investment as Percentages of GDP\n"
     ]
    },
    {
     "data": {
      "text/html": [
       "\n",
       "  <div id=\"c15f9160-93fe-4e5c-b0e4-54d7d7971833\" data-root-id=\"p25050\" style=\"display: contents;\"></div>\n"
      ]
     },
     "metadata": {},
     "output_type": "display_data"
    },
    {
     "data": {
      "application/javascript": "(function(root) {\n  function embed_document(root) {\n  const docs_json = {\"4143bb38-8627-4f1d-b1cc-259e096c4202\":{\"version\":\"3.1.0\",\"title\":\"Bokeh Application\",\"defs\":[],\"roots\":[{\"type\":\"object\",\"name\":\"Figure\",\"id\":\"p25050\",\"attributes\":{\"styles\":{\"type\":\"map\",\"entries\":[[\"width\",\"98%\"]]},\"width\":700,\"height\":400,\"aspect_ratio\":1.75,\"sizing_mode\":\"scale_both\",\"x_range\":{\"type\":\"object\",\"name\":\"Range1d\",\"id\":\"p25059\",\"attributes\":{\"start\":-1293840000000.0,\"end\":1640995200000.0}},\"y_range\":{\"type\":\"object\",\"name\":\"Range1d\",\"id\":\"p25061\",\"attributes\":{\"start\":-10,\"end\":20}},\"x_scale\":{\"type\":\"object\",\"name\":\"LinearScale\",\"id\":\"p25063\"},\"y_scale\":{\"type\":\"object\",\"name\":\"LinearScale\",\"id\":\"p25065\"},\"title\":{\"type\":\"object\",\"name\":\"Title\",\"id\":\"p25055\"},\"outline_line_color\":null,\"renderers\":[{\"type\":\"object\",\"name\":\"GlyphRenderer\",\"id\":\"p25138\",\"attributes\":{\"name\":\"saving_rate\",\"data_source\":{\"type\":\"object\",\"name\":\"ColumnDataSource\",\"id\":\"p25047\",\"attributes\":{\"selected\":{\"type\":\"object\",\"name\":\"Selection\",\"id\":\"p25048\",\"attributes\":{\"indices\":[],\"line_indices\":[]}},\"selection_policy\":{\"type\":\"object\",\"name\":\"UnionRenderers\",\"id\":\"p25049\"},\"data\":{\"type\":\"map\",\"entries\":[[\"TimePeriod\",{\"type\":\"ndarray\",\"array\":[-1293840000000.0,-1262304000000.0,-1230768000000.0,-1199232000000.0,-1167609600000.0,-1136073600000.0,-1104537600000.0,-1073001600000.0,-1041379200000.0,-1009843200000.0,-978307200000.0,-946771200000.0,-915148800000.0,-883612800000.0,-852076800000.0,-820540800000.0,-788918400000.0,-757382400000.0,-725846400000.0,-694310400000.0,-662688000000.0,-631152000000.0,-599616000000.0,-568080000000.0,-536457600000.0,-504921600000.0,-473385600000.0,-441849600000.0,-410227200000.0,-378691200000.0,-347155200000.0,-315619200000.0,-283996800000.0,-252460800000.0,-220924800000.0,-189388800000.0,-157766400000.0,-126230400000.0,-94694400000.0,-63158400000.0,-31536000000.0,0.0,31536000000.0,63072000000.0,94694400000.0,126230400000.0,157766400000.0,189302400000.0,220924800000.0,252460800000.0,283996800000.0,315532800000.0,347155200000.0,378691200000.0,410227200000.0,441763200000.0,473385600000.0,504921600000.0,536457600000.0,567993600000.0,599616000000.0,631152000000.0,662688000000.0,694224000000.0,725846400000.0,757382400000.0,788918400000.0,820454400000.0,852076800000.0,883612800000.0,915148800000.0,946684800000.0,978307200000.0,1009843200000.0,1041379200000.0,1072915200000.0,1104537600000.0,1136073600000.0,1167609600000.0,1199145600000.0,1230768000000.0,1262304000000.0,1293840000000.0,1325376000000.0,1356998400000.0,1388534400000.0,1420070400000.0,1451606400000.0,1483228800000.0,1514764800000.0,1546300800000.0,1577836800000.0,1609459200000.0,1640995200000.0],\"shape\":[94],\"dtype\":\"object\",\"order\":\"little\"}],[\"saving_rate\",{\"type\":\"ndarray\",\"array\":{\"type\":\"bytes\",\"data\":\"jc66WnCQIkCrqqqqqlIYQFksD1sIPuG/nL4xKYtOHcAQnpTymX8cwNHIO3+L0wDAqsC/x7itBEA1Wfyyp7kQQKbvGzGNph9AoC0qX1OECEAdWIs5WRITQMj5KzziUyFAFwvMU/19LUCe5xYYjBUwQPVFX+u4iixAmpr6RP0lI0CuU9uQoZMQQOgD7r4k1BtAUX3bwIcfIEBdoeW7XfwlQAG/VHgvWRlATfYkgg0BJUCP+gXd4j0oQKf6a4q7YSVAIXEQvQPGI0C5+4uc+8ohQKoBiCs7TyZA7C0LkYeqKECnlvhDb1AmQJtaV9DIJiFARlFrmbjwJEA79yzCssYlQAQO35/GsyVAuuGbpJ7zJkANWFsnuOEnQHjM5qaocihALDzDPwyTKUBajZNwKuAoQPCGWsQ6iyZA30M5MAKFJUDosSwRjkUlQG2rMo3JByFABpyJFViwIEB3NNY0IDwiQM5ADFQg+SVACOLpRkJrIkBE3R/V4QYaQEuHpY05sh1AQR5x9s9KIEDbQ1hdQ8ciQIkZemgbPiJA6Qtl6HA8HEDnvPDbGAEgQA2+yHDKlxZAzaUl6RP1EEDI3JZlQQ4cQFm2JUM9MxZAMKgnhyNOD0DLqHUijgASQGYK//vbUBZAEFI4KplAE0CMP8WqASoOQAVoGLVVtAxAhWgEDyH9BkAQ8IXHg6YCQI8sAwTWSgpAnhUOrTvTD0DO4KBXQ/8TQKwRG1LcPBlASx5CR71mG0CTg879ZEMZQEd2ehNo7xdAHmIpOwLAEUAOCqjMw70IQDQKe/ukdwJArp62n6m2BUDM/E1RMDYHQE3hzcMOsQ1AWgKf41rP+z8+ck0SXI7wv4GGRlWbOAXAON6lMGf15b81l2H8CyjTP/+O5eGrPwVAHV2paD8gCED/GyM9aj4QQHeSXw5wqBBA2ba4hppvB0A8shaj/eMLQK069HPfRg1AzqiO/ej6DEAblBLPdykCQDWdQhl+dvg/AHuQ26tr9z8=\"},\"shape\":[94],\"dtype\":\"float64\",\"order\":\"little\"}],[\"investment_rate\",{\"type\":\"ndarray\",\"array\":{\"type\":\"bytes\",\"data\":\"pp8pklx8IkDjOI7jOGITQMnxZuE9A8Q/FHkE+J+bHMB5pEhz2+8ZwI+lTIJdhQHA61vg13PFAkAzlZCjHLkWQOBhqx4uhx5AwceI2pEVBEAlSueWYjAUQH/U+Y+LZSBAL684SID/K0D2homvTiMvQPNBU4BS0ixA/fPbi70oJ0D9w8nP450ZQJkvEZsxWhVAkPFv+oLyFUDS47jTewokQH2f3l6DnRpAC7SElhsTJ0CdFw8umLgpQL59aQS5eiZAAM0RZFhmJkDuexI1UjIjQGPTms7HIidAaDlEf0uRJkC/TXWVgiwkQNY2qVNmFiFAJFJ1KQCBJUBESMjvQyAkQO93w2au4CNAy1kkq9SuJUDXjAKFoN4lQDxQBoxvQCZAPNCHOFYdKEBtP5FvWzApQN0f7Uj3gyZAyeIy4BjcJUB2ePh1jEQlQJqEzFSvVCFABUtVrgdFIkBCIfqCW/wjQOiMxUVslyVAb7JUaJicIkCwlhIXsnwYQGo2oWW0SyBA9eGnYls1I0A7VYxxBtYlQKJM9APlwiVA9Ra68dChIEDs7p1yKCsiQFMFRk/XCxhAvzZ6PWYVG0CWivWc9IwkQLlSHXLL3iJACsH9raGNIUBKl5xPYichQKt2N02jYh9AWw+c9vSeHkDD+HYH6YMaQKxJW8cH4RNAvCh3OgVnFUDvCElYmQwXQF41su5lLBtA13pW2kdTGkDL6ItfAJMcQDpOVuFT2B9AMhn7U10DIUByHOCoxMkhQOGu14dF3yFAU3feOLI+HEDpRqtApjUaQLBtgBwK9hpA3J79Pun1HkDWTT7D54QgQNyZDudLUyBAek5T6yb5G0D8oYn9ckQUQC7b8404OfY/ZOUJws9GBkBZLjCh0V4JQDWTBS/FaBBAhaS5q4KyEUB5+cBhsPQSQCU57+gp1hRAjIpoaxhbEkAV63L4mDQTQLklgNoWAxVAJ0h5x+77FECL8orhY0AQQFaf8xp3rhJAHgWJCj/tEkA=\"},\"shape\":[94],\"dtype\":\"float64\",\"order\":\"little\"}]]}}},\"view\":{\"type\":\"object\",\"name\":\"CDSView\",\"id\":\"p25139\",\"attributes\":{\"filter\":{\"type\":\"object\",\"name\":\"AllIndices\",\"id\":\"p25140\"}}},\"glyph\":{\"type\":\"object\",\"name\":\"Line\",\"id\":\"p25135\",\"attributes\":{\"x\":{\"type\":\"field\",\"field\":\"TimePeriod\"},\"y\":{\"type\":\"field\",\"field\":\"saving_rate\"},\"line_color\":\"#004C97\",\"line_width\":3}},\"nonselection_glyph\":{\"type\":\"object\",\"name\":\"Line\",\"id\":\"p25136\",\"attributes\":{\"x\":{\"type\":\"field\",\"field\":\"TimePeriod\"},\"y\":{\"type\":\"field\",\"field\":\"saving_rate\"},\"line_color\":\"#004C97\",\"line_alpha\":0.1,\"line_width\":3}},\"muted_glyph\":{\"type\":\"object\",\"name\":\"Line\",\"id\":\"p25137\",\"attributes\":{\"x\":{\"type\":\"field\",\"field\":\"TimePeriod\"},\"y\":{\"type\":\"field\",\"field\":\"saving_rate\"},\"line_color\":\"#004C97\",\"line_alpha\":0.2,\"line_width\":3}}}},{\"type\":\"object\",\"name\":\"GlyphRenderer\",\"id\":\"p25147\",\"attributes\":{\"name\":\"investment_rate\",\"data_source\":{\"id\":\"p25047\"},\"view\":{\"type\":\"object\",\"name\":\"CDSView\",\"id\":\"p25148\",\"attributes\":{\"filter\":{\"type\":\"object\",\"name\":\"AllIndices\",\"id\":\"p25149\"}}},\"glyph\":{\"type\":\"object\",\"name\":\"Line\",\"id\":\"p25144\",\"attributes\":{\"x\":{\"type\":\"field\",\"field\":\"TimePeriod\"},\"y\":{\"type\":\"field\",\"field\":\"investment_rate\"},\"line_color\":\"#D86018\",\"line_width\":3}},\"nonselection_glyph\":{\"type\":\"object\",\"name\":\"Line\",\"id\":\"p25145\",\"attributes\":{\"x\":{\"type\":\"field\",\"field\":\"TimePeriod\"},\"y\":{\"type\":\"field\",\"field\":\"investment_rate\"},\"line_color\":\"#D86018\",\"line_alpha\":0.1,\"line_width\":3}},\"muted_glyph\":{\"type\":\"object\",\"name\":\"Line\",\"id\":\"p25146\",\"attributes\":{\"x\":{\"type\":\"field\",\"field\":\"TimePeriod\"},\"y\":{\"type\":\"field\",\"field\":\"investment_rate\"},\"line_color\":\"#D86018\",\"line_alpha\":0.2,\"line_width\":3}}}},{\"type\":\"object\",\"name\":\"GlyphRenderer\",\"id\":\"p25156\",\"attributes\":{\"data_source\":{\"type\":\"object\",\"name\":\"ColumnDataSource\",\"id\":\"p25150\",\"attributes\":{\"selected\":{\"type\":\"object\",\"name\":\"Selection\",\"id\":\"p25151\",\"attributes\":{\"indices\":[],\"line_indices\":[]}},\"selection_policy\":{\"type\":\"object\",\"name\":\"UnionRenderers\",\"id\":\"p25152\"},\"data\":{\"type\":\"map\"}}},\"view\":{\"type\":\"object\",\"name\":\"CDSView\",\"id\":\"p25157\",\"attributes\":{\"filter\":{\"type\":\"object\",\"name\":\"AllIndices\",\"id\":\"p25158\"}}},\"glyph\":{\"type\":\"object\",\"name\":\"VBar\",\"id\":\"p25153\",\"attributes\":{\"line_color\":{\"type\":\"value\",\"value\":\"#DCDEDF\"},\"fill_color\":{\"type\":\"value\",\"value\":\"#DCDEDF\"},\"hatch_color\":{\"type\":\"value\",\"value\":\"#DCDEDF\"}}},\"nonselection_glyph\":{\"type\":\"object\",\"name\":\"VBar\",\"id\":\"p25154\",\"attributes\":{\"line_color\":{\"type\":\"value\",\"value\":\"#DCDEDF\"},\"line_alpha\":{\"type\":\"value\",\"value\":0.1},\"fill_color\":{\"type\":\"value\",\"value\":\"#DCDEDF\"},\"fill_alpha\":{\"type\":\"value\",\"value\":0.1},\"hatch_color\":{\"type\":\"value\",\"value\":\"#DCDEDF\"},\"hatch_alpha\":{\"type\":\"value\",\"value\":0.1}}},\"muted_glyph\":{\"type\":\"object\",\"name\":\"VBar\",\"id\":\"p25155\",\"attributes\":{\"line_color\":{\"type\":\"value\",\"value\":\"#DCDEDF\"},\"line_alpha\":{\"type\":\"value\",\"value\":0.2},\"fill_color\":{\"type\":\"value\",\"value\":\"#DCDEDF\"},\"fill_alpha\":{\"type\":\"value\",\"value\":0.2},\"hatch_color\":{\"type\":\"value\",\"value\":\"#DCDEDF\"},\"hatch_alpha\":{\"type\":\"value\",\"value\":0.2}}}}}],\"toolbar\":{\"type\":\"object\",\"name\":\"Toolbar\",\"id\":\"p25057\",\"attributes\":{\"tools\":[{\"type\":\"object\",\"name\":\"PanTool\",\"id\":\"p25117\"},{\"type\":\"object\",\"name\":\"WheelZoomTool\",\"id\":\"p25118\"},{\"type\":\"object\",\"name\":\"BoxZoomTool\",\"id\":\"p25119\",\"attributes\":{\"overlay\":{\"type\":\"object\",\"name\":\"BoxAnnotation\",\"id\":\"p25120\",\"attributes\":{\"syncable\":false,\"level\":\"overlay\",\"visible\":false,\"left_units\":\"canvas\",\"right_units\":\"canvas\",\"bottom_units\":\"canvas\",\"top_units\":\"canvas\",\"line_color\":\"black\",\"line_alpha\":1.0,\"line_width\":2,\"line_dash\":[4,4],\"fill_color\":\"lightgrey\",\"fill_alpha\":0.5}}}},{\"type\":\"object\",\"name\":\"SaveTool\",\"id\":\"p25121\"},{\"type\":\"object\",\"name\":\"ResetTool\",\"id\":\"p25122\"},{\"type\":\"object\",\"name\":\"HelpTool\",\"id\":\"p25123\"},{\"type\":\"object\",\"name\":\"HoverTool\",\"id\":\"p25191\",\"attributes\":{\"renderers\":[{\"id\":\"p25138\"},{\"id\":\"p25147\"}],\"tooltips\":[[\"Year\",\"@TimePeriod{%Y}\"],[\"Percent\",\"@$name{0.0}\"]],\"formatters\":{\"type\":\"map\",\"entries\":[[\"@TimePeriod\",\"datetime\"]]}}}],\"active_drag\":null}},\"toolbar_location\":null,\"left\":[{\"type\":\"object\",\"name\":\"LinearAxis\",\"id\":\"p25110\",\"attributes\":{\"ticker\":{\"type\":\"object\",\"name\":\"BasicTicker\",\"id\":\"p25111\",\"attributes\":{\"mantissas\":[1,2,5]}},\"formatter\":{\"type\":\"object\",\"name\":\"BasicTickFormatter\",\"id\":\"p25113\"},\"axis_label\":\"Percent\",\"axis_label_text_font\":\"calibri\",\"axis_label_text_font_style\":\"bold\",\"major_label_policy\":{\"type\":\"object\",\"name\":\"AllLabels\",\"id\":\"p25112\"},\"axis_line_color\":null,\"major_tick_line_color\":null,\"minor_tick_line_color\":null}}],\"below\":[{\"type\":\"object\",\"name\":\"DatetimeAxis\",\"id\":\"p25067\",\"attributes\":{\"ticker\":{\"type\":\"object\",\"name\":\"FixedTicker\",\"id\":\"p25177\",\"attributes\":{\"ticks\":[-1293840000000.0,-1167609600000.0,-1041379200000.0,-915148800000.0,-788918400000.0,-662688000000.0,-536457600000.0,-410227200000.0,-283996800000.0,-157766400000.0,-31536000000.0,94694400000.0,220924800000.0,347155200000.0,473385600000.0,599616000000.0,725846400000.0,852076800000.0,978307200000.0,1104537600000.0,1230768000000.0,1356998400000.0,1483228800000.0,1609459200000.0],\"minor_ticks\":[]}},\"formatter\":{\"type\":\"object\",\"name\":\"DatetimeTickFormatter\",\"id\":\"p25082\"},\"axis_label_text_font\":\"calibri\",\"axis_label_text_font_style\":\"bold\",\"major_label_policy\":{\"type\":\"object\",\"name\":\"AllLabels\",\"id\":\"p25081\"},\"major_tick_line_color\":null,\"minor_tick_line_color\":null}},{\"type\":\"object\",\"name\":\"Legend\",\"id\":\"p25159\",\"attributes\":{\"location\":\"center\",\"orientation\":\"horizontal\",\"border_line_color\":\"white\",\"label_text_font\":\"calibri\",\"items\":[{\"type\":\"object\",\"name\":\"LegendItem\",\"id\":\"p25160\",\"attributes\":{\"label\":{\"type\":\"value\",\"value\":\"Net saving rate\"},\"renderers\":[{\"id\":\"p25138\"}]}},{\"type\":\"object\",\"name\":\"LegendItem\",\"id\":\"p25161\",\"attributes\":{\"label\":{\"type\":\"value\",\"value\":\"Net investment rate\"},\"renderers\":[{\"id\":\"p25147\"}]}},{\"type\":\"object\",\"name\":\"LegendItem\",\"id\":\"p25162\",\"attributes\":{\"label\":{\"type\":\"value\",\"value\":\"Recessions\"},\"renderers\":[{\"id\":\"p25156\"}]}}]}}],\"center\":[{\"type\":\"object\",\"name\":\"Grid\",\"id\":\"p25109\",\"attributes\":{\"axis\":{\"id\":\"p25067\"},\"grid_line_color\":null,\"grid_line_width\":1.5}},{\"type\":\"object\",\"name\":\"Grid\",\"id\":\"p25116\",\"attributes\":{\"dimension\":1,\"axis\":{\"id\":\"p25110\"},\"grid_line_color\":\"#DCDEDF\",\"grid_line_width\":1.5}},{\"type\":\"object\",\"name\":\"BoxAnnotation\",\"id\":\"p25163\",\"attributes\":{\"level\":\"underlay\",\"left\":-1293840000000.0,\"right\":-1136073600000.0,\"line_color\":\"#DCDEDF\",\"line_width\":0,\"fill_color\":\"#DCDEDF\",\"fill_alpha\":1}},{\"type\":\"object\",\"name\":\"BoxAnnotation\",\"id\":\"p25164\",\"attributes\":{\"level\":\"underlay\",\"left\":-1041379200000.0,\"right\":-978307200000.0,\"line_color\":\"#DCDEDF\",\"line_width\":0,\"fill_color\":\"#DCDEDF\",\"fill_alpha\":1}},{\"type\":\"object\",\"name\":\"BoxAnnotation\",\"id\":\"p25165\",\"attributes\":{\"level\":\"underlay\",\"left\":-788918400000.0,\"right\":-757382400000.0,\"line_color\":\"#DCDEDF\",\"line_width\":0,\"fill_color\":\"#DCDEDF\",\"fill_alpha\":1}},{\"type\":\"object\",\"name\":\"BoxAnnotation\",\"id\":\"p25166\",\"attributes\":{\"level\":\"underlay\",\"left\":-694310400000.0,\"right\":-631152000000.0,\"line_color\":\"#DCDEDF\",\"line_width\":0,\"fill_color\":\"#DCDEDF\",\"fill_alpha\":1}},{\"type\":\"object\",\"name\":\"BoxAnnotation\",\"id\":\"p25167\",\"attributes\":{\"level\":\"underlay\",\"left\":-536457600000.0,\"right\":-473385600000.0,\"line_color\":\"#DCDEDF\",\"line_width\":0,\"fill_color\":\"#DCDEDF\",\"fill_alpha\":1}},{\"type\":\"object\",\"name\":\"BoxAnnotation\",\"id\":\"p25168\",\"attributes\":{\"level\":\"underlay\",\"left\":-410227200000.0,\"right\":-347155200000.0,\"line_color\":\"#DCDEDF\",\"line_width\":0,\"fill_color\":\"#DCDEDF\",\"fill_alpha\":1}},{\"type\":\"object\",\"name\":\"BoxAnnotation\",\"id\":\"p25169\",\"attributes\":{\"level\":\"underlay\",\"left\":-315619200000.0,\"right\":-252460800000.0,\"line_color\":\"#DCDEDF\",\"line_width\":0,\"fill_color\":\"#DCDEDF\",\"fill_alpha\":1}},{\"type\":\"object\",\"name\":\"BoxAnnotation\",\"id\":\"p25170\",\"attributes\":{\"level\":\"underlay\",\"left\":0.0,\"right\":31536000000.0,\"line_color\":\"#DCDEDF\",\"line_width\":0,\"fill_color\":\"#DCDEDF\",\"fill_alpha\":1}},{\"type\":\"object\",\"name\":\"BoxAnnotation\",\"id\":\"p25171\",\"attributes\":{\"level\":\"underlay\",\"left\":94694400000.0,\"right\":189302400000.0,\"line_color\":\"#DCDEDF\",\"line_width\":0,\"fill_color\":\"#DCDEDF\",\"fill_alpha\":1}},{\"type\":\"object\",\"name\":\"BoxAnnotation\",\"id\":\"p25172\",\"attributes\":{\"level\":\"underlay\",\"left\":315532800000.0,\"right\":410227200000.0,\"line_color\":\"#DCDEDF\",\"line_width\":0,\"fill_color\":\"#DCDEDF\",\"fill_alpha\":1}},{\"type\":\"object\",\"name\":\"BoxAnnotation\",\"id\":\"p25173\",\"attributes\":{\"level\":\"underlay\",\"left\":631152000000.0,\"right\":694224000000.0,\"line_color\":\"#DCDEDF\",\"line_width\":0,\"fill_color\":\"#DCDEDF\",\"fill_alpha\":1}},{\"type\":\"object\",\"name\":\"BoxAnnotation\",\"id\":\"p25174\",\"attributes\":{\"level\":\"underlay\",\"left\":978307200000.0,\"right\":1009843200000.0,\"line_color\":\"#DCDEDF\",\"line_width\":0,\"fill_color\":\"#DCDEDF\",\"fill_alpha\":1}},{\"type\":\"object\",\"name\":\"BoxAnnotation\",\"id\":\"p25175\",\"attributes\":{\"level\":\"underlay\",\"left\":1199145600000.0,\"right\":1262304000000.0,\"line_color\":\"#DCDEDF\",\"line_width\":0,\"fill_color\":\"#DCDEDF\",\"fill_alpha\":1}},{\"type\":\"object\",\"name\":\"BoxAnnotation\",\"id\":\"p25176\",\"attributes\":{\"level\":\"underlay\",\"left\":1577836800000.0,\"right\":1609459200000.0,\"line_color\":\"#DCDEDF\",\"line_width\":0,\"fill_color\":\"#DCDEDF\",\"fill_alpha\":1}}]}}],\"callbacks\":{\"type\":\"map\"}}};\n  const render_items = [{\"docid\":\"4143bb38-8627-4f1d-b1cc-259e096c4202\",\"roots\":{\"p25050\":\"c15f9160-93fe-4e5c-b0e4-54d7d7971833\"},\"root_ids\":[\"p25050\"]}];\n  root.Bokeh.embed.embed_items_notebook(docs_json, render_items);\n  }\n  if (root.Bokeh !== undefined) {\n    embed_document(root);\n  } else {\n    let attempts = 0;\n    const timer = setInterval(function(root) {\n      if (root.Bokeh !== undefined) {\n        clearInterval(timer);\n        embed_document(root);\n      } else {\n        attempts++;\n        if (attempts > 100) {\n          clearInterval(timer);\n          console.log(\"Bokeh: ERROR: Unable to run BokehJS code because BokehJS library is missing\");\n        }\n      }\n    }, 10, root)\n  }\n})(window);",
      "application/vnd.bokehjs_exec.v0+json": ""
     },
     "metadata": {
      "application/vnd.bokehjs_exec.v0+json": {
       "id": "p25050"
      }
     },
     "output_type": "display_data"
    },
    {
     "data": {
      "text/html": [
       "<ul class=\"footnote\">\n",
       "<li>Data. Net saving and net investment as percentages of GDP, 1929–2022</li>\n",
       "<li>Source. BEA <a href=\"https://apps.bea.gov/iTable/iTable.cfm?reqid=19&step=3&isuri=1&nipa_table_list=5&categories=survey\" class=\"figlink\">NIPA table 1.1.5</a> and <a href=\"https://apps.bea.gov/iTable/iTable.cfm?reqid=19&step=3&isuri=1&nipa_table_list=137&categories=survey\" class=\"figlink\">NIPA table 5.1</a></li>\n",
       "<ul>"
      ],
      "text/plain": [
       "<IPython.core.display.HTML object>"
      ]
     },
     "metadata": {},
     "output_type": "display_data"
    }
   ],
   "source": [
    "show(wellbeing.generate_chart.saving_investment(start_year=1929, end_year=default_end_year, from_cache=from_cache))"
   ]
  },
  {
   "cell_type": "code",
   "execution_count": 76,
   "metadata": {},
   "outputs": [
    {
     "data": {
      "text/html": [
       "Net investment—gross investment less depreciation—is often called sustainable investment. A significant share of gross investment in plant, equipment, and IT goes toward replacing capital that wears out (that is, depreciation). Net investment increases the nation's production capabilities.<br><br>Net saving represents the amount of net income that is available to finance net investment; however, net investment can also be financed by borrowing from the rest of the world.<br><br>During the post-WWII era, net investment and net saving have been trending down (with the related drags on productivity, growth, and standards of living). The downward trend in net investment has slowed growth in U.S. capital stock and capital services, accounting for a large share of the decline in trend GDP growth (see \"Trends in Economic Growth\" above).<br><br>The gap between the net investment rate and the net saving rate has widened over the last 35 years, with the net saving rate turning negative in 2008 during the Great Recession for the first time since the Great Depression."
      ],
      "text/plain": [
       "<IPython.core.display.HTML object>"
      ]
     },
     "metadata": {},
     "output_type": "display_data"
    }
   ],
   "source": [
    "show_narrative('Saving and Investment')"
   ]
  },
  {
   "attachments": {},
   "cell_type": "markdown",
   "metadata": {},
   "source": [
    "#### Business Cycles"
   ]
  },
  {
   "cell_type": "code",
   "execution_count": 77,
   "metadata": {},
   "outputs": [
    {
     "name": "stdout",
     "output_type": "stream",
     "text": [
      "Trends in U.S. Business Cycles\n",
      "Rates of Change and Duration\n"
     ]
    },
    {
     "data": {
      "text/html": [
       "\n",
       "  <div id=\"afd128aa-e5c9-4c94-b944-58942817c4d1\" data-root-id=\"p26217\" style=\"display: contents;\"></div>\n"
      ]
     },
     "metadata": {},
     "output_type": "display_data"
    },
    {
     "data": {
      "application/javascript": "(function(root) {\n  function embed_document(root) {\n  const docs_json = {\"ae0483e4-b469-4d5c-8152-c7be1e3d0954\":{\"version\":\"3.1.0\",\"title\":\"Bokeh Application\",\"defs\":[],\"roots\":[{\"type\":\"object\",\"name\":\"Figure\",\"id\":\"p26217\",\"attributes\":{\"styles\":{\"type\":\"map\",\"entries\":[[\"width\",\"98%\"]]},\"width\":700,\"height\":400,\"aspect_ratio\":1.75,\"sizing_mode\":\"scale_both\",\"x_range\":{\"type\":\"object\",\"name\":\"Range1d\",\"id\":\"p26226\",\"attributes\":{\"start\":-725846400000.0,\"end\":1672531200000.0}},\"y_range\":{\"type\":\"object\",\"name\":\"DataRange1d\",\"id\":\"p26219\",\"attributes\":{\"start\":0}},\"x_scale\":{\"type\":\"object\",\"name\":\"LinearScale\",\"id\":\"p26230\"},\"y_scale\":{\"type\":\"object\",\"name\":\"LinearScale\",\"id\":\"p26232\"},\"title\":{\"type\":\"object\",\"name\":\"Title\",\"id\":\"p26222\"},\"renderers\":[{\"type\":\"object\",\"name\":\"GlyphRenderer\",\"id\":\"p26307\",\"attributes\":{\"name\":\"gdp\",\"data_source\":{\"type\":\"object\",\"name\":\"ColumnDataSource\",\"id\":\"p26214\",\"attributes\":{\"selected\":{\"type\":\"object\",\"name\":\"Selection\",\"id\":\"p26215\",\"attributes\":{\"indices\":[],\"line_indices\":[]}},\"selection_policy\":{\"type\":\"object\",\"name\":\"UnionRenderers\",\"id\":\"p26216\"},\"data\":{\"type\":\"map\",\"entries\":[[\"TimePeriod\",{\"type\":\"ndarray\",\"array\":[-725846400000.0,-718070400000.0,-710208000000.0,-702259200000.0,-694310400000.0,-686448000000.0,-678585600000.0,-670636800000.0,-662688000000.0,-654912000000.0,-647049600000.0,-639100800000.0,-631152000000.0,-623376000000.0,-615513600000.0,-607564800000.0,-599616000000.0,-591840000000.0,-583977600000.0,-576028800000.0,-568080000000.0,-560217600000.0,-552355200000.0,-544406400000.0,-536457600000.0,-528681600000.0,-520819200000.0,-512870400000.0,-504921600000.0,-497145600000.0,-489283200000.0,-481334400000.0,-473385600000.0,-465609600000.0,-457747200000.0,-449798400000.0,-441849600000.0,-433987200000.0,-426124800000.0,-418176000000.0,-410227200000.0,-402451200000.0,-394588800000.0,-386640000000.0,-378691200000.0,-370915200000.0,-363052800000.0,-355104000000.0,-347155200000.0,-339379200000.0,-331516800000.0,-323568000000.0,-315619200000.0,-307756800000.0,-299894400000.0,-291945600000.0,-283996800000.0,-276220800000.0,-268358400000.0,-260409600000.0,-252460800000.0,-244684800000.0,-236822400000.0,-228873600000.0,-220924800000.0,-213148800000.0,-205286400000.0,-197337600000.0,-189388800000.0,-181526400000.0,-173664000000.0,-165715200000.0,-157766400000.0,-149990400000.0,-142128000000.0,-134179200000.0,-126230400000.0,-118454400000.0,-110592000000.0,-102643200000.0,-94694400000.0,-86918400000.0,-79056000000.0,-71107200000.0,-63158400000.0,-55296000000.0,-47433600000.0,-39484800000.0,-31536000000.0,-23760000000.0,-15897600000.0,-7948800000.0,0.0,7776000000.0,15638400000.0,23587200000.0,31536000000.0,39312000000.0,47174400000.0,55123200000.0,63072000000.0,70934400000.0,78796800000.0,86745600000.0,94694400000.0,102470400000.0,110332800000.0,118281600000.0,126230400000.0,134006400000.0,141868800000.0,149817600000.0,157766400000.0,165542400000.0,173404800000.0,181353600000.0,189302400000.0,197164800000.0,205027200000.0,212976000000.0,220924800000.0,228700800000.0,236563200000.0,244512000000.0,252460800000.0,260236800000.0,268099200000.0,276048000000.0,283996800000.0,291772800000.0,299635200000.0,307584000000.0,315532800000.0,323395200000.0,331257600000.0,339206400000.0,347155200000.0,354931200000.0,362793600000.0,370742400000.0,378691200000.0,386467200000.0,394329600000.0,402278400000.0,410227200000.0,418003200000.0,425865600000.0,433814400000.0,441763200000.0,449625600000.0,457488000000.0,465436800000.0,473385600000.0,481161600000.0,489024000000.0,496972800000.0,504921600000.0,512697600000.0,520560000000.0,528508800000.0,536457600000.0,544233600000.0,552096000000.0,560044800000.0,567993600000.0,575856000000.0,583718400000.0,591667200000.0,599616000000.0,607392000000.0,615254400000.0,623203200000.0,631152000000.0,638928000000.0,646790400000.0,654739200000.0,662688000000.0,670464000000.0,678326400000.0,686275200000.0,694224000000.0,702086400000.0,709948800000.0,717897600000.0,725846400000.0,733622400000.0,741484800000.0,749433600000.0,757382400000.0,765158400000.0,773020800000.0,780969600000.0,788918400000.0,796694400000.0,804556800000.0,812505600000.0,820454400000.0,828316800000.0,836179200000.0,844128000000.0,852076800000.0,859852800000.0,867715200000.0,875664000000.0,883612800000.0,891388800000.0,899251200000.0,907200000000.0,915148800000.0,922924800000.0,930787200000.0,938736000000.0,946684800000.0,954547200000.0,962409600000.0,970358400000.0,978307200000.0,986083200000.0,993945600000.0,1001894400000.0,1009843200000.0,1017619200000.0,1025481600000.0,1033430400000.0,1041379200000.0,1049155200000.0,1057017600000.0,1064966400000.0,1072915200000.0,1080777600000.0,1088640000000.0,1096588800000.0,1104537600000.0,1112313600000.0,1120176000000.0,1128124800000.0,1136073600000.0,1143849600000.0,1151712000000.0,1159660800000.0,1167609600000.0,1175385600000.0,1183248000000.0,1191196800000.0,1199145600000.0,1207008000000.0,1214870400000.0,1222819200000.0,1230768000000.0,1238544000000.0,1246406400000.0,1254355200000.0,1262304000000.0,1270080000000.0,1277942400000.0,1285891200000.0,1293840000000.0,1301616000000.0,1309478400000.0,1317427200000.0,1325376000000.0,1333238400000.0,1341100800000.0,1349049600000.0,1356998400000.0,1364774400000.0,1372636800000.0,1380585600000.0,1388534400000.0,1396310400000.0,1404172800000.0,1412121600000.0,1420070400000.0,1427846400000.0,1435708800000.0,1443657600000.0,1451606400000.0,1459468800000.0,1467331200000.0,1475280000000.0,1483228800000.0,1491004800000.0,1498867200000.0,1506816000000.0,1514764800000.0,1522540800000.0,1530403200000.0,1538352000000.0,1546300800000.0,1554076800000.0,1561939200000.0,1569888000000.0,1577836800000.0,1585699200000.0,1593561600000.0,1601510400000.0,1609459200000.0,1617235200000.0,1625097600000.0,1633046400000.0,1640995200000.0,1648771200000.0,1656633600000.0,1664582400000.0,1672531200000.0],\"shape\":[305],\"dtype\":\"object\",\"order\":\"little\"}],[\"gdp\",{\"type\":\"ndarray\",\"array\":{\"type\":\"bytes\",\"data\":\"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\"},\"shape\":[305],\"dtype\":\"float64\",\"order\":\"little\"}],[\"TimePeriod_str\",{\"type\":\"ndarray\",\"array\":[\"1947Q1\",\"1947Q2\",\"1947Q3\",\"1947Q4\",\"1948Q1\",\"1948Q2\",\"1948Q3\",\"1948Q4\",\"1949Q1\",\"1949Q2\",\"1949Q3\",\"1949Q4\",\"1950Q1\",\"1950Q2\",\"1950Q3\",\"1950Q4\",\"1951Q1\",\"1951Q2\",\"1951Q3\",\"1951Q4\",\"1952Q1\",\"1952Q2\",\"1952Q3\",\"1952Q4\",\"1953Q1\",\"1953Q2\",\"1953Q3\",\"1953Q4\",\"1954Q1\",\"1954Q2\",\"1954Q3\",\"1954Q4\",\"1955Q1\",\"1955Q2\",\"1955Q3\",\"1955Q4\",\"1956Q1\",\"1956Q2\",\"1956Q3\",\"1956Q4\",\"1957Q1\",\"1957Q2\",\"1957Q3\",\"1957Q4\",\"1958Q1\",\"1958Q2\",\"1958Q3\",\"1958Q4\",\"1959Q1\",\"1959Q2\",\"1959Q3\",\"1959Q4\",\"1960Q1\",\"1960Q2\",\"1960Q3\",\"1960Q4\",\"1961Q1\",\"1961Q2\",\"1961Q3\",\"1961Q4\",\"1962Q1\",\"1962Q2\",\"1962Q3\",\"1962Q4\",\"1963Q1\",\"1963Q2\",\"1963Q3\",\"1963Q4\",\"1964Q1\",\"1964Q2\",\"1964Q3\",\"1964Q4\",\"1965Q1\",\"1965Q2\",\"1965Q3\",\"1965Q4\",\"1966Q1\",\"1966Q2\",\"1966Q3\",\"1966Q4\",\"1967Q1\",\"1967Q2\",\"1967Q3\",\"1967Q4\",\"1968Q1\",\"1968Q2\",\"1968Q3\",\"1968Q4\",\"1969Q1\",\"1969Q2\",\"1969Q3\",\"1969Q4\",\"1970Q1\",\"1970Q2\",\"1970Q3\",\"1970Q4\",\"1971Q1\",\"1971Q2\",\"1971Q3\",\"1971Q4\",\"1972Q1\",\"1972Q2\",\"1972Q3\",\"1972Q4\",\"1973Q1\",\"1973Q2\",\"1973Q3\",\"1973Q4\",\"1974Q1\",\"1974Q2\",\"1974Q3\",\"1974Q4\",\"1975Q1\",\"1975Q2\",\"1975Q3\",\"1975Q4\",\"1976Q1\",\"1976Q2\",\"1976Q3\",\"1976Q4\",\"1977Q1\",\"1977Q2\",\"1977Q3\",\"1977Q4\",\"1978Q1\",\"1978Q2\",\"1978Q3\",\"1978Q4\",\"1979Q1\",\"1979Q2\",\"1979Q3\",\"1979Q4\",\"1980Q1\",\"1980Q2\",\"1980Q3\",\"1980Q4\",\"1981Q1\",\"1981Q2\",\"1981Q3\",\"1981Q4\",\"1982Q1\",\"1982Q2\",\"1982Q3\",\"1982Q4\",\"1983Q1\",\"1983Q2\",\"1983Q3\",\"1983Q4\",\"1984Q1\",\"1984Q2\",\"1984Q3\",\"1984Q4\",\"1985Q1\",\"1985Q2\",\"1985Q3\",\"1985Q4\",\"1986Q1\",\"1986Q2\",\"1986Q3\",\"1986Q4\",\"1987Q1\",\"1987Q2\",\"1987Q3\",\"1987Q4\",\"1988Q1\",\"1988Q2\",\"1988Q3\",\"1988Q4\",\"1989Q1\",\"1989Q2\",\"1989Q3\",\"1989Q4\",\"1990Q1\",\"1990Q2\",\"1990Q3\",\"1990Q4\",\"1991Q1\",\"1991Q2\",\"1991Q3\",\"1991Q4\",\"1992Q1\",\"1992Q2\",\"1992Q3\",\"1992Q4\",\"1993Q1\",\"1993Q2\",\"1993Q3\",\"1993Q4\",\"1994Q1\",\"1994Q2\",\"1994Q3\",\"1994Q4\",\"1995Q1\",\"1995Q2\",\"1995Q3\",\"1995Q4\",\"1996Q1\",\"1996Q2\",\"1996Q3\",\"1996Q4\",\"1997Q1\",\"1997Q2\",\"1997Q3\",\"1997Q4\",\"1998Q1\",\"1998Q2\",\"1998Q3\",\"1998Q4\",\"1999Q1\",\"1999Q2\",\"1999Q3\",\"1999Q4\",\"2000Q1\",\"2000Q2\",\"2000Q3\",\"2000Q4\",\"2001Q1\",\"2001Q2\",\"2001Q3\",\"2001Q4\",\"2002Q1\",\"2002Q2\",\"2002Q3\",\"2002Q4\",\"2003Q1\",\"2003Q2\",\"2003Q3\",\"2003Q4\",\"2004Q1\",\"2004Q2\",\"2004Q3\",\"2004Q4\",\"2005Q1\",\"2005Q2\",\"2005Q3\",\"2005Q4\",\"2006Q1\",\"2006Q2\",\"2006Q3\",\"2006Q4\",\"2007Q1\",\"2007Q2\",\"2007Q3\",\"2007Q4\",\"2008Q1\",\"2008Q2\",\"2008Q3\",\"2008Q4\",\"2009Q1\",\"2009Q2\",\"2009Q3\",\"2009Q4\",\"2010Q1\",\"2010Q2\",\"2010Q3\",\"2010Q4\",\"2011Q1\",\"2011Q2\",\"2011Q3\",\"2011Q4\",\"2012Q1\",\"2012Q2\",\"2012Q3\",\"2012Q4\",\"2013Q1\",\"2013Q2\",\"2013Q3\",\"2013Q4\",\"2014Q1\",\"2014Q2\",\"2014Q3\",\"2014Q4\",\"2015Q1\",\"2015Q2\",\"2015Q3\",\"2015Q4\",\"2016Q1\",\"2016Q2\",\"2016Q3\",\"2016Q4\",\"2017Q1\",\"2017Q2\",\"2017Q3\",\"2017Q4\",\"2018Q1\",\"2018Q2\",\"2018Q3\",\"2018Q4\",\"2019Q1\",\"2019Q2\",\"2019Q3\",\"2019Q4\",\"2020Q1\",\"2020Q2\",\"2020Q3\",\"2020Q4\",\"2021Q1\",\"2021Q2\",\"2021Q3\",\"2021Q4\",\"2022Q1\",\"2022Q2\",\"2022Q3\",\"2022Q4\",\"2023Q1\"],\"shape\":[305],\"dtype\":\"object\",\"order\":\"little\"}]]}}},\"view\":{\"type\":\"object\",\"name\":\"CDSView\",\"id\":\"p26308\",\"attributes\":{\"filter\":{\"type\":\"object\",\"name\":\"AllIndices\",\"id\":\"p26309\"}}},\"glyph\":{\"type\":\"object\",\"name\":\"Line\",\"id\":\"p26304\",\"attributes\":{\"x\":{\"type\":\"field\",\"field\":\"TimePeriod\"},\"y\":{\"type\":\"field\",\"field\":\"gdp\"},\"line_color\":\"#004C97\",\"line_width\":3}},\"nonselection_glyph\":{\"type\":\"object\",\"name\":\"Line\",\"id\":\"p26305\",\"attributes\":{\"x\":{\"type\":\"field\",\"field\":\"TimePeriod\"},\"y\":{\"type\":\"field\",\"field\":\"gdp\"},\"line_color\":\"#004C97\",\"line_alpha\":0.1,\"line_width\":3}},\"muted_glyph\":{\"type\":\"object\",\"name\":\"Line\",\"id\":\"p26306\",\"attributes\":{\"x\":{\"type\":\"field\",\"field\":\"TimePeriod\"},\"y\":{\"type\":\"field\",\"field\":\"gdp\"},\"line_color\":\"#004C97\",\"line_alpha\":0.2,\"line_width\":3}}}},{\"type\":\"object\",\"name\":\"GlyphRenderer\",\"id\":\"p26336\",\"attributes\":{\"data_source\":{\"type\":\"object\",\"name\":\"ColumnDataSource\",\"id\":\"p26330\",\"attributes\":{\"selected\":{\"type\":\"object\",\"name\":\"Selection\",\"id\":\"p26331\",\"attributes\":{\"indices\":[],\"line_indices\":[]}},\"selection_policy\":{\"type\":\"object\",\"name\":\"UnionRenderers\",\"id\":\"p26332\"},\"data\":{\"type\":\"map\"}}},\"view\":{\"type\":\"object\",\"name\":\"CDSView\",\"id\":\"p26337\",\"attributes\":{\"filter\":{\"type\":\"object\",\"name\":\"AllIndices\",\"id\":\"p26338\"}}},\"glyph\":{\"type\":\"object\",\"name\":\"VBar\",\"id\":\"p26333\",\"attributes\":{\"line_color\":{\"type\":\"value\",\"value\":\"#DCDEDF\"},\"fill_color\":{\"type\":\"value\",\"value\":\"#DCDEDF\"},\"hatch_color\":{\"type\":\"value\",\"value\":\"#DCDEDF\"}}},\"nonselection_glyph\":{\"type\":\"object\",\"name\":\"VBar\",\"id\":\"p26334\",\"attributes\":{\"line_color\":{\"type\":\"value\",\"value\":\"#DCDEDF\"},\"line_alpha\":{\"type\":\"value\",\"value\":0.1},\"fill_color\":{\"type\":\"value\",\"value\":\"#DCDEDF\"},\"fill_alpha\":{\"type\":\"value\",\"value\":0.1},\"hatch_color\":{\"type\":\"value\",\"value\":\"#DCDEDF\"},\"hatch_alpha\":{\"type\":\"value\",\"value\":0.1}}},\"muted_glyph\":{\"type\":\"object\",\"name\":\"VBar\",\"id\":\"p26335\",\"attributes\":{\"line_color\":{\"type\":\"value\",\"value\":\"#DCDEDF\"},\"line_alpha\":{\"type\":\"value\",\"value\":0.2},\"fill_color\":{\"type\":\"value\",\"value\":\"#DCDEDF\"},\"fill_alpha\":{\"type\":\"value\",\"value\":0.2},\"hatch_color\":{\"type\":\"value\",\"value\":\"#DCDEDF\"},\"hatch_alpha\":{\"type\":\"value\",\"value\":0.2}}}}},{\"type\":\"object\",\"name\":\"GlyphRenderer\",\"id\":\"p26348\",\"attributes\":{\"data_source\":{\"type\":\"object\",\"name\":\"ColumnDataSource\",\"id\":\"p26342\",\"attributes\":{\"selected\":{\"type\":\"object\",\"name\":\"Selection\",\"id\":\"p26343\",\"attributes\":{\"indices\":[],\"line_indices\":[]}},\"selection_policy\":{\"type\":\"object\",\"name\":\"UnionRenderers\",\"id\":\"p26344\"},\"data\":{\"type\":\"map\"}}},\"view\":{\"type\":\"object\",\"name\":\"CDSView\",\"id\":\"p26349\",\"attributes\":{\"filter\":{\"type\":\"object\",\"name\":\"AllIndices\",\"id\":\"p26350\"}}},\"glyph\":{\"type\":\"object\",\"name\":\"VBar\",\"id\":\"p26345\",\"attributes\":{\"line_color\":{\"type\":\"value\",\"value\":\"#D86018\"},\"line_alpha\":{\"type\":\"value\",\"value\":0.5},\"fill_color\":{\"type\":\"value\",\"value\":\"#D86018\"},\"fill_alpha\":{\"type\":\"value\",\"value\":0.5},\"hatch_color\":{\"type\":\"value\",\"value\":\"#D86018\"},\"hatch_alpha\":{\"type\":\"value\",\"value\":0.5}}},\"nonselection_glyph\":{\"type\":\"object\",\"name\":\"VBar\",\"id\":\"p26346\",\"attributes\":{\"line_color\":{\"type\":\"value\",\"value\":\"#D86018\"},\"line_alpha\":{\"type\":\"value\",\"value\":0.1},\"fill_color\":{\"type\":\"value\",\"value\":\"#D86018\"},\"fill_alpha\":{\"type\":\"value\",\"value\":0.1},\"hatch_color\":{\"type\":\"value\",\"value\":\"#D86018\"},\"hatch_alpha\":{\"type\":\"value\",\"value\":0.1}}},\"muted_glyph\":{\"type\":\"object\",\"name\":\"VBar\",\"id\":\"p26347\",\"attributes\":{\"line_color\":{\"type\":\"value\",\"value\":\"#D86018\"},\"line_alpha\":{\"type\":\"value\",\"value\":0.2},\"fill_color\":{\"type\":\"value\",\"value\":\"#D86018\"},\"fill_alpha\":{\"type\":\"value\",\"value\":0.2},\"hatch_color\":{\"type\":\"value\",\"value\":\"#D86018\"},\"hatch_alpha\":{\"type\":\"value\",\"value\":0.2}}}}}],\"toolbar\":{\"type\":\"object\",\"name\":\"Toolbar\",\"id\":\"p26224\",\"attributes\":{\"tools\":[{\"type\":\"object\",\"name\":\"PanTool\",\"id\":\"p26284\"},{\"type\":\"object\",\"name\":\"WheelZoomTool\",\"id\":\"p26285\"},{\"type\":\"object\",\"name\":\"BoxZoomTool\",\"id\":\"p26286\",\"attributes\":{\"overlay\":{\"type\":\"object\",\"name\":\"BoxAnnotation\",\"id\":\"p26287\",\"attributes\":{\"syncable\":false,\"level\":\"overlay\",\"visible\":false,\"left_units\":\"canvas\",\"right_units\":\"canvas\",\"bottom_units\":\"canvas\",\"top_units\":\"canvas\",\"line_color\":\"black\",\"line_alpha\":1.0,\"line_width\":2,\"line_dash\":[4,4],\"fill_color\":\"lightgrey\",\"fill_alpha\":0.5}}}},{\"type\":\"object\",\"name\":\"SaveTool\",\"id\":\"p26288\"},{\"type\":\"object\",\"name\":\"ResetTool\",\"id\":\"p26289\"},{\"type\":\"object\",\"name\":\"HelpTool\",\"id\":\"p26290\"},{\"type\":\"object\",\"name\":\"HoverTool\",\"id\":\"p26339\",\"attributes\":{\"renderers\":[{\"id\":\"p26307\"}],\"tooltips\":[[\"Quarter\",\"@TimePeriod_str\"],[\"Value\",\"@$name{$0,0.0}\"]],\"formatters\":{\"type\":\"map\",\"entries\":[[\"@TimePeriod\",\"datetime\"]]}}}],\"active_drag\":null}},\"toolbar_location\":null,\"left\":[{\"type\":\"object\",\"name\":\"LinearAxis\",\"id\":\"p26277\",\"attributes\":{\"ticker\":{\"type\":\"object\",\"name\":\"BasicTicker\",\"id\":\"p26278\",\"attributes\":{\"mantissas\":[1,2,5]}},\"formatter\":{\"type\":\"object\",\"name\":\"NumeralTickFormatter\",\"id\":\"p26299\"},\"axis_label\":\"Billions of chained (2012) dollars\",\"axis_label_text_font\":\"calibri\",\"axis_label_text_font_style\":\"bold\",\"major_label_policy\":{\"type\":\"object\",\"name\":\"AllLabels\",\"id\":\"p26279\"},\"major_tick_line_color\":null,\"minor_tick_line_color\":null}}],\"below\":[{\"type\":\"object\",\"name\":\"DatetimeAxis\",\"id\":\"p26234\",\"attributes\":{\"ticker\":{\"type\":\"object\",\"name\":\"DatetimeTicker\",\"id\":\"p26235\",\"attributes\":{\"num_minor_ticks\":5,\"tickers\":[{\"type\":\"object\",\"name\":\"AdaptiveTicker\",\"id\":\"p26236\",\"attributes\":{\"num_minor_ticks\":0,\"mantissas\":[1,2,5],\"max_interval\":500.0}},{\"type\":\"object\",\"name\":\"AdaptiveTicker\",\"id\":\"p26237\",\"attributes\":{\"num_minor_ticks\":0,\"base\":60,\"mantissas\":[1,2,5,10,15,20,30],\"min_interval\":1000.0,\"max_interval\":1800000.0}},{\"type\":\"object\",\"name\":\"AdaptiveTicker\",\"id\":\"p26238\",\"attributes\":{\"num_minor_ticks\":0,\"base\":24,\"mantissas\":[1,2,4,6,8,12],\"min_interval\":3600000.0,\"max_interval\":43200000.0}},{\"type\":\"object\",\"name\":\"DaysTicker\",\"id\":\"p26239\",\"attributes\":{\"days\":[1,2,3,4,5,6,7,8,9,10,11,12,13,14,15,16,17,18,19,20,21,22,23,24,25,26,27,28,29,30,31]}},{\"type\":\"object\",\"name\":\"DaysTicker\",\"id\":\"p26240\",\"attributes\":{\"days\":[1,4,7,10,13,16,19,22,25,28]}},{\"type\":\"object\",\"name\":\"DaysTicker\",\"id\":\"p26241\",\"attributes\":{\"days\":[1,8,15,22]}},{\"type\":\"object\",\"name\":\"DaysTicker\",\"id\":\"p26242\",\"attributes\":{\"days\":[1,15]}},{\"type\":\"object\",\"name\":\"MonthsTicker\",\"id\":\"p26243\",\"attributes\":{\"months\":[0,1,2,3,4,5,6,7,8,9,10,11]}},{\"type\":\"object\",\"name\":\"MonthsTicker\",\"id\":\"p26244\",\"attributes\":{\"months\":[0,2,4,6,8,10]}},{\"type\":\"object\",\"name\":\"MonthsTicker\",\"id\":\"p26245\",\"attributes\":{\"months\":[0,4,8]}},{\"type\":\"object\",\"name\":\"MonthsTicker\",\"id\":\"p26246\",\"attributes\":{\"months\":[0,6]}},{\"type\":\"object\",\"name\":\"YearsTicker\",\"id\":\"p26247\"}]}},\"formatter\":{\"type\":\"object\",\"name\":\"DatetimeTickFormatter\",\"id\":\"p26249\"},\"axis_label_text_font\":\"calibri\",\"axis_label_text_font_style\":\"bold\",\"major_label_policy\":{\"type\":\"object\",\"name\":\"AllLabels\",\"id\":\"p26248\"},\"major_tick_line_color\":null,\"minor_tick_line_color\":null}},{\"type\":\"object\",\"name\":\"Legend\",\"id\":\"p26351\",\"attributes\":{\"location\":\"center\",\"orientation\":\"horizontal\",\"border_line_color\":\"white\",\"label_text_font\":\"calibri\",\"items\":[{\"type\":\"object\",\"name\":\"LegendItem\",\"id\":\"p26352\",\"attributes\":{\"label\":{\"type\":\"value\",\"value\":\"Real GDP\"},\"renderers\":[{\"id\":\"p26307\"}]}},{\"type\":\"object\",\"name\":\"LegendItem\",\"id\":\"p26353\",\"attributes\":{\"label\":{\"type\":\"value\",\"value\":\"Contractions\"},\"renderers\":[{\"id\":\"p26336\"}]}},{\"type\":\"object\",\"name\":\"LegendItem\",\"id\":\"p26354\",\"attributes\":{\"label\":{\"type\":\"value\",\"value\":\"Current expansion\"},\"renderers\":[{\"id\":\"p26348\"}]}}]}}],\"center\":[{\"type\":\"object\",\"name\":\"Grid\",\"id\":\"p26276\",\"attributes\":{\"axis\":{\"id\":\"p26234\"},\"grid_line_color\":null,\"grid_line_width\":1.5}},{\"type\":\"object\",\"name\":\"Grid\",\"id\":\"p26283\",\"attributes\":{\"dimension\":1,\"axis\":{\"id\":\"p26277\"},\"grid_line_color\":\"#DCDEDF\",\"grid_line_width\":1.5}},{\"type\":\"object\",\"name\":\"BoxAnnotation\",\"id\":\"p26310\",\"attributes\":{\"level\":\"underlay\",\"left\":-670636800000.0,\"right\":-639100800000.0,\"line_width\":0,\"fill_color\":\"#DCDEDF\",\"fill_alpha\":1}},{\"type\":\"object\",\"name\":\"BoxAnnotation\",\"id\":\"p26311\",\"attributes\":{\"level\":\"underlay\",\"left\":-528681600000.0,\"right\":-497145600000.0,\"line_width\":0,\"fill_color\":\"#DCDEDF\",\"fill_alpha\":1}},{\"type\":\"object\",\"name\":\"BoxAnnotation\",\"id\":\"p26312\",\"attributes\":{\"level\":\"underlay\",\"left\":-394588800000.0,\"right\":-370915200000.0,\"line_width\":0,\"fill_color\":\"#DCDEDF\",\"fill_alpha\":1}},{\"type\":\"object\",\"name\":\"BoxAnnotation\",\"id\":\"p26313\",\"attributes\":{\"level\":\"underlay\",\"left\":-307756800000.0,\"right\":-283996800000.0,\"line_width\":0,\"fill_color\":\"#DCDEDF\",\"fill_alpha\":1}},{\"type\":\"object\",\"name\":\"BoxAnnotation\",\"id\":\"p26314\",\"attributes\":{\"level\":\"underlay\",\"left\":-7948800000.0,\"right\":23587200000.0,\"line_width\":0,\"fill_color\":\"#DCDEDF\",\"fill_alpha\":1}},{\"type\":\"object\",\"name\":\"BoxAnnotation\",\"id\":\"p26315\",\"attributes\":{\"level\":\"underlay\",\"left\":118281600000.0,\"right\":157766400000.0,\"line_width\":0,\"fill_color\":\"#DCDEDF\",\"fill_alpha\":1}},{\"type\":\"object\",\"name\":\"BoxAnnotation\",\"id\":\"p26316\",\"attributes\":{\"level\":\"underlay\",\"left\":315532800000.0,\"right\":331257600000.0,\"line_width\":0,\"fill_color\":\"#DCDEDF\",\"fill_alpha\":1}},{\"type\":\"object\",\"name\":\"BoxAnnotation\",\"id\":\"p26317\",\"attributes\":{\"level\":\"underlay\",\"left\":362793600000.0,\"right\":402278400000.0,\"line_width\":0,\"fill_color\":\"#DCDEDF\",\"fill_alpha\":1}},{\"type\":\"object\",\"name\":\"BoxAnnotation\",\"id\":\"p26318\",\"attributes\":{\"level\":\"underlay\",\"left\":646790400000.0,\"right\":662688000000.0,\"line_width\":0,\"fill_color\":\"#DCDEDF\",\"fill_alpha\":1}},{\"type\":\"object\",\"name\":\"BoxAnnotation\",\"id\":\"p26319\",\"attributes\":{\"level\":\"underlay\",\"left\":978307200000.0,\"right\":1001894400000.0,\"line_width\":0,\"fill_color\":\"#DCDEDF\",\"fill_alpha\":1}},{\"type\":\"object\",\"name\":\"BoxAnnotation\",\"id\":\"p26320\",\"attributes\":{\"level\":\"underlay\",\"left\":1191196800000.0,\"right\":1238544000000.0,\"line_width\":0,\"fill_color\":\"#DCDEDF\",\"fill_alpha\":1}},{\"type\":\"object\",\"name\":\"BoxAnnotation\",\"id\":\"p26321\",\"attributes\":{\"level\":\"underlay\",\"left\":1569888000000.0,\"right\":1585699200000.0,\"line_width\":0,\"fill_color\":\"#DCDEDF\",\"fill_alpha\":1}},{\"type\":\"object\",\"name\":\"Arrow\",\"id\":\"p26324\",\"attributes\":{\"source\":{\"type\":\"object\",\"name\":\"ColumnDataSource\",\"id\":\"p26326\",\"attributes\":{\"selected\":{\"type\":\"object\",\"name\":\"Selection\",\"id\":\"p26327\",\"attributes\":{\"indices\":[],\"line_indices\":[]}},\"selection_policy\":{\"type\":\"object\",\"name\":\"UnionRenderers\",\"id\":\"p26328\"},\"data\":{\"type\":\"map\"}}},\"x_start\":{\"type\":\"value\",\"value\":1238544000000.0},\"y_start\":{\"type\":\"value\",\"value\":14661.772},\"start\":{\"type\":\"object\",\"name\":\"TeeHead\",\"id\":\"p26322\",\"attributes\":{\"size\":{\"type\":\"value\",\"value\":10},\"line_color\":{\"type\":\"value\",\"value\":\"#004C97\"}}},\"x_end\":{\"type\":\"value\",\"value\":1569888000000.0},\"y_end\":{\"type\":\"value\",\"value\":14661.772},\"end\":{\"type\":\"object\",\"name\":\"TeeHead\",\"id\":\"p26323\",\"attributes\":{\"size\":{\"type\":\"value\",\"value\":10},\"line_color\":{\"type\":\"value\",\"value\":\"#004C97\"}}},\"line_color\":{\"type\":\"value\",\"value\":\"#004C97\"}}},{\"type\":\"object\",\"name\":\"Label\",\"id\":\"p26329\",\"attributes\":{\"text\":\"Previous\\nexpansion:\\n42 qtrs\",\"text_font\":\"calibri\",\"text_font_size\":\"9pt\",\"text_font_style\":\"bold\",\"text_align\":\"center\",\"text_baseline\":\"top\",\"x\":1404172800000.0,\"y\":14161.772}},{\"type\":\"object\",\"name\":\"BoxAnnotation\",\"id\":\"p26341\",\"attributes\":{\"level\":\"underlay\",\"left\":1585699200000.0,\"line_width\":0,\"fill_color\":\"#D86018\",\"fill_alpha\":0.5}}]}}],\"callbacks\":{\"type\":\"map\"}}};\n  const render_items = [{\"docid\":\"ae0483e4-b469-4d5c-8152-c7be1e3d0954\",\"roots\":{\"p26217\":\"afd128aa-e5c9-4c94-b944-58942817c4d1\"},\"root_ids\":[\"p26217\"]}];\n  root.Bokeh.embed.embed_items_notebook(docs_json, render_items);\n  }\n  if (root.Bokeh !== undefined) {\n    embed_document(root);\n  } else {\n    let attempts = 0;\n    const timer = setInterval(function(root) {\n      if (root.Bokeh !== undefined) {\n        clearInterval(timer);\n        embed_document(root);\n      } else {\n        attempts++;\n        if (attempts > 100) {\n          clearInterval(timer);\n          console.log(\"Bokeh: ERROR: Unable to run BokehJS code because BokehJS library is missing\");\n        }\n      }\n    }, 10, root)\n  }\n})(window);",
      "application/vnd.bokehjs_exec.v0+json": ""
     },
     "metadata": {
      "application/vnd.bokehjs_exec.v0+json": {
       "id": "p26217"
      }
     },
     "output_type": "display_data"
    },
    {
     "data": {
      "text/html": [
       "<ul class=\"footnote\">\n",
       "<li>Data. Real GDP, 1947Q1–2023Q1</li>\n",
       "<li>Source. BEA <a href=\"https://apps.bea.gov/iTable/iTable.cfm?reqid=19&step=3&isuri=1&nipa_table_list=3&categories=survey\" class=\"figlink\">NIPA table 1.1.3</a> and <a href=\"https://apps.bea.gov/iTable/iTable.cfm?reqid=19&step=3&isuri=1&nipa_table_list=6&categories=survey\" class=\"figlink\">NIPA table 1.1.6</a></li>\n",
       "<li>Expansions and contractions are determined by the business cycle turning points identified by the National Bureau of Economic Research.</li>\n",
       "<ul>"
      ],
      "text/plain": [
       "<IPython.core.display.HTML object>"
      ]
     },
     "metadata": {},
     "output_type": "display_data"
    },
    {
     "data": {
      "text/html": [
       "<style type=\"text/css\">\n",
       "</style>\n",
       "<table id=\"T_7b68d\" class=\"table table-condensed\">\n",
       "  <thead>\n",
       "    <tr>\n",
       "      <th id=\"T_7b68d_level0_col0\" class=\"col_heading level0 col0\" align=\"left\" >Contractions</th>\n",
       "      <th id=\"T_7b68d_level0_col1\" class=\"col_heading level0 col0\" align=\"center\" >Avg. Change</th>\n",
       "      <th id=\"T_7b68d_level0_col2\" class=\"col_heading level0 col0\" align=\"left\" >Expansions</th>\n",
       "      <th id=\"T_7b68d_level0_col3\" class=\"col_heading level0 col0\" align=\"center\" >Avg. Change</th>\n",
       "    </tr>\n",
       "  </thead>\n",
       "  <tbody>\n",
       "    <tr>\n",
       "      <td id=\"T_7b68d_row0_col0\" class=\"data row0 col0\" align=\"left\" >1948Q4–1949Q4</td>\n",
       "      <td id=\"T_7b68d_row0_col1\" class=\"data row0 col0\" align=\"center\" >-1.5<span class=\"percent\">%</span></td>\n",
       "      <td id=\"T_7b68d_row0_col2\" class=\"data row0 col0\" align=\"left\" >1949Q4–1953Q2</td>\n",
       "      <td id=\"T_7b68d_row0_col3\" class=\"data row0 col0\" align=\"center\" >7.6<span class=\"percent\">%</span></td>\n",
       "    </tr>\n",
       "    <tr>\n",
       "      <td id=\"T_7b68d_row1_col0\" class=\"data row1 col0\" align=\"left\" >1953Q2–1954Q2</td>\n",
       "      <td id=\"T_7b68d_row1_col1\" class=\"data row1 col0\" align=\"center\" >-2.4<span class=\"percent\">%</span></td>\n",
       "      <td id=\"T_7b68d_row1_col2\" class=\"data row1 col0\" align=\"left\" >1954Q2–1957Q3</td>\n",
       "      <td id=\"T_7b68d_row1_col3\" class=\"data row1 col0\" align=\"center\" >4.0<span class=\"percent\">%</span></td>\n",
       "    </tr>\n",
       "    <tr>\n",
       "      <td id=\"T_7b68d_row2_col0\" class=\"data row2 col0\" align=\"left\" >1957Q3–1958Q2</td>\n",
       "      <td id=\"T_7b68d_row2_col1\" class=\"data row2 col0\" align=\"center\" >-3.9<span class=\"percent\">%</span></td>\n",
       "      <td id=\"T_7b68d_row2_col2\" class=\"data row2 col0\" align=\"left\" >1958Q2–1960Q2</td>\n",
       "      <td id=\"T_7b68d_row2_col3\" class=\"data row2 col0\" align=\"center\" >5.5<span class=\"percent\">%</span></td>\n",
       "    </tr>\n",
       "    <tr>\n",
       "      <td id=\"T_7b68d_row3_col0\" class=\"data row3 col0\" align=\"left\" >1960Q2–1961Q1</td>\n",
       "      <td id=\"T_7b68d_row3_col1\" class=\"data row3 col0\" align=\"center\" >-0.2<span class=\"percent\">%</span></td>\n",
       "      <td id=\"T_7b68d_row3_col2\" class=\"data row3 col0\" align=\"left\" >1961Q1–1969Q4</td>\n",
       "      <td id=\"T_7b68d_row3_col3\" class=\"data row3 col0\" align=\"center\" >4.9<span class=\"percent\">%</span></td>\n",
       "    </tr>\n",
       "    <tr>\n",
       "      <td id=\"T_7b68d_row4_col0\" class=\"data row4 col0\" align=\"left\" >1969Q4–1970Q4</td>\n",
       "      <td id=\"T_7b68d_row4_col1\" class=\"data row4 col0\" align=\"center\" >-0.2<span class=\"percent\">%</span></td>\n",
       "      <td id=\"T_7b68d_row4_col2\" class=\"data row4 col0\" align=\"left\" >1970Q4–1973Q4</td>\n",
       "      <td id=\"T_7b68d_row4_col3\" class=\"data row4 col0\" align=\"center\" >5.1<span class=\"percent\">%</span></td>\n",
       "    </tr>\n",
       "    <tr>\n",
       "      <td id=\"T_7b68d_row5_col0\" class=\"data row5 col0\" align=\"left\" >1973Q4–1975Q1</td>\n",
       "      <td id=\"T_7b68d_row5_col1\" class=\"data row5 col0\" align=\"center\" >-2.5<span class=\"percent\">%</span></td>\n",
       "      <td id=\"T_7b68d_row5_col2\" class=\"data row5 col0\" align=\"left\" >1975Q1–1980Q1</td>\n",
       "      <td id=\"T_7b68d_row5_col3\" class=\"data row5 col0\" align=\"center\" >4.3<span class=\"percent\">%</span></td>\n",
       "    </tr>\n",
       "    <tr>\n",
       "      <td id=\"T_7b68d_row6_col0\" class=\"data row6 col0\" align=\"left\" >1980Q1–1980Q3</td>\n",
       "      <td id=\"T_7b68d_row6_col1\" class=\"data row6 col0\" align=\"center\" >-4.3<span class=\"percent\">%</span></td>\n",
       "      <td id=\"T_7b68d_row6_col2\" class=\"data row6 col0\" align=\"left\" >1980Q3–1981Q3</td>\n",
       "      <td id=\"T_7b68d_row6_col3\" class=\"data row6 col0\" align=\"center\" >4.3<span class=\"percent\">%</span></td>\n",
       "    </tr>\n",
       "    <tr>\n",
       "      <td id=\"T_7b68d_row7_col0\" class=\"data row7 col0\" align=\"left\" >1981Q3–1982Q4</td>\n",
       "      <td id=\"T_7b68d_row7_col1\" class=\"data row7 col0\" align=\"center\" >-2.0<span class=\"percent\">%</span></td>\n",
       "      <td id=\"T_7b68d_row7_col2\" class=\"data row7 col0\" align=\"left\" >1982Q4–1990Q3</td>\n",
       "      <td id=\"T_7b68d_row7_col3\" class=\"data row7 col0\" align=\"center\" >4.3<span class=\"percent\">%</span></td>\n",
       "    </tr>\n",
       "    <tr>\n",
       "      <td id=\"T_7b68d_row8_col0\" class=\"data row8 col0\" align=\"left\" >1990Q3–1991Q1</td>\n",
       "      <td id=\"T_7b68d_row8_col1\" class=\"data row8 col0\" align=\"center\" >-2.7<span class=\"percent\">%</span></td>\n",
       "      <td id=\"T_7b68d_row8_col2\" class=\"data row8 col0\" align=\"left\" >1991Q1–2001Q1</td>\n",
       "      <td id=\"T_7b68d_row8_col3\" class=\"data row8 col0\" align=\"center\" >3.6<span class=\"percent\">%</span></td>\n",
       "    </tr>\n",
       "    <tr>\n",
       "      <td id=\"T_7b68d_row9_col0\" class=\"data row9 col0\" align=\"left\" >2001Q1–2001Q4</td>\n",
       "      <td id=\"T_7b68d_row9_col1\" class=\"data row9 col0\" align=\"center\" >0.7<span class=\"percent\">%</span></td>\n",
       "      <td id=\"T_7b68d_row9_col2\" class=\"data row9 col0\" align=\"left\" >2001Q4–2007Q4</td>\n",
       "      <td id=\"T_7b68d_row9_col3\" class=\"data row9 col0\" align=\"center\" >2.9<span class=\"percent\">%</span></td>\n",
       "    </tr>\n",
       "    <tr>\n",
       "      <td id=\"T_7b68d_row10_col0\" class=\"data row10 col0\" align=\"left\" >2007Q4–2009Q2</td>\n",
       "      <td id=\"T_7b68d_row10_col1\" class=\"data row10 col0\" align=\"center\" >-2.6<span class=\"percent\">%</span></td>\n",
       "      <td id=\"T_7b68d_row10_col2\" class=\"data row10 col0\" align=\"left\" >2009Q2–2019Q4</td>\n",
       "      <td id=\"T_7b68d_row10_col3\" class=\"data row10 col0\" align=\"center\" >2.3<span class=\"percent\">%</span></td>\n",
       "    </tr>\n",
       "    <tr>\n",
       "      <td id=\"T_7b68d_row11_col0\" class=\"data row11 col0\" align=\"left\" >2019Q4–2020Q2</td>\n",
       "      <td id=\"T_7b68d_row11_col1\" class=\"data row11 col0\" align=\"center\" >-18.2<span class=\"percent\">%</span></td>\n",
       "      <td id=\"T_7b68d_row11_col2\" class=\"data row11 col0\" align=\"left\" >2020Q2–2023Q1</td>\n",
       "      <td id=\"T_7b68d_row11_col3\" class=\"data row11 col0\" align=\"center\" >5.7<span class=\"percent\">%</span></td>\n",
       "    </tr>\n",
       "</tbody><tfoot>    <tr>\n",
       "      <td id=\"T_7b68d_row12_col0\" class=\"data row12 col0\" align=\"left\" >Avg. length: 4.0 qtrs</td>\n",
       "      <td id=\"T_7b68d_row12_col1\" class=\"data row12 col0\" align=\"center\" >-3.3<span class=\"percent\">%</span></td>\n",
       "      <td id=\"T_7b68d_row12_col2\" class=\"data row12 col0\" align=\"left\" >Avg. length: 21.0 qtrs</td>\n",
       "      <td id=\"T_7b68d_row12_col3\" class=\"data row12 col0\" align=\"center\" >4.5<span class=\"percent\">%</span></td>\n",
       "    </tr>\n",
       "</tfoot></table>"
      ],
      "text/plain": [
       "<IPython.core.display.HTML object>"
      ]
     },
     "metadata": {},
     "output_type": "display_data"
    }
   ],
   "source": [
    "start_quarter = '1947Q1'\n",
    "end_quarter = '2023Q1'  # default_end_quarter\n",
    "show(wellbeing.generate_chart.business_cycles(start_quarter, end_quarter, from_cache=from_cache))\n",
    "display(HTML(wellbeing.generate_chart.business_cycle_table(start_quarter, end_quarter, from_cache=from_cache)))"
   ]
  },
  {
   "cell_type": "code",
   "execution_count": 78,
   "metadata": {},
   "outputs": [
    {
     "data": {
      "text/html": [
       "The current expansion began in April 2020. Since the trough in 2020Q2, the economy has increased 5.7 percent on average. Since 1947, the average expansion has lasted 21 quarters, with an average increase of 4.5 percent."
      ],
      "text/plain": [
       "<IPython.core.display.HTML object>"
      ]
     },
     "metadata": {},
     "output_type": "display_data"
    }
   ],
   "source": [
    "show_narrative('Business Cycles')"
   ]
  }
 ],
 "metadata": {
  "kernelspec": {
   "display_name": "Python 3 (ipykernel)",
   "language": "python",
   "name": "python3"
  },
  "language_info": {
   "codemirror_mode": {
    "name": "ipython",
    "version": 3
   },
   "file_extension": ".py",
   "mimetype": "text/x-python",
   "name": "python",
   "nbconvert_exporter": "python",
   "pygments_lexer": "ipython3",
   "version": "3.9.18"
  },
  "vscode": {
   "interpreter": {
    "hash": "db780990331168bda3f66e6aaf0f14ebca16a4c623496e87a69a2aba3b564fdf"
   }
  }
 },
 "nbformat": 4,
 "nbformat_minor": 2
}
